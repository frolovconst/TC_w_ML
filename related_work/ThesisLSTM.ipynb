{
 "cells": [
  {
   "cell_type": "code",
   "execution_count": 1,
   "metadata": {},
   "outputs": [
    {
     "ename": "ModuleNotFoundError",
     "evalue": "No module named 'tqdm'",
     "output_type": "error",
     "traceback": [
      "\u001b[0;31m---------------------------------------------------------------------------\u001b[0m",
      "\u001b[0;31mModuleNotFoundError\u001b[0m                       Traceback (most recent call last)",
      "\u001b[0;32m<ipython-input-1-dbad865523ea>\u001b[0m in \u001b[0;36m<module>\u001b[0;34m()\u001b[0m\n\u001b[1;32m      4\u001b[0m \u001b[0;32mimport\u001b[0m \u001b[0mpandas\u001b[0m \u001b[0;32mas\u001b[0m \u001b[0mpd\u001b[0m\u001b[0;34m\u001b[0m\u001b[0m\n\u001b[1;32m      5\u001b[0m \u001b[0;32mimport\u001b[0m \u001b[0msklearn\u001b[0m\u001b[0;34m\u001b[0m\u001b[0m\n\u001b[0;32m----> 6\u001b[0;31m \u001b[0;32mfrom\u001b[0m \u001b[0mtqdm\u001b[0m \u001b[0;32mimport\u001b[0m \u001b[0mtqdm\u001b[0m \u001b[0;32mas\u001b[0m \u001b[0mtqdm\u001b[0m\u001b[0;34m\u001b[0m\u001b[0m\n\u001b[0m\u001b[1;32m      7\u001b[0m \u001b[0;32mfrom\u001b[0m \u001b[0msklearn\u001b[0m\u001b[0;34m.\u001b[0m\u001b[0mmetrics\u001b[0m\u001b[0;34m.\u001b[0m\u001b[0mpairwise\u001b[0m \u001b[0;32mimport\u001b[0m \u001b[0mpairwise_kernels\u001b[0m\u001b[0;34m\u001b[0m\u001b[0m\n\u001b[1;32m      8\u001b[0m \u001b[0;32mimport\u001b[0m \u001b[0mmatplotlib\u001b[0m\u001b[0;34m.\u001b[0m\u001b[0mpyplot\u001b[0m \u001b[0;32mas\u001b[0m \u001b[0mplt\u001b[0m\u001b[0;34m\u001b[0m\u001b[0m\n",
      "\u001b[0;31mModuleNotFoundError\u001b[0m: No module named 'tqdm'"
     ]
    }
   ],
   "source": [
    "import tensorflow as tf\n",
    "import numpy as np\n",
    "import scipy\n",
    "import pandas as pd\n",
    "import sklearn\n",
    "from tqdm import tqdm as tqdm\n",
    "from sklearn.metrics.pairwise import pairwise_kernels\n",
    "import matplotlib.pyplot as plt\n",
    "%matplotlib inline\n",
    "from __future__ import division, print_function, unicode_literals\n",
    "import graph\n",
    "\n",
    "%load_ext autoreload\n",
    "%autoreload 1"
   ]
  },
  {
   "cell_type": "code",
   "execution_count": 2,
   "metadata": {
    "collapsed": true
   },
   "outputs": [],
   "source": [
    "import os\n",
    "import sys\n",
    "module_path = os.path.abspath(os.path.join('..'))\n",
    "if module_path not in sys.path:\n",
    "    sys.path.append(module_path)"
   ]
  },
  {
   "cell_type": "code",
   "execution_count": 3,
   "metadata": {
    "collapsed": true
   },
   "outputs": [],
   "source": [
    "header = ['Timestamp', 'Station','District', 'Freeway', 'Direction of Travel', 'Lane Type', 'Station Length',\n",
    "          'Samples', '% Observed', 'Total Flow', 'Avg Occupancy', 'Avg Speed', \n",
    "          'Lane 1 Samples', 'Lane 1 Flow', 'Lane 1 Avg Occ', 'Lane 1 Avg Speed', 'Lane 1 Observed',\n",
    "          'Lane 2 Samples', 'Lane 2 Flow', 'Lane 2 Avg Occ', 'Lane 2 Avg Speed', 'Lane 2 Observed',\n",
    "          'Lane 3 Samples', 'Lane 3 Flow', 'Lane 3 Avg Occ', 'Lane 3 Avg Speed', 'Lane 3 Observed',\n",
    "          'Lane 4 Samples', 'Lane 4 Flow', 'Lane 4 Avg Occ', 'Lane 4 Avg Speed', 'Lane 4 Observed',\n",
    "          'Lane 5 Samples', 'Lane 5 Flow', 'Lane 5 Avg Occ', 'Lane 5 Avg Speed', 'Lane 5 Observed',\n",
    "          'Lane 6 Samples', 'Lane 6 Flow', 'Lane 6 Avg Occ', 'Lane 6 Avg Speed', 'Lane 6 Observed',\n",
    "          'Lane 7 Samples', 'Lane 7 Flow', 'Lane 7 Avg Occ', 'Lane 7 Avg Speed', 'Lane 7 Observed',\n",
    "          'Lane 8 Samples', 'Lane 8 Flow', 'Lane 8 Avg Occ', 'Lane 8 Avg Speed', 'Lane 8 Observed']"
   ]
  },
  {
   "cell_type": "markdown",
   "metadata": {},
   "source": [
    "## Data preprocessing"
   ]
  },
  {
   "cell_type": "code",
   "execution_count": 4,
   "metadata": {
    "collapsed": true
   },
   "outputs": [],
   "source": [
    "def get_nearest_stations(lat, long, k, meta, df):\n",
    "    meta['distance'] = np.sqrt((meta.Latitude - lat)**2 + (meta.Longitude - long)**2)\n",
    "    nearest_meta = meta.sort_values('distance').iloc[:k,:]\n",
    "    nearest_stations = df[df.Station.isin(nearest_meta.index.values)]\n",
    "    mask = nearest_stations.groupby('Station').count()['Avg Speed'] > int(0.95 * df.groupby('Station').Station.count().max())\n",
    "    cleaned_station_meta = nearest_meta[nearest_meta.index.isin(mask[mask].index)]\n",
    "    return cleaned_station_meta"
   ]
  },
  {
   "cell_type": "code",
   "execution_count": 5,
   "metadata": {
    "scrolled": false
   },
   "outputs": [
    {
     "name": "stderr",
     "output_type": "stream",
     "text": [
      "100%|██████████████████████████████████████████████████████████████████████████████████| 90/90 [03:30<00:00,  2.34s/it]\n"
     ]
    }
   ],
   "source": [
    "meta = pd.read_table(\"d04_text_meta_2017_09_22.txt\", index_col = 0)\n",
    "import glob\n",
    "files = glob.glob(\"data/compressed/*.txt.gz\")\n",
    "df_list = []\n",
    "for i in tqdm(range(90)):\n",
    "    df_list.append(pd.read_csv(files[i], header = None, usecols=[0,1,11] ,compression='gzip'))\n",
    "df = pd.concat(df_list)\n",
    "df.columns = ['Timestamp', 'Station', 'Avg Speed']"
   ]
  },
  {
   "cell_type": "code",
   "execution_count": 23,
   "metadata": {
    "collapsed": true
   },
   "outputs": [],
   "source": [
    "lat = (meta[meta.index == 401143].Latitude.values + meta[meta.index == 401714].Latitude.values)[0]/2\n",
    "long = (meta[meta.index == 401143].Longitude.values + meta[meta.index == 401714].Longitude.values)[0]/2\n",
    "new_meta = get_nearest_stations(lat, long, 100, meta, df)\n",
    "\n",
    "df = df[df.Station.isin(new_meta.index.values)]\n",
    "df.reset_index(drop = True, inplace = True)"
   ]
  },
  {
   "cell_type": "code",
   "execution_count": 24,
   "metadata": {},
   "outputs": [
    {
     "data": {
      "image/png": "[encoded data removed]",
      "text/plain": [
       "<matplotlib.figure.Figure at 0x2a756a74860>"
      ]
     },
     "metadata": {},
     "output_type": "display_data"
    }
   ],
   "source": [
    "new_meta.plot(kind = 'scatter', x = 'Longitude', y = 'Latitude');"
   ]
  },
  {
   "cell_type": "code",
   "execution_count": 33,
   "metadata": {},
   "outputs": [
    {
     "data": {
      "image/png": "[encoded data removed]",
      "text/plain": [
       "<matplotlib.figure.Figure at 0x2a7589d1710>"
      ]
     },
     "metadata": {},
     "output_type": "display_data"
    }
   ],
   "source": [
    "locations = new_meta.loc[:, ['Longitude', 'Latitude']].values\n",
    "adj = graph.compute_graph(locations, gamma = 3e4)\n",
    "plt.imshow(adj);"
   ]
  },
  {
   "cell_type": "code",
   "execution_count": 34,
   "metadata": {
    "collapsed": true
   },
   "outputs": [],
   "source": [
    "total_timesteps = df.groupby('Station').Station.count().max()\n",
    "data = np.array(np.split(df['Avg Speed'].values, total_timesteps))\n",
    "X_train, X_test = np.array_split(data, 2, axis = 0)"
   ]
  },
  {
   "cell_type": "code",
   "execution_count": 35,
   "metadata": {
    "collapsed": true
   },
   "outputs": [],
   "source": [
    "from sklearn import preprocessing\n",
    "std_scaler = preprocessing.StandardScaler()\n",
    "X_train = std_scaler.fit_transform(X_train)\n",
    "X_test = std_scaler.transform(X_test)"
   ]
  },
  {
   "cell_type": "markdown",
   "metadata": {},
   "source": [
    "# Graph construction"
   ]
  },
  {
   "cell_type": "code",
   "execution_count": 36,
   "metadata": {
    "collapsed": true
   },
   "outputs": [],
   "source": [
    "n_steps = 50\n",
    "n_nodes = new_meta.shape[0]\n",
    "n_inputs = 1\n",
    "n_outputs = 1\n",
    "n_neurons = 64"
   ]
  },
  {
   "cell_type": "code",
   "execution_count": 37,
   "metadata": {
    "collapsed": true
   },
   "outputs": [],
   "source": [
    "tf.reset_default_graph()\n",
    "from datetime import datetime\n",
    "now = datetime.utcnow().strftime(\"%Y%m%d%H%M%S\")\n",
    "root_logdir = \"tf_logs\"\n",
    "logdir = \"{}/run-{}/\".format(root_logdir, now)\n",
    "\n",
    "#tensorboard --logdir=\"C:\\Users\\nprok\\Studies\\Thesis\\tf_logs\"  "
   ]
  },
  {
   "cell_type": "code",
   "execution_count": 38,
   "metadata": {},
   "outputs": [
    {
     "name": "stdout",
     "output_type": "stream",
     "text": [
      "Calculating Chebyshev polynomials up to order 4...\n"
     ]
    }
   ],
   "source": [
    "X = tf.placeholder(tf.float32, shape=[None, n_steps, n_nodes, n_inputs], name=\"X\")\n",
    "y = tf.placeholder(tf.float32, shape=[None, n_nodes, n_outputs], name=\"y\")\n",
    "#ind = tf.placeholder(tf.float32, shape=[None, n_steps, 1], name=\"ind\")\n",
    "keep_prob = tf.placeholder_with_default(1.0, shape=())\n",
    "chebyshev_polynomials = tf.constant(graph.get_chebyshev_polynomials(adj, k = 4), tf.float32)\\"
   ]
  },
  {
   "cell_type": "code",
   "execution_count": 39,
   "metadata": {
    "collapsed": true
   },
   "outputs": [],
   "source": [
    "%aimport plstm\n",
    "%aimport model\n",
    "from plstm import PhasedLSTMCell\n",
    "from model import ConvLSTMCell\n",
    "use_residual = True\n",
    "layers = 3\n",
    "\n",
    "\n",
    "def stanh(x):\n",
    "    with tf.name_scope('tanh') as scope:\n",
    "        alpha = 1.5925374197228312\n",
    "        return alpha * tf.nn.tanh(x)\n",
    "\n",
    "\n",
    "def selu(x):\n",
    "    with tf.name_scope('elu') as scope:\n",
    "        alpha = 1.6732632423543772848170429916717\n",
    "        scale = 1.0507009873554804934193349852946\n",
    "        return scale * tf.where(x >= 0.0, x, alpha * tf.nn.elu(x))\n",
    "\n",
    "\n",
    "XX = tf.reshape(X, [-1, n_steps, n_nodes * n_features])\n",
    "# if use_input_proj:\n",
    "#    XX = tf.layers.dense(XX, n_nodes*n_neurons)\n",
    "cells = []\n",
    "for i in range(layers):\n",
    "    cell = ConvLSTMCell(n_neurons, chebyshev_polynomials=chebyshev_polynomials, use_residual_connection=use_residual,\n",
    "                        activation=tf.nn.tanh)\n",
    "    cell = tf.contrib.rnn.DropoutWrapper(cell, variational_recurrent=True, input_keep_prob=1, output_keep_prob=enc_keep_prob,\n",
    "                                         state_keep_prob=enc_keep_prob, dtype=tf.float32)\n",
    "    cells.append(cell)\n",
    "\n",
    "cell = tf.contrib.rnn.MultiRNNCell(cells)\n",
    "encoder_outputs, encoder_states = tf.nn.dynamic_rnn(cell, XX, dtype=tf.float32)"
   ]
  },
  {
   "cell_type": "code",
   "execution_count": 40,
   "metadata": {
    "collapsed": true
   },
   "outputs": [],
   "source": [
    "outputs = tf.layers.dense(rnn_outputs[:,-1], n_nodes * n_outputs)\n",
    "outputs = tf.reshape(outputs, [-1, n_nodes, n_outputs])"
   ]
  },
  {
   "cell_type": "code",
   "execution_count": 41,
   "metadata": {},
   "outputs": [
    {
     "data": {
      "text/plain": [
       "<tf.Tensor 'MSE:0' shape=() dtype=string>"
      ]
     },
     "execution_count": 41,
     "metadata": {},
     "output_type": "execute_result"
    }
   ],
   "source": [
    "with tf.variable_scope(\"loss\"):\n",
    "    error = outputs - y\n",
    "    loss =  tf.reduce_mean(tf.square(error))"
   ]
  },
  {
   "cell_type": "code",
   "execution_count": 42,
   "metadata": {
    "collapsed": true
   },
   "outputs": [],
   "source": [
    "learning_rate = 3e-4\n",
    "max_gradient_norm = 5.  # 1 or 5\n",
    "train_op = tf.contrib.layers.optimize_loss(\n",
    "    loss=loss,\n",
    "    global_step=tf.contrib.framework.get_global_step(),\n",
    "    optimizer=tf.train.AdamOptimizer,\n",
    "    learning_rate=learning_rate,\n",
    "    clip_gradients=max_gradient_norm,\n",
    "    name='Train')"
   ]
  },
  {
   "cell_type": "code",
   "execution_count": 44,
   "metadata": {
    "collapsed": true
   },
   "outputs": [],
   "source": [
    "merged = tf.summary.merge_all()\n",
    "train_writer = tf.summary.FileWriter(logdir + '/train',  tf.get_default_graph())\n",
    "test_writer = tf.summary.FileWriter(logdir + '/test')\n",
    "\n",
    "init = tf.global_variables_initializer()\n",
    "saver = tf.train.Saver()"
   ]
  },
  {
   "cell_type": "markdown",
   "metadata": {},
   "source": [
    "## Training"
   ]
  },
  {
   "cell_type": "code",
   "execution_count": null,
   "metadata": {
    "collapsed": true
   },
   "outputs": [],
   "source": [
    "def fetch_batch(time_steps, batch_size, train = True, next_k = 1):\n",
    "    if train:\n",
    "        dataset = X_train\n",
    "    else:\n",
    "        dataset = X_test\n",
    "    start_indices = np.random.randint(dataset.shape[0] - time_steps, size=batch_size)\n",
    "    indices = np.array([np.arange(0,time_steps) + i for i in start_indices])\n",
    "    X_batch = np.array([dataset[index] for index in indices])\n",
    "    #y_batch = np.array([dataset[index + 1] for index in indices])\n",
    "    if next_k == 1:\n",
    "        y_batch = np.array([dataset[time_steps + i] for i in start_indices] )\n",
    "        y_batch = np.expand_dims(y_batch, axis = 2)\n",
    "    else:\n",
    "        y_batch = np.array([[dataset[time_steps + i + j] for j in range(next_k)] for i in start_indices] )\n",
    "        y_batch = np.expand_dims(y_batch, axis = 3)\n",
    "    return np.expand_dims(X_batch, axis = 3),y_batch#, np.expand_dims(indices, axis = 3)\n",
    "\n",
    "def print_variables():\n",
    "    for var in tf.trainable_variables():\n",
    "        print( var )"
   ]
  },
  {
   "cell_type": "code",
   "execution_count": null,
   "metadata": {
    "scrolled": false
   },
   "outputs": [
    {
     "name": "stdout",
     "output_type": "stream",
     "text": [
      "Step 10 Train loss: 0.50066  Test loss: 0.843836 \n",
      "Step 20 Train loss: 0.489357  Test loss: 1.20333 \n",
      "Step 30 Train loss: 0.425539  Test loss: 0.580853 \n",
      "Step 40 Train loss: 0.341674  Test loss: 0.49508 \n",
      "Step 50 Train loss: 0.335826  Test loss: 0.478729 \n",
      "Step 60 Train loss: 0.26898  Test loss: 0.555325 \n",
      "Step 70 Train loss: 0.360129  Test loss: 0.588095 \n",
      "Step 80 Train loss: 0.354093  Test loss: 0.464287 \n",
      "Step 90 Train loss: 0.213845  Test loss: 0.334696 \n",
      "Step 100 Train loss: 0.159602  Test loss: 0.622574 \n",
      "Step 110 Train loss: 0.17795  Test loss: 0.322277 \n",
      "Step 120 Train loss: 0.161723  Test loss: 0.369855 \n",
      "Step 130 Train loss: 0.20603  Test loss: 0.293086 \n",
      "Step 140 Train loss: 0.167681  Test loss: 0.393981 \n",
      "Step 150 Train loss: 0.141409  Test loss: 0.498397 \n",
      "Step 160 Train loss: 0.159291  Test loss: 0.228228 \n",
      "Step 170 Train loss: 0.168293  Test loss: 0.300599 \n",
      "Step 180 Train loss: 0.138368  Test loss: 0.359434 \n",
      "Step 190 Train loss: 0.226457  Test loss: 0.338228 \n",
      "Step 200 Train loss: 0.168164  Test loss: 0.261276 \n",
      "Step 210 Train loss: 0.186644  Test loss: 0.269442 \n",
      "Step 220 Train loss: 0.192103  Test loss: 0.282479 \n",
      "Step 230 Train loss: 0.135513  Test loss: 0.312904 \n",
      "Step 240 Train loss: 0.108131  Test loss: 0.233947 \n",
      "Step 250 Train loss: 0.151968  Test loss: 0.252893 \n",
      "Step 260 Train loss: 0.121998  Test loss: 0.250407 \n",
      "Step 270 Train loss: 0.0940911  Test loss: 0.342255 \n",
      "Step 280 Train loss: 0.137496  Test loss: 0.191454 \n",
      "Step 290 Train loss: 0.076996  Test loss: 0.197377 \n",
      "Step 300 Train loss: 0.119399  Test loss: 0.266162 \n",
      "Step 310 Train loss: 0.0926755  Test loss: 0.270426 \n",
      "Step 320 Train loss: 0.0873902  Test loss: 0.212593 \n",
      "Step 330 Train loss: 0.0962424  Test loss: 0.202021 \n",
      "Step 340 Train loss: 0.0906864  Test loss: 0.232646 \n",
      "Step 350 Train loss: 0.0688494  Test loss: 0.232325 \n",
      "Step 360 Train loss: 0.0909761  Test loss: 0.247932 \n",
      "Step 370 Train loss: 0.179701  Test loss: 0.229335 \n",
      "Step 380 Train loss: 0.107863  Test loss: 0.199424 \n",
      "Step 390 Train loss: 0.102437  Test loss: 0.205432 \n",
      "Step 400 Train loss: 0.10013  Test loss: 0.313325 \n",
      "Step 410 Train loss: 0.0674666  Test loss: 0.233747 \n",
      "Step 420 Train loss: 0.12949  Test loss: 0.172663 \n",
      "Step 430 Train loss: 0.0953655  Test loss: 0.159413 \n",
      "Step 440 Train loss: 0.0842406  Test loss: 0.201349 \n",
      "Step 450 Train loss: 0.0779082  Test loss: 0.235402 \n",
      "Step 460 Train loss: 0.0964566  Test loss: 0.283904 \n",
      "Step 470 Train loss: 0.209811  Test loss: 0.148682 \n",
      "Step 480 Train loss: 0.104211  Test loss: 0.250543 \n",
      "Step 490 Train loss: 0.0675875  Test loss: 0.213923 \n",
      "Step 500 Train loss: 0.116973  Test loss: 0.206127 \n",
      "Step 510 Train loss: 0.153573  Test loss: 0.203708 \n",
      "Step 520 Train loss: 0.0986221  Test loss: 0.129684 \n",
      "Step 530 Train loss: 0.0793446  Test loss: 0.17158 \n"
     ]
    }
   ],
   "source": [
    "batch_size = 16\n",
    "n_iterations = 1000\n",
    "train_keep_prob = 0.7\n",
    "tst = []\n",
    "from tensorflow.python.client import timeline\n",
    "with tf.Session() as sess:\n",
    "    init.run()\n",
    "    for iteration in range(n_iterations):\n",
    "        X_batch, y_batch = fetch_batch(n_steps, batch_size, True)\n",
    "        sess.run(training_op, feed_dict ={X : X_batch, y : y_batch, keep_prob : train_keep_prob})    \n",
    "        if iteration % 10 == 0 and iteration > 0: \n",
    "            X_batch, y_batch = fetch_batch(n_steps, batch_size, True)\n",
    "            summary, train_loss = sess.run([merged, loss],  feed_dict ={X : X_batch, y : y_batch, keep_prob : 1})\n",
    "            train_writer.add_summary(summary, iteration)\n",
    "            \n",
    "            X_batch, y_batch = fetch_batch(n_steps, batch_size *2, False)\n",
    "            summary, test_loss, out = sess.run([merged, loss, outputs],  feed_dict ={X : X_batch, y : y_batch, keep_prob : 1})\n",
    "            tst.append([y_batch, out])\n",
    "            test_writer.add_summary(summary, iteration)\n",
    "            print('Step %s Train loss: %s  Test loss: %s ' % (iteration, train_loss, test_loss))\n",
    "        if iteration % 1000 = 999:\n",
    "            save_path = saver.save(sess, \"./model.ckpt\")"
   ]
  },
  {
   "cell_type": "markdown",
   "metadata": {},
   "source": [
    "## Evaluation"
   ]
  },
  {
   "cell_type": "code",
   "execution_count": null,
   "metadata": {
    "collapsed": true
   },
   "outputs": [],
   "source": [
    "def fetch_val(index, time_steps, next_k = 1):\n",
    "    dataset = X_test\n",
    "    indeces = np.arange(0,time_steps) + index\n",
    "    X_batch = dataset[indeces]\n",
    "    y_batch = np.array([dataset[time_steps + index + i ] for i in range(next_k)])\n",
    "    return np.expand_dims(X_batch, axis = 2),np.expand_dims(y_batch, axis = 2)"
   ]
  },
  {
   "cell_type": "code",
   "execution_count": null,
   "metadata": {
    "collapsed": true,
    "scrolled": true
   },
   "outputs": [],
   "source": [
    "steps_ahead = 3\n",
    "y_true = []\n",
    "y_pred = []\n",
    "with tf.Session() as sess:\n",
    "    saver.restore(sess, \"./model.ckpt\")\n",
    "    for i in range(1000, 1100):#X_test.shape[0] - shift):\n",
    "        X_batch , y_batch = fetch_val(i, n_steps, steps_ahead)\n",
    "        sequence = X_batch.tolist()\n",
    "        output = []\n",
    "        y_true.append(std_scaler.inverse_transform(np.squeeze(y_batch)))\n",
    "        for j in range(steps_ahead):\n",
    "            X_batch = np.array(sequence[-n_steps:]).reshape(1, n_steps, n_nodes, n_inputs)\n",
    "            out = sess.run(outputs, feed_dict ={X : X_batch, keep_prob : 1})  \n",
    "            sequence.append(out[0])\n",
    "            y_pred.append(std_scaler.inverse_transform(np.squeeze(out)))\n",
    "        if (i % 10 == 0):\n",
    "            print(\"Processing %d input\" % i)\n",
    "y_true = np.array(y_true).flatten()\n",
    "y_pred = np.array(y_pred).flatten()\n"
   ]
  },
  {
   "cell_type": "code",
   "execution_count": null,
   "metadata": {
    "collapsed": true
   },
   "outputs": [],
   "source": [
    "sklearn.metrics.mean_absolute_error(y_pred, y_true)#4 10 17"
   ]
  },
  {
   "cell_type": "code",
   "execution_count": null,
   "metadata": {
    "collapsed": true
   },
   "outputs": [],
   "source": [
    "sklearn.metrics.mean_squared_error(std_scaler.transform(y_pred.reshape([-1,64])), std_scaler.transform(y_true.reshape([-1,64])))"
   ]
  },
  {
   "cell_type": "code",
   "execution_count": null,
   "metadata": {
    "collapsed": true
   },
   "outputs": [],
   "source": [
    "np.argmax(((y_true - y_pred)**2) > 100)"
   ]
  },
  {
   "cell_type": "code",
   "execution_count": null,
   "metadata": {
    "collapsed": true,
    "scrolled": true
   },
   "outputs": [],
   "source": [
    "y_true"
   ]
  },
  {
   "cell_type": "code",
   "execution_count": null,
   "metadata": {
    "collapsed": true
   },
   "outputs": [],
   "source": [
    "sklearn.metrics.mean_squared_error(X_test[:-6].flatten(), X_test[6:].flatten())"
   ]
  },
  {
   "cell_type": "code",
   "execution_count": null,
   "metadata": {
    "collapsed": true
   },
   "outputs": [],
   "source": []
  }
 ],
 "metadata": {
  "kernelspec": {
   "display_name": "Python 3",
   "language": "python",
   "name": "python3"
  },
  "language_info": {
   "codemirror_mode": {
    "name": "ipython",
    "version": 3
   },
   "file_extension": ".py",
   "mimetype": "text/x-python",
   "name": "python",
   "nbconvert_exporter": "python",
   "pygments_lexer": "ipython3",
   "version": "3.6.1"
  },
  "varInspector": {
   "cols": {
    "lenName": 16,
    "lenType": 16,
    "lenVar": 40
   },
   "kernels_config": {
    "python": {
     "delete_cmd_postfix": "",
     "delete_cmd_prefix": "del ",
     "library": "var_list.py",
     "varRefreshCmd": "print(var_dic_list())"
    },
    "r": {
     "delete_cmd_postfix": ") ",
     "delete_cmd_prefix": "rm(",
     "library": "var_list.r",
     "varRefreshCmd": "cat(var_dic_list()) "
    }
   },
   "types_to_exclude": [
    "module",
    "function",
    "builtin_function_or_method",
    "instance",
    "_Feature"
   ],
   "window_display": false
  }
 },
 "nbformat": 4,
 "nbformat_minor": 2
}
