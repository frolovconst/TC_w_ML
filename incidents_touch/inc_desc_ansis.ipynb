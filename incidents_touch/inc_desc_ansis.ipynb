{
 "cells": [
  {
   "cell_type": "code",
   "execution_count": 29,
   "metadata": {
    "collapsed": true
   },
   "outputs": [],
   "source": [
    "import pandas as pd\n",
    "import numpy as np\n",
    "from pathlib import Path\n",
    "import datetime as dt\n",
    "import re\n",
    "from geopy.distance import vincenty\n",
    "import matplotlib.dates as mdts\n",
    "import matplotlib.pyplot as plt\n",
    "import cartopy.crs as ccrs\n",
    "from sklearn.svm import LinearSVC, SVC\n",
    "from sklearn.model_selection import train_test_split\n",
    "from time import time"
   ]
  },
  {
   "cell_type": "code",
   "execution_count": 14,
   "metadata": {
    "collapsed": true
   },
   "outputs": [],
   "source": [
    "def filter_blk_desc(path):\n",
    "    dest_path = path + '/inc/blkg'\n",
    "    bound_re = re.compile(r\"(IF [E,N,S,W]B)\")\n",
    "    m_path = path + '/det'\n",
    "    pth = Path(m_path)\n",
    "    for child in pth.iterdir():\n",
    "        incdnt_det_file_name = m_path + '/' + child.name\n",
    "        det_month = pd.read_csv(incdnt_det_file_name, parse_dates=['Timestamp'])\n",
    "        blkg_desc = det_month[det_month.apply(lambda row: ('NOT BLK' not in row.Desc) & ((' BLKG' in row.Desc) | (' BLKD' in row.Desc) | (' BLKING' in row.Desc) | (' BLKG' in row.Desc)) & ((' ENTIR' in row.Desc) | (' LN' in row.Desc)) & (('IF LN' not in row.Desc)) & (not bound_re.search(row.Desc)), axis=1)]\n",
    "        blkg_desc.drop_duplicates(subset=['ID'], keep='first', inplace=True)\n",
    "        blkg_desc.to_csv(dest_path + '/' + child.name[:-4] + '.csv', index=False)"
   ]
  },
  {
   "cell_type": "code",
   "execution_count": 17,
   "metadata": {
    "scrolled": true
   },
   "outputs": [
    {
     "name": "stderr",
     "output_type": "stream",
     "text": [
      "/opt/anaconda3/lib/python3.6/site-packages/ipykernel_launcher.py:10: SettingWithCopyWarning: \n",
      "A value is trying to be set on a copy of a slice from a DataFrame\n",
      "\n",
      "See the caveats in the documentation: http://pandas.pydata.org/pandas-docs/stable/indexing.html#indexing-view-versus-copy\n",
      "  # Remove the CWD from sys.path while we load stuff.\n"
     ]
    }
   ],
   "source": [
    "filter_blk_desc('../data/PeMS/Incidents/work_folder/Months/Jun/')"
   ]
  },
  {
   "cell_type": "code",
   "execution_count": 21,
   "metadata": {},
   "outputs": [
    {
     "name": "stderr",
     "output_type": "stream",
     "text": [
      "/opt/anaconda3/lib/python3.6/site-packages/ipykernel_launcher.py:10: SettingWithCopyWarning: \n",
      "A value is trying to be set on a copy of a slice from a DataFrame\n",
      "\n",
      "See the caveats in the documentation: http://pandas.pydata.org/pandas-docs/stable/indexing.html#indexing-view-versus-copy\n",
      "  # Remove the CWD from sys.path while we load stuff.\n"
     ]
    }
   ],
   "source": [
    "dir_list = [\n",
    "            '../data/PeMS/Incidents/work_folder/Months/Jan/',\n",
    "            '../data/PeMS/Incidents/work_folder/Months/Feb/',\n",
    "            '../data/PeMS/Incidents/work_folder/Months/Mar/',\n",
    "            '../data/PeMS/Incidents/work_folder/Months/Apr/',\n",
    "           '../data/PeMS/Incidents/work_folder/Months/May/',\n",
    "           '../data/PeMS/Incidents/work_folder/Months/Jun/',\n",
    "           '../data/PeMS/Incidents/work_folder/Months/Jul/',\n",
    "           '../data/PeMS/Incidents/work_folder/Months/Aug/',\n",
    "           '../data/PeMS/Incidents/work_folder/Months/Sep/',\n",
    "           '../data/PeMS/Incidents/work_folder/Months/Oct/',\n",
    "           '../data/PeMS/Incidents/work_folder/Months/Nov/',\n",
    "           '../data/PeMS/Incidents/work_folder/Months/Dec/']\n",
    "for a_dir in dir_list:\n",
    "    filter_blk_desc(a_dir)"
   ]
  },
  {
   "cell_type": "code",
   "execution_count": 23,
   "metadata": {},
   "outputs": [
    {
     "name": "stderr",
     "output_type": "stream",
     "text": [
      "/opt/anaconda3/lib/python3.6/site-packages/ipykernel_launcher.py:10: SettingWithCopyWarning: \n",
      "A value is trying to be set on a copy of a slice from a DataFrame\n",
      "\n",
      "See the caveats in the documentation: http://pandas.pydata.org/pandas-docs/stable/indexing.html#indexing-view-versus-copy\n",
      "  # Remove the CWD from sys.path while we load stuff.\n"
     ]
    }
   ],
   "source": [
    "dir_list = [\n",
    "            '../data/PeMS/Incidents/work_folder/Months/Jan/'\n",
    "]\n",
    "for a_dir in dir_list:\n",
    "    filter_blk_desc(a_dir)"
   ]
  },
  {
   "cell_type": "code",
   "execution_count": 2,
   "metadata": {
    "collapsed": true
   },
   "outputs": [],
   "source": [
    "def get_next_downstream_station(stations, incident, correction=0):\n",
    "    fwy_no = incident.Freeway\n",
    "    fwy_dir = incident.Freeway_direction\n",
    "    lon = incident.Longitude\n",
    "    lat = incident.Latitude\n",
    "    candidates = stations[(stations['Fwy']==fwy_no) & (stations['Dir']==fwy_dir)].copy()\n",
    "    if fwy_dir == 'S':\n",
    "        candidates['Distance'] = lat - candidates['Latitude']\n",
    "        cond1 = candidates['Latitude'] < lat - correction\n",
    "    elif fwy_dir == 'N':\n",
    "        candidates['Distance'] = candidates['Latitude'] - lat\n",
    "        cond1 = candidates['Latitude'] > lat + correction\n",
    "    elif fwy_dir == 'W':\n",
    "        candidates['Distance'] = lon - candidates['Longitude']\n",
    "        cond1 = candidates['Longitude'] < lon - correction\n",
    "    else : # fwy_dir == 'E':\n",
    "        candidates['Distance'] = candidates['Longitude'] - lon\n",
    "        cond1 = candidates['Longitude'] > lon + correction\n",
    "    cond2 = (np.abs(candidates['Distance'])<0.025)\n",
    "#     print(incidents[incidents['IncidentID']==incidentID].iloc[0])\n",
    "    return candidates[cond1 & cond2 & (candidates['Distance'] > 0)].sort_values(['Distance']).reset_index(drop=True)"
   ]
  },
  {
   "cell_type": "code",
   "execution_count": 3,
   "metadata": {
    "collapsed": true
   },
   "outputs": [],
   "source": [
    "def get_next_upstream_station(stations, incident, correction=0):\n",
    "    fwy_no = incident.Freeway\n",
    "    fwy_dir = incident.Freeway_direction\n",
    "    lon = incident.Longitude\n",
    "    lat = incident.Latitude\n",
    "    candidates = stations[(stations['Fwy']==fwy_no) & (stations['Dir']==fwy_dir)].copy()\n",
    "    if fwy_dir == 'N':\n",
    "        candidates['Distance'] = lat - candidates['Latitude']\n",
    "        cond1 = candidates['Latitude'] < lat - correction\n",
    "    elif fwy_dir == 'S':\n",
    "        candidates['Distance'] = candidates['Latitude'] - lat\n",
    "        cond1 = candidates['Latitude'] > lat + correction\n",
    "    elif fwy_dir == 'E':\n",
    "        candidates['Distance'] = lon - candidates['Longitude']\n",
    "        cond1 = candidates['Longitude'] < lon - correction\n",
    "    else : # fwy_dir == 'E':\n",
    "        candidates['Distance'] = candidates['Longitude'] - lon\n",
    "        cond1 = candidates['Longitude'] > lon + correction\n",
    "    cond2 = (np.abs(candidates['Distance'])<0.025)\n",
    "#     print(incidents[incidents['IncidentID']==incidentID].iloc[0])\n",
    "    return candidates[cond1 & cond2 & (candidates['Distance'] > 0)].sort_values(['Distance']).reset_index(drop=True)"
   ]
  },
  {
   "cell_type": "code",
   "execution_count": 4,
   "metadata": {
    "collapsed": true
   },
   "outputs": [],
   "source": [
    "def get_next_wrapper(inc, func, stations):\n",
    "    nxt = func(stations, inc)\n",
    "    return nxt.iloc[0].ID if nxt.size>0 else 0 "
   ]
  },
  {
   "cell_type": "code",
   "execution_count": 5,
   "metadata": {
    "collapsed": true
   },
   "outputs": [],
   "source": [
    "def obtain_time_series(an_inc, full_series, chrcteristic='Avg Occupancy'):\n",
    "    st = an_inc.Prev\n",
    "    test = full_series[(full_series.Station==st) &  (full_series.Timestamp >= an_inc.Timestamp-dt.timedelta(minutes=40)) & (full_series.Timestamp < an_inc.Timestamp+dt.timedelta(minutes=20))].copy()\n",
    "    return test[chrcteristic].reset_index(drop=True).add_prefix(chrcteristic + '_')\n",
    "#     test = test.reset_index(drop=True).reset_index()\n",
    "#     return test.pivot(index='Station', columns='index', values='Avg Occupancy').reset_index().drop(columns=[\"Station\"]).loc[0]"
   ]
  },
  {
   "cell_type": "code",
   "execution_count": 6,
   "metadata": {
    "collapsed": true
   },
   "outputs": [],
   "source": [
    "def create_accident_windows(path):\n",
    "    path_inc = path + '/inc/light'\n",
    "    pth = Path(path_inc)\n",
    "    srs_path = path + '/series/smoothed'\n",
    "    s_pth = Path(srs_path)\n",
    "    cols = ['IncidentID', 'Timestamp', 'Latitude', 'Longitude', 'Freeway', 'Freeway_direction']\n",
    "    result = pd.DataFrame()\n",
    "    stations_pth = path + '/stations'\n",
    "    st_pth = Path(stations_pth)\n",
    "    blk_path = path + '/inc/blkg'\n",
    "    blkg_desc = pd.read_csv(blk_path + '/' + sorted(Path(blk_path).iterdir())[0].name, parse_dates=['Timestamp'])\n",
    "    dest_path = path + '/result'\n",
    "    \n",
    "    for i,child in enumerate(sorted(pth.iterdir())):\n",
    "        incdnt_file_name = path_inc + '/' + child.name\n",
    "        inc_file = pd.read_csv(incdnt_file_name, parse_dates=['Timestamp'], dtype={'IncidentID':np.int64,'Latitude':np.float64,'Longitude':np.float64,'Freeway':np.int32, 'Freeway_direction':object})[cols]\n",
    "        inc_file.drop(index=inc_file[~inc_file.IncidentID.isin(blkg_desc.ID)].index, inplace=True)\n",
    "        srs_f_name = srs_path + '/' + sorted(s_pth.iterdir())[i].name\n",
    "        srs = pd.read_csv(srs_f_name, parse_dates=['Timestamp'])\n",
    "        st_active_file_name = stations_pth + '/' + sorted(st_pth.iterdir())[0].name\n",
    "        st_active = pd.read_csv(st_active_file_name).drop(columns=['User_ID_1', 'User_ID_2', 'User_ID_3', 'User_ID_4'])\n",
    "        st_active.drop(index=st_active[~st_active.ID.isin(srs.Station.unique())].index, inplace=True)\n",
    "        srs = srs.merge(st_active[['ID', 'Lanes']], how='left', left_on='Station', right_on='ID')\n",
    "        srs['Total Flow'] = srs['Total Flow']/srs['Lanes']\n",
    "        inc_file['Prev'] = inc_file.apply(get_next_wrapper, axis=1, args=(get_next_upstream_station, st_active))\n",
    "        inc_file.drop(index=inc_file[inc_file.Prev==0].index, inplace=True)\n",
    "        inc_file.drop(index=inc_file[(inc_file.Timestamp.dt.time<dt.time(hour=1)) | (inc_file.Timestamp.dt.hour>=23)].index, inplace=True)\n",
    "        windows = inc_file.apply(obtain_time_series, axis=1, args=[srs, 'Avg Occupancy'])\n",
    "        inc_file = pd.concat((inc_file, windows), axis=1)\n",
    "        windows = inc_file.apply(obtain_time_series, axis=1, args=[srs, 'Total Flow'])\n",
    "        inc_file = pd.concat((inc_file, windows), axis=1)\n",
    "        windows = inc_file.apply(obtain_time_series, axis=1, args=[srs, 'Avg Speed'])\n",
    "        inc_file = pd.concat((inc_file, windows), axis=1)\n",
    "        \n",
    "#         break\n",
    "        result = pd.concat((result, inc_file), axis=0)\n",
    "    result.to_csv(dest_path + '/accident_windows.csv', index=False)\n",
    "    return result    "
   ]
  },
  {
   "cell_type": "code",
   "execution_count": 19,
   "metadata": {
    "collapsed": true,
    "scrolled": false
   },
   "outputs": [],
   "source": [
    "accdnt_windows = create_accident_windows('../data/PeMS/Incidents/work_folder/Months/Jun')"
   ]
  },
  {
   "cell_type": "code",
   "execution_count": 22,
   "metadata": {
    "collapsed": true
   },
   "outputs": [],
   "source": [
    "dir_list = [\n",
    "            '../data/PeMS/Incidents/work_folder/Months/Jan/',\n",
    "            '../data/PeMS/Incidents/work_folder/Months/Feb/',\n",
    "            '../data/PeMS/Incidents/work_folder/Months/Mar/',\n",
    "            '../data/PeMS/Incidents/work_folder/Months/Apr/',\n",
    "           '../data/PeMS/Incidents/work_folder/Months/May/',\n",
    "           '../data/PeMS/Incidents/work_folder/Months/Jun/',\n",
    "           '../data/PeMS/Incidents/work_folder/Months/Jul/',\n",
    "           '../data/PeMS/Incidents/work_folder/Months/Aug/',\n",
    "           '../data/PeMS/Incidents/work_folder/Months/Sep/',\n",
    "           '../data/PeMS/Incidents/work_folder/Months/Oct/',\n",
    "           '../data/PeMS/Incidents/work_folder/Months/Nov/',\n",
    "           '../data/PeMS/Incidents/work_folder/Months/Dec/']\n",
    "for a_dir in dir_list:\n",
    "    accdnt_windows = create_accident_windows(a_dir)"
   ]
  },
  {
   "cell_type": "code",
   "execution_count": 31,
   "metadata": {
    "collapsed": true
   },
   "outputs": [],
   "source": [
    "accdnt_windows = pd.DataFrame()\n",
    "dir_list = [\n",
    "            '../data/PeMS/Incidents/work_folder/Months/Jan/result/accident_windows.csv',\n",
    "            '../data/PeMS/Incidents/work_folder/Months/Feb/result/accident_windows.csv',\n",
    "            '../data/PeMS/Incidents/work_folder/Months/Mar/result/accident_windows.csv',\n",
    "            '../data/PeMS/Incidents/work_folder/Months/Apr/result/accident_windows.csv',\n",
    "           '../data/PeMS/Incidents/work_folder/Months/May/result/accident_windows.csv',\n",
    "           '../data/PeMS/Incidents/work_folder/Months/Jun/result/accident_windows.csv',\n",
    "           '../data/PeMS/Incidents/work_folder/Months/Jul/result/accident_windows.csv',\n",
    "           '../data/PeMS/Incidents/work_folder/Months/Aug/result/accident_windows.csv',\n",
    "           '../data/PeMS/Incidents/work_folder/Months/Sep/result/accident_windows.csv',\n",
    "           '../data/PeMS/Incidents/work_folder/Months/Oct/result/accident_windows.csv',\n",
    "           '../data/PeMS/Incidents/work_folder/Months/Nov/result/accident_windows.csv',\n",
    "           '../data/PeMS/Incidents/work_folder/Months/Dec/result/accident_windows.csv']\n",
    "for a_file in dir_list:\n",
    "    accdnt_windows = pd.concat((accdnt_windows, pd.read_csv(a_file)))\n",
    "\n",
    "# col_order = accdnt_windows.columns[[26,30,27,28,24,25,29,0,1,4,5,6,7,8,9,10,11,2,3,31,32,35,36,37,38,39,40,41,42,33,34,12,13,16,17,18,19,20,21,22,23,14,15]]\n",
    "\n",
    "col_order = ['IncidentID', 'Timestamp', 'Latitude', 'Longitude', 'Freeway',\n",
    "       'Freeway_direction', 'Prev', 'Avg Occupancy_0', 'Avg Occupancy_1',\n",
    "       'Avg Occupancy_2', 'Avg Occupancy_3', 'Avg Occupancy_4',\n",
    "       'Avg Occupancy_5', 'Avg Occupancy_6', 'Avg Occupancy_7',\n",
    "       'Avg Occupancy_8', 'Avg Occupancy_9', 'Avg Occupancy_10',\n",
    "       'Avg Occupancy_11', 'Total Flow_0', 'Total Flow_1', 'Total Flow_2',\n",
    "       'Total Flow_3', 'Total Flow_4', 'Total Flow_5', 'Total Flow_6',\n",
    "       'Total Flow_7', 'Total Flow_8', 'Total Flow_9', 'Total Flow_10',\n",
    "       'Total Flow_11', 'Avg Speed_0', 'Avg Speed_1', 'Avg Speed_2',\n",
    "       'Avg Speed_3', 'Avg Speed_4', 'Avg Speed_5', 'Avg Speed_6',\n",
    "       'Avg Speed_7', 'Avg Speed_8', 'Avg Speed_9', 'Avg Speed_10',\n",
    "       'Avg Speed_11']\n",
    "\n",
    "accdnt_windows = accdnt_windows[col_order]\n",
    "\n",
    "accdnt_windows.to_csv('../data/PeMS/Incidents/work_folder/year_accdnt_wndw.csv', index=False)"
   ]
  },
  {
   "cell_type": "code",
   "execution_count": 3,
   "metadata": {
    "collapsed": true
   },
   "outputs": [],
   "source": [
    "accdnt_windows = pd.read_csv('../data/PeMS/Incidents/work_folder/year_accdnt_wndw.csv')"
   ]
  },
  {
   "cell_type": "code",
   "execution_count": 30,
   "metadata": {},
   "outputs": [],
   "source": [
    "def plot_window(data, chrct = 'Total Flow'):\n",
    "    \n",
    "    cols = [col for col in data.columns if chrct in col]\n",
    "#     cols = [col for col in data.index if chrct in col]\n",
    "    data[cols].T.plot(legend=False, alpha=0.03)\n",
    "    plt.grid()\n",
    "    plt.show()"
   ]
  },
  {
   "cell_type": "code",
   "execution_count": 31,
   "metadata": {},
   "outputs": [
    {
     "data": {
      "image/png": "[encoded data removed]",
      "text/plain": [
       "<matplotlib.figure.Figure at 0x1a255f5d68>"
      ]
     },
     "metadata": {},
     "output_type": "display_data"
    }
   ],
   "source": [
    "plot_window(accdnt_windows.iloc[:], 'Occupancy')"
   ]
  },
  {
   "cell_type": "code",
   "execution_count": null,
   "metadata": {},
   "outputs": [],
   "source": [
    "\n"
   ]
  },
  {
   "cell_type": "code",
   "execution_count": null,
   "metadata": {
    "collapsed": true
   },
   "outputs": [],
   "source": []
  },
  {
   "cell_type": "code",
   "execution_count": null,
   "metadata": {
    "collapsed": true
   },
   "outputs": [],
   "source": []
  },
  {
   "cell_type": "code",
   "execution_count": 69,
   "metadata": {
    "collapsed": true
   },
   "outputs": [],
   "source": [
    "st = pd.read_csv('../data/PeMS/Incidents/work_folder/Months/Apr/stations/d07_text_meta_2017_04_29.csv')"
   ]
  },
  {
   "cell_type": "code",
   "execution_count": 82,
   "metadata": {
    "collapsed": true
   },
   "outputs": [],
   "source": [
    "srs = pd.read_csv('../data/PeMS/Incidents/work_folder/Months/Apr/series/smoothed/d07_text_station_5min_2017_04_01.tx.csv')"
   ]
  },
  {
   "cell_type": "code",
   "execution_count": 101,
   "metadata": {},
   "outputs": [],
   "source": [
    "srs_ln = srs.merge(st[['ID', 'Lanes']], how='left', left_on='Station', right_on='ID')\n",
    "\n",
    "srs_ln['Total Flow'] = srs_ln['Total Flow']/srs_ln['Lanes']"
   ]
  },
  {
   "cell_type": "code",
   "execution_count": 24,
   "metadata": {
    "collapsed": true
   },
   "outputs": [],
   "source": [
    "dir_list = [\n",
    "            '../data/PeMS/Incidents/work_folder/Months/Jan/',\n",
    "            ]\n",
    "for a_dir in dir_list:\n",
    "    accdnt_windows = create_accident_windows(a_dir)"
   ]
  },
  {
   "cell_type": "code",
   "execution_count": 7,
   "metadata": {
    "collapsed": true
   },
   "outputs": [],
   "source": [
    "def check_inc_eligibility(an_inc, a_station, vicinity_km, timestamp, td):\n",
    "    st_loc = (a_station[['Latitude', 'Longitude']])\n",
    "    inc_tmsmp = an_inc.Timestamp\n",
    "    cnd1 = vincenty((an_inc.Latitude, an_inc.Longitude), st_loc).kilometers < vicinity_km\n",
    "    cnd2 = (inc_tmsmp>=timestamp-td) & (inc_tmsmp<timestamp+td)\n",
    "    return cnd1 & cnd2"
   ]
  },
  {
   "cell_type": "code",
   "execution_count": 32,
   "metadata": {
    "collapsed": true
   },
   "outputs": [],
   "source": [
    "def check_inc_time(an_inc, a_station, timestamp, td):\n",
    "    st_loc = (a_station[['Latitude', 'Longitude']])\n",
    "    inc_tmsmp = an_inc.Timestamp\n",
    "    cnd = (inc_tmsmp>=timestamp-td) & (inc_tmsmp<timestamp+td)\n",
    "    return cnd"
   ]
  },
  {
   "cell_type": "code",
   "execution_count": 34,
   "metadata": {
    "collapsed": true
   },
   "outputs": [],
   "source": [
    "def check_inc_location(an_inc, a_station, vicinity_km):\n",
    "    st_loc = (a_station[['Latitude', 'Longitude']])\n",
    "    inc_tmsmp = an_inc.Timestamp\n",
    "    cnd = vincenty((an_inc.Latitude, an_inc.Longitude), st_loc).kilometers < vicinity_km\n",
    "    return cnd"
   ]
  },
  {
   "cell_type": "code",
   "execution_count": 71,
   "metadata": {
    "collapsed": true
   },
   "outputs": [],
   "source": [
    "def obtain_time_series_clear(station, full_series, incs, vicinity_km, timedelta, chrcteristics=['Avg Occupancy', 'Total Flow']):#, 'Avg Speed']):\n",
    "    # TODO: revise next line (+6)\n",
    "    tmst = time()\n",
    "    timestamp = full_series[full_series.Station==station.ID]['Timestamp'].iloc[np.random.randint(240)+18] \n",
    "    incs_nearby = incs[incs.apply(check_inc_time, axis=1, args=(station, timestamp, timedelta))]\n",
    "    print('time filter', time() - tmst)\n",
    "    tmst = time()\n",
    "    incs_nearby = incs_nearby[incs_nearby.apply(check_inc_location, axis=1, args=(station, vicinity_km))]\n",
    "    print('loc filter', time() - tmst)\n",
    "    \n",
    "    if incs_nearby.size == 0:\n",
    "        tmst = time()\n",
    "        test = full_series[(full_series.Station==station.ID) &  (full_series.Timestamp >= timestamp-timedelta) & (full_series.Timestamp < timestamp+timedelta)].copy()\n",
    "        print('series filter', time() - tmst)\n",
    "        tmst = time()\n",
    "#         result=pd.Series()\n",
    "        result = []\n",
    "        for chrct in chrcteristics:\n",
    "            tmst = time()\n",
    "            result += [test[chrct].reset_index(drop=True).add_prefix(chrct + '_'),]\n",
    "            print('1 chrctrstc addition filter', time() - tmst)\n",
    "        tmst = time()\n",
    "        result = pd.concat(result, axis=0)\n",
    "        return result\n",
    "    return pd.Series(None)"
   ]
  },
  {
   "cell_type": "code",
   "execution_count": 74,
   "metadata": {
    "collapsed": true
   },
   "outputs": [],
   "source": [
    "def create_accident_free_windows(path, vicinity_km=3, td = dt.timedelta(minutes=30)):\n",
    "    srs_path = path + '/series/smoothed'\n",
    "    pth = Path(srs_path)\n",
    "    inc_path = path + '/inc/light'\n",
    "    inc_pth = Path(inc_path)\n",
    "    st_path = path + '/stations'\n",
    "    st_pth = Path(st_path)\n",
    "    dest_path = path + '/result'\n",
    "    inc_cols = ['Timestamp', 'Latitude', 'Longitude', 'Freeway']\n",
    "    st_cols = ['Latitude', 'Longitude', 'ID']\n",
    "    result = pd.DataFrame()\n",
    "\n",
    "    for i,child in enumerate(sorted(pth.iterdir())):\n",
    "        tmst = time()\n",
    "        srs_file_name = srs_path + '/' + child.name\n",
    "        srs_file = pd.read_csv(srs_file_name, parse_dates=['Timestamp'])\n",
    "        print('data moving', time()-tmst)\n",
    "#         srs_file.drop(index=srs_file[(srs_file.Timestamp.dt.time<dt.time(hour=1)) | (srs_file.Timestamp.dt.hour>=23)].index, inplace=True)\n",
    "        \n",
    "        inc_f_name = inc_path + '/' + sorted(inc_pth.iterdir())[i].name\n",
    "        incs = pd.read_csv(inc_f_name, parse_dates=['Timestamp'])[inc_cols]\n",
    "        st_active_file_name = st_path + '/' + sorted(st_pth.iterdir())[0].name\n",
    "        st_active = pd.read_csv(st_active_file_name)[st_cols]\n",
    "        st_active.drop(index=st_active[~st_active.ID.isin(srs_file.Station.unique())].index, inplace=True)\n",
    "#         np.random.seed(14)\n",
    "#         size_rdm = st_active.shape[0]\n",
    "        size_rdm = 5\n",
    "        stations_rdm = st_active[st_active.ID.isin(np.random.choice(st_active.ID, size_rdm, replace=False))]\n",
    "        tmst = time()\n",
    "        windows = stations_rdm.apply(obtain_time_series_clear, args=(srs_file, incs, vicinity_km, td, ['Avg Occupancy', 'Total Flow', 'Avg Speed']), axis=1)\n",
    "        print('window creation', time()-tmst)\n",
    "        windows.dropna(axis=0, how='any', inplace=True)\n",
    "        \n",
    "        \n",
    "        result = pd.concat((result, windows), axis=0)\n",
    "        \n",
    "        break\n",
    "#     print(result.dtypes)\n",
    "    result.to_csv(dest_path + '/accident_free_windows.csv', index=False)\n",
    "    return result    "
   ]
  },
  {
   "cell_type": "code",
   "execution_count": 75,
   "metadata": {
    "collapsed": true,
    "scrolled": false
   },
   "outputs": [
    {
     "name": "stdout",
     "output_type": "stream",
     "text": [
      "data moving 1.949854850769043\n",
      "time filter 0.30588698387145996\n",
      "loc filter 0.017204999923706055\n",
      "series filter 0.012877702713012695\n",
      "1 chrctrstc addition filter 0.00045800209045410156\n",
      "1 chrctrstc addition filter 0.0003380775451660156\n",
      "1 chrctrstc addition filter 0.00032782554626464844\n",
      "time filter 0.31722593307495117\n",
      "loc filter 0.020524263381958008\n",
      "series filter 0.009013891220092773\n",
      "1 chrctrstc addition filter 0.0004429817199707031\n",
      "1 chrctrstc addition filter 0.0003612041473388672\n",
      "1 chrctrstc addition filter 0.0003199577331542969\n",
      "time filter 0.32216930389404297\n",
      "loc filter 0.02772688865661621\n",
      "time filter 0.30388784408569336\n",
      "loc filter 0.00803995132446289\n",
      "series filter 0.008845090866088867\n",
      "1 chrctrstc addition filter 0.00044274330139160156\n",
      "1 chrctrstc addition filter 0.00039386749267578125\n",
      "1 chrctrstc addition filter 0.0003437995910644531\n",
      "time filter 0.3034019470214844\n",
      "loc filter 0.023111820220947266\n",
      "series filter 0.008855819702148438\n",
      "1 chrctrstc addition filter 0.0004458427429199219\n",
      "1 chrctrstc addition filter 0.0005290508270263672\n",
      "1 chrctrstc addition filter 0.0003790855407714844\n",
      "time filter 0.31028318405151367\n",
      "loc filter 0.025065898895263672\n",
      "series filter 0.010372161865234375\n",
      "1 chrctrstc addition filter 0.0004589557647705078\n",
      "1 chrctrstc addition filter 0.00034689903259277344\n",
      "1 chrctrstc addition filter 0.0003230571746826172\n",
      "window creation 2.0577797889709473\n",
      "time = 4.0941407680511475\n"
     ]
    }
   ],
   "source": [
    "tmst = time()\n",
    "accdnt_free_windows_march = create_accident_free_windows('../data/PeMS/Incidents/work_folder/Months/Apr/')\n",
    "print('time =', time()-tmst)"
   ]
  },
  {
   "cell_type": "code",
   "execution_count": 13,
   "metadata": {
    "scrolled": true
   },
   "outputs": [
    {
     "data": {
      "text/plain": [
       "(30, 36)"
      ]
     },
     "execution_count": 13,
     "metadata": {},
     "output_type": "execute_result"
    }
   ],
   "source": [
    "accdnt_free_windows_march.shape"
   ]
  },
  {
   "cell_type": "code",
   "execution_count": 14,
   "metadata": {},
   "outputs": [
    {
     "data": {
      "text/html": [
       "<div>\n",
       "<style scoped>\n",
       "    .dataframe tbody tr th:only-of-type {\n",
       "        vertical-align: middle;\n",
       "    }\n",
       "\n",
       "    .dataframe tbody tr th {\n",
       "        vertical-align: top;\n",
       "    }\n",
       "\n",
       "    .dataframe thead th {\n",
       "        text-align: right;\n",
       "    }\n",
       "</style>\n",
       "<table border=\"1\" class=\"dataframe\">\n",
       "  <thead>\n",
       "    <tr style=\"text-align: right;\">\n",
       "      <th></th>\n",
       "      <th>Avg Occupancy_0</th>\n",
       "      <th>Avg Occupancy_1</th>\n",
       "      <th>Avg Occupancy_10</th>\n",
       "      <th>Avg Occupancy_11</th>\n",
       "      <th>Avg Occupancy_2</th>\n",
       "      <th>Avg Occupancy_3</th>\n",
       "      <th>Avg Occupancy_4</th>\n",
       "      <th>Avg Occupancy_5</th>\n",
       "      <th>Avg Occupancy_6</th>\n",
       "      <th>Avg Occupancy_7</th>\n",
       "      <th>...</th>\n",
       "      <th>Total Flow_10</th>\n",
       "      <th>Total Flow_11</th>\n",
       "      <th>Total Flow_2</th>\n",
       "      <th>Total Flow_3</th>\n",
       "      <th>Total Flow_4</th>\n",
       "      <th>Total Flow_5</th>\n",
       "      <th>Total Flow_6</th>\n",
       "      <th>Total Flow_7</th>\n",
       "      <th>Total Flow_8</th>\n",
       "      <th>Total Flow_9</th>\n",
       "    </tr>\n",
       "  </thead>\n",
       "  <tbody>\n",
       "    <tr>\n",
       "      <th>741</th>\n",
       "      <td>0.07872</td>\n",
       "      <td>0.07910</td>\n",
       "      <td>0.07580</td>\n",
       "      <td>0.07518</td>\n",
       "      <td>0.08324</td>\n",
       "      <td>0.08208</td>\n",
       "      <td>0.08312</td>\n",
       "      <td>0.08534</td>\n",
       "      <td>0.08494</td>\n",
       "      <td>0.08072</td>\n",
       "      <td>...</td>\n",
       "      <td>397.6</td>\n",
       "      <td>392.8</td>\n",
       "      <td>412.4</td>\n",
       "      <td>413.8</td>\n",
       "      <td>419.2</td>\n",
       "      <td>433.0</td>\n",
       "      <td>433.6</td>\n",
       "      <td>421.0</td>\n",
       "      <td>423.0</td>\n",
       "      <td>409.0</td>\n",
       "    </tr>\n",
       "    <tr>\n",
       "      <th>14</th>\n",
       "      <td>0.50144</td>\n",
       "      <td>0.59030</td>\n",
       "      <td>0.37460</td>\n",
       "      <td>0.28142</td>\n",
       "      <td>0.59964</td>\n",
       "      <td>0.56030</td>\n",
       "      <td>0.42282</td>\n",
       "      <td>0.48754</td>\n",
       "      <td>0.41460</td>\n",
       "      <td>0.34376</td>\n",
       "      <td>...</td>\n",
       "      <td>472.6</td>\n",
       "      <td>374.6</td>\n",
       "      <td>694.4</td>\n",
       "      <td>642.6</td>\n",
       "      <td>468.0</td>\n",
       "      <td>551.0</td>\n",
       "      <td>448.2</td>\n",
       "      <td>397.8</td>\n",
       "      <td>478.4</td>\n",
       "      <td>654.4</td>\n",
       "    </tr>\n",
       "    <tr>\n",
       "      <th>1023</th>\n",
       "      <td>0.04654</td>\n",
       "      <td>0.04668</td>\n",
       "      <td>0.04588</td>\n",
       "      <td>0.04608</td>\n",
       "      <td>0.04692</td>\n",
       "      <td>0.04690</td>\n",
       "      <td>0.04700</td>\n",
       "      <td>0.04690</td>\n",
       "      <td>0.04664</td>\n",
       "      <td>0.04630</td>\n",
       "      <td>...</td>\n",
       "      <td>252.4</td>\n",
       "      <td>253.2</td>\n",
       "      <td>253.6</td>\n",
       "      <td>254.2</td>\n",
       "      <td>254.8</td>\n",
       "      <td>255.6</td>\n",
       "      <td>254.8</td>\n",
       "      <td>253.6</td>\n",
       "      <td>253.4</td>\n",
       "      <td>252.0</td>\n",
       "    </tr>\n",
       "    <tr>\n",
       "      <th>752</th>\n",
       "      <td>0.01544</td>\n",
       "      <td>0.01566</td>\n",
       "      <td>0.02598</td>\n",
       "      <td>0.02794</td>\n",
       "      <td>0.01566</td>\n",
       "      <td>0.01526</td>\n",
       "      <td>0.01528</td>\n",
       "      <td>0.01520</td>\n",
       "      <td>0.01702</td>\n",
       "      <td>0.01812</td>\n",
       "      <td>...</td>\n",
       "      <td>129.4</td>\n",
       "      <td>144.2</td>\n",
       "      <td>75.0</td>\n",
       "      <td>72.2</td>\n",
       "      <td>73.0</td>\n",
       "      <td>73.8</td>\n",
       "      <td>81.6</td>\n",
       "      <td>85.6</td>\n",
       "      <td>98.8</td>\n",
       "      <td>109.2</td>\n",
       "    </tr>\n",
       "    <tr>\n",
       "      <th>1838</th>\n",
       "      <td>0.06580</td>\n",
       "      <td>0.06566</td>\n",
       "      <td>0.06054</td>\n",
       "      <td>0.05892</td>\n",
       "      <td>0.06326</td>\n",
       "      <td>0.06276</td>\n",
       "      <td>0.06130</td>\n",
       "      <td>0.06146</td>\n",
       "      <td>0.06120</td>\n",
       "      <td>0.06328</td>\n",
       "      <td>...</td>\n",
       "      <td>269.6</td>\n",
       "      <td>264.4</td>\n",
       "      <td>273.4</td>\n",
       "      <td>274.0</td>\n",
       "      <td>269.4</td>\n",
       "      <td>274.2</td>\n",
       "      <td>273.6</td>\n",
       "      <td>281.2</td>\n",
       "      <td>278.6</td>\n",
       "      <td>273.2</td>\n",
       "    </tr>\n",
       "  </tbody>\n",
       "</table>\n",
       "<p>5 rows × 36 columns</p>\n",
       "</div>"
      ],
      "text/plain": [
       "      Avg Occupancy_0  Avg Occupancy_1  Avg Occupancy_10  Avg Occupancy_11  \\\n",
       "741           0.07872          0.07910           0.07580           0.07518   \n",
       "14            0.50144          0.59030           0.37460           0.28142   \n",
       "1023          0.04654          0.04668           0.04588           0.04608   \n",
       "752           0.01544          0.01566           0.02598           0.02794   \n",
       "1838          0.06580          0.06566           0.06054           0.05892   \n",
       "\n",
       "      Avg Occupancy_2  Avg Occupancy_3  Avg Occupancy_4  Avg Occupancy_5  \\\n",
       "741           0.08324          0.08208          0.08312          0.08534   \n",
       "14            0.59964          0.56030          0.42282          0.48754   \n",
       "1023          0.04692          0.04690          0.04700          0.04690   \n",
       "752           0.01566          0.01526          0.01528          0.01520   \n",
       "1838          0.06326          0.06276          0.06130          0.06146   \n",
       "\n",
       "      Avg Occupancy_6  Avg Occupancy_7      ...       Total Flow_10  \\\n",
       "741           0.08494          0.08072      ...               397.6   \n",
       "14            0.41460          0.34376      ...               472.6   \n",
       "1023          0.04664          0.04630      ...               252.4   \n",
       "752           0.01702          0.01812      ...               129.4   \n",
       "1838          0.06120          0.06328      ...               269.6   \n",
       "\n",
       "      Total Flow_11  Total Flow_2  Total Flow_3  Total Flow_4  Total Flow_5  \\\n",
       "741           392.8         412.4         413.8         419.2         433.0   \n",
       "14            374.6         694.4         642.6         468.0         551.0   \n",
       "1023          253.2         253.6         254.2         254.8         255.6   \n",
       "752           144.2          75.0          72.2          73.0          73.8   \n",
       "1838          264.4         273.4         274.0         269.4         274.2   \n",
       "\n",
       "      Total Flow_6  Total Flow_7  Total Flow_8  Total Flow_9  \n",
       "741          433.6         421.0         423.0         409.0  \n",
       "14           448.2         397.8         478.4         654.4  \n",
       "1023         254.8         253.6         253.4         252.0  \n",
       "752           81.6          85.6          98.8         109.2  \n",
       "1838         273.6         281.2         278.6         273.2  \n",
       "\n",
       "[5 rows x 36 columns]"
      ]
     },
     "execution_count": 14,
     "metadata": {},
     "output_type": "execute_result"
    }
   ],
   "source": [
    "accdnt_free_windows_march.head()"
   ]
  },
  {
   "cell_type": "code",
   "execution_count": 102,
   "metadata": {
    "collapsed": true,
    "scrolled": true
   },
   "outputs": [],
   "source": [
    "accdnt_windows_march_short = accdnt_windows_march.drop(columns=['Freeway',\n",
    "       'Freeway_direction', 'IncidentID', 'Latitude', 'Longitude', 'Prev',\n",
    "       'Timestamp'])"
   ]
  },
  {
   "cell_type": "code",
   "execution_count": 105,
   "metadata": {
    "collapsed": true
   },
   "outputs": [],
   "source": [
    "accdnt_windows_march_short['y'] = 1"
   ]
  },
  {
   "cell_type": "code",
   "execution_count": 165,
   "metadata": {
    "collapsed": true
   },
   "outputs": [],
   "source": [
    "accdnt_free_windows_march['y'] = 0"
   ]
  },
  {
   "cell_type": "code",
   "execution_count": 166,
   "metadata": {
    "collapsed": true
   },
   "outputs": [],
   "source": [
    "data = pd.concat((accdnt_windows_march_short, accdnt_free_windows_march), axis=0)"
   ]
  },
  {
   "cell_type": "code",
   "execution_count": 167,
   "metadata": {
    "collapsed": true
   },
   "outputs": [],
   "source": [
    "data.reset_index(inplace=True, drop=True)"
   ]
  },
  {
   "cell_type": "code",
   "execution_count": 168,
   "metadata": {
    "collapsed": true
   },
   "outputs": [],
   "source": [
    "data = data.loc[np.random.choice(data.shape[0], data.shape[0], replace=False)]"
   ]
  },
  {
   "cell_type": "code",
   "execution_count": 169,
   "metadata": {
    "collapsed": true
   },
   "outputs": [],
   "source": [
    "data.dropna(axis=0, how='any', inplace=True)"
   ]
  },
  {
   "cell_type": "code",
   "execution_count": 170,
   "metadata": {
    "collapsed": true
   },
   "outputs": [],
   "source": [
    "X_r, X_e, y_r, y_e = train_test_split(data.drop(columns=['y']), data.y, test_size=.2)"
   ]
  },
  {
   "cell_type": "code",
   "execution_count": 171,
   "metadata": {},
   "outputs": [
    {
     "data": {
      "text/plain": [
       "1027"
      ]
     },
     "execution_count": 171,
     "metadata": {},
     "output_type": "execute_result"
    }
   ],
   "source": [
    "sum(y_r==0)"
   ]
  },
  {
   "cell_type": "code",
   "execution_count": 172,
   "metadata": {},
   "outputs": [
    {
     "data": {
      "text/plain": [
       "232"
      ]
     },
     "execution_count": 172,
     "metadata": {},
     "output_type": "execute_result"
    }
   ],
   "source": [
    "sum(y_e==0)"
   ]
  },
  {
   "cell_type": "code",
   "execution_count": 173,
   "metadata": {
    "collapsed": true
   },
   "outputs": [],
   "source": [
    "clf = LinearSVC(C=1)"
   ]
  },
  {
   "cell_type": "code",
   "execution_count": 174,
   "metadata": {},
   "outputs": [
    {
     "data": {
      "text/plain": [
       "LinearSVC(C=1, class_weight=None, dual=True, fit_intercept=True,\n",
       "     intercept_scaling=1, loss='squared_hinge', max_iter=1000,\n",
       "     multi_class='ovr', penalty='l2', random_state=None, tol=0.0001,\n",
       "     verbose=0)"
      ]
     },
     "execution_count": 174,
     "metadata": {},
     "output_type": "execute_result"
    }
   ],
   "source": [
    "clf.fit(X_r, y_r)"
   ]
  },
  {
   "cell_type": "code",
   "execution_count": 175,
   "metadata": {},
   "outputs": [
    {
     "data": {
      "text/plain": [
       "0.6578171091445427"
      ]
     },
     "execution_count": 175,
     "metadata": {},
     "output_type": "execute_result"
    }
   ],
   "source": [
    "clf.score(X_e, y_e)"
   ]
  },
  {
   "cell_type": "code",
   "execution_count": null,
   "metadata": {
    "collapsed": true
   },
   "outputs": [],
   "source": []
  },
  {
   "cell_type": "code",
   "execution_count": 682,
   "metadata": {
    "collapsed": true
   },
   "outputs": [],
   "source": [
    "test = pd.read_csv('../data/PeMS/Incidents/test_env/inc/light/all_text_chp_incident_day_2017_03_01.csv')"
   ]
  },
  {
   "cell_type": "code",
   "execution_count": 688,
   "metadata": {},
   "outputs": [
    {
     "data": {
      "text/plain": [
       "IncidentID                               17046397\n",
       "CC_Code                                      LAHB\n",
       "Incident_No                                170301\n",
       "Timestamp                     2017-03-01 06:57:00\n",
       "Description                   1125-Traffic Hazard\n",
       "Location             I210 E / Mountain St (98-63)\n",
       "Area                                     Altadena\n",
       "Zoom_Map                                      NaN\n",
       "TBxy                                          NaN\n",
       "Latitude                                  34.1622\n",
       "Longitude                                -118.159\n",
       "District                                        7\n",
       "CountryFIPS_ID                                 37\n",
       "CityFIPS_ID                                 56000\n",
       "Freeway                                       210\n",
       "Freeway_direction                               E\n",
       "Name: 61, dtype: object"
      ]
     },
     "execution_count": 688,
     "metadata": {},
     "output_type": "execute_result"
    }
   ],
   "source": [
    "test.loc[61]"
   ]
  },
  {
   "cell_type": "code",
   "execution_count": 210,
   "metadata": {
    "collapsed": true
   },
   "outputs": [],
   "source": [
    "coef = 3\n",
    "min_lon = stations_active.Longitude.min()\n",
    "max_lon = stations_active.Longitude.max()\n",
    "delta_lon = max_lon-min_lon\n",
    "max_lon = max_lon-delta_lon/coef\n",
    "min_lon = min_lon+delta_lon/coef\n",
    "\n",
    "min_lat = stations_active.Latitude.min()\n",
    "max_lat = stations_active.Latitude.max()\n",
    "delta_lat = max_lat-min_lat\n",
    "max_lat = max_lat-delta_lat/coef\n",
    "min_lat = min_lat+delta_lat/coef"
   ]
  },
  {
   "cell_type": "code",
   "execution_count": 182,
   "metadata": {
    "collapsed": true
   },
   "outputs": [],
   "source": [
    "min_lon = -180\n",
    "\n",
    "max_lon = 0\n",
    "\n",
    "min_lat = 0\n",
    "\n",
    "max_lat = 90"
   ]
  },
  {
   "cell_type": "code",
   "execution_count": 218,
   "metadata": {
    "collapsed": true
   },
   "outputs": [],
   "source": [
    "st_tst = get_next_downstream_station(stations_active, inc_month.iloc[216])"
   ]
  },
  {
   "cell_type": "code",
   "execution_count": 219,
   "metadata": {},
   "outputs": [
    {
     "data": {
      "text/html": [
       "<div>\n",
       "<style scoped>\n",
       "    .dataframe tbody tr th:only-of-type {\n",
       "        vertical-align: middle;\n",
       "    }\n",
       "\n",
       "    .dataframe tbody tr th {\n",
       "        vertical-align: top;\n",
       "    }\n",
       "\n",
       "    .dataframe thead th {\n",
       "        text-align: right;\n",
       "    }\n",
       "</style>\n",
       "<table border=\"1\" class=\"dataframe\">\n",
       "  <thead>\n",
       "    <tr style=\"text-align: right;\">\n",
       "      <th></th>\n",
       "      <th>ID</th>\n",
       "      <th>Fwy</th>\n",
       "      <th>Dir</th>\n",
       "      <th>District</th>\n",
       "      <th>County</th>\n",
       "      <th>City</th>\n",
       "      <th>State_PM</th>\n",
       "      <th>Abs_PM</th>\n",
       "      <th>Latitude</th>\n",
       "      <th>Longitude</th>\n",
       "      <th>Length</th>\n",
       "      <th>Type</th>\n",
       "      <th>Lanes</th>\n",
       "      <th>Name</th>\n",
       "      <th>User_ID_1</th>\n",
       "      <th>User_ID_2</th>\n",
       "      <th>User_ID_3</th>\n",
       "      <th>User_ID_4</th>\n",
       "      <th>Distance</th>\n",
       "    </tr>\n",
       "  </thead>\n",
       "  <tbody>\n",
       "    <tr>\n",
       "      <th>0</th>\n",
       "      <td>716993</td>\n",
       "      <td>5</td>\n",
       "      <td>S</td>\n",
       "      <td>7</td>\n",
       "      <td>37</td>\n",
       "      <td>44000.0</td>\n",
       "      <td>34.24</td>\n",
       "      <td>150.81</td>\n",
       "      <td>34.225778</td>\n",
       "      <td>-118.375075</td>\n",
       "      <td>0.650</td>\n",
       "      <td>ML</td>\n",
       "      <td>4</td>\n",
       "      <td>PENROSE</td>\n",
       "      <td>3236</td>\n",
       "      <td>NaN</td>\n",
       "      <td>NaN</td>\n",
       "      <td>NaN</td>\n",
       "      <td>0.000789</td>\n",
       "    </tr>\n",
       "    <tr>\n",
       "      <th>1</th>\n",
       "      <td>716991</td>\n",
       "      <td>5</td>\n",
       "      <td>S</td>\n",
       "      <td>7</td>\n",
       "      <td>37</td>\n",
       "      <td>44000.0</td>\n",
       "      <td>33.58</td>\n",
       "      <td>150.15</td>\n",
       "      <td>34.221822</td>\n",
       "      <td>-118.364915</td>\n",
       "      <td>0.505</td>\n",
       "      <td>ML</td>\n",
       "      <td>4</td>\n",
       "      <td>SUNLAND</td>\n",
       "      <td>3237</td>\n",
       "      <td>NaN</td>\n",
       "      <td>NaN</td>\n",
       "      <td>NaN</td>\n",
       "      <td>0.004745</td>\n",
       "    </tr>\n",
       "    <tr>\n",
       "      <th>2</th>\n",
       "      <td>716989</td>\n",
       "      <td>5</td>\n",
       "      <td>S</td>\n",
       "      <td>7</td>\n",
       "      <td>37</td>\n",
       "      <td>44000.0</td>\n",
       "      <td>33.23</td>\n",
       "      <td>149.80</td>\n",
       "      <td>34.221104</td>\n",
       "      <td>-118.358957</td>\n",
       "      <td>0.650</td>\n",
       "      <td>ML</td>\n",
       "      <td>4</td>\n",
       "      <td>ROSCOE</td>\n",
       "      <td>3238</td>\n",
       "      <td>NaN</td>\n",
       "      <td>NaN</td>\n",
       "      <td>NaN</td>\n",
       "      <td>0.005463</td>\n",
       "    </tr>\n",
       "    <tr>\n",
       "      <th>3</th>\n",
       "      <td>716986</td>\n",
       "      <td>5</td>\n",
       "      <td>S</td>\n",
       "      <td>7</td>\n",
       "      <td>37</td>\n",
       "      <td>44000.0</td>\n",
       "      <td>32.28</td>\n",
       "      <td>148.85</td>\n",
       "      <td>34.211259</td>\n",
       "      <td>-118.347597</td>\n",
       "      <td>0.905</td>\n",
       "      <td>ML</td>\n",
       "      <td>4</td>\n",
       "      <td>HOLLYWOOD WAY</td>\n",
       "      <td>3239</td>\n",
       "      <td>NaN</td>\n",
       "      <td>NaN</td>\n",
       "      <td>NaN</td>\n",
       "      <td>0.015308</td>\n",
       "    </tr>\n",
       "  </tbody>\n",
       "</table>\n",
       "</div>"
      ],
      "text/plain": [
       "       ID  Fwy Dir  District  County     City State_PM  Abs_PM   Latitude  \\\n",
       "0  716993    5   S         7      37  44000.0    34.24  150.81  34.225778   \n",
       "1  716991    5   S         7      37  44000.0    33.58  150.15  34.221822   \n",
       "2  716989    5   S         7      37  44000.0    33.23  149.80  34.221104   \n",
       "3  716986    5   S         7      37  44000.0    32.28  148.85  34.211259   \n",
       "\n",
       "    Longitude  Length Type  Lanes           Name  User_ID_1  User_ID_2  \\\n",
       "0 -118.375075   0.650   ML      4        PENROSE       3236        NaN   \n",
       "1 -118.364915   0.505   ML      4        SUNLAND       3237        NaN   \n",
       "2 -118.358957   0.650   ML      4         ROSCOE       3238        NaN   \n",
       "3 -118.347597   0.905   ML      4  HOLLYWOOD WAY       3239        NaN   \n",
       "\n",
       "   User_ID_3  User_ID_4  Distance  \n",
       "0        NaN        NaN  0.000789  \n",
       "1        NaN        NaN  0.004745  \n",
       "2        NaN        NaN  0.005463  \n",
       "3        NaN        NaN  0.015308  "
      ]
     },
     "execution_count": 219,
     "metadata": {},
     "output_type": "execute_result"
    }
   ],
   "source": [
    "st_tst"
   ]
  },
  {
   "cell_type": "code",
   "execution_count": 220,
   "metadata": {},
   "outputs": [
    {
     "data": {
      "text/plain": [
       "IncidentID                             16918246\n",
       "CC_Code                                    LAHB\n",
       "Incident_No                              170101\n",
       "Timestamp                   2017-01-01 18:35:00\n",
       "Description          ANIMAL-Live or Dead Animal\n",
       "Location                 I5 S / Lankershim Blvd\n",
       "Area                                   Altadena\n",
       "Zoom_Map                                    NaN\n",
       "TBxy                                        NaN\n",
       "Latitude                                34.2266\n",
       "Longitude                              -118.388\n",
       "District                                      7\n",
       "CountryFIPS_ID                               37\n",
       "CityFIPS_ID                               44000\n",
       "Freeway                                       5\n",
       "Freeway_direction                             S\n",
       "State_postmile                            35.03\n",
       "Absolute_postmile                         151.6\n",
       "Severity                                    NaN\n",
       "Duration                                      7\n",
       "Next                                     716991\n",
       "Name: 240, dtype: object"
      ]
     },
     "execution_count": 220,
     "metadata": {},
     "output_type": "execute_result"
    }
   ],
   "source": [
    "inc_month.iloc[216]"
   ]
  },
  {
   "cell_type": "code",
   "execution_count": 221,
   "metadata": {},
   "outputs": [
    {
     "data": {
      "image/png": "[encoded data removed]",
      "text/plain": [
       "<matplotlib.figure.Figure at 0x7f72ad58b668>"
      ]
     },
     "metadata": {},
     "output_type": "display_data"
    }
   ],
   "source": [
    "fig = plt.figure(figsize=[15,10])\n",
    "ax = fig.gca(projection=ccrs.PlateCarree())\n",
    "ax.stock_img()\n",
    "ax.set_xlim((min_lon, max_lon))\n",
    "ax.set_ylim((min_lat, max_lat))\n",
    "plt.plot(st_tst['Longitude'], st_tst['Latitude'], transform=ccrs.PlateCarree(), marker='o', linestyle='')\n",
    "plt.plot(inc_month.iloc[216]['Longitude'], inc_month.iloc[216]['Latitude'], marker='x', color='red', linestyle='')\n",
    "# plt.plot(data_inc_d07[data_inc_d07['District']==7]['Longitude'].mean(), data_inc_d07[data_inc_d07['District']==7]['Latitude'].mean()-.05, marker='*', markersize=10, color='black', linestyle='')\n",
    "plt.show()"
   ]
  },
  {
   "cell_type": "code",
   "execution_count": 353,
   "metadata": {
    "collapsed": true
   },
   "outputs": [],
   "source": [
    "srs = pd.read_csv('../data/PeMS/Incidents/test_env/series/smoothed/d07_text_station_5min_2017_03_01.tx.csv', parse_dates=[0])"
   ]
  },
  {
   "cell_type": "code",
   "execution_count": 354,
   "metadata": {},
   "outputs": [
    {
     "data": {
      "text/html": [
       "<div>\n",
       "<style scoped>\n",
       "    .dataframe tbody tr th:only-of-type {\n",
       "        vertical-align: middle;\n",
       "    }\n",
       "\n",
       "    .dataframe tbody tr th {\n",
       "        vertical-align: top;\n",
       "    }\n",
       "\n",
       "    .dataframe thead th {\n",
       "        text-align: right;\n",
       "    }\n",
       "</style>\n",
       "<table border=\"1\" class=\"dataframe\">\n",
       "  <thead>\n",
       "    <tr style=\"text-align: right;\">\n",
       "      <th></th>\n",
       "      <th>Timestamp</th>\n",
       "      <th>Station</th>\n",
       "      <th>District</th>\n",
       "      <th>Freeway</th>\n",
       "      <th>Direction of Travel</th>\n",
       "      <th>Lane Type</th>\n",
       "      <th>Station Length</th>\n",
       "      <th>Samples</th>\n",
       "      <th>% Observed</th>\n",
       "      <th>Total Flow</th>\n",
       "      <th>Avg Occupancy</th>\n",
       "      <th>Avg Speed</th>\n",
       "    </tr>\n",
       "  </thead>\n",
       "  <tbody>\n",
       "    <tr>\n",
       "      <th>0</th>\n",
       "      <td>2017-03-01 00:20:00</td>\n",
       "      <td>715898</td>\n",
       "      <td>7</td>\n",
       "      <td>5</td>\n",
       "      <td>S</td>\n",
       "      <td>ML</td>\n",
       "      <td>0.430</td>\n",
       "      <td>0</td>\n",
       "      <td>0</td>\n",
       "      <td>86.2</td>\n",
       "      <td>0.01240</td>\n",
       "      <td>68.64</td>\n",
       "    </tr>\n",
       "    <tr>\n",
       "      <th>1</th>\n",
       "      <td>2017-03-01 00:20:00</td>\n",
       "      <td>715918</td>\n",
       "      <td>7</td>\n",
       "      <td>5</td>\n",
       "      <td>N</td>\n",
       "      <td>ML</td>\n",
       "      <td>1.075</td>\n",
       "      <td>0</td>\n",
       "      <td>0</td>\n",
       "      <td>91.6</td>\n",
       "      <td>0.01470</td>\n",
       "      <td>68.14</td>\n",
       "    </tr>\n",
       "    <tr>\n",
       "      <th>2</th>\n",
       "      <td>2017-03-01 00:20:00</td>\n",
       "      <td>715920</td>\n",
       "      <td>7</td>\n",
       "      <td>5</td>\n",
       "      <td>S</td>\n",
       "      <td>ML</td>\n",
       "      <td>1.290</td>\n",
       "      <td>0</td>\n",
       "      <td>0</td>\n",
       "      <td>156.8</td>\n",
       "      <td>0.03238</td>\n",
       "      <td>64.34</td>\n",
       "    </tr>\n",
       "    <tr>\n",
       "      <th>3</th>\n",
       "      <td>2017-03-01 00:20:00</td>\n",
       "      <td>715929</td>\n",
       "      <td>7</td>\n",
       "      <td>5</td>\n",
       "      <td>S</td>\n",
       "      <td>ML</td>\n",
       "      <td>0.470</td>\n",
       "      <td>40</td>\n",
       "      <td>100</td>\n",
       "      <td>161.8</td>\n",
       "      <td>0.04320</td>\n",
       "      <td>63.96</td>\n",
       "    </tr>\n",
       "    <tr>\n",
       "      <th>4</th>\n",
       "      <td>2017-03-01 00:20:00</td>\n",
       "      <td>715930</td>\n",
       "      <td>7</td>\n",
       "      <td>5</td>\n",
       "      <td>N</td>\n",
       "      <td>ML</td>\n",
       "      <td>0.505</td>\n",
       "      <td>40</td>\n",
       "      <td>100</td>\n",
       "      <td>134.6</td>\n",
       "      <td>0.03804</td>\n",
       "      <td>66.46</td>\n",
       "    </tr>\n",
       "  </tbody>\n",
       "</table>\n",
       "</div>"
      ],
      "text/plain": [
       "            Timestamp  Station  District  Freeway Direction of Travel  \\\n",
       "0 2017-03-01 00:20:00   715898         7        5                   S   \n",
       "1 2017-03-01 00:20:00   715918         7        5                   N   \n",
       "2 2017-03-01 00:20:00   715920         7        5                   S   \n",
       "3 2017-03-01 00:20:00   715929         7        5                   S   \n",
       "4 2017-03-01 00:20:00   715930         7        5                   N   \n",
       "\n",
       "  Lane Type  Station Length  Samples  % Observed  Total Flow  Avg Occupancy  \\\n",
       "0        ML           0.430        0           0        86.2        0.01240   \n",
       "1        ML           1.075        0           0        91.6        0.01470   \n",
       "2        ML           1.290        0           0       156.8        0.03238   \n",
       "3        ML           0.470       40         100       161.8        0.04320   \n",
       "4        ML           0.505       40         100       134.6        0.03804   \n",
       "\n",
       "   Avg Speed  \n",
       "0      68.64  \n",
       "1      68.14  \n",
       "2      64.34  \n",
       "3      63.96  \n",
       "4      66.46  "
      ]
     },
     "execution_count": 354,
     "metadata": {},
     "output_type": "execute_result"
    }
   ],
   "source": [
    "srs.head()"
   ]
  },
  {
   "cell_type": "code",
   "execution_count": 107,
   "metadata": {},
   "outputs": [
    {
     "name": "stderr",
     "output_type": "stream",
     "text": [
      "/opt/anaconda3/lib/python3.6/site-packages/ipykernel_launcher.py:8: SettingWithCopyWarning: \n",
      "A value is trying to be set on a copy of a slice from a DataFrame\n",
      "\n",
      "See the caveats in the documentation: http://pandas.pydata.org/pandas-docs/stable/indexing.html#indexing-view-versus-copy\n",
      "  \n"
     ]
    }
   ],
   "source": [
    "filter_blk_desc('../data/PeMS/Incidents/test_env/det/light/', '../data/PeMS/Incidents/test_env/det/blkg/')"
   ]
  },
  {
   "cell_type": "code",
   "execution_count": 162,
   "metadata": {},
   "outputs": [
    {
     "data": {
      "text/plain": [
       "array([3])"
      ]
     },
     "execution_count": 162,
     "metadata": {},
     "output_type": "execute_result"
    }
   ],
   "source": [
    "blkg_desc.Timestamp.dt.month.unique()"
   ]
  },
  {
   "cell_type": "code",
   "execution_count": 108,
   "metadata": {
    "collapsed": true
   },
   "outputs": [],
   "source": [
    "blkg_desc = pd.read_csv('../data/PeMS/Incidents/test_env/det/blkg/all_text_chp_incident_det_month_2017_03.csv', parse_dates=['Timestamp'])"
   ]
  },
  {
   "cell_type": "code",
   "execution_count": 67,
   "metadata": {
    "collapsed": true
   },
   "outputs": [],
   "source": []
  },
  {
   "cell_type": "code",
   "execution_count": 112,
   "metadata": {},
   "outputs": [
    {
     "data": {
      "text/plain": [
       "(5922, 4)"
      ]
     },
     "execution_count": 112,
     "metadata": {},
     "output_type": "execute_result"
    }
   ],
   "source": [
    "blkg_desc.shape"
   ]
  },
  {
   "cell_type": "code",
   "execution_count": 62,
   "metadata": {
    "collapsed": true
   },
   "outputs": [],
   "source": [
    "pd.options.display.max_colwidth=120"
   ]
  },
  {
   "cell_type": "code",
   "execution_count": 72,
   "metadata": {
    "scrolled": false
   },
   "outputs": [
    {
     "data": {
      "text/html": [
       "<div>\n",
       "<style scoped>\n",
       "    .dataframe tbody tr th:only-of-type {\n",
       "        vertical-align: middle;\n",
       "    }\n",
       "\n",
       "    .dataframe tbody tr th {\n",
       "        vertical-align: top;\n",
       "    }\n",
       "\n",
       "    .dataframe thead th {\n",
       "        text-align: right;\n",
       "    }\n",
       "</style>\n",
       "<table border=\"1\" class=\"dataframe\">\n",
       "  <thead>\n",
       "    <tr style=\"text-align: right;\">\n",
       "      <th></th>\n",
       "      <th>ID</th>\n",
       "      <th>DetID</th>\n",
       "      <th>Timestamp</th>\n",
       "      <th>Desc</th>\n",
       "    </tr>\n",
       "  </thead>\n",
       "  <tbody>\n",
       "  </tbody>\n",
       "</table>\n",
       "</div>"
      ],
      "text/plain": [
       "Empty DataFrame\n",
       "Columns: [ID, DetID, Timestamp, Desc]\n",
       "Index: []"
      ]
     },
     "execution_count": 72,
     "metadata": {},
     "output_type": "execute_result"
    }
   ],
   "source": [
    "blkg_desc[blkg_desc.duplicated(subset=['ID'])]"
   ]
  },
  {
   "cell_type": "code",
   "execution_count": 7,
   "metadata": {
    "collapsed": true
   },
   "outputs": [],
   "source": [
    "det_day = pd.read_csv('../data/PeMS/Incidents/Batch/light/test/det/all_text_chp_incident_det_day_2017_01_09.csv', parse_dates=['Timestamp'])"
   ]
  },
  {
   "cell_type": "code",
   "execution_count": 8,
   "metadata": {
    "collapsed": true
   },
   "outputs": [],
   "source": [
    "det_month.drop(index=det_month[~det_month.ID.isin(det_day.ID)].index, inplace=True)"
   ]
  },
  {
   "cell_type": "code",
   "execution_count": 359,
   "metadata": {
    "collapsed": true
   },
   "outputs": [],
   "source": [
    "inc_month = pd.read_csv('../data/PeMS/Incidents/test_env/inc/light/all_text_chp_incident_day_2017_03_01.csv', parse_dates=['Timestamp'])"
   ]
  },
  {
   "cell_type": "code",
   "execution_count": 104,
   "metadata": {
    "collapsed": true
   },
   "outputs": [],
   "source": [
    "series = pd.read_csv('../data/PeMS/Series/Batch/light/Jan/smoothed/d07_text_station_5min_2017_01_09.tx.csv', parse_dates=['Timestamp'])"
   ]
  },
  {
   "cell_type": "code",
   "execution_count": 105,
   "metadata": {
    "collapsed": true
   },
   "outputs": [],
   "source": [
    "file_stations = '../data/PeMS/Stations/d07_text_meta_2017_01_25.txt'\n",
    "header_stations = ['ID', 'Freeway', 'Freeway dir', 'Country', 'City', 'State Postmile', 'Abs Postmile', \n",
    "          'Latitude', 'Longitude', 'Length', 'Type', 'Lanes', 'Name',\n",
    "          'User ID1', 'User ID2', 'User ID3', 'User ID4']\n",
    "stations_active = pd.read_csv(file_stations, sep='\\t')\n",
    "stations_active = stations_active.astype({'Latitude':float, 'Longitude':float})\n",
    "stations_active = stations_active.dropna(subset=['Latitude', 'Longitude']).reset_index(drop=True)\n",
    "# result: non-empty speed data series  only, stations which provide these data\n",
    "stations_active = stations_active[stations_active['ID'].isin(series['Station'].unique())].reset_index(drop=True)\n",
    "stations_active = stations_active.sort_values('Lanes', ascending=False).drop_duplicates(subset=['Latitude', 'Longitude'], keep='first').sort_index().reset_index(drop=True)"
   ]
  },
  {
   "cell_type": "code",
   "execution_count": 107,
   "metadata": {
    "scrolled": true
   },
   "outputs": [
    {
     "data": {
      "text/html": [
       "<div>\n",
       "<style scoped>\n",
       "    .dataframe tbody tr th:only-of-type {\n",
       "        vertical-align: middle;\n",
       "    }\n",
       "\n",
       "    .dataframe tbody tr th {\n",
       "        vertical-align: top;\n",
       "    }\n",
       "\n",
       "    .dataframe thead th {\n",
       "        text-align: right;\n",
       "    }\n",
       "</style>\n",
       "<table border=\"1\" class=\"dataframe\">\n",
       "  <thead>\n",
       "    <tr style=\"text-align: right;\">\n",
       "      <th></th>\n",
       "      <th>IncidentID</th>\n",
       "      <th>CC_Code</th>\n",
       "      <th>Incident_No</th>\n",
       "      <th>Timestamp</th>\n",
       "      <th>Description</th>\n",
       "      <th>Location</th>\n",
       "      <th>Area</th>\n",
       "      <th>Zoom_Map</th>\n",
       "      <th>TBxy</th>\n",
       "      <th>Latitude</th>\n",
       "      <th>Longitude</th>\n",
       "      <th>District</th>\n",
       "      <th>CountryFIPS_ID</th>\n",
       "      <th>CityFIPS_ID</th>\n",
       "      <th>Freeway</th>\n",
       "      <th>Freeway_direction</th>\n",
       "      <th>State_postmile</th>\n",
       "      <th>Absolute_postmile</th>\n",
       "      <th>Severity</th>\n",
       "      <th>Duration</th>\n",
       "    </tr>\n",
       "  </thead>\n",
       "  <tbody>\n",
       "    <tr>\n",
       "      <th>0</th>\n",
       "      <td>16917037</td>\n",
       "      <td>LAHB</td>\n",
       "      <td>170101</td>\n",
       "      <td>2017-01-01 00:03:00</td>\n",
       "      <td>1125A-Animal Hazard</td>\n",
       "      <td>Sr14 N / Placerita Canyon Rd</td>\n",
       "      <td>Newhall</td>\n",
       "      <td>NaN</td>\n",
       "      <td>NaN</td>\n",
       "      <td>34.377539</td>\n",
       "      <td>-118.493509</td>\n",
       "      <td>7</td>\n",
       "      <td>37.0</td>\n",
       "      <td>44000.0</td>\n",
       "      <td>14</td>\n",
       "      <td>N</td>\n",
       "      <td>R28.088</td>\n",
       "      <td>3.3</td>\n",
       "      <td>NaN</td>\n",
       "      <td>1.0</td>\n",
       "    </tr>\n",
       "    <tr>\n",
       "      <th>1</th>\n",
       "      <td>16917042</td>\n",
       "      <td>LAHB</td>\n",
       "      <td>170101</td>\n",
       "      <td>2017-01-01 00:13:00</td>\n",
       "      <td>1125-Traffic Hazard</td>\n",
       "      <td>I405 S / W Rosecrans Ave</td>\n",
       "      <td>West LA</td>\n",
       "      <td>NaN</td>\n",
       "      <td>NaN</td>\n",
       "      <td>33.898375</td>\n",
       "      <td>-118.370277</td>\n",
       "      <td>7</td>\n",
       "      <td>37.0</td>\n",
       "      <td>32548.0</td>\n",
       "      <td>405</td>\n",
       "      <td>S</td>\n",
       "      <td>19.028</td>\n",
       "      <td>42.8</td>\n",
       "      <td>NaN</td>\n",
       "      <td>134.0</td>\n",
       "    </tr>\n",
       "    <tr>\n",
       "      <th>2</th>\n",
       "      <td>16917043</td>\n",
       "      <td>LAHB</td>\n",
       "      <td>170101</td>\n",
       "      <td>2017-01-01 00:12:00</td>\n",
       "      <td>1125A-Animal Hazard</td>\n",
       "      <td>Sr118 E / Woodley Ave</td>\n",
       "      <td>West Valley</td>\n",
       "      <td>NaN</td>\n",
       "      <td>NaN</td>\n",
       "      <td>34.267678</td>\n",
       "      <td>-118.484750</td>\n",
       "      <td>7</td>\n",
       "      <td>37.0</td>\n",
       "      <td>44000.0</td>\n",
       "      <td>118</td>\n",
       "      <td>E</td>\n",
       "      <td>R9.069</td>\n",
       "      <td>42.6</td>\n",
       "      <td>NaN</td>\n",
       "      <td>12.0</td>\n",
       "    </tr>\n",
       "    <tr>\n",
       "      <th>3</th>\n",
       "      <td>16917044</td>\n",
       "      <td>LAHB</td>\n",
       "      <td>170101</td>\n",
       "      <td>2017-01-01 00:09:00</td>\n",
       "      <td>ANIMAL-Live or Dead Animal</td>\n",
       "      <td>I405 S / Burbank Blvd</td>\n",
       "      <td>West Valley</td>\n",
       "      <td>NaN</td>\n",
       "      <td>NaN</td>\n",
       "      <td>34.172117</td>\n",
       "      <td>-118.467710</td>\n",
       "      <td>7</td>\n",
       "      <td>37.0</td>\n",
       "      <td>44000.0</td>\n",
       "      <td>405</td>\n",
       "      <td>S</td>\n",
       "      <td>40.228</td>\n",
       "      <td>64.0</td>\n",
       "      <td>NaN</td>\n",
       "      <td>65.0</td>\n",
       "    </tr>\n",
       "    <tr>\n",
       "      <th>4</th>\n",
       "      <td>16917071</td>\n",
       "      <td>LAHB</td>\n",
       "      <td>170101</td>\n",
       "      <td>2017-01-01 00:37:00</td>\n",
       "      <td>1182-Trfc Collision-No Inj</td>\n",
       "      <td>Sr60 W / Seventh Ave Ofr</td>\n",
       "      <td>Santa Fe Springs</td>\n",
       "      <td>NaN</td>\n",
       "      <td>NaN</td>\n",
       "      <td>34.016738</td>\n",
       "      <td>-117.985385</td>\n",
       "      <td>7</td>\n",
       "      <td>37.0</td>\n",
       "      <td>NaN</td>\n",
       "      <td>60</td>\n",
       "      <td>W</td>\n",
       "      <td>14.559</td>\n",
       "      <td>14.7</td>\n",
       "      <td>NaN</td>\n",
       "      <td>1.0</td>\n",
       "    </tr>\n",
       "  </tbody>\n",
       "</table>\n",
       "</div>"
      ],
      "text/plain": [
       "   IncidentID CC_Code  Incident_No           Timestamp  \\\n",
       "0    16917037    LAHB       170101 2017-01-01 00:03:00   \n",
       "1    16917042    LAHB       170101 2017-01-01 00:13:00   \n",
       "2    16917043    LAHB       170101 2017-01-01 00:12:00   \n",
       "3    16917044    LAHB       170101 2017-01-01 00:09:00   \n",
       "4    16917071    LAHB       170101 2017-01-01 00:37:00   \n",
       "\n",
       "                  Description                      Location              Area  \\\n",
       "0         1125A-Animal Hazard  Sr14 N / Placerita Canyon Rd           Newhall   \n",
       "1         1125-Traffic Hazard      I405 S / W Rosecrans Ave           West LA   \n",
       "2         1125A-Animal Hazard         Sr118 E / Woodley Ave       West Valley   \n",
       "3  ANIMAL-Live or Dead Animal         I405 S / Burbank Blvd       West Valley   \n",
       "4  1182-Trfc Collision-No Inj      Sr60 W / Seventh Ave Ofr  Santa Fe Springs   \n",
       "\n",
       "   Zoom_Map  TBxy   Latitude   Longitude  District  CountryFIPS_ID  \\\n",
       "0       NaN   NaN  34.377539 -118.493509         7            37.0   \n",
       "1       NaN   NaN  33.898375 -118.370277         7            37.0   \n",
       "2       NaN   NaN  34.267678 -118.484750         7            37.0   \n",
       "3       NaN   NaN  34.172117 -118.467710         7            37.0   \n",
       "4       NaN   NaN  34.016738 -117.985385         7            37.0   \n",
       "\n",
       "   CityFIPS_ID  Freeway Freeway_direction State_postmile  Absolute_postmile  \\\n",
       "0      44000.0       14                 N        R28.088                3.3   \n",
       "1      32548.0      405                 S         19.028               42.8   \n",
       "2      44000.0      118                 E         R9.069               42.6   \n",
       "3      44000.0      405                 S         40.228               64.0   \n",
       "4          NaN       60                 W         14.559               14.7   \n",
       "\n",
       "  Severity  Duration  \n",
       "0      NaN       1.0  \n",
       "1      NaN     134.0  \n",
       "2      NaN      12.0  \n",
       "3      NaN      65.0  \n",
       "4      NaN       1.0  "
      ]
     },
     "execution_count": 107,
     "metadata": {},
     "output_type": "execute_result"
    }
   ],
   "source": [
    "inc_month.head()"
   ]
  },
  {
   "cell_type": "code",
   "execution_count": 26,
   "metadata": {
    "collapsed": true
   },
   "outputs": [],
   "source": [
    "def get_stations_within_inc_vicinity(incident, stations, vicinity):\n",
    "    inc_loc = np.asarray(incident[['Latitude', 'Longitude']])\n",
    "    candidates = stations[(stations['Fwy']==incident['Freeway'])&(stations['Dir']==incident['Freeway_direction'])].drop(stations.columns[-4:], axis=1).copy()\n",
    "    return candidates[candidates.apply(lambda x: vincenty((x['Latitude'], x['Longitude']), inc_loc).kilometers < vicinity, axis=1)]"
   ]
  },
  {
   "cell_type": "code",
   "execution_count": 27,
   "metadata": {
    "collapsed": true
   },
   "outputs": [],
   "source": [
    "def plot_station_data_w_nearest_incds(flow_data, incdnt_data, stations_data, station_no, vicinity_km, chrstc_to_plot = 'Avg Speed'):\n",
    "    hours = mdts.HourLocator()\n",
    "    datemin = dt.datetime(year=flow_data.Timestamp.dt.year.iloc[0], month=flow_data.Timestamp.dt.month.iloc[0], day=flow_data.Timestamp.dt.day.iloc[0], hour=0)\n",
    "    datemax = dt.datetime(year=flow_data.Timestamp.dt.year.iloc[0], month=flow_data.Timestamp.dt.month.iloc[0], day=flow_data.Timestamp.dt.day.iloc[0], hour=22)\n",
    "    # filter only data for one station and w/o nans\n",
    "    data_srs_no_null = flow_data[flow_data['Station'] == station_no]\n",
    "    data_srs_no_null = data_srs_no_null.dropna(subset=[chrstc_to_plot])\n",
    "    # station of interest coords\n",
    "    station_coords = np.asarray(stations_data[stations_data['ID'] == station_no][['Latitude', 'Longitude']])\n",
    "    # incidents closest to the station\n",
    "    data_incdnts_nearest = incdnt_data[incdnt_data.apply(lambda x: vincenty((x['Latitude'], x['Longitude']), station_coords).kilometers < vicinity_km, axis=1)]\n",
    "    # x-values\n",
    "    dates = data_srs_no_null['Timestamp']\n",
    "    # y-values\n",
    "    speed = data_srs_no_null[chrstc_to_plot]\n",
    "    fig,ax = plt.subplots(figsize=[15,10])\n",
    "    fig.figsize = [15,10]\n",
    "    plt.plot_date(dates, speed, fmt='-', tz='EST')\n",
    "    for x in data_incdnts_nearest['Timestamp']:\n",
    "        plt.axvline(x)\n",
    "    ax.xaxis.set_major_locator(hours)\n",
    "    fig.autofmt_xdate()\n",
    "    ax.xaxis.set_major_formatter(mdts.DateFormatter('%H:%M'))\n",
    "    ax.set_xlim(datemin, datemax)\n",
    "    plt.grid()\n",
    "    plt.show()"
   ]
  },
  {
   "cell_type": "code",
   "execution_count": 362,
   "metadata": {
    "collapsed": true
   },
   "outputs": [],
   "source": [
    "inc_month['Prev'] = inc_month.apply(get_next_wrapper, axis=1, args=(get_next_upstream_station, stations_active))\n",
    "\n",
    "inc_month.drop(index=inc_month[inc_month.Prev==0].index, inplace=True)"
   ]
  },
  {
   "cell_type": "code",
   "execution_count": 21,
   "metadata": {
    "collapsed": true
   },
   "outputs": [],
   "source": [
    "inc_month.drop(columns=['Zoom_Map', 'TBxy', 'CountryFIPS_ID', 'CityFIPS_ID', 'Incident_No', 'Area', 'State_postmile', 'Absolute_postmile'], inplace=True)"
   ]
  },
  {
   "cell_type": "code",
   "execution_count": 17,
   "metadata": {
    "collapsed": true
   },
   "outputs": [],
   "source": [
    "test = series[series.Station==716930]"
   ]
  },
  {
   "cell_type": "code",
   "execution_count": 314,
   "metadata": {},
   "outputs": [
    {
     "data": {
      "text/plain": [
       "Timestamp('2017-01-08 21:21:00')"
      ]
     },
     "execution_count": 314,
     "metadata": {},
     "output_type": "execute_result"
    }
   ],
   "source": [
    "inc_month.Timestamp.iloc[0] #+ dt.timedelta(hours=1)"
   ]
  },
  {
   "cell_type": "code",
   "execution_count": 316,
   "metadata": {},
   "outputs": [
    {
     "data": {
      "text/plain": [
       "Timestamp('2017-01-08 20:21:00')"
      ]
     },
     "execution_count": 316,
     "metadata": {},
     "output_type": "execute_result"
    }
   ],
   "source": [
    "inc_month.Timestamp.iloc[0] - dt.timedelta(hours=1)"
   ]
  },
  {
   "cell_type": "code",
   "execution_count": 363,
   "metadata": {},
   "outputs": [
    {
     "data": {
      "text/plain": [
       "(419, 17)"
      ]
     },
     "execution_count": 363,
     "metadata": {},
     "output_type": "execute_result"
    }
   ],
   "source": [
    "inc_month.shape"
   ]
  },
  {
   "cell_type": "code",
   "execution_count": 23,
   "metadata": {},
   "outputs": [
    {
     "data": {
      "text/plain": [
       "(75, 12)"
      ]
     },
     "execution_count": 23,
     "metadata": {},
     "output_type": "execute_result"
    }
   ],
   "source": [
    "inc_month[(inc_month.Timestamp.dt.time>=dt.time(hour=1, minute=20)) & (inc_month.Timestamp.dt.hour<23)].shape"
   ]
  },
  {
   "cell_type": "code",
   "execution_count": 32,
   "metadata": {},
   "outputs": [
    {
     "ename": "ValueError",
     "evalue": "labels ['IncidentID' 'CC_Code' 'Timestamp' 'Description' 'Location' 'Latitude'\n 'Longitude' 'District' 'Freeway' 'Freeway_direction' 'Severity'\n 'Duration' 'Next'] not contained in axis",
     "output_type": "error",
     "traceback": [
      "\u001b[0;31m---------------------------------------------------------------------------\u001b[0m",
      "\u001b[0;31mValueError\u001b[0m                                Traceback (most recent call last)",
      "\u001b[0;32m<ipython-input-32-cf6efd3a29f0>\u001b[0m in \u001b[0;36m<module>\u001b[0;34m()\u001b[0m\n\u001b[0;32m----> 1\u001b[0;31m \u001b[0minc_month\u001b[0m\u001b[0;34m.\u001b[0m\u001b[0mdrop\u001b[0m\u001b[0;34m(\u001b[0m\u001b[0mindex\u001b[0m\u001b[0;34m=\u001b[0m\u001b[0minc_month\u001b[0m\u001b[0;34m[\u001b[0m\u001b[0minc_month\u001b[0m\u001b[0;34m.\u001b[0m\u001b[0mTimestamp\u001b[0m\u001b[0;34m.\u001b[0m\u001b[0mdt\u001b[0m\u001b[0;34m.\u001b[0m\u001b[0mhour\u001b[0m\u001b[0;34m<\u001b[0m\u001b[0;36m1\u001b[0m\u001b[0;34m]\u001b[0m\u001b[0;34m)\u001b[0m\u001b[0;34m\u001b[0m\u001b[0m\n\u001b[0m",
      "\u001b[0;32m/opt/anaconda3/lib/python3.6/site-packages/pandas/core/generic.py\u001b[0m in \u001b[0;36mdrop\u001b[0;34m(self, labels, axis, index, columns, level, inplace, errors)\u001b[0m\n\u001b[1;32m   2528\u001b[0m         \u001b[0;32mfor\u001b[0m \u001b[0maxis\u001b[0m\u001b[0;34m,\u001b[0m \u001b[0mlabels\u001b[0m \u001b[0;32min\u001b[0m \u001b[0maxes\u001b[0m\u001b[0;34m.\u001b[0m\u001b[0mitems\u001b[0m\u001b[0;34m(\u001b[0m\u001b[0;34m)\u001b[0m\u001b[0;34m:\u001b[0m\u001b[0;34m\u001b[0m\u001b[0m\n\u001b[1;32m   2529\u001b[0m             \u001b[0;32mif\u001b[0m \u001b[0mlabels\u001b[0m \u001b[0;32mis\u001b[0m \u001b[0;32mnot\u001b[0m \u001b[0;32mNone\u001b[0m\u001b[0;34m:\u001b[0m\u001b[0;34m\u001b[0m\u001b[0m\n\u001b[0;32m-> 2530\u001b[0;31m                 \u001b[0mobj\u001b[0m \u001b[0;34m=\u001b[0m \u001b[0mobj\u001b[0m\u001b[0;34m.\u001b[0m\u001b[0m_drop_axis\u001b[0m\u001b[0;34m(\u001b[0m\u001b[0mlabels\u001b[0m\u001b[0;34m,\u001b[0m \u001b[0maxis\u001b[0m\u001b[0;34m,\u001b[0m \u001b[0mlevel\u001b[0m\u001b[0;34m=\u001b[0m\u001b[0mlevel\u001b[0m\u001b[0;34m,\u001b[0m \u001b[0merrors\u001b[0m\u001b[0;34m=\u001b[0m\u001b[0merrors\u001b[0m\u001b[0;34m)\u001b[0m\u001b[0;34m\u001b[0m\u001b[0m\n\u001b[0m\u001b[1;32m   2531\u001b[0m \u001b[0;34m\u001b[0m\u001b[0m\n\u001b[1;32m   2532\u001b[0m         \u001b[0;32mif\u001b[0m \u001b[0minplace\u001b[0m\u001b[0;34m:\u001b[0m\u001b[0;34m\u001b[0m\u001b[0m\n",
      "\u001b[0;32m/opt/anaconda3/lib/python3.6/site-packages/pandas/core/generic.py\u001b[0m in \u001b[0;36m_drop_axis\u001b[0;34m(self, labels, axis, level, errors)\u001b[0m\n\u001b[1;32m   2560\u001b[0m                 \u001b[0mnew_axis\u001b[0m \u001b[0;34m=\u001b[0m \u001b[0maxis\u001b[0m\u001b[0;34m.\u001b[0m\u001b[0mdrop\u001b[0m\u001b[0;34m(\u001b[0m\u001b[0mlabels\u001b[0m\u001b[0;34m,\u001b[0m \u001b[0mlevel\u001b[0m\u001b[0;34m=\u001b[0m\u001b[0mlevel\u001b[0m\u001b[0;34m,\u001b[0m \u001b[0merrors\u001b[0m\u001b[0;34m=\u001b[0m\u001b[0merrors\u001b[0m\u001b[0;34m)\u001b[0m\u001b[0;34m\u001b[0m\u001b[0m\n\u001b[1;32m   2561\u001b[0m             \u001b[0;32melse\u001b[0m\u001b[0;34m:\u001b[0m\u001b[0;34m\u001b[0m\u001b[0m\n\u001b[0;32m-> 2562\u001b[0;31m                 \u001b[0mnew_axis\u001b[0m \u001b[0;34m=\u001b[0m \u001b[0maxis\u001b[0m\u001b[0;34m.\u001b[0m\u001b[0mdrop\u001b[0m\u001b[0;34m(\u001b[0m\u001b[0mlabels\u001b[0m\u001b[0;34m,\u001b[0m \u001b[0merrors\u001b[0m\u001b[0;34m=\u001b[0m\u001b[0merrors\u001b[0m\u001b[0;34m)\u001b[0m\u001b[0;34m\u001b[0m\u001b[0m\n\u001b[0m\u001b[1;32m   2563\u001b[0m             \u001b[0mdropped\u001b[0m \u001b[0;34m=\u001b[0m \u001b[0mself\u001b[0m\u001b[0;34m.\u001b[0m\u001b[0mreindex\u001b[0m\u001b[0;34m(\u001b[0m\u001b[0;34m**\u001b[0m\u001b[0;34m{\u001b[0m\u001b[0maxis_name\u001b[0m\u001b[0;34m:\u001b[0m \u001b[0mnew_axis\u001b[0m\u001b[0;34m}\u001b[0m\u001b[0;34m)\u001b[0m\u001b[0;34m\u001b[0m\u001b[0m\n\u001b[1;32m   2564\u001b[0m             \u001b[0;32mtry\u001b[0m\u001b[0;34m:\u001b[0m\u001b[0;34m\u001b[0m\u001b[0m\n",
      "\u001b[0;32m/opt/anaconda3/lib/python3.6/site-packages/pandas/core/indexes/base.py\u001b[0m in \u001b[0;36mdrop\u001b[0;34m(self, labels, errors)\u001b[0m\n\u001b[1;32m   3742\u001b[0m             \u001b[0;32mif\u001b[0m \u001b[0merrors\u001b[0m \u001b[0;34m!=\u001b[0m \u001b[0;34m'ignore'\u001b[0m\u001b[0;34m:\u001b[0m\u001b[0;34m\u001b[0m\u001b[0m\n\u001b[1;32m   3743\u001b[0m                 raise ValueError('labels %s not contained in axis' %\n\u001b[0;32m-> 3744\u001b[0;31m                                  labels[mask])\n\u001b[0m\u001b[1;32m   3745\u001b[0m             \u001b[0mindexer\u001b[0m \u001b[0;34m=\u001b[0m \u001b[0mindexer\u001b[0m\u001b[0;34m[\u001b[0m\u001b[0;34m~\u001b[0m\u001b[0mmask\u001b[0m\u001b[0;34m]\u001b[0m\u001b[0;34m\u001b[0m\u001b[0m\n\u001b[1;32m   3746\u001b[0m         \u001b[0;32mreturn\u001b[0m \u001b[0mself\u001b[0m\u001b[0;34m.\u001b[0m\u001b[0mdelete\u001b[0m\u001b[0;34m(\u001b[0m\u001b[0mindexer\u001b[0m\u001b[0;34m)\u001b[0m\u001b[0;34m\u001b[0m\u001b[0m\n",
      "\u001b[0;31mValueError\u001b[0m: labels ['IncidentID' 'CC_Code' 'Timestamp' 'Description' 'Location' 'Latitude'\n 'Longitude' 'District' 'Freeway' 'Freeway_direction' 'Severity'\n 'Duration' 'Next'] not contained in axis"
     ]
    }
   ],
   "source": [
    "inc_month.drop(index=inc_month[inc_month.Timestamp.dt.hour<1])"
   ]
  },
  {
   "cell_type": "code",
   "execution_count": 34,
   "metadata": {},
   "outputs": [
    {
     "data": {
      "text/plain": [
       "IncidentID                         16936319\n",
       "CC_Code                                LAHB\n",
       "Timestamp               2017-01-09 22:00:00\n",
       "Description             1125-Traffic Hazard\n",
       "Location             Sr57 N / Pathfinder Rd\n",
       "Latitude                            33.9843\n",
       "Longitude                          -117.843\n",
       "District                                  7\n",
       "Freeway                                  57\n",
       "Freeway_direction                         N\n",
       "Severity                                NaN\n",
       "Duration                                  1\n",
       "Next                                 763553\n",
       "Name: 3462, dtype: object"
      ]
     },
     "execution_count": 34,
     "metadata": {},
     "output_type": "execute_result"
    }
   ],
   "source": [
    "inc_month.iloc[69]"
   ]
  },
  {
   "cell_type": "code",
   "execution_count": 36,
   "metadata": {},
   "outputs": [
    {
     "data": {
      "text/plain": [
       "(24, 12)"
      ]
     },
     "execution_count": 36,
     "metadata": {},
     "output_type": "execute_result"
    }
   ],
   "source": [
    "i=69\n",
    "\n",
    "test[(test.Timestamp >= inc_month.Timestamp.iloc[i] - dt.timedelta(hours=1)) &  (test.Timestamp < inc_month.Timestamp.iloc[i]+dt.timedelta(hours=1))].shape"
   ]
  },
  {
   "cell_type": "code",
   "execution_count": 244,
   "metadata": {},
   "outputs": [
    {
     "data": {
      "image/png": "[encoded data removed]",
      "text/plain": [
       "<matplotlib.figure.Figure at 0x7fca13452f28>"
      ]
     },
     "metadata": {},
     "output_type": "display_data"
    }
   ],
   "source": [
    "plot_station_data_w_nearest_incds(series, inc_month, stations_active, 717590, 1)"
   ]
  },
  {
   "cell_type": "code",
   "execution_count": 118,
   "metadata": {
    "collapsed": true
   },
   "outputs": [],
   "source": [
    "dtypes = {'ID': np.int, 'DetID': np.int, 'Timestamp': datetime, 'Desc': object}"
   ]
  },
  {
   "cell_type": "code",
   "execution_count": 121,
   "metadata": {
    "collapsed": true
   },
   "outputs": [],
   "source": [
    "dtypes = {'ID': np.int, 'DetID': np.int}"
   ]
  },
  {
   "cell_type": "code",
   "execution_count": 13,
   "metadata": {
    "collapsed": true
   },
   "outputs": [],
   "source": [
    "inc_month.drop(index=inc_month[~inc_month.IncidentID.isin(blkg_desc.ID)].index, inplace=True)"
   ]
  },
  {
   "cell_type": "code",
   "execution_count": 194,
   "metadata": {},
   "outputs": [
    {
     "data": {
      "text/html": [
       "<div>\n",
       "<style scoped>\n",
       "    .dataframe tbody tr th:only-of-type {\n",
       "        vertical-align: middle;\n",
       "    }\n",
       "\n",
       "    .dataframe tbody tr th {\n",
       "        vertical-align: top;\n",
       "    }\n",
       "\n",
       "    .dataframe thead th {\n",
       "        text-align: right;\n",
       "    }\n",
       "</style>\n",
       "<table border=\"1\" class=\"dataframe\">\n",
       "  <thead>\n",
       "    <tr style=\"text-align: right;\">\n",
       "      <th></th>\n",
       "      <th>ID</th>\n",
       "      <th>Fwy</th>\n",
       "      <th>Dir</th>\n",
       "      <th>District</th>\n",
       "      <th>County</th>\n",
       "      <th>City</th>\n",
       "      <th>State_PM</th>\n",
       "      <th>Abs_PM</th>\n",
       "      <th>Latitude</th>\n",
       "      <th>Longitude</th>\n",
       "      <th>Length</th>\n",
       "      <th>Type</th>\n",
       "      <th>Lanes</th>\n",
       "      <th>Name</th>\n",
       "    </tr>\n",
       "  </thead>\n",
       "  <tbody>\n",
       "    <tr>\n",
       "      <th>524</th>\n",
       "      <td>717590</td>\n",
       "      <td>134</td>\n",
       "      <td>W</td>\n",
       "      <td>7</td>\n",
       "      <td>37</td>\n",
       "      <td>30000.0</td>\n",
       "      <td>R8.76</td>\n",
       "      <td>8.743</td>\n",
       "      <td>34.148123</td>\n",
       "      <td>-118.229499</td>\n",
       "      <td>0.405</td>\n",
       "      <td>ML</td>\n",
       "      <td>4</td>\n",
       "      <td>HARVEY</td>\n",
       "    </tr>\n",
       "  </tbody>\n",
       "</table>\n",
       "</div>"
      ],
      "text/plain": [
       "         ID  Fwy Dir  District  County     City State_PM  Abs_PM   Latitude  \\\n",
       "524  717590  134   W         7      37  30000.0    R8.76   8.743  34.148123   \n",
       "\n",
       "      Longitude  Length Type  Lanes    Name  \n",
       "524 -118.229499   0.405   ML      4  HARVEY  "
      ]
     },
     "execution_count": 194,
     "metadata": {},
     "output_type": "execute_result"
    }
   ],
   "source": [
    "get_stations_within_inc_vicinity(inc_month.iloc[42], stations_active, .4)"
   ]
  },
  {
   "cell_type": "code",
   "execution_count": 14,
   "metadata": {
    "collapsed": true
   },
   "outputs": [],
   "source": [
    "inc_day = pd.read_csv('../data/PeMS/Incidents/Batch/light/test/all_text_chp_incident_day_2017_01_09.csv', parse_dates=['Timestamp'])\n",
    "det_header = ['ID', 'DetID', 'Timestamp', 'Desc']\n",
    "det_day = pd.read_csv('../data/PeMS/Incidents/Batch/light/test/all_text_chp_incident_det_day_2017_01_09.csv', parse_dates=['Timestamp']) #, names=det_header)#, skip_blank_lines=False, sep=',', error_bad_lines=True)"
   ]
  },
  {
   "cell_type": "code",
   "execution_count": 66,
   "metadata": {
    "collapsed": true
   },
   "outputs": [],
   "source": [
    "inc_month = pd.read_csv('../data/PeMS/Incidents/Batch/light/test/all_text_chp_incidents_month_2017_01.csv', parse_dates=['Timestamp'])\n",
    "det_month = pd.read_csv('../data/PeMS/Incidents/Batch/light/test/all_text_chp_incident_det_month_2017_01.csv', parse_dates=['Timestamp'])"
   ]
  },
  {
   "cell_type": "markdown",
   "metadata": {},
   "source": [
    "incdnt_det_file_name = '../data/PeMS/Incidents/Batch/2017/test/all_text_chp_incident_det_day_2017_01_09.txt'\n",
    "det_header = ['ID', 'DetID', 'Timestamp', 'Desc']\n",
    "det_day = pd.read_csv(incdnt_det_file_name, sep=',', names=det_header, parse_dates=[2])\n",
    "\n",
    "det_day.to_csv('../data/PeMS/Incidents/Batch/light/test/all_text_chp_incident_det_day_2017_01_09.csv', index=False)"
   ]
  },
  {
   "cell_type": "code",
   "execution_count": 84,
   "metadata": {
    "collapsed": true
   },
   "outputs": [],
   "source": [
    "incdnt_det_file_name = '../data/PeMS/Incidents/Batch/2017/test/det/all_text_chp_incident_det_month_2017_01.txt'\n",
    "det_header = ['ID', 'DetID', 'Timestamp', 'Desc']\n",
    "det_month = pd.read_csv(incdnt_det_file_name, sep=',', names=det_header, parse_dates=[2])\n",
    "\n",
    "#det_month.to_csv('../data/PeMS/Incidents/Batch/light/test/all_text_chp_incident_det_month_2017_01.csv', index=False)"
   ]
  },
  {
   "cell_type": "code",
   "execution_count": 5,
   "metadata": {
    "collapsed": true
   },
   "outputs": [],
   "source": [
    "inc_month_day = inc_month[inc_month.Timestamp.dt.date == inc_day.Timestamp.dt.date[0]]"
   ]
  },
  {
   "cell_type": "code",
   "execution_count": 58,
   "metadata": {
    "collapsed": true,
    "scrolled": false
   },
   "outputs": [],
   "source": [
    "det_month_day = det_month[det_month.Timestamp.dt.date == det_day.Timestamp.dt.date[0]]"
   ]
  },
  {
   "cell_type": "code",
   "execution_count": 64,
   "metadata": {
    "collapsed": true,
    "scrolled": false
   },
   "outputs": [],
   "source": [
    "det_month_day = det_month[det_month.ID.isin(inc_day.IncidentID)]"
   ]
  },
  {
   "cell_type": "code",
   "execution_count": 15,
   "metadata": {},
   "outputs": [
    {
     "data": {
      "text/plain": [
       "(75, 20)"
      ]
     },
     "execution_count": 15,
     "metadata": {},
     "output_type": "execute_result"
    }
   ],
   "source": [
    "inc_month.shape"
   ]
  },
  {
   "cell_type": "code",
   "execution_count": 23,
   "metadata": {
    "scrolled": true
   },
   "outputs": [
    {
     "data": {
      "text/plain": [
       "(501, 20)"
      ]
     },
     "execution_count": 23,
     "metadata": {},
     "output_type": "execute_result"
    }
   ],
   "source": [
    "inc_day.shape"
   ]
  },
  {
   "cell_type": "code",
   "execution_count": 65,
   "metadata": {},
   "outputs": [
    {
     "data": {
      "text/plain": [
       "(0, 4)"
      ]
     },
     "execution_count": 65,
     "metadata": {},
     "output_type": "execute_result"
    }
   ],
   "source": [
    "det_month_day.shape"
   ]
  },
  {
   "cell_type": "code",
   "execution_count": 76,
   "metadata": {
    "scrolled": true
   },
   "outputs": [
    {
     "data": {
      "text/html": [
       "<div>\n",
       "<style scoped>\n",
       "    .dataframe tbody tr th:only-of-type {\n",
       "        vertical-align: middle;\n",
       "    }\n",
       "\n",
       "    .dataframe tbody tr th {\n",
       "        vertical-align: top;\n",
       "    }\n",
       "\n",
       "    .dataframe thead th {\n",
       "        text-align: right;\n",
       "    }\n",
       "</style>\n",
       "<table border=\"1\" class=\"dataframe\">\n",
       "  <thead>\n",
       "    <tr style=\"text-align: right;\">\n",
       "      <th></th>\n",
       "      <th>ID</th>\n",
       "      <th>DetID</th>\n",
       "      <th>Timestamp</th>\n",
       "      <th>Desc</th>\n",
       "    </tr>\n",
       "  </thead>\n",
       "  <tbody>\n",
       "  </tbody>\n",
       "</table>\n",
       "</div>"
      ],
      "text/plain": [
       "Empty DataFrame\n",
       "Columns: [ID, DetID, Timestamp, Desc]\n",
       "Index: []"
      ]
     },
     "execution_count": 76,
     "metadata": {},
     "output_type": "execute_result"
    }
   ],
   "source": [
    "det_month[det_month.ID.isin(inc_day.IncidentID)]"
   ]
  },
  {
   "cell_type": "code",
   "execution_count": 79,
   "metadata": {
    "scrolled": true
   },
   "outputs": [
    {
     "data": {
      "text/plain": [
       "ID                   object\n",
       "DetID               float64\n",
       "Timestamp    datetime64[ns]\n",
       "Desc                 object\n",
       "dtype: object"
      ]
     },
     "execution_count": 79,
     "metadata": {},
     "output_type": "execute_result"
    }
   ],
   "source": [
    "det_month.dtypes"
   ]
  },
  {
   "cell_type": "code",
   "execution_count": 74,
   "metadata": {},
   "outputs": [
    {
     "data": {
      "text/plain": [
       "(711322, 4)"
      ]
     },
     "execution_count": 74,
     "metadata": {},
     "output_type": "execute_result"
    }
   ],
   "source": [
    "det_month.shape"
   ]
  },
  {
   "cell_type": "code",
   "execution_count": 27,
   "metadata": {},
   "outputs": [
    {
     "data": {
      "text/plain": [
       "(25407, 4)"
      ]
     },
     "execution_count": 27,
     "metadata": {},
     "output_type": "execute_result"
    }
   ],
   "source": [
    "det_day[~det_day.DetID.isna()].shape"
   ]
  },
  {
   "cell_type": "code",
   "execution_count": 29,
   "metadata": {},
   "outputs": [
    {
     "data": {
      "text/plain": [
       "(127, 4)"
      ]
     },
     "execution_count": 29,
     "metadata": {},
     "output_type": "execute_result"
    }
   ],
   "source": [
    "det_day[det_day.DetID.isna()].shape"
   ]
  },
  {
   "cell_type": "code",
   "execution_count": 32,
   "metadata": {
    "collapsed": true
   },
   "outputs": [],
   "source": [
    "det_month_day.to_csv('../data/PeMS/Incidents/Batch/light/test/all_text_chp_incident_det_month_day_2017_01_09.csv', index=False)"
   ]
  },
  {
   "cell_type": "code",
   "execution_count": 60,
   "metadata": {
    "scrolled": true
   },
   "outputs": [
    {
     "data": {
      "text/plain": [
       "(2473,)"
      ]
     },
     "execution_count": 60,
     "metadata": {},
     "output_type": "execute_result"
    }
   ],
   "source": [
    "det_month_day.ID.unique().shape"
   ]
  },
  {
   "cell_type": "code",
   "execution_count": 35,
   "metadata": {
    "collapsed": true
   },
   "outputs": [],
   "source": [
    "d7_inc_day = inc_day[inc_day.District == 7]"
   ]
  },
  {
   "cell_type": "code",
   "execution_count": 39,
   "metadata": {
    "scrolled": true
   },
   "outputs": [
    {
     "data": {
      "text/plain": [
       "Index(['IncidentID', 'CC_Code', 'Incident_No', 'Timestamp', 'Description',\n",
       "       'Location', 'Area', 'Zoom_Map', 'TBxy', 'Latitude', 'Longitude',\n",
       "       'District', 'CountryFIPS_ID', 'CityFIPS_ID', 'Freeway',\n",
       "       'Freeway_direction', 'State_postmile', 'Absolute_postmile', 'Severity',\n",
       "       'Duration'],\n",
       "      dtype='object')"
      ]
     },
     "execution_count": 39,
     "metadata": {},
     "output_type": "execute_result"
    }
   ],
   "source": [
    "inc_day.columns"
   ]
  },
  {
   "cell_type": "code",
   "execution_count": 40,
   "metadata": {},
   "outputs": [
    {
     "name": "stderr",
     "output_type": "stream",
     "text": [
      "/opt/anaconda3/lib/python3.6/site-packages/ipykernel_launcher.py:1: SettingWithCopyWarning: \n",
      "A value is trying to be set on a copy of a slice from a DataFrame\n",
      "\n",
      "See the caveats in the documentation: http://pandas.pydata.org/pandas-docs/stable/indexing.html#indexing-view-versus-copy\n",
      "  \"\"\"Entry point for launching an IPython kernel.\n"
     ]
    }
   ],
   "source": [
    "det_month_day.drop(index=det_month_day[~det_month_day.ID.isin(inc_day.IncidentID)].index, inplace=True)"
   ]
  },
  {
   "cell_type": "code",
   "execution_count": 62,
   "metadata": {},
   "outputs": [
    {
     "data": {
      "text/html": [
       "<div>\n",
       "<style scoped>\n",
       "    .dataframe tbody tr th:only-of-type {\n",
       "        vertical-align: middle;\n",
       "    }\n",
       "\n",
       "    .dataframe tbody tr th {\n",
       "        vertical-align: top;\n",
       "    }\n",
       "\n",
       "    .dataframe thead th {\n",
       "        text-align: right;\n",
       "    }\n",
       "</style>\n",
       "<table border=\"1\" class=\"dataframe\">\n",
       "  <thead>\n",
       "    <tr style=\"text-align: right;\">\n",
       "      <th></th>\n",
       "      <th>ID</th>\n",
       "      <th>DetID</th>\n",
       "      <th>Timestamp</th>\n",
       "      <th>Desc</th>\n",
       "    </tr>\n",
       "  </thead>\n",
       "  <tbody>\n",
       "  </tbody>\n",
       "</table>\n",
       "</div>"
      ],
      "text/plain": [
       "Empty DataFrame\n",
       "Columns: [ID, DetID, Timestamp, Desc]\n",
       "Index: []"
      ]
     },
     "execution_count": 62,
     "metadata": {},
     "output_type": "execute_result"
    }
   ],
   "source": [
    "det_month_day[det_month_day.ID.isin(inc_day.IncidentID)].head()"
   ]
  },
  {
   "cell_type": "code",
   "execution_count": 69,
   "metadata": {},
   "outputs": [
    {
     "data": {
      "text/html": [
       "<div>\n",
       "<style scoped>\n",
       "    .dataframe tbody tr th:only-of-type {\n",
       "        vertical-align: middle;\n",
       "    }\n",
       "\n",
       "    .dataframe tbody tr th {\n",
       "        vertical-align: top;\n",
       "    }\n",
       "\n",
       "    .dataframe thead th {\n",
       "        text-align: right;\n",
       "    }\n",
       "</style>\n",
       "<table border=\"1\" class=\"dataframe\">\n",
       "  <thead>\n",
       "    <tr style=\"text-align: right;\">\n",
       "      <th></th>\n",
       "      <th>IncidentID</th>\n",
       "      <th>CC_Code</th>\n",
       "      <th>Incident_No</th>\n",
       "      <th>Timestamp</th>\n",
       "      <th>Description</th>\n",
       "      <th>Location</th>\n",
       "      <th>Area</th>\n",
       "      <th>Zoom_Map</th>\n",
       "      <th>TBxy</th>\n",
       "      <th>Latitude</th>\n",
       "      <th>Longitude</th>\n",
       "      <th>District</th>\n",
       "      <th>CountryFIPS_ID</th>\n",
       "      <th>CityFIPS_ID</th>\n",
       "      <th>Freeway</th>\n",
       "      <th>Freeway_direction</th>\n",
       "      <th>State_postmile</th>\n",
       "      <th>Absolute_postmile</th>\n",
       "      <th>Severity</th>\n",
       "      <th>Duration</th>\n",
       "    </tr>\n",
       "  </thead>\n",
       "  <tbody>\n",
       "  </tbody>\n",
       "</table>\n",
       "</div>"
      ],
      "text/plain": [
       "Empty DataFrame\n",
       "Columns: [IncidentID, CC_Code, Incident_No, Timestamp, Description, Location, Area, Zoom_Map, TBxy, Latitude, Longitude, District, CountryFIPS_ID, CityFIPS_ID, Freeway, Freeway_direction, State_postmile, Absolute_postmile, Severity, Duration]\n",
       "Index: []"
      ]
     },
     "execution_count": 69,
     "metadata": {},
     "output_type": "execute_result"
    }
   ],
   "source": [
    "inc_month[inc_month.IncidentID==16933993]"
   ]
  },
  {
   "cell_type": "code",
   "execution_count": 71,
   "metadata": {},
   "outputs": [
    {
     "data": {
      "text/html": [
       "<div>\n",
       "<style scoped>\n",
       "    .dataframe tbody tr th:only-of-type {\n",
       "        vertical-align: middle;\n",
       "    }\n",
       "\n",
       "    .dataframe tbody tr th {\n",
       "        vertical-align: top;\n",
       "    }\n",
       "\n",
       "    .dataframe thead th {\n",
       "        text-align: right;\n",
       "    }\n",
       "</style>\n",
       "<table border=\"1\" class=\"dataframe\">\n",
       "  <thead>\n",
       "    <tr style=\"text-align: right;\">\n",
       "      <th></th>\n",
       "      <th>IncidentID</th>\n",
       "      <th>CC_Code</th>\n",
       "      <th>Incident_No</th>\n",
       "      <th>Timestamp</th>\n",
       "      <th>Description</th>\n",
       "      <th>Location</th>\n",
       "      <th>Area</th>\n",
       "      <th>Zoom_Map</th>\n",
       "      <th>TBxy</th>\n",
       "      <th>Latitude</th>\n",
       "      <th>Longitude</th>\n",
       "      <th>District</th>\n",
       "      <th>CountryFIPS_ID</th>\n",
       "      <th>CityFIPS_ID</th>\n",
       "      <th>Freeway</th>\n",
       "      <th>Freeway_direction</th>\n",
       "      <th>State_postmile</th>\n",
       "      <th>Absolute_postmile</th>\n",
       "      <th>Severity</th>\n",
       "      <th>Duration</th>\n",
       "    </tr>\n",
       "  </thead>\n",
       "  <tbody>\n",
       "    <tr>\n",
       "      <th>0</th>\n",
       "      <td>16934010</td>\n",
       "      <td>LAHB</td>\n",
       "      <td>170109</td>\n",
       "      <td>2017-01-09 00:09:00</td>\n",
       "      <td>FIRE-Report of Fire</td>\n",
       "      <td>Us101 S / Melrose Ave</td>\n",
       "      <td>Central LA</td>\n",
       "      <td>NaN</td>\n",
       "      <td>NaN</td>\n",
       "      <td>34.083554</td>\n",
       "      <td>-118.298805</td>\n",
       "      <td>7</td>\n",
       "      <td>37.0</td>\n",
       "      <td>44000.0</td>\n",
       "      <td>101</td>\n",
       "      <td>S</td>\n",
       "      <td>4.852</td>\n",
       "      <td>6.2</td>\n",
       "      <td>NaN</td>\n",
       "      <td>1.0</td>\n",
       "    </tr>\n",
       "    <tr>\n",
       "      <th>1</th>\n",
       "      <td>16934015</td>\n",
       "      <td>LAHB</td>\n",
       "      <td>170109</td>\n",
       "      <td>2017-01-09 00:15:00</td>\n",
       "      <td>1125-Traffic Hazard</td>\n",
       "      <td>I5 N / Indiana St</td>\n",
       "      <td>East LA</td>\n",
       "      <td>NaN</td>\n",
       "      <td>NaN</td>\n",
       "      <td>34.020302</td>\n",
       "      <td>-118.192255</td>\n",
       "      <td>7</td>\n",
       "      <td>37.0</td>\n",
       "      <td>NaN</td>\n",
       "      <td>5</td>\n",
       "      <td>N</td>\n",
       "      <td>14.967</td>\n",
       "      <td>131.6</td>\n",
       "      <td>NaN</td>\n",
       "      <td>44.0</td>\n",
       "    </tr>\n",
       "    <tr>\n",
       "      <th>2</th>\n",
       "      <td>16934022</td>\n",
       "      <td>LAHB</td>\n",
       "      <td>170109</td>\n",
       "      <td>2017-01-09 00:19:00</td>\n",
       "      <td>1125-Traffic Hazard</td>\n",
       "      <td>I5 N / N Broadway</td>\n",
       "      <td>Central LA</td>\n",
       "      <td>NaN</td>\n",
       "      <td>NaN</td>\n",
       "      <td>34.073061</td>\n",
       "      <td>-118.219156</td>\n",
       "      <td>7</td>\n",
       "      <td>37.0</td>\n",
       "      <td>44000.0</td>\n",
       "      <td>5</td>\n",
       "      <td>N</td>\n",
       "      <td>19.767</td>\n",
       "      <td>136.4</td>\n",
       "      <td>NaN</td>\n",
       "      <td>15.0</td>\n",
       "    </tr>\n",
       "    <tr>\n",
       "      <th>3</th>\n",
       "      <td>16934023</td>\n",
       "      <td>LAHB</td>\n",
       "      <td>170109</td>\n",
       "      <td>2017-01-09 00:18:00</td>\n",
       "      <td>1183-Trfc Collision-Unkn Inj</td>\n",
       "      <td>SR118 E / I5 S SR118 CON</td>\n",
       "      <td>West Valley</td>\n",
       "      <td>NaN</td>\n",
       "      <td>NaN</td>\n",
       "      <td>34.268062</td>\n",
       "      <td>-118.435692</td>\n",
       "      <td>7</td>\n",
       "      <td>37.0</td>\n",
       "      <td>44000.0</td>\n",
       "      <td>118</td>\n",
       "      <td>E</td>\n",
       "      <td>R11.869</td>\n",
       "      <td>45.4</td>\n",
       "      <td>NaN</td>\n",
       "      <td>35.0</td>\n",
       "    </tr>\n",
       "    <tr>\n",
       "      <th>4</th>\n",
       "      <td>16934043</td>\n",
       "      <td>LAHB</td>\n",
       "      <td>170109</td>\n",
       "      <td>2017-01-09 00:39:00</td>\n",
       "      <td>WW-Wrong Way Driver</td>\n",
       "      <td>I710 N / W Broadway</td>\n",
       "      <td>South LA</td>\n",
       "      <td>NaN</td>\n",
       "      <td>NaN</td>\n",
       "      <td>33.769589</td>\n",
       "      <td>-118.207113</td>\n",
       "      <td>7</td>\n",
       "      <td>37.0</td>\n",
       "      <td>43000.0</td>\n",
       "      <td>710</td>\n",
       "      <td>N</td>\n",
       "      <td>5.46</td>\n",
       "      <td>0.5</td>\n",
       "      <td>NaN</td>\n",
       "      <td>2.0</td>\n",
       "    </tr>\n",
       "  </tbody>\n",
       "</table>\n",
       "</div>"
      ],
      "text/plain": [
       "   IncidentID CC_Code  Incident_No           Timestamp  \\\n",
       "0    16934010    LAHB       170109 2017-01-09 00:09:00   \n",
       "1    16934015    LAHB       170109 2017-01-09 00:15:00   \n",
       "2    16934022    LAHB       170109 2017-01-09 00:19:00   \n",
       "3    16934023    LAHB       170109 2017-01-09 00:18:00   \n",
       "4    16934043    LAHB       170109 2017-01-09 00:39:00   \n",
       "\n",
       "                    Description                  Location         Area  \\\n",
       "0           FIRE-Report of Fire     Us101 S / Melrose Ave   Central LA   \n",
       "1           1125-Traffic Hazard         I5 N / Indiana St      East LA   \n",
       "2           1125-Traffic Hazard         I5 N / N Broadway   Central LA   \n",
       "3  1183-Trfc Collision-Unkn Inj  SR118 E / I5 S SR118 CON  West Valley   \n",
       "4           WW-Wrong Way Driver       I710 N / W Broadway     South LA   \n",
       "\n",
       "   Zoom_Map  TBxy   Latitude   Longitude  District  CountryFIPS_ID  \\\n",
       "0       NaN   NaN  34.083554 -118.298805         7            37.0   \n",
       "1       NaN   NaN  34.020302 -118.192255         7            37.0   \n",
       "2       NaN   NaN  34.073061 -118.219156         7            37.0   \n",
       "3       NaN   NaN  34.268062 -118.435692         7            37.0   \n",
       "4       NaN   NaN  33.769589 -118.207113         7            37.0   \n",
       "\n",
       "   CityFIPS_ID  Freeway Freeway_direction State_postmile  Absolute_postmile  \\\n",
       "0      44000.0      101                 S          4.852                6.2   \n",
       "1          NaN        5                 N         14.967              131.6   \n",
       "2      44000.0        5                 N         19.767              136.4   \n",
       "3      44000.0      118                 E        R11.869               45.4   \n",
       "4      43000.0      710                 N           5.46                0.5   \n",
       "\n",
       "   Severity  Duration  \n",
       "0       NaN       1.0  \n",
       "1       NaN      44.0  \n",
       "2       NaN      15.0  \n",
       "3       NaN      35.0  \n",
       "4       NaN       2.0  "
      ]
     },
     "execution_count": 71,
     "metadata": {},
     "output_type": "execute_result"
    }
   ],
   "source": [
    "inc_day.head()"
   ]
  }
 ],
 "metadata": {
  "kernelspec": {
   "display_name": "Python 3",
   "language": "python",
   "name": "python3"
  },
  "language_info": {
   "codemirror_mode": {
    "name": "ipython",
    "version": 3
   },
   "file_extension": ".py",
   "mimetype": "text/x-python",
   "name": "python",
   "nbconvert_exporter": "python",
   "pygments_lexer": "ipython3",
   "version": "3.6.1"
  }
 },
 "nbformat": 4,
 "nbformat_minor": 2
}
