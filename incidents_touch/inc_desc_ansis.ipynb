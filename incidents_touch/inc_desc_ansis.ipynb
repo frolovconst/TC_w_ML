{
 "cells": [
  {
   "cell_type": "code",
   "execution_count": 125,
   "metadata": {
    "collapsed": true
   },
   "outputs": [],
   "source": [
    "import pandas as pd\n",
    "import numpy as np\n",
    "from pathlib import Path\n",
    "import datetime as dt\n",
    "import re\n",
    "from geopy.distance import vincenty\n",
    "import matplotlib.dates as mdts\n",
    "import matplotlib.pyplot as plt\n",
    "import cartopy.crs as ccrs"
   ]
  },
  {
   "cell_type": "code",
   "execution_count": 70,
   "metadata": {
    "collapsed": true
   },
   "outputs": [],
   "source": [
    "def filter_blk_desc(path, dest_path):\n",
    "    bound_re = re.compile(r\"(IF [E,N,S,W]B)\")\n",
    "    pth = Path(path)\n",
    "    for child in pth.iterdir():\n",
    "        incdnt_det_file_name = path + '/' + child.name\n",
    "        det_month = pd.read_csv(incdnt_det_file_name, parse_dates=['Timestamp'])\n",
    "        blkg_desc = det_month[det_month.apply(lambda row: ('NOT BLK' not in row.Desc) & ((' BLKG' in row.Desc) | (' BLKD' in row.Desc) | (' BLKING' in row.Desc) | (' BLKG' in row.Desc)) & ((' ENTIR' in row.Desc) | (' LN' in row.Desc)) & (('IF LN' not in row.Desc)) & (not bound_re.search(row.Desc)), axis=1)]\n",
    "        blkg_desc.drop_duplicates(subset=['ID'], keep='first', inplace=True)\n",
    "        blkg_desc.to_csv(dest_path + '/' + child.name[:-4] + '.csv', index=False)"
   ]
  },
  {
   "cell_type": "code",
   "execution_count": 222,
   "metadata": {
    "collapsed": true
   },
   "outputs": [],
   "source": [
    "def get_next_downstream_station(stations, incident, correction=0):\n",
    "    fwy_no = incident.Freeway\n",
    "    fwy_dir = incident.Freeway_direction\n",
    "    lon = incident.Longitude\n",
    "    lat = incident.Latitude\n",
    "    candidates = stations[(stations['Fwy']==fwy_no) & (stations['Dir']==fwy_dir)].copy()\n",
    "    if fwy_dir == 'S':\n",
    "        candidates['Distance'] = lat - candidates['Latitude']\n",
    "        cond1 = candidates['Latitude'] < lat - correction\n",
    "    elif fwy_dir == 'N':\n",
    "        candidates['Distance'] = candidates['Latitude'] - lat\n",
    "        cond1 = candidates['Latitude'] > lat + correction\n",
    "    elif fwy_dir == 'W':\n",
    "        candidates['Distance'] = lon - candidates['Longitude']\n",
    "        cond1 = candidates['Longitude'] < lon - correction\n",
    "    else : # fwy_dir == 'E':\n",
    "        candidates['Distance'] = candidates['Longitude'] - lon\n",
    "        cond1 = candidates['Longitude'] > lon + correction\n",
    "    cond2 = (np.abs(candidates['Distance'])<0.025)\n",
    "#     print(incidents[incidents['IncidentID']==incidentID].iloc[0])\n",
    "    return candidates[cond1 & cond2 & (candidates['Distance'] > 0)].sort_values(['Distance']).reset_index(drop=True)"
   ]
  },
  {
   "cell_type": "code",
   "execution_count": 223,
   "metadata": {
    "collapsed": true
   },
   "outputs": [],
   "source": [
    "def get_next_upstream_station(stations, incident, correction=0):\n",
    "    fwy_no = incident.Freeway\n",
    "    fwy_dir = incident.Freeway_direction\n",
    "    lon = incident.Longitude\n",
    "    lat = incident.Latitude\n",
    "    candidates = stations[(stations['Fwy']==fwy_no) & (stations['Dir']==fwy_dir)].copy()\n",
    "    if fwy_dir == 'N':\n",
    "        candidates['Distance'] = lat - candidates['Latitude']\n",
    "        cond1 = candidates['Latitude'] < lat - correction\n",
    "    elif fwy_dir == 'S':\n",
    "        candidates['Distance'] = candidates['Latitude'] - lat\n",
    "        cond1 = candidates['Latitude'] > lat + correction\n",
    "    elif fwy_dir == 'E':\n",
    "        candidates['Distance'] = lon - candidates['Longitude']\n",
    "        cond1 = candidates['Longitude'] < lon - correction\n",
    "    else : # fwy_dir == 'E':\n",
    "        candidates['Distance'] = candidates['Longitude'] - lon\n",
    "        cond1 = candidates['Longitude'] > lon + correction\n",
    "    cond2 = (np.abs(candidates['Distance'])<0.025)\n",
    "#     print(incidents[incidents['IncidentID']==incidentID].iloc[0])\n",
    "    return candidates[cond1 & cond2 & (candidates['Distance'] > 0)].sort_values(['Distance']).reset_index(drop=True)"
   ]
  },
  {
   "cell_type": "code",
   "execution_count": 117,
   "metadata": {
    "collapsed": true
   },
   "outputs": [],
   "source": [
    "def get_next_wrapper(inc, func, stations):\n",
    "    nxt = func(stations, inc)\n",
    "    return nxt.iloc[0].ID if nxt.size>0 else 0 "
   ]
  },
  {
   "cell_type": "code",
   "execution_count": 518,
   "metadata": {
    "collapsed": true
   },
   "outputs": [],
   "source": [
    "def obtain_time_series(an_inc, full_series):\n",
    "    st = an_inc.Prev\n",
    "    test = full_series[(full_series.Station==st) &  (full_series.Timestamp >= an_inc.Timestamp-dt.timedelta(minutes=40)) & (full_series.Timestamp < an_inc.Timestamp+dt.timedelta(minutes=20))].copy()\n",
    "    return test['Avg Occupancy'].reset_index(drop=True)\n",
    "#     test = test.reset_index(drop=True).reset_index()\n",
    "#     return test.pivot(index='Station', columns='index', values='Avg Occupancy').reset_index().drop(columns=[\"Station\"]).loc[0]"
   ]
  },
  {
   "cell_type": "code",
   "execution_count": 530,
   "metadata": {},
   "outputs": [],
   "source": [
    "def create_accident_windows(path, srs_path, stations_pth, blk_path, dest_path):\n",
    "    pth = Path(path)\n",
    "    s_pth = Path(srs_path)\n",
    "    cols = ['IncidentID', 'Timestamp', 'Latitude', 'Longitude', 'Freeway', 'Freeway_direction']\n",
    "    result = pd.DataFrame()\n",
    "#     inc_data = pd.read_csv('../data/PeMS/Incidents/test_env/inc/light/all_text_chp_incident_day_2017_03_01.csv', parse_dates=['Timestamp'], dtype={'IncidentID':np.int32,'Latitude':np.float64,'Longitude':np.float64,'Freeway':object, 'Freeway_direction':object})[['IncidentID', 'Timestamp', 'Latitude', 'Longitude', 'Freeway',\n",
    "#        'Freeway_direction']] \n",
    "    st_pth = Path(stations_pth)\n",
    "    blkg_desc = pd.read_csv(blk_path + '/' + sorted(Path(blk_path).iterdir())[0].name, parse_dates=['Timestamp'])\n",
    "\n",
    "    for i,child in enumerate(sorted(pth.iterdir())):\n",
    "        incdnt_file_name = path + '/' + child.name\n",
    "        inc_file = pd.read_csv(incdnt_file_name, parse_dates=['Timestamp'], dtype={'IncidentID':np.int64,'Latitude':np.float64,'Longitude':np.float64,'Freeway':np.int32, 'Freeway_direction':object})[cols]\n",
    "#         print(inc_file.dtypes)\n",
    "#         print(inc_file[inc_file.IncidentID.isin(blkg_desc.ID)].shape)\n",
    "        inc_file.drop(index=inc_file[~inc_file.IncidentID.isin(blkg_desc.ID)].index, inplace=True)\n",
    "        srs_f_name = srs_path + '/' + sorted(s_pth.iterdir())[i].name\n",
    "        srs = pd.read_csv(srs_f_name, parse_dates=['Timestamp'])\n",
    "#         print(srs.head())\n",
    "#         if i==0:\n",
    "#             result.astype({'IncidentID':np.int32,'Latitude':np.float64,'Longitude':np.float64,'Freeway':object, 'Freeway_direction':object})\n",
    "        st_active_file_name = stations_pth + '/' + sorted(st_pth.iterdir())[0].name\n",
    "        st_active = pd.read_csv(st_active_file_name).drop(columns=['User_ID_1', 'User_ID_2', 'User_ID_3', 'User_ID_4'])\n",
    "        st_active.drop(index=st_active[~st_active.ID.isin(srs.Station.unique())].index, inplace=True)\n",
    "        inc_file['Prev'] = inc_file.apply(get_next_wrapper, axis=1, args=(get_next_upstream_station, st_active))\n",
    "        inc_file.drop(index=inc_file[inc_file.Prev==0].index, inplace=True)\n",
    "        inc_file.drop(index=inc_file[(inc_file.Timestamp.dt.time<dt.time(hour=1)) | (inc_file.Timestamp.dt.hour>=23)].index, inplace=True)\n",
    "#         st = inc_file.iloc[0].Prev\n",
    "#         test = srs[(srs.Station==st) &  (srs.Timestamp >= inc_file.Timestamp.iloc[0]-dt.timedelta(minutes=40)) & (srs.Timestamp < inc_file.Timestamp.iloc[0]+dt.timedelta(minutes=20))].copy()\n",
    "#         test = test.reset_index(drop=True).reset_index()\n",
    "#         print(test.pivot(index='Station', columns='index', values='Avg Occupancy'))\n",
    "#         print(test[(test.Timestamp >= inc_file.Timestamp.iloc[0] - dt.timedelta(minutes=40)) &  (test.Timestamp < inc_file.Timestamp.iloc[0]+dt.timedelta(minutes=20))])\n",
    "        windows = inc_file.apply(obtain_time_series, axis=1, args=[srs])\n",
    "        inc_file = pd.concat((inc_file, windows), axis=1)\n",
    "        \n",
    "#         break\n",
    "        result = pd.concat((result, inc_file), axis=0)\n",
    "#     print(result.dtypes)\n",
    "    return result    "
   ]
  },
  {
   "cell_type": "code",
   "execution_count": 531,
   "metadata": {
    "scrolled": false
   },
   "outputs": [],
   "source": [
    "accdnt_windows_march = create_accident_windows('../data/PeMS/Incidents/test_env/inc/light/', '../data/PeMS/Incidents/test_env/series/smoothed/', '../data/PeMS/Incidents/test_env/stations/light', '../data/PeMS/Incidents/test_env/det/blkg', '../data/PeMS/Incidents/test_env/inc/result')"
   ]
  },
  {
   "cell_type": "code",
   "execution_count": 533,
   "metadata": {},
   "outputs": [
    {
     "data": {
      "text/html": [
       "<div>\n",
       "<style scoped>\n",
       "    .dataframe tbody tr th:only-of-type {\n",
       "        vertical-align: middle;\n",
       "    }\n",
       "\n",
       "    .dataframe tbody tr th {\n",
       "        vertical-align: top;\n",
       "    }\n",
       "\n",
       "    .dataframe thead th {\n",
       "        text-align: right;\n",
       "    }\n",
       "</style>\n",
       "<table border=\"1\" class=\"dataframe\">\n",
       "  <thead>\n",
       "    <tr style=\"text-align: right;\">\n",
       "      <th></th>\n",
       "      <th>IncidentID</th>\n",
       "      <th>Timestamp</th>\n",
       "      <th>Latitude</th>\n",
       "      <th>Longitude</th>\n",
       "      <th>Freeway</th>\n",
       "      <th>Freeway_direction</th>\n",
       "      <th>Prev</th>\n",
       "      <th>0</th>\n",
       "      <th>1</th>\n",
       "      <th>2</th>\n",
       "      <th>3</th>\n",
       "      <th>4</th>\n",
       "      <th>5</th>\n",
       "      <th>6</th>\n",
       "      <th>7</th>\n",
       "      <th>8</th>\n",
       "      <th>9</th>\n",
       "      <th>10</th>\n",
       "      <th>11</th>\n",
       "    </tr>\n",
       "  </thead>\n",
       "  <tbody>\n",
       "    <tr>\n",
       "      <th>12</th>\n",
       "      <td>17046203</td>\n",
       "      <td>2017-03-01 02:27:00</td>\n",
       "      <td>34.160073</td>\n",
       "      <td>-118.469604</td>\n",
       "      <td>405</td>\n",
       "      <td>S</td>\n",
       "      <td>765171</td>\n",
       "      <td>0.02716</td>\n",
       "      <td>0.02690</td>\n",
       "      <td>0.02644</td>\n",
       "      <td>0.02600</td>\n",
       "      <td>0.02516</td>\n",
       "      <td>0.02532</td>\n",
       "      <td>0.02526</td>\n",
       "      <td>0.02492</td>\n",
       "      <td>0.02608</td>\n",
       "      <td>0.02664</td>\n",
       "      <td>0.02680</td>\n",
       "      <td>0.02726</td>\n",
       "    </tr>\n",
       "    <tr>\n",
       "      <th>13</th>\n",
       "      <td>17046206</td>\n",
       "      <td>2017-03-01 02:33:00</td>\n",
       "      <td>34.028792</td>\n",
       "      <td>-118.225869</td>\n",
       "      <td>10</td>\n",
       "      <td>E</td>\n",
       "      <td>737313</td>\n",
       "      <td>0.00522</td>\n",
       "      <td>0.00512</td>\n",
       "      <td>0.00508</td>\n",
       "      <td>0.00506</td>\n",
       "      <td>0.00500</td>\n",
       "      <td>0.00494</td>\n",
       "      <td>0.00488</td>\n",
       "      <td>0.00476</td>\n",
       "      <td>0.00468</td>\n",
       "      <td>0.00466</td>\n",
       "      <td>0.00458</td>\n",
       "      <td>0.00454</td>\n",
       "    </tr>\n",
       "    <tr>\n",
       "      <th>14</th>\n",
       "      <td>17046209</td>\n",
       "      <td>2017-03-01 02:47:00</td>\n",
       "      <td>34.079367</td>\n",
       "      <td>-118.291686</td>\n",
       "      <td>101</td>\n",
       "      <td>S</td>\n",
       "      <td>717458</td>\n",
       "      <td>0.02228</td>\n",
       "      <td>0.02348</td>\n",
       "      <td>0.02390</td>\n",
       "      <td>0.02368</td>\n",
       "      <td>0.02520</td>\n",
       "      <td>0.02486</td>\n",
       "      <td>0.02486</td>\n",
       "      <td>0.02470</td>\n",
       "      <td>0.02522</td>\n",
       "      <td>0.02982</td>\n",
       "      <td>0.03518</td>\n",
       "      <td>0.03470</td>\n",
       "    </tr>\n",
       "    <tr>\n",
       "      <th>44</th>\n",
       "      <td>17046330</td>\n",
       "      <td>2017-03-01 06:15:00</td>\n",
       "      <td>34.064797</td>\n",
       "      <td>-118.158291</td>\n",
       "      <td>10</td>\n",
       "      <td>W</td>\n",
       "      <td>716088</td>\n",
       "      <td>0.13844</td>\n",
       "      <td>0.14846</td>\n",
       "      <td>0.15772</td>\n",
       "      <td>0.16516</td>\n",
       "      <td>0.17072</td>\n",
       "      <td>0.18398</td>\n",
       "      <td>0.22036</td>\n",
       "      <td>0.23850</td>\n",
       "      <td>0.27212</td>\n",
       "      <td>0.29580</td>\n",
       "      <td>0.30608</td>\n",
       "      <td>0.28002</td>\n",
       "    </tr>\n",
       "    <tr>\n",
       "      <th>45</th>\n",
       "      <td>17046331</td>\n",
       "      <td>2017-03-01 06:13:00</td>\n",
       "      <td>34.059483</td>\n",
       "      <td>-118.001377</td>\n",
       "      <td>605</td>\n",
       "      <td>N</td>\n",
       "      <td>717945</td>\n",
       "      <td>0.05464</td>\n",
       "      <td>0.05998</td>\n",
       "      <td>0.06504</td>\n",
       "      <td>0.06944</td>\n",
       "      <td>0.07116</td>\n",
       "      <td>0.07302</td>\n",
       "      <td>0.07150</td>\n",
       "      <td>0.07762</td>\n",
       "      <td>0.08470</td>\n",
       "      <td>0.09200</td>\n",
       "      <td>0.11406</td>\n",
       "      <td>0.14226</td>\n",
       "    </tr>\n",
       "  </tbody>\n",
       "</table>\n",
       "</div>"
      ],
      "text/plain": [
       "    IncidentID           Timestamp   Latitude   Longitude  Freeway  \\\n",
       "12    17046203 2017-03-01 02:27:00  34.160073 -118.469604      405   \n",
       "13    17046206 2017-03-01 02:33:00  34.028792 -118.225869       10   \n",
       "14    17046209 2017-03-01 02:47:00  34.079367 -118.291686      101   \n",
       "44    17046330 2017-03-01 06:15:00  34.064797 -118.158291       10   \n",
       "45    17046331 2017-03-01 06:13:00  34.059483 -118.001377      605   \n",
       "\n",
       "   Freeway_direction    Prev        0        1        2        3        4  \\\n",
       "12                 S  765171  0.02716  0.02690  0.02644  0.02600  0.02516   \n",
       "13                 E  737313  0.00522  0.00512  0.00508  0.00506  0.00500   \n",
       "14                 S  717458  0.02228  0.02348  0.02390  0.02368  0.02520   \n",
       "44                 W  716088  0.13844  0.14846  0.15772  0.16516  0.17072   \n",
       "45                 N  717945  0.05464  0.05998  0.06504  0.06944  0.07116   \n",
       "\n",
       "          5        6        7        8        9       10       11  \n",
       "12  0.02532  0.02526  0.02492  0.02608  0.02664  0.02680  0.02726  \n",
       "13  0.00494  0.00488  0.00476  0.00468  0.00466  0.00458  0.00454  \n",
       "14  0.02486  0.02486  0.02470  0.02522  0.02982  0.03518  0.03470  \n",
       "44  0.18398  0.22036  0.23850  0.27212  0.29580  0.30608  0.28002  \n",
       "45  0.07302  0.07150  0.07762  0.08470  0.09200  0.11406  0.14226  "
      ]
     },
     "execution_count": 533,
     "metadata": {},
     "output_type": "execute_result"
    }
   ],
   "source": [
    "accdnt_windows_march.head()"
   ]
  },
  {
   "cell_type": "code",
   "execution_count": 530,
   "metadata": {
    "collapsed": true
   },
   "outputs": [],
   "source": [
    "def create_accident_free_windows(path, srs_path, stations_pth, dest_path):\n",
    "    pth = Path(path)\n",
    "    s_pth = Path(srs_path)\n",
    "    cols = ['IncidentID', 'Timestamp', 'Latitude', 'Longitude', 'Freeway', 'Freeway_direction']\n",
    "    result = pd.DataFrame()\n",
    "#     inc_data = pd.read_csv('../data/PeMS/Incidents/test_env/inc/light/all_text_chp_incident_day_2017_03_01.csv', parse_dates=['Timestamp'], dtype={'IncidentID':np.int32,'Latitude':np.float64,'Longitude':np.float64,'Freeway':object, 'Freeway_direction':object})[['IncidentID', 'Timestamp', 'Latitude', 'Longitude', 'Freeway',\n",
    "#        'Freeway_direction']] \n",
    "    st_pth = Path(stations_pth)\n",
    "    blkg_desc = pd.read_csv(blk_path + '/' + sorted(Path(blk_path).iterdir())[0].name, parse_dates=['Timestamp'])\n",
    "\n",
    "    for i,child in enumerate(sorted(pth.iterdir())):\n",
    "        incdnt_file_name = path + '/' + child.name\n",
    "        inc_file = pd.read_csv(incdnt_file_name, parse_dates=['Timestamp'], dtype={'IncidentID':np.int64,'Latitude':np.float64,'Longitude':np.float64,'Freeway':np.int32, 'Freeway_direction':object})[cols]\n",
    "#         print(inc_file.dtypes)\n",
    "#         print(inc_file[inc_file.IncidentID.isin(blkg_desc.ID)].shape)\n",
    "        inc_file.drop(index=inc_file[~inc_file.IncidentID.isin(blkg_desc.ID)].index, inplace=True)\n",
    "        srs_f_name = srs_path + '/' + sorted(s_pth.iterdir())[i].name\n",
    "        srs = pd.read_csv(srs_f_name, parse_dates=['Timestamp'])\n",
    "#         print(srs.head())\n",
    "#         if i==0:\n",
    "#             result.astype({'IncidentID':np.int32,'Latitude':np.float64,'Longitude':np.float64,'Freeway':object, 'Freeway_direction':object})\n",
    "        st_active_file_name = stations_pth + '/' + sorted(st_pth.iterdir())[0].name\n",
    "        st_active = pd.read_csv(st_active_file_name).drop(columns=['User_ID_1', 'User_ID_2', 'User_ID_3', 'User_ID_4'])\n",
    "        st_active.drop(index=st_active[~st_active.ID.isin(srs.Station.unique())].index, inplace=True)\n",
    "        inc_file['Prev'] = inc_file.apply(get_next_wrapper, axis=1, args=(get_next_upstream_station, st_active))\n",
    "        inc_file.drop(index=inc_file[inc_file.Prev==0].index, inplace=True)\n",
    "        inc_file.drop(index=inc_file[(inc_file.Timestamp.dt.time<dt.time(hour=1)) | (inc_file.Timestamp.dt.hour>=23)].index, inplace=True)\n",
    "#         st = inc_file.iloc[0].Prev\n",
    "#         test = srs[(srs.Station==st) &  (srs.Timestamp >= inc_file.Timestamp.iloc[0]-dt.timedelta(minutes=40)) & (srs.Timestamp < inc_file.Timestamp.iloc[0]+dt.timedelta(minutes=20))].copy()\n",
    "#         test = test.reset_index(drop=True).reset_index()\n",
    "#         print(test.pivot(index='Station', columns='index', values='Avg Occupancy'))\n",
    "#         print(test[(test.Timestamp >= inc_file.Timestamp.iloc[0] - dt.timedelta(minutes=40)) &  (test.Timestamp < inc_file.Timestamp.iloc[0]+dt.timedelta(minutes=20))])\n",
    "        windows = inc_file.apply(obtain_time_series, axis=1, args=[srs])\n",
    "        inc_file = pd.concat((inc_file, windows), axis=1)\n",
    "        \n",
    "#         break\n",
    "        result = pd.concat((result, inc_file), axis=0)\n",
    "#     print(result.dtypes)\n",
    "    return result    "
   ]
  },
  {
   "cell_type": "code",
   "execution_count": 210,
   "metadata": {
    "collapsed": true
   },
   "outputs": [],
   "source": [
    "coef = 3\n",
    "min_lon = stations_active.Longitude.min()\n",
    "max_lon = stations_active.Longitude.max()\n",
    "delta_lon = max_lon-min_lon\n",
    "max_lon = max_lon-delta_lon/coef\n",
    "min_lon = min_lon+delta_lon/coef\n",
    "\n",
    "min_lat = stations_active.Latitude.min()\n",
    "max_lat = stations_active.Latitude.max()\n",
    "delta_lat = max_lat-min_lat\n",
    "max_lat = max_lat-delta_lat/coef\n",
    "min_lat = min_lat+delta_lat/coef"
   ]
  },
  {
   "cell_type": "code",
   "execution_count": 182,
   "metadata": {
    "collapsed": true
   },
   "outputs": [],
   "source": [
    "min_lon = -180\n",
    "\n",
    "max_lon = 0\n",
    "\n",
    "min_lat = 0\n",
    "\n",
    "max_lat = 90"
   ]
  },
  {
   "cell_type": "code",
   "execution_count": 218,
   "metadata": {},
   "outputs": [],
   "source": [
    "st_tst = get_next_downstream_station(stations_active, inc_month.iloc[216])"
   ]
  },
  {
   "cell_type": "code",
   "execution_count": 219,
   "metadata": {},
   "outputs": [
    {
     "data": {
      "text/html": [
       "<div>\n",
       "<style scoped>\n",
       "    .dataframe tbody tr th:only-of-type {\n",
       "        vertical-align: middle;\n",
       "    }\n",
       "\n",
       "    .dataframe tbody tr th {\n",
       "        vertical-align: top;\n",
       "    }\n",
       "\n",
       "    .dataframe thead th {\n",
       "        text-align: right;\n",
       "    }\n",
       "</style>\n",
       "<table border=\"1\" class=\"dataframe\">\n",
       "  <thead>\n",
       "    <tr style=\"text-align: right;\">\n",
       "      <th></th>\n",
       "      <th>ID</th>\n",
       "      <th>Fwy</th>\n",
       "      <th>Dir</th>\n",
       "      <th>District</th>\n",
       "      <th>County</th>\n",
       "      <th>City</th>\n",
       "      <th>State_PM</th>\n",
       "      <th>Abs_PM</th>\n",
       "      <th>Latitude</th>\n",
       "      <th>Longitude</th>\n",
       "      <th>Length</th>\n",
       "      <th>Type</th>\n",
       "      <th>Lanes</th>\n",
       "      <th>Name</th>\n",
       "      <th>User_ID_1</th>\n",
       "      <th>User_ID_2</th>\n",
       "      <th>User_ID_3</th>\n",
       "      <th>User_ID_4</th>\n",
       "      <th>Distance</th>\n",
       "    </tr>\n",
       "  </thead>\n",
       "  <tbody>\n",
       "    <tr>\n",
       "      <th>0</th>\n",
       "      <td>716993</td>\n",
       "      <td>5</td>\n",
       "      <td>S</td>\n",
       "      <td>7</td>\n",
       "      <td>37</td>\n",
       "      <td>44000.0</td>\n",
       "      <td>34.24</td>\n",
       "      <td>150.81</td>\n",
       "      <td>34.225778</td>\n",
       "      <td>-118.375075</td>\n",
       "      <td>0.650</td>\n",
       "      <td>ML</td>\n",
       "      <td>4</td>\n",
       "      <td>PENROSE</td>\n",
       "      <td>3236</td>\n",
       "      <td>NaN</td>\n",
       "      <td>NaN</td>\n",
       "      <td>NaN</td>\n",
       "      <td>0.000789</td>\n",
       "    </tr>\n",
       "    <tr>\n",
       "      <th>1</th>\n",
       "      <td>716991</td>\n",
       "      <td>5</td>\n",
       "      <td>S</td>\n",
       "      <td>7</td>\n",
       "      <td>37</td>\n",
       "      <td>44000.0</td>\n",
       "      <td>33.58</td>\n",
       "      <td>150.15</td>\n",
       "      <td>34.221822</td>\n",
       "      <td>-118.364915</td>\n",
       "      <td>0.505</td>\n",
       "      <td>ML</td>\n",
       "      <td>4</td>\n",
       "      <td>SUNLAND</td>\n",
       "      <td>3237</td>\n",
       "      <td>NaN</td>\n",
       "      <td>NaN</td>\n",
       "      <td>NaN</td>\n",
       "      <td>0.004745</td>\n",
       "    </tr>\n",
       "    <tr>\n",
       "      <th>2</th>\n",
       "      <td>716989</td>\n",
       "      <td>5</td>\n",
       "      <td>S</td>\n",
       "      <td>7</td>\n",
       "      <td>37</td>\n",
       "      <td>44000.0</td>\n",
       "      <td>33.23</td>\n",
       "      <td>149.80</td>\n",
       "      <td>34.221104</td>\n",
       "      <td>-118.358957</td>\n",
       "      <td>0.650</td>\n",
       "      <td>ML</td>\n",
       "      <td>4</td>\n",
       "      <td>ROSCOE</td>\n",
       "      <td>3238</td>\n",
       "      <td>NaN</td>\n",
       "      <td>NaN</td>\n",
       "      <td>NaN</td>\n",
       "      <td>0.005463</td>\n",
       "    </tr>\n",
       "    <tr>\n",
       "      <th>3</th>\n",
       "      <td>716986</td>\n",
       "      <td>5</td>\n",
       "      <td>S</td>\n",
       "      <td>7</td>\n",
       "      <td>37</td>\n",
       "      <td>44000.0</td>\n",
       "      <td>32.28</td>\n",
       "      <td>148.85</td>\n",
       "      <td>34.211259</td>\n",
       "      <td>-118.347597</td>\n",
       "      <td>0.905</td>\n",
       "      <td>ML</td>\n",
       "      <td>4</td>\n",
       "      <td>HOLLYWOOD WAY</td>\n",
       "      <td>3239</td>\n",
       "      <td>NaN</td>\n",
       "      <td>NaN</td>\n",
       "      <td>NaN</td>\n",
       "      <td>0.015308</td>\n",
       "    </tr>\n",
       "  </tbody>\n",
       "</table>\n",
       "</div>"
      ],
      "text/plain": [
       "       ID  Fwy Dir  District  County     City State_PM  Abs_PM   Latitude  \\\n",
       "0  716993    5   S         7      37  44000.0    34.24  150.81  34.225778   \n",
       "1  716991    5   S         7      37  44000.0    33.58  150.15  34.221822   \n",
       "2  716989    5   S         7      37  44000.0    33.23  149.80  34.221104   \n",
       "3  716986    5   S         7      37  44000.0    32.28  148.85  34.211259   \n",
       "\n",
       "    Longitude  Length Type  Lanes           Name  User_ID_1  User_ID_2  \\\n",
       "0 -118.375075   0.650   ML      4        PENROSE       3236        NaN   \n",
       "1 -118.364915   0.505   ML      4        SUNLAND       3237        NaN   \n",
       "2 -118.358957   0.650   ML      4         ROSCOE       3238        NaN   \n",
       "3 -118.347597   0.905   ML      4  HOLLYWOOD WAY       3239        NaN   \n",
       "\n",
       "   User_ID_3  User_ID_4  Distance  \n",
       "0        NaN        NaN  0.000789  \n",
       "1        NaN        NaN  0.004745  \n",
       "2        NaN        NaN  0.005463  \n",
       "3        NaN        NaN  0.015308  "
      ]
     },
     "execution_count": 219,
     "metadata": {},
     "output_type": "execute_result"
    }
   ],
   "source": [
    "st_tst"
   ]
  },
  {
   "cell_type": "code",
   "execution_count": 220,
   "metadata": {},
   "outputs": [
    {
     "data": {
      "text/plain": [
       "IncidentID                             16918246\n",
       "CC_Code                                    LAHB\n",
       "Incident_No                              170101\n",
       "Timestamp                   2017-01-01 18:35:00\n",
       "Description          ANIMAL-Live or Dead Animal\n",
       "Location                 I5 S / Lankershim Blvd\n",
       "Area                                   Altadena\n",
       "Zoom_Map                                    NaN\n",
       "TBxy                                        NaN\n",
       "Latitude                                34.2266\n",
       "Longitude                              -118.388\n",
       "District                                      7\n",
       "CountryFIPS_ID                               37\n",
       "CityFIPS_ID                               44000\n",
       "Freeway                                       5\n",
       "Freeway_direction                             S\n",
       "State_postmile                            35.03\n",
       "Absolute_postmile                         151.6\n",
       "Severity                                    NaN\n",
       "Duration                                      7\n",
       "Next                                     716991\n",
       "Name: 240, dtype: object"
      ]
     },
     "execution_count": 220,
     "metadata": {},
     "output_type": "execute_result"
    }
   ],
   "source": [
    "inc_month.iloc[216]"
   ]
  },
  {
   "cell_type": "code",
   "execution_count": 221,
   "metadata": {},
   "outputs": [
    {
     "data": {
      "image/png": "[encoded data removed]",
      "text/plain": [
       "<matplotlib.figure.Figure at 0x7f72ad58b668>"
      ]
     },
     "metadata": {},
     "output_type": "display_data"
    }
   ],
   "source": [
    "fig = plt.figure(figsize=[15,10])\n",
    "ax = fig.gca(projection=ccrs.PlateCarree())\n",
    "ax.stock_img()\n",
    "ax.set_xlim((min_lon, max_lon))\n",
    "ax.set_ylim((min_lat, max_lat))\n",
    "plt.plot(st_tst['Longitude'], st_tst['Latitude'], transform=ccrs.PlateCarree(), marker='o', linestyle='')\n",
    "plt.plot(inc_month.iloc[216]['Longitude'], inc_month.iloc[216]['Latitude'], marker='x', color='red', linestyle='')\n",
    "# plt.plot(data_inc_d07[data_inc_d07['District']==7]['Longitude'].mean(), data_inc_d07[data_inc_d07['District']==7]['Latitude'].mean()-.05, marker='*', markersize=10, color='black', linestyle='')\n",
    "plt.show()"
   ]
  },
  {
   "cell_type": "code",
   "execution_count": 353,
   "metadata": {
    "collapsed": true
   },
   "outputs": [],
   "source": [
    "srs = pd.read_csv('../data/PeMS/Incidents/test_env/series/smoothed/d07_text_station_5min_2017_03_01.tx.csv', parse_dates=[0])"
   ]
  },
  {
   "cell_type": "code",
   "execution_count": 354,
   "metadata": {},
   "outputs": [
    {
     "data": {
      "text/html": [
       "<div>\n",
       "<style scoped>\n",
       "    .dataframe tbody tr th:only-of-type {\n",
       "        vertical-align: middle;\n",
       "    }\n",
       "\n",
       "    .dataframe tbody tr th {\n",
       "        vertical-align: top;\n",
       "    }\n",
       "\n",
       "    .dataframe thead th {\n",
       "        text-align: right;\n",
       "    }\n",
       "</style>\n",
       "<table border=\"1\" class=\"dataframe\">\n",
       "  <thead>\n",
       "    <tr style=\"text-align: right;\">\n",
       "      <th></th>\n",
       "      <th>Timestamp</th>\n",
       "      <th>Station</th>\n",
       "      <th>District</th>\n",
       "      <th>Freeway</th>\n",
       "      <th>Direction of Travel</th>\n",
       "      <th>Lane Type</th>\n",
       "      <th>Station Length</th>\n",
       "      <th>Samples</th>\n",
       "      <th>% Observed</th>\n",
       "      <th>Total Flow</th>\n",
       "      <th>Avg Occupancy</th>\n",
       "      <th>Avg Speed</th>\n",
       "    </tr>\n",
       "  </thead>\n",
       "  <tbody>\n",
       "    <tr>\n",
       "      <th>0</th>\n",
       "      <td>2017-03-01 00:20:00</td>\n",
       "      <td>715898</td>\n",
       "      <td>7</td>\n",
       "      <td>5</td>\n",
       "      <td>S</td>\n",
       "      <td>ML</td>\n",
       "      <td>0.430</td>\n",
       "      <td>0</td>\n",
       "      <td>0</td>\n",
       "      <td>86.2</td>\n",
       "      <td>0.01240</td>\n",
       "      <td>68.64</td>\n",
       "    </tr>\n",
       "    <tr>\n",
       "      <th>1</th>\n",
       "      <td>2017-03-01 00:20:00</td>\n",
       "      <td>715918</td>\n",
       "      <td>7</td>\n",
       "      <td>5</td>\n",
       "      <td>N</td>\n",
       "      <td>ML</td>\n",
       "      <td>1.075</td>\n",
       "      <td>0</td>\n",
       "      <td>0</td>\n",
       "      <td>91.6</td>\n",
       "      <td>0.01470</td>\n",
       "      <td>68.14</td>\n",
       "    </tr>\n",
       "    <tr>\n",
       "      <th>2</th>\n",
       "      <td>2017-03-01 00:20:00</td>\n",
       "      <td>715920</td>\n",
       "      <td>7</td>\n",
       "      <td>5</td>\n",
       "      <td>S</td>\n",
       "      <td>ML</td>\n",
       "      <td>1.290</td>\n",
       "      <td>0</td>\n",
       "      <td>0</td>\n",
       "      <td>156.8</td>\n",
       "      <td>0.03238</td>\n",
       "      <td>64.34</td>\n",
       "    </tr>\n",
       "    <tr>\n",
       "      <th>3</th>\n",
       "      <td>2017-03-01 00:20:00</td>\n",
       "      <td>715929</td>\n",
       "      <td>7</td>\n",
       "      <td>5</td>\n",
       "      <td>S</td>\n",
       "      <td>ML</td>\n",
       "      <td>0.470</td>\n",
       "      <td>40</td>\n",
       "      <td>100</td>\n",
       "      <td>161.8</td>\n",
       "      <td>0.04320</td>\n",
       "      <td>63.96</td>\n",
       "    </tr>\n",
       "    <tr>\n",
       "      <th>4</th>\n",
       "      <td>2017-03-01 00:20:00</td>\n",
       "      <td>715930</td>\n",
       "      <td>7</td>\n",
       "      <td>5</td>\n",
       "      <td>N</td>\n",
       "      <td>ML</td>\n",
       "      <td>0.505</td>\n",
       "      <td>40</td>\n",
       "      <td>100</td>\n",
       "      <td>134.6</td>\n",
       "      <td>0.03804</td>\n",
       "      <td>66.46</td>\n",
       "    </tr>\n",
       "  </tbody>\n",
       "</table>\n",
       "</div>"
      ],
      "text/plain": [
       "            Timestamp  Station  District  Freeway Direction of Travel  \\\n",
       "0 2017-03-01 00:20:00   715898         7        5                   S   \n",
       "1 2017-03-01 00:20:00   715918         7        5                   N   \n",
       "2 2017-03-01 00:20:00   715920         7        5                   S   \n",
       "3 2017-03-01 00:20:00   715929         7        5                   S   \n",
       "4 2017-03-01 00:20:00   715930         7        5                   N   \n",
       "\n",
       "  Lane Type  Station Length  Samples  % Observed  Total Flow  Avg Occupancy  \\\n",
       "0        ML           0.430        0           0        86.2        0.01240   \n",
       "1        ML           1.075        0           0        91.6        0.01470   \n",
       "2        ML           1.290        0           0       156.8        0.03238   \n",
       "3        ML           0.470       40         100       161.8        0.04320   \n",
       "4        ML           0.505       40         100       134.6        0.03804   \n",
       "\n",
       "   Avg Speed  \n",
       "0      68.64  \n",
       "1      68.14  \n",
       "2      64.34  \n",
       "3      63.96  \n",
       "4      66.46  "
      ]
     },
     "execution_count": 354,
     "metadata": {},
     "output_type": "execute_result"
    }
   ],
   "source": [
    "srs.head()"
   ]
  },
  {
   "cell_type": "code",
   "execution_count": 107,
   "metadata": {},
   "outputs": [
    {
     "name": "stderr",
     "output_type": "stream",
     "text": [
      "/opt/anaconda3/lib/python3.6/site-packages/ipykernel_launcher.py:8: SettingWithCopyWarning: \n",
      "A value is trying to be set on a copy of a slice from a DataFrame\n",
      "\n",
      "See the caveats in the documentation: http://pandas.pydata.org/pandas-docs/stable/indexing.html#indexing-view-versus-copy\n",
      "  \n"
     ]
    }
   ],
   "source": [
    "filter_blk_desc('../data/PeMS/Incidents/test_env/det/light/', '../data/PeMS/Incidents/test_env/det/blkg/')"
   ]
  },
  {
   "cell_type": "code",
   "execution_count": 162,
   "metadata": {},
   "outputs": [
    {
     "data": {
      "text/plain": [
       "array([3])"
      ]
     },
     "execution_count": 162,
     "metadata": {},
     "output_type": "execute_result"
    }
   ],
   "source": [
    "blkg_desc.Timestamp.dt.month.unique()"
   ]
  },
  {
   "cell_type": "code",
   "execution_count": 108,
   "metadata": {
    "collapsed": true
   },
   "outputs": [],
   "source": [
    "blkg_desc = pd.read_csv('../data/PeMS/Incidents/test_env/det/blkg/all_text_chp_incident_det_month_2017_03.csv', parse_dates=['Timestamp'])"
   ]
  },
  {
   "cell_type": "code",
   "execution_count": 67,
   "metadata": {
    "collapsed": true
   },
   "outputs": [],
   "source": []
  },
  {
   "cell_type": "code",
   "execution_count": 112,
   "metadata": {},
   "outputs": [
    {
     "data": {
      "text/plain": [
       "(5922, 4)"
      ]
     },
     "execution_count": 112,
     "metadata": {},
     "output_type": "execute_result"
    }
   ],
   "source": [
    "blkg_desc.shape"
   ]
  },
  {
   "cell_type": "code",
   "execution_count": 62,
   "metadata": {
    "collapsed": true
   },
   "outputs": [],
   "source": [
    "pd.options.display.max_colwidth=120"
   ]
  },
  {
   "cell_type": "code",
   "execution_count": 72,
   "metadata": {
    "scrolled": false
   },
   "outputs": [
    {
     "data": {
      "text/html": [
       "<div>\n",
       "<style scoped>\n",
       "    .dataframe tbody tr th:only-of-type {\n",
       "        vertical-align: middle;\n",
       "    }\n",
       "\n",
       "    .dataframe tbody tr th {\n",
       "        vertical-align: top;\n",
       "    }\n",
       "\n",
       "    .dataframe thead th {\n",
       "        text-align: right;\n",
       "    }\n",
       "</style>\n",
       "<table border=\"1\" class=\"dataframe\">\n",
       "  <thead>\n",
       "    <tr style=\"text-align: right;\">\n",
       "      <th></th>\n",
       "      <th>ID</th>\n",
       "      <th>DetID</th>\n",
       "      <th>Timestamp</th>\n",
       "      <th>Desc</th>\n",
       "    </tr>\n",
       "  </thead>\n",
       "  <tbody>\n",
       "  </tbody>\n",
       "</table>\n",
       "</div>"
      ],
      "text/plain": [
       "Empty DataFrame\n",
       "Columns: [ID, DetID, Timestamp, Desc]\n",
       "Index: []"
      ]
     },
     "execution_count": 72,
     "metadata": {},
     "output_type": "execute_result"
    }
   ],
   "source": [
    "blkg_desc[blkg_desc.duplicated(subset=['ID'])]"
   ]
  },
  {
   "cell_type": "code",
   "execution_count": 7,
   "metadata": {
    "collapsed": true
   },
   "outputs": [],
   "source": [
    "det_day = pd.read_csv('../data/PeMS/Incidents/Batch/light/test/det/all_text_chp_incident_det_day_2017_01_09.csv', parse_dates=['Timestamp'])"
   ]
  },
  {
   "cell_type": "code",
   "execution_count": 8,
   "metadata": {
    "collapsed": true
   },
   "outputs": [],
   "source": [
    "det_month.drop(index=det_month[~det_month.ID.isin(det_day.ID)].index, inplace=True)"
   ]
  },
  {
   "cell_type": "code",
   "execution_count": 359,
   "metadata": {},
   "outputs": [],
   "source": [
    "inc_month = pd.read_csv('../data/PeMS/Incidents/test_env/inc/light/all_text_chp_incident_day_2017_03_01.csv', parse_dates=['Timestamp'])"
   ]
  },
  {
   "cell_type": "code",
   "execution_count": 104,
   "metadata": {
    "collapsed": true
   },
   "outputs": [],
   "source": [
    "series = pd.read_csv('../data/PeMS/Series/Batch/light/Jan/smoothed/d07_text_station_5min_2017_01_09.tx.csv', parse_dates=['Timestamp'])"
   ]
  },
  {
   "cell_type": "code",
   "execution_count": 105,
   "metadata": {},
   "outputs": [],
   "source": [
    "file_stations = '../data/PeMS/Stations/d07_text_meta_2017_01_25.txt'\n",
    "header_stations = ['ID', 'Freeway', 'Freeway dir', 'Country', 'City', 'State Postmile', 'Abs Postmile', \n",
    "          'Latitude', 'Longitude', 'Length', 'Type', 'Lanes', 'Name',\n",
    "          'User ID1', 'User ID2', 'User ID3', 'User ID4']\n",
    "stations_active = pd.read_csv(file_stations, sep='\\t')\n",
    "stations_active = stations_active.astype({'Latitude':float, 'Longitude':float})\n",
    "stations_active = stations_active.dropna(subset=['Latitude', 'Longitude']).reset_index(drop=True)\n",
    "# result: non-empty speed data series  only, stations which provide these data\n",
    "stations_active = stations_active[stations_active['ID'].isin(series['Station'].unique())].reset_index(drop=True)\n",
    "stations_active = stations_active.sort_values('Lanes', ascending=False).drop_duplicates(subset=['Latitude', 'Longitude'], keep='first').sort_index().reset_index(drop=True)"
   ]
  },
  {
   "cell_type": "code",
   "execution_count": 107,
   "metadata": {
    "scrolled": true
   },
   "outputs": [
    {
     "data": {
      "text/html": [
       "<div>\n",
       "<style scoped>\n",
       "    .dataframe tbody tr th:only-of-type {\n",
       "        vertical-align: middle;\n",
       "    }\n",
       "\n",
       "    .dataframe tbody tr th {\n",
       "        vertical-align: top;\n",
       "    }\n",
       "\n",
       "    .dataframe thead th {\n",
       "        text-align: right;\n",
       "    }\n",
       "</style>\n",
       "<table border=\"1\" class=\"dataframe\">\n",
       "  <thead>\n",
       "    <tr style=\"text-align: right;\">\n",
       "      <th></th>\n",
       "      <th>IncidentID</th>\n",
       "      <th>CC_Code</th>\n",
       "      <th>Incident_No</th>\n",
       "      <th>Timestamp</th>\n",
       "      <th>Description</th>\n",
       "      <th>Location</th>\n",
       "      <th>Area</th>\n",
       "      <th>Zoom_Map</th>\n",
       "      <th>TBxy</th>\n",
       "      <th>Latitude</th>\n",
       "      <th>Longitude</th>\n",
       "      <th>District</th>\n",
       "      <th>CountryFIPS_ID</th>\n",
       "      <th>CityFIPS_ID</th>\n",
       "      <th>Freeway</th>\n",
       "      <th>Freeway_direction</th>\n",
       "      <th>State_postmile</th>\n",
       "      <th>Absolute_postmile</th>\n",
       "      <th>Severity</th>\n",
       "      <th>Duration</th>\n",
       "    </tr>\n",
       "  </thead>\n",
       "  <tbody>\n",
       "    <tr>\n",
       "      <th>0</th>\n",
       "      <td>16917037</td>\n",
       "      <td>LAHB</td>\n",
       "      <td>170101</td>\n",
       "      <td>2017-01-01 00:03:00</td>\n",
       "      <td>1125A-Animal Hazard</td>\n",
       "      <td>Sr14 N / Placerita Canyon Rd</td>\n",
       "      <td>Newhall</td>\n",
       "      <td>NaN</td>\n",
       "      <td>NaN</td>\n",
       "      <td>34.377539</td>\n",
       "      <td>-118.493509</td>\n",
       "      <td>7</td>\n",
       "      <td>37.0</td>\n",
       "      <td>44000.0</td>\n",
       "      <td>14</td>\n",
       "      <td>N</td>\n",
       "      <td>R28.088</td>\n",
       "      <td>3.3</td>\n",
       "      <td>NaN</td>\n",
       "      <td>1.0</td>\n",
       "    </tr>\n",
       "    <tr>\n",
       "      <th>1</th>\n",
       "      <td>16917042</td>\n",
       "      <td>LAHB</td>\n",
       "      <td>170101</td>\n",
       "      <td>2017-01-01 00:13:00</td>\n",
       "      <td>1125-Traffic Hazard</td>\n",
       "      <td>I405 S / W Rosecrans Ave</td>\n",
       "      <td>West LA</td>\n",
       "      <td>NaN</td>\n",
       "      <td>NaN</td>\n",
       "      <td>33.898375</td>\n",
       "      <td>-118.370277</td>\n",
       "      <td>7</td>\n",
       "      <td>37.0</td>\n",
       "      <td>32548.0</td>\n",
       "      <td>405</td>\n",
       "      <td>S</td>\n",
       "      <td>19.028</td>\n",
       "      <td>42.8</td>\n",
       "      <td>NaN</td>\n",
       "      <td>134.0</td>\n",
       "    </tr>\n",
       "    <tr>\n",
       "      <th>2</th>\n",
       "      <td>16917043</td>\n",
       "      <td>LAHB</td>\n",
       "      <td>170101</td>\n",
       "      <td>2017-01-01 00:12:00</td>\n",
       "      <td>1125A-Animal Hazard</td>\n",
       "      <td>Sr118 E / Woodley Ave</td>\n",
       "      <td>West Valley</td>\n",
       "      <td>NaN</td>\n",
       "      <td>NaN</td>\n",
       "      <td>34.267678</td>\n",
       "      <td>-118.484750</td>\n",
       "      <td>7</td>\n",
       "      <td>37.0</td>\n",
       "      <td>44000.0</td>\n",
       "      <td>118</td>\n",
       "      <td>E</td>\n",
       "      <td>R9.069</td>\n",
       "      <td>42.6</td>\n",
       "      <td>NaN</td>\n",
       "      <td>12.0</td>\n",
       "    </tr>\n",
       "    <tr>\n",
       "      <th>3</th>\n",
       "      <td>16917044</td>\n",
       "      <td>LAHB</td>\n",
       "      <td>170101</td>\n",
       "      <td>2017-01-01 00:09:00</td>\n",
       "      <td>ANIMAL-Live or Dead Animal</td>\n",
       "      <td>I405 S / Burbank Blvd</td>\n",
       "      <td>West Valley</td>\n",
       "      <td>NaN</td>\n",
       "      <td>NaN</td>\n",
       "      <td>34.172117</td>\n",
       "      <td>-118.467710</td>\n",
       "      <td>7</td>\n",
       "      <td>37.0</td>\n",
       "      <td>44000.0</td>\n",
       "      <td>405</td>\n",
       "      <td>S</td>\n",
       "      <td>40.228</td>\n",
       "      <td>64.0</td>\n",
       "      <td>NaN</td>\n",
       "      <td>65.0</td>\n",
       "    </tr>\n",
       "    <tr>\n",
       "      <th>4</th>\n",
       "      <td>16917071</td>\n",
       "      <td>LAHB</td>\n",
       "      <td>170101</td>\n",
       "      <td>2017-01-01 00:37:00</td>\n",
       "      <td>1182-Trfc Collision-No Inj</td>\n",
       "      <td>Sr60 W / Seventh Ave Ofr</td>\n",
       "      <td>Santa Fe Springs</td>\n",
       "      <td>NaN</td>\n",
       "      <td>NaN</td>\n",
       "      <td>34.016738</td>\n",
       "      <td>-117.985385</td>\n",
       "      <td>7</td>\n",
       "      <td>37.0</td>\n",
       "      <td>NaN</td>\n",
       "      <td>60</td>\n",
       "      <td>W</td>\n",
       "      <td>14.559</td>\n",
       "      <td>14.7</td>\n",
       "      <td>NaN</td>\n",
       "      <td>1.0</td>\n",
       "    </tr>\n",
       "  </tbody>\n",
       "</table>\n",
       "</div>"
      ],
      "text/plain": [
       "   IncidentID CC_Code  Incident_No           Timestamp  \\\n",
       "0    16917037    LAHB       170101 2017-01-01 00:03:00   \n",
       "1    16917042    LAHB       170101 2017-01-01 00:13:00   \n",
       "2    16917043    LAHB       170101 2017-01-01 00:12:00   \n",
       "3    16917044    LAHB       170101 2017-01-01 00:09:00   \n",
       "4    16917071    LAHB       170101 2017-01-01 00:37:00   \n",
       "\n",
       "                  Description                      Location              Area  \\\n",
       "0         1125A-Animal Hazard  Sr14 N / Placerita Canyon Rd           Newhall   \n",
       "1         1125-Traffic Hazard      I405 S / W Rosecrans Ave           West LA   \n",
       "2         1125A-Animal Hazard         Sr118 E / Woodley Ave       West Valley   \n",
       "3  ANIMAL-Live or Dead Animal         I405 S / Burbank Blvd       West Valley   \n",
       "4  1182-Trfc Collision-No Inj      Sr60 W / Seventh Ave Ofr  Santa Fe Springs   \n",
       "\n",
       "   Zoom_Map  TBxy   Latitude   Longitude  District  CountryFIPS_ID  \\\n",
       "0       NaN   NaN  34.377539 -118.493509         7            37.0   \n",
       "1       NaN   NaN  33.898375 -118.370277         7            37.0   \n",
       "2       NaN   NaN  34.267678 -118.484750         7            37.0   \n",
       "3       NaN   NaN  34.172117 -118.467710         7            37.0   \n",
       "4       NaN   NaN  34.016738 -117.985385         7            37.0   \n",
       "\n",
       "   CityFIPS_ID  Freeway Freeway_direction State_postmile  Absolute_postmile  \\\n",
       "0      44000.0       14                 N        R28.088                3.3   \n",
       "1      32548.0      405                 S         19.028               42.8   \n",
       "2      44000.0      118                 E         R9.069               42.6   \n",
       "3      44000.0      405                 S         40.228               64.0   \n",
       "4          NaN       60                 W         14.559               14.7   \n",
       "\n",
       "  Severity  Duration  \n",
       "0      NaN       1.0  \n",
       "1      NaN     134.0  \n",
       "2      NaN      12.0  \n",
       "3      NaN      65.0  \n",
       "4      NaN       1.0  "
      ]
     },
     "execution_count": 107,
     "metadata": {},
     "output_type": "execute_result"
    }
   ],
   "source": [
    "inc_month.head()"
   ]
  },
  {
   "cell_type": "code",
   "execution_count": 26,
   "metadata": {
    "collapsed": true
   },
   "outputs": [],
   "source": [
    "def get_stations_within_inc_vicinity(incident, stations, vicinity):\n",
    "    inc_loc = np.asarray(incident[['Latitude', 'Longitude']])\n",
    "    candidates = stations[(stations['Fwy']==incident['Freeway'])&(stations['Dir']==incident['Freeway_direction'])].drop(stations.columns[-4:], axis=1).copy()\n",
    "    return candidates[candidates.apply(lambda x: vincenty((x['Latitude'], x['Longitude']), inc_loc).kilometers < vicinity, axis=1)]"
   ]
  },
  {
   "cell_type": "code",
   "execution_count": 27,
   "metadata": {
    "collapsed": true
   },
   "outputs": [],
   "source": [
    "def plot_station_data_w_nearest_incds(flow_data, incdnt_data, stations_data, station_no, vicinity_km, chrstc_to_plot = 'Avg Speed'):\n",
    "    hours = mdts.HourLocator()\n",
    "    datemin = dt.datetime(year=flow_data.Timestamp.dt.year.iloc[0], month=flow_data.Timestamp.dt.month.iloc[0], day=flow_data.Timestamp.dt.day.iloc[0], hour=0)\n",
    "    datemax = dt.datetime(year=flow_data.Timestamp.dt.year.iloc[0], month=flow_data.Timestamp.dt.month.iloc[0], day=flow_data.Timestamp.dt.day.iloc[0], hour=22)\n",
    "    # filter only data for one station and w/o nans\n",
    "    data_srs_no_null = flow_data[flow_data['Station'] == station_no]\n",
    "    data_srs_no_null = data_srs_no_null.dropna(subset=[chrstc_to_plot])\n",
    "    # station of interest coords\n",
    "    station_coords = np.asarray(stations_data[stations_data['ID'] == station_no][['Latitude', 'Longitude']])\n",
    "    # incidents closest to the station\n",
    "    data_incdnts_nearest = incdnt_data[incdnt_data.apply(lambda x: vincenty((x['Latitude'], x['Longitude']), station_coords).kilometers < vicinity_km, axis=1)]\n",
    "    # x-values\n",
    "    dates = data_srs_no_null['Timestamp']\n",
    "    # y-values\n",
    "    speed = data_srs_no_null[chrstc_to_plot]\n",
    "    fig,ax = plt.subplots(figsize=[15,10])\n",
    "    fig.figsize = [15,10]\n",
    "    plt.plot_date(dates, speed, fmt='-', tz='EST')\n",
    "    for x in data_incdnts_nearest['Timestamp']:\n",
    "        plt.axvline(x)\n",
    "    ax.xaxis.set_major_locator(hours)\n",
    "    fig.autofmt_xdate()\n",
    "    ax.xaxis.set_major_formatter(mdts.DateFormatter('%H:%M'))\n",
    "    ax.set_xlim(datemin, datemax)\n",
    "    plt.grid()\n",
    "    plt.show()"
   ]
  },
  {
   "cell_type": "code",
   "execution_count": 362,
   "metadata": {},
   "outputs": [],
   "source": [
    "inc_month['Prev'] = inc_month.apply(get_next_wrapper, axis=1, args=(get_next_upstream_station, stations_active))\n",
    "\n",
    "inc_month.drop(index=inc_month[inc_month.Prev==0].index, inplace=True)"
   ]
  },
  {
   "cell_type": "code",
   "execution_count": 21,
   "metadata": {
    "collapsed": true
   },
   "outputs": [],
   "source": [
    "inc_month.drop(columns=['Zoom_Map', 'TBxy', 'CountryFIPS_ID', 'CityFIPS_ID', 'Incident_No', 'Area', 'State_postmile', 'Absolute_postmile'], inplace=True)"
   ]
  },
  {
   "cell_type": "code",
   "execution_count": 17,
   "metadata": {
    "collapsed": true
   },
   "outputs": [],
   "source": [
    "test = series[series.Station==716930]"
   ]
  },
  {
   "cell_type": "code",
   "execution_count": 314,
   "metadata": {},
   "outputs": [
    {
     "data": {
      "text/plain": [
       "Timestamp('2017-01-08 21:21:00')"
      ]
     },
     "execution_count": 314,
     "metadata": {},
     "output_type": "execute_result"
    }
   ],
   "source": [
    "inc_month.Timestamp.iloc[0] #+ dt.timedelta(hours=1)"
   ]
  },
  {
   "cell_type": "code",
   "execution_count": 316,
   "metadata": {},
   "outputs": [
    {
     "data": {
      "text/plain": [
       "Timestamp('2017-01-08 20:21:00')"
      ]
     },
     "execution_count": 316,
     "metadata": {},
     "output_type": "execute_result"
    }
   ],
   "source": [
    "inc_month.Timestamp.iloc[0] - dt.timedelta(hours=1)"
   ]
  },
  {
   "cell_type": "code",
   "execution_count": 363,
   "metadata": {},
   "outputs": [
    {
     "data": {
      "text/plain": [
       "(419, 17)"
      ]
     },
     "execution_count": 363,
     "metadata": {},
     "output_type": "execute_result"
    }
   ],
   "source": [
    "inc_month.shape"
   ]
  },
  {
   "cell_type": "code",
   "execution_count": 23,
   "metadata": {},
   "outputs": [
    {
     "data": {
      "text/plain": [
       "(75, 12)"
      ]
     },
     "execution_count": 23,
     "metadata": {},
     "output_type": "execute_result"
    }
   ],
   "source": [
    "inc_month[(inc_month.Timestamp.dt.time>=dt.time(hour=1, minute=20)) & (inc_month.Timestamp.dt.hour<23)].shape"
   ]
  },
  {
   "cell_type": "code",
   "execution_count": 32,
   "metadata": {},
   "outputs": [
    {
     "ename": "ValueError",
     "evalue": "labels ['IncidentID' 'CC_Code' 'Timestamp' 'Description' 'Location' 'Latitude'\n 'Longitude' 'District' 'Freeway' 'Freeway_direction' 'Severity'\n 'Duration' 'Next'] not contained in axis",
     "output_type": "error",
     "traceback": [
      "\u001b[0;31m---------------------------------------------------------------------------\u001b[0m",
      "\u001b[0;31mValueError\u001b[0m                                Traceback (most recent call last)",
      "\u001b[0;32m<ipython-input-32-cf6efd3a29f0>\u001b[0m in \u001b[0;36m<module>\u001b[0;34m()\u001b[0m\n\u001b[0;32m----> 1\u001b[0;31m \u001b[0minc_month\u001b[0m\u001b[0;34m.\u001b[0m\u001b[0mdrop\u001b[0m\u001b[0;34m(\u001b[0m\u001b[0mindex\u001b[0m\u001b[0;34m=\u001b[0m\u001b[0minc_month\u001b[0m\u001b[0;34m[\u001b[0m\u001b[0minc_month\u001b[0m\u001b[0;34m.\u001b[0m\u001b[0mTimestamp\u001b[0m\u001b[0;34m.\u001b[0m\u001b[0mdt\u001b[0m\u001b[0;34m.\u001b[0m\u001b[0mhour\u001b[0m\u001b[0;34m<\u001b[0m\u001b[0;36m1\u001b[0m\u001b[0;34m]\u001b[0m\u001b[0;34m)\u001b[0m\u001b[0;34m\u001b[0m\u001b[0m\n\u001b[0m",
      "\u001b[0;32m/opt/anaconda3/lib/python3.6/site-packages/pandas/core/generic.py\u001b[0m in \u001b[0;36mdrop\u001b[0;34m(self, labels, axis, index, columns, level, inplace, errors)\u001b[0m\n\u001b[1;32m   2528\u001b[0m         \u001b[0;32mfor\u001b[0m \u001b[0maxis\u001b[0m\u001b[0;34m,\u001b[0m \u001b[0mlabels\u001b[0m \u001b[0;32min\u001b[0m \u001b[0maxes\u001b[0m\u001b[0;34m.\u001b[0m\u001b[0mitems\u001b[0m\u001b[0;34m(\u001b[0m\u001b[0;34m)\u001b[0m\u001b[0;34m:\u001b[0m\u001b[0;34m\u001b[0m\u001b[0m\n\u001b[1;32m   2529\u001b[0m             \u001b[0;32mif\u001b[0m \u001b[0mlabels\u001b[0m \u001b[0;32mis\u001b[0m \u001b[0;32mnot\u001b[0m \u001b[0;32mNone\u001b[0m\u001b[0;34m:\u001b[0m\u001b[0;34m\u001b[0m\u001b[0m\n\u001b[0;32m-> 2530\u001b[0;31m                 \u001b[0mobj\u001b[0m \u001b[0;34m=\u001b[0m \u001b[0mobj\u001b[0m\u001b[0;34m.\u001b[0m\u001b[0m_drop_axis\u001b[0m\u001b[0;34m(\u001b[0m\u001b[0mlabels\u001b[0m\u001b[0;34m,\u001b[0m \u001b[0maxis\u001b[0m\u001b[0;34m,\u001b[0m \u001b[0mlevel\u001b[0m\u001b[0;34m=\u001b[0m\u001b[0mlevel\u001b[0m\u001b[0;34m,\u001b[0m \u001b[0merrors\u001b[0m\u001b[0;34m=\u001b[0m\u001b[0merrors\u001b[0m\u001b[0;34m)\u001b[0m\u001b[0;34m\u001b[0m\u001b[0m\n\u001b[0m\u001b[1;32m   2531\u001b[0m \u001b[0;34m\u001b[0m\u001b[0m\n\u001b[1;32m   2532\u001b[0m         \u001b[0;32mif\u001b[0m \u001b[0minplace\u001b[0m\u001b[0;34m:\u001b[0m\u001b[0;34m\u001b[0m\u001b[0m\n",
      "\u001b[0;32m/opt/anaconda3/lib/python3.6/site-packages/pandas/core/generic.py\u001b[0m in \u001b[0;36m_drop_axis\u001b[0;34m(self, labels, axis, level, errors)\u001b[0m\n\u001b[1;32m   2560\u001b[0m                 \u001b[0mnew_axis\u001b[0m \u001b[0;34m=\u001b[0m \u001b[0maxis\u001b[0m\u001b[0;34m.\u001b[0m\u001b[0mdrop\u001b[0m\u001b[0;34m(\u001b[0m\u001b[0mlabels\u001b[0m\u001b[0;34m,\u001b[0m \u001b[0mlevel\u001b[0m\u001b[0;34m=\u001b[0m\u001b[0mlevel\u001b[0m\u001b[0;34m,\u001b[0m \u001b[0merrors\u001b[0m\u001b[0;34m=\u001b[0m\u001b[0merrors\u001b[0m\u001b[0;34m)\u001b[0m\u001b[0;34m\u001b[0m\u001b[0m\n\u001b[1;32m   2561\u001b[0m             \u001b[0;32melse\u001b[0m\u001b[0;34m:\u001b[0m\u001b[0;34m\u001b[0m\u001b[0m\n\u001b[0;32m-> 2562\u001b[0;31m                 \u001b[0mnew_axis\u001b[0m \u001b[0;34m=\u001b[0m \u001b[0maxis\u001b[0m\u001b[0;34m.\u001b[0m\u001b[0mdrop\u001b[0m\u001b[0;34m(\u001b[0m\u001b[0mlabels\u001b[0m\u001b[0;34m,\u001b[0m \u001b[0merrors\u001b[0m\u001b[0;34m=\u001b[0m\u001b[0merrors\u001b[0m\u001b[0;34m)\u001b[0m\u001b[0;34m\u001b[0m\u001b[0m\n\u001b[0m\u001b[1;32m   2563\u001b[0m             \u001b[0mdropped\u001b[0m \u001b[0;34m=\u001b[0m \u001b[0mself\u001b[0m\u001b[0;34m.\u001b[0m\u001b[0mreindex\u001b[0m\u001b[0;34m(\u001b[0m\u001b[0;34m**\u001b[0m\u001b[0;34m{\u001b[0m\u001b[0maxis_name\u001b[0m\u001b[0;34m:\u001b[0m \u001b[0mnew_axis\u001b[0m\u001b[0;34m}\u001b[0m\u001b[0;34m)\u001b[0m\u001b[0;34m\u001b[0m\u001b[0m\n\u001b[1;32m   2564\u001b[0m             \u001b[0;32mtry\u001b[0m\u001b[0;34m:\u001b[0m\u001b[0;34m\u001b[0m\u001b[0m\n",
      "\u001b[0;32m/opt/anaconda3/lib/python3.6/site-packages/pandas/core/indexes/base.py\u001b[0m in \u001b[0;36mdrop\u001b[0;34m(self, labels, errors)\u001b[0m\n\u001b[1;32m   3742\u001b[0m             \u001b[0;32mif\u001b[0m \u001b[0merrors\u001b[0m \u001b[0;34m!=\u001b[0m \u001b[0;34m'ignore'\u001b[0m\u001b[0;34m:\u001b[0m\u001b[0;34m\u001b[0m\u001b[0m\n\u001b[1;32m   3743\u001b[0m                 raise ValueError('labels %s not contained in axis' %\n\u001b[0;32m-> 3744\u001b[0;31m                                  labels[mask])\n\u001b[0m\u001b[1;32m   3745\u001b[0m             \u001b[0mindexer\u001b[0m \u001b[0;34m=\u001b[0m \u001b[0mindexer\u001b[0m\u001b[0;34m[\u001b[0m\u001b[0;34m~\u001b[0m\u001b[0mmask\u001b[0m\u001b[0;34m]\u001b[0m\u001b[0;34m\u001b[0m\u001b[0m\n\u001b[1;32m   3746\u001b[0m         \u001b[0;32mreturn\u001b[0m \u001b[0mself\u001b[0m\u001b[0;34m.\u001b[0m\u001b[0mdelete\u001b[0m\u001b[0;34m(\u001b[0m\u001b[0mindexer\u001b[0m\u001b[0;34m)\u001b[0m\u001b[0;34m\u001b[0m\u001b[0m\n",
      "\u001b[0;31mValueError\u001b[0m: labels ['IncidentID' 'CC_Code' 'Timestamp' 'Description' 'Location' 'Latitude'\n 'Longitude' 'District' 'Freeway' 'Freeway_direction' 'Severity'\n 'Duration' 'Next'] not contained in axis"
     ]
    }
   ],
   "source": [
    "inc_month.drop(index=inc_month[inc_month.Timestamp.dt.hour<1])"
   ]
  },
  {
   "cell_type": "code",
   "execution_count": 34,
   "metadata": {},
   "outputs": [
    {
     "data": {
      "text/plain": [
       "IncidentID                         16936319\n",
       "CC_Code                                LAHB\n",
       "Timestamp               2017-01-09 22:00:00\n",
       "Description             1125-Traffic Hazard\n",
       "Location             Sr57 N / Pathfinder Rd\n",
       "Latitude                            33.9843\n",
       "Longitude                          -117.843\n",
       "District                                  7\n",
       "Freeway                                  57\n",
       "Freeway_direction                         N\n",
       "Severity                                NaN\n",
       "Duration                                  1\n",
       "Next                                 763553\n",
       "Name: 3462, dtype: object"
      ]
     },
     "execution_count": 34,
     "metadata": {},
     "output_type": "execute_result"
    }
   ],
   "source": [
    "inc_month.iloc[69]"
   ]
  },
  {
   "cell_type": "code",
   "execution_count": 36,
   "metadata": {},
   "outputs": [
    {
     "data": {
      "text/plain": [
       "(24, 12)"
      ]
     },
     "execution_count": 36,
     "metadata": {},
     "output_type": "execute_result"
    }
   ],
   "source": [
    "i=69\n",
    "\n",
    "test[(test.Timestamp >= inc_month.Timestamp.iloc[i] - dt.timedelta(hours=1)) &  (test.Timestamp < inc_month.Timestamp.iloc[i]+dt.timedelta(hours=1))].shape"
   ]
  },
  {
   "cell_type": "code",
   "execution_count": 244,
   "metadata": {},
   "outputs": [
    {
     "data": {
      "image/png": "[encoded data removed]",
      "text/plain": [
       "<matplotlib.figure.Figure at 0x7fca13452f28>"
      ]
     },
     "metadata": {},
     "output_type": "display_data"
    }
   ],
   "source": [
    "plot_station_data_w_nearest_incds(series, inc_month, stations_active, 717590, 1)"
   ]
  },
  {
   "cell_type": "code",
   "execution_count": 118,
   "metadata": {
    "collapsed": true
   },
   "outputs": [],
   "source": [
    "dtypes = {'ID': np.int, 'DetID': np.int, 'Timestamp': datetime, 'Desc': object}"
   ]
  },
  {
   "cell_type": "code",
   "execution_count": 121,
   "metadata": {
    "collapsed": true
   },
   "outputs": [],
   "source": [
    "dtypes = {'ID': np.int, 'DetID': np.int}"
   ]
  },
  {
   "cell_type": "code",
   "execution_count": 13,
   "metadata": {
    "collapsed": true
   },
   "outputs": [],
   "source": [
    "inc_month.drop(index=inc_month[~inc_month.IncidentID.isin(blkg_desc.ID)].index, inplace=True)"
   ]
  },
  {
   "cell_type": "code",
   "execution_count": 194,
   "metadata": {},
   "outputs": [
    {
     "data": {
      "text/html": [
       "<div>\n",
       "<style scoped>\n",
       "    .dataframe tbody tr th:only-of-type {\n",
       "        vertical-align: middle;\n",
       "    }\n",
       "\n",
       "    .dataframe tbody tr th {\n",
       "        vertical-align: top;\n",
       "    }\n",
       "\n",
       "    .dataframe thead th {\n",
       "        text-align: right;\n",
       "    }\n",
       "</style>\n",
       "<table border=\"1\" class=\"dataframe\">\n",
       "  <thead>\n",
       "    <tr style=\"text-align: right;\">\n",
       "      <th></th>\n",
       "      <th>ID</th>\n",
       "      <th>Fwy</th>\n",
       "      <th>Dir</th>\n",
       "      <th>District</th>\n",
       "      <th>County</th>\n",
       "      <th>City</th>\n",
       "      <th>State_PM</th>\n",
       "      <th>Abs_PM</th>\n",
       "      <th>Latitude</th>\n",
       "      <th>Longitude</th>\n",
       "      <th>Length</th>\n",
       "      <th>Type</th>\n",
       "      <th>Lanes</th>\n",
       "      <th>Name</th>\n",
       "    </tr>\n",
       "  </thead>\n",
       "  <tbody>\n",
       "    <tr>\n",
       "      <th>524</th>\n",
       "      <td>717590</td>\n",
       "      <td>134</td>\n",
       "      <td>W</td>\n",
       "      <td>7</td>\n",
       "      <td>37</td>\n",
       "      <td>30000.0</td>\n",
       "      <td>R8.76</td>\n",
       "      <td>8.743</td>\n",
       "      <td>34.148123</td>\n",
       "      <td>-118.229499</td>\n",
       "      <td>0.405</td>\n",
       "      <td>ML</td>\n",
       "      <td>4</td>\n",
       "      <td>HARVEY</td>\n",
       "    </tr>\n",
       "  </tbody>\n",
       "</table>\n",
       "</div>"
      ],
      "text/plain": [
       "         ID  Fwy Dir  District  County     City State_PM  Abs_PM   Latitude  \\\n",
       "524  717590  134   W         7      37  30000.0    R8.76   8.743  34.148123   \n",
       "\n",
       "      Longitude  Length Type  Lanes    Name  \n",
       "524 -118.229499   0.405   ML      4  HARVEY  "
      ]
     },
     "execution_count": 194,
     "metadata": {},
     "output_type": "execute_result"
    }
   ],
   "source": [
    "get_stations_within_inc_vicinity(inc_month.iloc[42], stations_active, .4)"
   ]
  },
  {
   "cell_type": "code",
   "execution_count": 14,
   "metadata": {
    "collapsed": true
   },
   "outputs": [],
   "source": [
    "inc_day = pd.read_csv('../data/PeMS/Incidents/Batch/light/test/all_text_chp_incident_day_2017_01_09.csv', parse_dates=['Timestamp'])\n",
    "det_header = ['ID', 'DetID', 'Timestamp', 'Desc']\n",
    "det_day = pd.read_csv('../data/PeMS/Incidents/Batch/light/test/all_text_chp_incident_det_day_2017_01_09.csv', parse_dates=['Timestamp']) #, names=det_header)#, skip_blank_lines=False, sep=',', error_bad_lines=True)"
   ]
  },
  {
   "cell_type": "code",
   "execution_count": 66,
   "metadata": {
    "collapsed": true
   },
   "outputs": [],
   "source": [
    "inc_month = pd.read_csv('../data/PeMS/Incidents/Batch/light/test/all_text_chp_incidents_month_2017_01.csv', parse_dates=['Timestamp'])\n",
    "det_month = pd.read_csv('../data/PeMS/Incidents/Batch/light/test/all_text_chp_incident_det_month_2017_01.csv', parse_dates=['Timestamp'])"
   ]
  },
  {
   "cell_type": "markdown",
   "metadata": {
    "collapsed": true
   },
   "source": [
    "incdnt_det_file_name = '../data/PeMS/Incidents/Batch/2017/test/all_text_chp_incident_det_day_2017_01_09.txt'\n",
    "det_header = ['ID', 'DetID', 'Timestamp', 'Desc']\n",
    "det_day = pd.read_csv(incdnt_det_file_name, sep=',', names=det_header, parse_dates=[2])\n",
    "\n",
    "det_day.to_csv('../data/PeMS/Incidents/Batch/light/test/all_text_chp_incident_det_day_2017_01_09.csv', index=False)"
   ]
  },
  {
   "cell_type": "code",
   "execution_count": 84,
   "metadata": {
    "collapsed": true
   },
   "outputs": [],
   "source": [
    "incdnt_det_file_name = '../data/PeMS/Incidents/Batch/2017/test/det/all_text_chp_incident_det_month_2017_01.txt'\n",
    "det_header = ['ID', 'DetID', 'Timestamp', 'Desc']\n",
    "det_month = pd.read_csv(incdnt_det_file_name, sep=',', names=det_header, parse_dates=[2])\n",
    "\n",
    "#det_month.to_csv('../data/PeMS/Incidents/Batch/light/test/all_text_chp_incident_det_month_2017_01.csv', index=False)"
   ]
  },
  {
   "cell_type": "code",
   "execution_count": 5,
   "metadata": {
    "collapsed": true
   },
   "outputs": [],
   "source": [
    "inc_month_day = inc_month[inc_month.Timestamp.dt.date == inc_day.Timestamp.dt.date[0]]"
   ]
  },
  {
   "cell_type": "code",
   "execution_count": 58,
   "metadata": {
    "collapsed": true,
    "scrolled": false
   },
   "outputs": [],
   "source": [
    "det_month_day = det_month[det_month.Timestamp.dt.date == det_day.Timestamp.dt.date[0]]"
   ]
  },
  {
   "cell_type": "code",
   "execution_count": 64,
   "metadata": {
    "collapsed": true,
    "scrolled": false
   },
   "outputs": [],
   "source": [
    "det_month_day = det_month[det_month.ID.isin(inc_day.IncidentID)]"
   ]
  },
  {
   "cell_type": "code",
   "execution_count": 15,
   "metadata": {},
   "outputs": [
    {
     "data": {
      "text/plain": [
       "(75, 20)"
      ]
     },
     "execution_count": 15,
     "metadata": {},
     "output_type": "execute_result"
    }
   ],
   "source": [
    "inc_month.shape"
   ]
  },
  {
   "cell_type": "code",
   "execution_count": 23,
   "metadata": {
    "scrolled": true
   },
   "outputs": [
    {
     "data": {
      "text/plain": [
       "(501, 20)"
      ]
     },
     "execution_count": 23,
     "metadata": {},
     "output_type": "execute_result"
    }
   ],
   "source": [
    "inc_day.shape"
   ]
  },
  {
   "cell_type": "code",
   "execution_count": 65,
   "metadata": {},
   "outputs": [
    {
     "data": {
      "text/plain": [
       "(0, 4)"
      ]
     },
     "execution_count": 65,
     "metadata": {},
     "output_type": "execute_result"
    }
   ],
   "source": [
    "det_month_day.shape"
   ]
  },
  {
   "cell_type": "code",
   "execution_count": 76,
   "metadata": {
    "scrolled": true
   },
   "outputs": [
    {
     "data": {
      "text/html": [
       "<div>\n",
       "<style scoped>\n",
       "    .dataframe tbody tr th:only-of-type {\n",
       "        vertical-align: middle;\n",
       "    }\n",
       "\n",
       "    .dataframe tbody tr th {\n",
       "        vertical-align: top;\n",
       "    }\n",
       "\n",
       "    .dataframe thead th {\n",
       "        text-align: right;\n",
       "    }\n",
       "</style>\n",
       "<table border=\"1\" class=\"dataframe\">\n",
       "  <thead>\n",
       "    <tr style=\"text-align: right;\">\n",
       "      <th></th>\n",
       "      <th>ID</th>\n",
       "      <th>DetID</th>\n",
       "      <th>Timestamp</th>\n",
       "      <th>Desc</th>\n",
       "    </tr>\n",
       "  </thead>\n",
       "  <tbody>\n",
       "  </tbody>\n",
       "</table>\n",
       "</div>"
      ],
      "text/plain": [
       "Empty DataFrame\n",
       "Columns: [ID, DetID, Timestamp, Desc]\n",
       "Index: []"
      ]
     },
     "execution_count": 76,
     "metadata": {},
     "output_type": "execute_result"
    }
   ],
   "source": [
    "det_month[det_month.ID.isin(inc_day.IncidentID)]"
   ]
  },
  {
   "cell_type": "code",
   "execution_count": 79,
   "metadata": {
    "scrolled": true
   },
   "outputs": [
    {
     "data": {
      "text/plain": [
       "ID                   object\n",
       "DetID               float64\n",
       "Timestamp    datetime64[ns]\n",
       "Desc                 object\n",
       "dtype: object"
      ]
     },
     "execution_count": 79,
     "metadata": {},
     "output_type": "execute_result"
    }
   ],
   "source": [
    "det_month.dtypes"
   ]
  },
  {
   "cell_type": "code",
   "execution_count": 74,
   "metadata": {},
   "outputs": [
    {
     "data": {
      "text/plain": [
       "(711322, 4)"
      ]
     },
     "execution_count": 74,
     "metadata": {},
     "output_type": "execute_result"
    }
   ],
   "source": [
    "det_month.shape"
   ]
  },
  {
   "cell_type": "code",
   "execution_count": 27,
   "metadata": {},
   "outputs": [
    {
     "data": {
      "text/plain": [
       "(25407, 4)"
      ]
     },
     "execution_count": 27,
     "metadata": {},
     "output_type": "execute_result"
    }
   ],
   "source": [
    "det_day[~det_day.DetID.isna()].shape"
   ]
  },
  {
   "cell_type": "code",
   "execution_count": 29,
   "metadata": {},
   "outputs": [
    {
     "data": {
      "text/plain": [
       "(127, 4)"
      ]
     },
     "execution_count": 29,
     "metadata": {},
     "output_type": "execute_result"
    }
   ],
   "source": [
    "det_day[det_day.DetID.isna()].shape"
   ]
  },
  {
   "cell_type": "code",
   "execution_count": 32,
   "metadata": {
    "collapsed": true
   },
   "outputs": [],
   "source": [
    "det_month_day.to_csv('../data/PeMS/Incidents/Batch/light/test/all_text_chp_incident_det_month_day_2017_01_09.csv', index=False)"
   ]
  },
  {
   "cell_type": "code",
   "execution_count": 60,
   "metadata": {
    "scrolled": true
   },
   "outputs": [
    {
     "data": {
      "text/plain": [
       "(2473,)"
      ]
     },
     "execution_count": 60,
     "metadata": {},
     "output_type": "execute_result"
    }
   ],
   "source": [
    "det_month_day.ID.unique().shape"
   ]
  },
  {
   "cell_type": "code",
   "execution_count": 35,
   "metadata": {
    "collapsed": true
   },
   "outputs": [],
   "source": [
    "d7_inc_day = inc_day[inc_day.District == 7]"
   ]
  },
  {
   "cell_type": "code",
   "execution_count": 39,
   "metadata": {
    "scrolled": true
   },
   "outputs": [
    {
     "data": {
      "text/plain": [
       "Index(['IncidentID', 'CC_Code', 'Incident_No', 'Timestamp', 'Description',\n",
       "       'Location', 'Area', 'Zoom_Map', 'TBxy', 'Latitude', 'Longitude',\n",
       "       'District', 'CountryFIPS_ID', 'CityFIPS_ID', 'Freeway',\n",
       "       'Freeway_direction', 'State_postmile', 'Absolute_postmile', 'Severity',\n",
       "       'Duration'],\n",
       "      dtype='object')"
      ]
     },
     "execution_count": 39,
     "metadata": {},
     "output_type": "execute_result"
    }
   ],
   "source": [
    "inc_day.columns"
   ]
  },
  {
   "cell_type": "code",
   "execution_count": 40,
   "metadata": {},
   "outputs": [
    {
     "name": "stderr",
     "output_type": "stream",
     "text": [
      "/opt/anaconda3/lib/python3.6/site-packages/ipykernel_launcher.py:1: SettingWithCopyWarning: \n",
      "A value is trying to be set on a copy of a slice from a DataFrame\n",
      "\n",
      "See the caveats in the documentation: http://pandas.pydata.org/pandas-docs/stable/indexing.html#indexing-view-versus-copy\n",
      "  \"\"\"Entry point for launching an IPython kernel.\n"
     ]
    }
   ],
   "source": [
    "det_month_day.drop(index=det_month_day[~det_month_day.ID.isin(inc_day.IncidentID)].index, inplace=True)"
   ]
  },
  {
   "cell_type": "code",
   "execution_count": 62,
   "metadata": {},
   "outputs": [
    {
     "data": {
      "text/html": [
       "<div>\n",
       "<style scoped>\n",
       "    .dataframe tbody tr th:only-of-type {\n",
       "        vertical-align: middle;\n",
       "    }\n",
       "\n",
       "    .dataframe tbody tr th {\n",
       "        vertical-align: top;\n",
       "    }\n",
       "\n",
       "    .dataframe thead th {\n",
       "        text-align: right;\n",
       "    }\n",
       "</style>\n",
       "<table border=\"1\" class=\"dataframe\">\n",
       "  <thead>\n",
       "    <tr style=\"text-align: right;\">\n",
       "      <th></th>\n",
       "      <th>ID</th>\n",
       "      <th>DetID</th>\n",
       "      <th>Timestamp</th>\n",
       "      <th>Desc</th>\n",
       "    </tr>\n",
       "  </thead>\n",
       "  <tbody>\n",
       "  </tbody>\n",
       "</table>\n",
       "</div>"
      ],
      "text/plain": [
       "Empty DataFrame\n",
       "Columns: [ID, DetID, Timestamp, Desc]\n",
       "Index: []"
      ]
     },
     "execution_count": 62,
     "metadata": {},
     "output_type": "execute_result"
    }
   ],
   "source": [
    "det_month_day[det_month_day.ID.isin(inc_day.IncidentID)].head()"
   ]
  },
  {
   "cell_type": "code",
   "execution_count": 69,
   "metadata": {},
   "outputs": [
    {
     "data": {
      "text/html": [
       "<div>\n",
       "<style scoped>\n",
       "    .dataframe tbody tr th:only-of-type {\n",
       "        vertical-align: middle;\n",
       "    }\n",
       "\n",
       "    .dataframe tbody tr th {\n",
       "        vertical-align: top;\n",
       "    }\n",
       "\n",
       "    .dataframe thead th {\n",
       "        text-align: right;\n",
       "    }\n",
       "</style>\n",
       "<table border=\"1\" class=\"dataframe\">\n",
       "  <thead>\n",
       "    <tr style=\"text-align: right;\">\n",
       "      <th></th>\n",
       "      <th>IncidentID</th>\n",
       "      <th>CC_Code</th>\n",
       "      <th>Incident_No</th>\n",
       "      <th>Timestamp</th>\n",
       "      <th>Description</th>\n",
       "      <th>Location</th>\n",
       "      <th>Area</th>\n",
       "      <th>Zoom_Map</th>\n",
       "      <th>TBxy</th>\n",
       "      <th>Latitude</th>\n",
       "      <th>Longitude</th>\n",
       "      <th>District</th>\n",
       "      <th>CountryFIPS_ID</th>\n",
       "      <th>CityFIPS_ID</th>\n",
       "      <th>Freeway</th>\n",
       "      <th>Freeway_direction</th>\n",
       "      <th>State_postmile</th>\n",
       "      <th>Absolute_postmile</th>\n",
       "      <th>Severity</th>\n",
       "      <th>Duration</th>\n",
       "    </tr>\n",
       "  </thead>\n",
       "  <tbody>\n",
       "  </tbody>\n",
       "</table>\n",
       "</div>"
      ],
      "text/plain": [
       "Empty DataFrame\n",
       "Columns: [IncidentID, CC_Code, Incident_No, Timestamp, Description, Location, Area, Zoom_Map, TBxy, Latitude, Longitude, District, CountryFIPS_ID, CityFIPS_ID, Freeway, Freeway_direction, State_postmile, Absolute_postmile, Severity, Duration]\n",
       "Index: []"
      ]
     },
     "execution_count": 69,
     "metadata": {},
     "output_type": "execute_result"
    }
   ],
   "source": [
    "inc_month[inc_month.IncidentID==16933993]"
   ]
  },
  {
   "cell_type": "code",
   "execution_count": 71,
   "metadata": {},
   "outputs": [
    {
     "data": {
      "text/html": [
       "<div>\n",
       "<style scoped>\n",
       "    .dataframe tbody tr th:only-of-type {\n",
       "        vertical-align: middle;\n",
       "    }\n",
       "\n",
       "    .dataframe tbody tr th {\n",
       "        vertical-align: top;\n",
       "    }\n",
       "\n",
       "    .dataframe thead th {\n",
       "        text-align: right;\n",
       "    }\n",
       "</style>\n",
       "<table border=\"1\" class=\"dataframe\">\n",
       "  <thead>\n",
       "    <tr style=\"text-align: right;\">\n",
       "      <th></th>\n",
       "      <th>IncidentID</th>\n",
       "      <th>CC_Code</th>\n",
       "      <th>Incident_No</th>\n",
       "      <th>Timestamp</th>\n",
       "      <th>Description</th>\n",
       "      <th>Location</th>\n",
       "      <th>Area</th>\n",
       "      <th>Zoom_Map</th>\n",
       "      <th>TBxy</th>\n",
       "      <th>Latitude</th>\n",
       "      <th>Longitude</th>\n",
       "      <th>District</th>\n",
       "      <th>CountryFIPS_ID</th>\n",
       "      <th>CityFIPS_ID</th>\n",
       "      <th>Freeway</th>\n",
       "      <th>Freeway_direction</th>\n",
       "      <th>State_postmile</th>\n",
       "      <th>Absolute_postmile</th>\n",
       "      <th>Severity</th>\n",
       "      <th>Duration</th>\n",
       "    </tr>\n",
       "  </thead>\n",
       "  <tbody>\n",
       "    <tr>\n",
       "      <th>0</th>\n",
       "      <td>16934010</td>\n",
       "      <td>LAHB</td>\n",
       "      <td>170109</td>\n",
       "      <td>2017-01-09 00:09:00</td>\n",
       "      <td>FIRE-Report of Fire</td>\n",
       "      <td>Us101 S / Melrose Ave</td>\n",
       "      <td>Central LA</td>\n",
       "      <td>NaN</td>\n",
       "      <td>NaN</td>\n",
       "      <td>34.083554</td>\n",
       "      <td>-118.298805</td>\n",
       "      <td>7</td>\n",
       "      <td>37.0</td>\n",
       "      <td>44000.0</td>\n",
       "      <td>101</td>\n",
       "      <td>S</td>\n",
       "      <td>4.852</td>\n",
       "      <td>6.2</td>\n",
       "      <td>NaN</td>\n",
       "      <td>1.0</td>\n",
       "    </tr>\n",
       "    <tr>\n",
       "      <th>1</th>\n",
       "      <td>16934015</td>\n",
       "      <td>LAHB</td>\n",
       "      <td>170109</td>\n",
       "      <td>2017-01-09 00:15:00</td>\n",
       "      <td>1125-Traffic Hazard</td>\n",
       "      <td>I5 N / Indiana St</td>\n",
       "      <td>East LA</td>\n",
       "      <td>NaN</td>\n",
       "      <td>NaN</td>\n",
       "      <td>34.020302</td>\n",
       "      <td>-118.192255</td>\n",
       "      <td>7</td>\n",
       "      <td>37.0</td>\n",
       "      <td>NaN</td>\n",
       "      <td>5</td>\n",
       "      <td>N</td>\n",
       "      <td>14.967</td>\n",
       "      <td>131.6</td>\n",
       "      <td>NaN</td>\n",
       "      <td>44.0</td>\n",
       "    </tr>\n",
       "    <tr>\n",
       "      <th>2</th>\n",
       "      <td>16934022</td>\n",
       "      <td>LAHB</td>\n",
       "      <td>170109</td>\n",
       "      <td>2017-01-09 00:19:00</td>\n",
       "      <td>1125-Traffic Hazard</td>\n",
       "      <td>I5 N / N Broadway</td>\n",
       "      <td>Central LA</td>\n",
       "      <td>NaN</td>\n",
       "      <td>NaN</td>\n",
       "      <td>34.073061</td>\n",
       "      <td>-118.219156</td>\n",
       "      <td>7</td>\n",
       "      <td>37.0</td>\n",
       "      <td>44000.0</td>\n",
       "      <td>5</td>\n",
       "      <td>N</td>\n",
       "      <td>19.767</td>\n",
       "      <td>136.4</td>\n",
       "      <td>NaN</td>\n",
       "      <td>15.0</td>\n",
       "    </tr>\n",
       "    <tr>\n",
       "      <th>3</th>\n",
       "      <td>16934023</td>\n",
       "      <td>LAHB</td>\n",
       "      <td>170109</td>\n",
       "      <td>2017-01-09 00:18:00</td>\n",
       "      <td>1183-Trfc Collision-Unkn Inj</td>\n",
       "      <td>SR118 E / I5 S SR118 CON</td>\n",
       "      <td>West Valley</td>\n",
       "      <td>NaN</td>\n",
       "      <td>NaN</td>\n",
       "      <td>34.268062</td>\n",
       "      <td>-118.435692</td>\n",
       "      <td>7</td>\n",
       "      <td>37.0</td>\n",
       "      <td>44000.0</td>\n",
       "      <td>118</td>\n",
       "      <td>E</td>\n",
       "      <td>R11.869</td>\n",
       "      <td>45.4</td>\n",
       "      <td>NaN</td>\n",
       "      <td>35.0</td>\n",
       "    </tr>\n",
       "    <tr>\n",
       "      <th>4</th>\n",
       "      <td>16934043</td>\n",
       "      <td>LAHB</td>\n",
       "      <td>170109</td>\n",
       "      <td>2017-01-09 00:39:00</td>\n",
       "      <td>WW-Wrong Way Driver</td>\n",
       "      <td>I710 N / W Broadway</td>\n",
       "      <td>South LA</td>\n",
       "      <td>NaN</td>\n",
       "      <td>NaN</td>\n",
       "      <td>33.769589</td>\n",
       "      <td>-118.207113</td>\n",
       "      <td>7</td>\n",
       "      <td>37.0</td>\n",
       "      <td>43000.0</td>\n",
       "      <td>710</td>\n",
       "      <td>N</td>\n",
       "      <td>5.46</td>\n",
       "      <td>0.5</td>\n",
       "      <td>NaN</td>\n",
       "      <td>2.0</td>\n",
       "    </tr>\n",
       "  </tbody>\n",
       "</table>\n",
       "</div>"
      ],
      "text/plain": [
       "   IncidentID CC_Code  Incident_No           Timestamp  \\\n",
       "0    16934010    LAHB       170109 2017-01-09 00:09:00   \n",
       "1    16934015    LAHB       170109 2017-01-09 00:15:00   \n",
       "2    16934022    LAHB       170109 2017-01-09 00:19:00   \n",
       "3    16934023    LAHB       170109 2017-01-09 00:18:00   \n",
       "4    16934043    LAHB       170109 2017-01-09 00:39:00   \n",
       "\n",
       "                    Description                  Location         Area  \\\n",
       "0           FIRE-Report of Fire     Us101 S / Melrose Ave   Central LA   \n",
       "1           1125-Traffic Hazard         I5 N / Indiana St      East LA   \n",
       "2           1125-Traffic Hazard         I5 N / N Broadway   Central LA   \n",
       "3  1183-Trfc Collision-Unkn Inj  SR118 E / I5 S SR118 CON  West Valley   \n",
       "4           WW-Wrong Way Driver       I710 N / W Broadway     South LA   \n",
       "\n",
       "   Zoom_Map  TBxy   Latitude   Longitude  District  CountryFIPS_ID  \\\n",
       "0       NaN   NaN  34.083554 -118.298805         7            37.0   \n",
       "1       NaN   NaN  34.020302 -118.192255         7            37.0   \n",
       "2       NaN   NaN  34.073061 -118.219156         7            37.0   \n",
       "3       NaN   NaN  34.268062 -118.435692         7            37.0   \n",
       "4       NaN   NaN  33.769589 -118.207113         7            37.0   \n",
       "\n",
       "   CityFIPS_ID  Freeway Freeway_direction State_postmile  Absolute_postmile  \\\n",
       "0      44000.0      101                 S          4.852                6.2   \n",
       "1          NaN        5                 N         14.967              131.6   \n",
       "2      44000.0        5                 N         19.767              136.4   \n",
       "3      44000.0      118                 E        R11.869               45.4   \n",
       "4      43000.0      710                 N           5.46                0.5   \n",
       "\n",
       "   Severity  Duration  \n",
       "0       NaN       1.0  \n",
       "1       NaN      44.0  \n",
       "2       NaN      15.0  \n",
       "3       NaN      35.0  \n",
       "4       NaN       2.0  "
      ]
     },
     "execution_count": 71,
     "metadata": {},
     "output_type": "execute_result"
    }
   ],
   "source": [
    "inc_day.head()"
   ]
  }
 ],
 "metadata": {
  "kernelspec": {
   "display_name": "Python 3",
   "language": "python",
   "name": "python3"
  },
  "language_info": {
   "codemirror_mode": {
    "name": "ipython",
    "version": 3
   },
   "file_extension": ".py",
   "mimetype": "text/x-python",
   "name": "python",
   "nbconvert_exporter": "python",
   "pygments_lexer": "ipython3",
   "version": "3.6.3"
  }
 },
 "nbformat": 4,
 "nbformat_minor": 2
}
