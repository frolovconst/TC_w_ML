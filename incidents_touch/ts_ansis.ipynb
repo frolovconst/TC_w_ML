{
 "cells": [
  {
   "cell_type": "code",
   "execution_count": 1,
   "metadata": {},
   "outputs": [
    {
     "name": "stderr",
     "output_type": "stream",
     "text": [
      "/opt/anaconda3/lib/python3.6/site-packages/statsmodels/compat/pandas.py:56: FutureWarning: The pandas.core.datetools module is deprecated and will be removed in a future version. Please use the pandas.tseries module instead.\n",
      "  from pandas.core import datetools\n"
     ]
    }
   ],
   "source": [
    "import pandas as pd\n",
    "from tsfresh import extract_relevant_features, extract_features\n",
    "import numpy as np"
   ]
  },
  {
   "cell_type": "code",
   "execution_count": 2,
   "metadata": {
    "collapsed": true
   },
   "outputs": [],
   "source": [
    "dataset = pd.read_csv('../data/PeMS/Incidents/work_folder/windows.csv')"
   ]
  },
  {
   "cell_type": "code",
   "execution_count": 26,
   "metadata": {
    "collapsed": true
   },
   "outputs": [],
   "source": [
    "sample = dataset.loc[:10].copy()"
   ]
  },
  {
   "cell_type": "code",
   "execution_count": 33,
   "metadata": {
    "collapsed": true
   },
   "outputs": [],
   "source": [
    "def feature_extraction(dataset):\n",
    "    cols = [col for col in dataset.columns if 'Avg' in col or 'Total' in col]\n",
    "    dataset = dataset[cols]\n",
    "    t_labels = np.arange(len(cols)/3, dtype=int)\n",
    "    t_labels = np.concatenate((t_labels,t_labels,t_labels))\n",
    "    aux_labels = pd.DataFrame({'val_name': cols, 't': t_labels})\n",
    "    long = dataset.reset_index().melt(id_vars=['index'], var_name='series_param', value_name='value')\n",
    "    long = long.merge(aux_labels, how='left', left_on='series_param', right_on='val_name').drop('val_name', axis=1)\n",
    "    long['series_param'] = long['series_param'].apply(lambda row: row.split('_')[0])\n",
    "    long = long.rename(columns={'index': 'ID'})[['ID', 't', 'series_param', 'value']]\n",
    "    extracted = extract_features(long, column_id='ID', column_sort='t', column_kind='series_param', column_value='value', n_jobs=4)\n",
    "    # try imputation\n",
    "    extracted.dropna(axis=1, how='any', inplace=True)\n",
    "    return extracted"
   ]
  },
  {
   "cell_type": "code",
   "execution_count": 49,
   "metadata": {
    "collapsed": true
   },
   "outputs": [],
   "source": [
    "def batch_extraction(dataset, b_size):\n",
    "    m=dataset.shape[0]\n",
    "    result=pd.DataFrame()\n",
    "    for i in range(0, m, b_size):\n",
    "        crnt_ftrs = feature_extraction(dataset.loc[i:i+b_size-1])\n",
    "        result = pd.concat((result, crnt_ftrs))\n",
    "    print('EGOR virubajjj!!!!!!!!!!!!!!!!!!!!!!!!!!!!!!!!')\n",
    "    return result"
   ]
  },
  {
   "cell_type": "code",
   "execution_count": 50,
   "metadata": {},
   "outputs": [
    {
     "name": "stderr",
     "output_type": "stream",
     "text": [
      "Feature Extraction: 100%|██████████| 20/20 [01:37<00:00,  4.89s/it]\n",
      "Feature Extraction: 100%|██████████| 20/20 [01:38<00:00,  4.93s/it]\n",
      "Feature Extraction: 100%|██████████| 20/20 [01:31<00:00,  4.59s/it]\n",
      "Feature Extraction: 100%|██████████| 20/20 [00:46<00:00,  2.35s/it]\n"
     ]
    },
    {
     "name": "stdout",
     "output_type": "stream",
     "text": [
      "EGOR virubajjj!!!!!!!!!!!!!!!!!!!!!!!!!!!!!!!!\n"
     ]
    }
   ],
   "source": [
    "extracted = batch_extraction(dataset.loc[:3500], 1000)"
   ]
  },
  {
   "cell_type": "code",
   "execution_count": 54,
   "metadata": {
    "scrolled": false
   },
   "outputs": [
    {
     "data": {
      "text/html": [
       "<div>\n",
       "<style scoped>\n",
       "    .dataframe tbody tr th:only-of-type {\n",
       "        vertical-align: middle;\n",
       "    }\n",
       "\n",
       "    .dataframe tbody tr th {\n",
       "        vertical-align: top;\n",
       "    }\n",
       "\n",
       "    .dataframe thead th {\n",
       "        text-align: right;\n",
       "    }\n",
       "</style>\n",
       "<table border=\"1\" class=\"dataframe\">\n",
       "  <thead>\n",
       "    <tr style=\"text-align: right;\">\n",
       "      <th></th>\n",
       "      <th>Avg Occupancy__abs_energy</th>\n",
       "      <th>Avg Occupancy__absolute_sum_of_changes</th>\n",
       "      <th>Avg Occupancy__agg_autocorrelation__f_agg_\"mean\"</th>\n",
       "      <th>Avg Occupancy__agg_autocorrelation__f_agg_\"median\"</th>\n",
       "      <th>Avg Occupancy__agg_autocorrelation__f_agg_\"var\"</th>\n",
       "      <th>Avg Occupancy__agg_linear_trend__f_agg_\"max\"__chunk_len_10__attr_\"intercept\"</th>\n",
       "      <th>Avg Occupancy__agg_linear_trend__f_agg_\"max\"__chunk_len_10__attr_\"rvalue\"</th>\n",
       "      <th>Avg Occupancy__agg_linear_trend__f_agg_\"max\"__chunk_len_10__attr_\"slope\"</th>\n",
       "      <th>Avg Occupancy__agg_linear_trend__f_agg_\"max\"__chunk_len_10__attr_\"stderr\"</th>\n",
       "      <th>Avg Occupancy__agg_linear_trend__f_agg_\"max\"__chunk_len_5__attr_\"intercept\"</th>\n",
       "      <th>...</th>\n",
       "      <th>Total Flow__time_reversal_asymmetry_statistic__lag_1</th>\n",
       "      <th>Total Flow__time_reversal_asymmetry_statistic__lag_2</th>\n",
       "      <th>Total Flow__time_reversal_asymmetry_statistic__lag_3</th>\n",
       "      <th>Total Flow__value_count__value_-inf</th>\n",
       "      <th>Total Flow__value_count__value_0</th>\n",
       "      <th>Total Flow__value_count__value_1</th>\n",
       "      <th>Total Flow__value_count__value_inf</th>\n",
       "      <th>Total Flow__value_count__value_nan</th>\n",
       "      <th>Total Flow__variance</th>\n",
       "      <th>Total Flow__variance_larger_than_standard_deviation</th>\n",
       "    </tr>\n",
       "    <tr>\n",
       "      <th>id</th>\n",
       "      <th></th>\n",
       "      <th></th>\n",
       "      <th></th>\n",
       "      <th></th>\n",
       "      <th></th>\n",
       "      <th></th>\n",
       "      <th></th>\n",
       "      <th></th>\n",
       "      <th></th>\n",
       "      <th></th>\n",
       "      <th></th>\n",
       "      <th></th>\n",
       "      <th></th>\n",
       "      <th></th>\n",
       "      <th></th>\n",
       "      <th></th>\n",
       "      <th></th>\n",
       "      <th></th>\n",
       "      <th></th>\n",
       "      <th></th>\n",
       "      <th></th>\n",
       "    </tr>\n",
       "  </thead>\n",
       "  <tbody>\n",
       "    <tr>\n",
       "      <th>3496</th>\n",
       "      <td>0.092094</td>\n",
       "      <td>0.02280</td>\n",
       "      <td>-0.252108</td>\n",
       "      <td>-0.019108</td>\n",
       "      <td>1.002403</td>\n",
       "      <td>0.07926</td>\n",
       "      <td>-1.0</td>\n",
       "      <td>-0.00088</td>\n",
       "      <td>0.0</td>\n",
       "      <td>0.078116</td>\n",
       "      <td>...</td>\n",
       "      <td>24461.613957</td>\n",
       "      <td>42639.217781</td>\n",
       "      <td>48506.934938</td>\n",
       "      <td>0.0</td>\n",
       "      <td>0.0</td>\n",
       "      <td>0.0</td>\n",
       "      <td>0.0</td>\n",
       "      <td>0.0</td>\n",
       "      <td>10.130100</td>\n",
       "      <td>1.0</td>\n",
       "    </tr>\n",
       "    <tr>\n",
       "      <th>3497</th>\n",
       "      <td>0.170914</td>\n",
       "      <td>0.05278</td>\n",
       "      <td>-0.057633</td>\n",
       "      <td>-0.003566</td>\n",
       "      <td>0.295902</td>\n",
       "      <td>0.11860</td>\n",
       "      <td>-1.0</td>\n",
       "      <td>-0.00726</td>\n",
       "      <td>0.0</td>\n",
       "      <td>0.106420</td>\n",
       "      <td>...</td>\n",
       "      <td>28153.192085</td>\n",
       "      <td>64555.134074</td>\n",
       "      <td>88400.384385</td>\n",
       "      <td>0.0</td>\n",
       "      <td>0.0</td>\n",
       "      <td>0.0</td>\n",
       "      <td>0.0</td>\n",
       "      <td>0.0</td>\n",
       "      <td>25.351649</td>\n",
       "      <td>1.0</td>\n",
       "    </tr>\n",
       "    <tr>\n",
       "      <th>3498</th>\n",
       "      <td>0.841568</td>\n",
       "      <td>0.52858</td>\n",
       "      <td>-0.261113</td>\n",
       "      <td>-0.325108</td>\n",
       "      <td>0.291994</td>\n",
       "      <td>0.24848</td>\n",
       "      <td>1.0</td>\n",
       "      <td>0.11834</td>\n",
       "      <td>0.0</td>\n",
       "      <td>0.221158</td>\n",
       "      <td>...</td>\n",
       "      <td>11497.751518</td>\n",
       "      <td>1846.665708</td>\n",
       "      <td>-23472.308025</td>\n",
       "      <td>0.0</td>\n",
       "      <td>0.0</td>\n",
       "      <td>0.0</td>\n",
       "      <td>0.0</td>\n",
       "      <td>0.0</td>\n",
       "      <td>32.397959</td>\n",
       "      <td>1.0</td>\n",
       "    </tr>\n",
       "    <tr>\n",
       "      <th>3499</th>\n",
       "      <td>1.241213</td>\n",
       "      <td>0.10892</td>\n",
       "      <td>-0.554886</td>\n",
       "      <td>-0.715460</td>\n",
       "      <td>0.843508</td>\n",
       "      <td>0.30160</td>\n",
       "      <td>1.0</td>\n",
       "      <td>0.02048</td>\n",
       "      <td>0.0</td>\n",
       "      <td>0.250144</td>\n",
       "      <td>...</td>\n",
       "      <td>-70789.364882</td>\n",
       "      <td>-146145.003451</td>\n",
       "      <td>-243859.506458</td>\n",
       "      <td>0.0</td>\n",
       "      <td>0.0</td>\n",
       "      <td>0.0</td>\n",
       "      <td>0.0</td>\n",
       "      <td>0.0</td>\n",
       "      <td>54.588494</td>\n",
       "      <td>1.0</td>\n",
       "    </tr>\n",
       "    <tr>\n",
       "      <th>3500</th>\n",
       "      <td>0.012169</td>\n",
       "      <td>0.01346</td>\n",
       "      <td>-0.399821</td>\n",
       "      <td>-0.755578</td>\n",
       "      <td>0.480029</td>\n",
       "      <td>0.03226</td>\n",
       "      <td>-1.0</td>\n",
       "      <td>-0.00698</td>\n",
       "      <td>0.0</td>\n",
       "      <td>0.031902</td>\n",
       "      <td>...</td>\n",
       "      <td>-4951.885714</td>\n",
       "      <td>-11108.642667</td>\n",
       "      <td>-18321.839200</td>\n",
       "      <td>0.0</td>\n",
       "      <td>0.0</td>\n",
       "      <td>0.0</td>\n",
       "      <td>0.0</td>\n",
       "      <td>0.0</td>\n",
       "      <td>20.282344</td>\n",
       "      <td>1.0</td>\n",
       "    </tr>\n",
       "  </tbody>\n",
       "</table>\n",
       "<p>5 rows × 1221 columns</p>\n",
       "</div>"
      ],
      "text/plain": [
       "      Avg Occupancy__abs_energy  Avg Occupancy__absolute_sum_of_changes  \\\n",
       "id                                                                        \n",
       "3496                   0.092094                                 0.02280   \n",
       "3497                   0.170914                                 0.05278   \n",
       "3498                   0.841568                                 0.52858   \n",
       "3499                   1.241213                                 0.10892   \n",
       "3500                   0.012169                                 0.01346   \n",
       "\n",
       "      Avg Occupancy__agg_autocorrelation__f_agg_\"mean\"  \\\n",
       "id                                                       \n",
       "3496                                         -0.252108   \n",
       "3497                                         -0.057633   \n",
       "3498                                         -0.261113   \n",
       "3499                                         -0.554886   \n",
       "3500                                         -0.399821   \n",
       "\n",
       "      Avg Occupancy__agg_autocorrelation__f_agg_\"median\"  \\\n",
       "id                                                         \n",
       "3496                                          -0.019108    \n",
       "3497                                          -0.003566    \n",
       "3498                                          -0.325108    \n",
       "3499                                          -0.715460    \n",
       "3500                                          -0.755578    \n",
       "\n",
       "      Avg Occupancy__agg_autocorrelation__f_agg_\"var\"  \\\n",
       "id                                                      \n",
       "3496                                         1.002403   \n",
       "3497                                         0.295902   \n",
       "3498                                         0.291994   \n",
       "3499                                         0.843508   \n",
       "3500                                         0.480029   \n",
       "\n",
       "      Avg Occupancy__agg_linear_trend__f_agg_\"max\"__chunk_len_10__attr_\"intercept\"  \\\n",
       "id                                                                                   \n",
       "3496                                            0.07926                              \n",
       "3497                                            0.11860                              \n",
       "3498                                            0.24848                              \n",
       "3499                                            0.30160                              \n",
       "3500                                            0.03226                              \n",
       "\n",
       "      Avg Occupancy__agg_linear_trend__f_agg_\"max\"__chunk_len_10__attr_\"rvalue\"  \\\n",
       "id                                                                                \n",
       "3496                                               -1.0                           \n",
       "3497                                               -1.0                           \n",
       "3498                                                1.0                           \n",
       "3499                                                1.0                           \n",
       "3500                                               -1.0                           \n",
       "\n",
       "      Avg Occupancy__agg_linear_trend__f_agg_\"max\"__chunk_len_10__attr_\"slope\"  \\\n",
       "id                                                                               \n",
       "3496                                           -0.00088                          \n",
       "3497                                           -0.00726                          \n",
       "3498                                            0.11834                          \n",
       "3499                                            0.02048                          \n",
       "3500                                           -0.00698                          \n",
       "\n",
       "      Avg Occupancy__agg_linear_trend__f_agg_\"max\"__chunk_len_10__attr_\"stderr\"  \\\n",
       "id                                                                                \n",
       "3496                                                0.0                           \n",
       "3497                                                0.0                           \n",
       "3498                                                0.0                           \n",
       "3499                                                0.0                           \n",
       "3500                                                0.0                           \n",
       "\n",
       "      Avg Occupancy__agg_linear_trend__f_agg_\"max\"__chunk_len_5__attr_\"intercept\"  \\\n",
       "id                                                                                  \n",
       "3496                                           0.078116                             \n",
       "3497                                           0.106420                             \n",
       "3498                                           0.221158                             \n",
       "3499                                           0.250144                             \n",
       "3500                                           0.031902                             \n",
       "\n",
       "                             ...                           \\\n",
       "id                           ...                            \n",
       "3496                         ...                            \n",
       "3497                         ...                            \n",
       "3498                         ...                            \n",
       "3499                         ...                            \n",
       "3500                         ...                            \n",
       "\n",
       "      Total Flow__time_reversal_asymmetry_statistic__lag_1  \\\n",
       "id                                                           \n",
       "3496                                       24461.613957      \n",
       "3497                                       28153.192085      \n",
       "3498                                       11497.751518      \n",
       "3499                                      -70789.364882      \n",
       "3500                                       -4951.885714      \n",
       "\n",
       "      Total Flow__time_reversal_asymmetry_statistic__lag_2  \\\n",
       "id                                                           \n",
       "3496                                       42639.217781      \n",
       "3497                                       64555.134074      \n",
       "3498                                        1846.665708      \n",
       "3499                                     -146145.003451      \n",
       "3500                                      -11108.642667      \n",
       "\n",
       "      Total Flow__time_reversal_asymmetry_statistic__lag_3  \\\n",
       "id                                                           \n",
       "3496                                       48506.934938      \n",
       "3497                                       88400.384385      \n",
       "3498                                      -23472.308025      \n",
       "3499                                     -243859.506458      \n",
       "3500                                      -18321.839200      \n",
       "\n",
       "      Total Flow__value_count__value_-inf  Total Flow__value_count__value_0  \\\n",
       "id                                                                            \n",
       "3496                                  0.0                               0.0   \n",
       "3497                                  0.0                               0.0   \n",
       "3498                                  0.0                               0.0   \n",
       "3499                                  0.0                               0.0   \n",
       "3500                                  0.0                               0.0   \n",
       "\n",
       "      Total Flow__value_count__value_1  Total Flow__value_count__value_inf  \\\n",
       "id                                                                           \n",
       "3496                               0.0                                 0.0   \n",
       "3497                               0.0                                 0.0   \n",
       "3498                               0.0                                 0.0   \n",
       "3499                               0.0                                 0.0   \n",
       "3500                               0.0                                 0.0   \n",
       "\n",
       "      Total Flow__value_count__value_nan  Total Flow__variance  \\\n",
       "id                                                               \n",
       "3496                                 0.0             10.130100   \n",
       "3497                                 0.0             25.351649   \n",
       "3498                                 0.0             32.397959   \n",
       "3499                                 0.0             54.588494   \n",
       "3500                                 0.0             20.282344   \n",
       "\n",
       "      Total Flow__variance_larger_than_standard_deviation  \n",
       "id                                                         \n",
       "3496                                                1.0    \n",
       "3497                                                1.0    \n",
       "3498                                                1.0    \n",
       "3499                                                1.0    \n",
       "3500                                                1.0    \n",
       "\n",
       "[5 rows x 1221 columns]"
      ]
     },
     "execution_count": 54,
     "metadata": {},
     "output_type": "execute_result"
    }
   ],
   "source": [
    "extracted.tail()"
   ]
  },
  {
   "cell_type": "code",
   "execution_count": 20,
   "metadata": {
    "collapsed": true
   },
   "outputs": [],
   "source": [
    "dataset.reset_index(drop=True, inplace=True)"
   ]
  },
  {
   "cell_type": "code",
   "execution_count": 30,
   "metadata": {},
   "outputs": [
    {
     "name": "stdout",
     "output_type": "stream",
     "text": [
      "0 1000\n",
      "1000 2000\n",
      "2000 3000\n",
      "3000 4000\n",
      "4000 5000\n",
      "5000 6000\n",
      "6000 7000\n",
      "7000 8000\n",
      "8000 9000\n",
      "9000 10000\n",
      "10000 11000\n",
      "11000 12000\n",
      "12000 13000\n",
      "13000 14000\n",
      "14000 15000\n",
      "15000 16000\n",
      "16000 17000\n",
      "17000 18000\n",
      "18000 19000\n",
      "19000 20000\n",
      "20000 21000\n",
      "21000 22000\n",
      "22000 23000\n",
      "23000 24000\n",
      "24000 25000\n",
      "25000 26000\n",
      "26000 27000\n",
      "27000 28000\n",
      "28000 29000\n",
      "29000 30000\n",
      "30000 31000\n",
      "31000 32000\n"
     ]
    }
   ],
   "source": [
    "m=dataset.shape[0]\n",
    "step=1000\n",
    "for i in range(0, m, step):\n",
    "#     dataset.loc[i:i+step]\n",
    "    print(i, i+step)"
   ]
  },
  {
   "cell_type": "code",
   "execution_count": 8,
   "metadata": {},
   "outputs": [
    {
     "name": "stderr",
     "output_type": "stream",
     "text": [
      "Feature Extraction: 100%|██████████| 6/6 [00:00<00:00, 22.04it/s]\n"
     ]
    }
   ],
   "source": [
    "extracted_short = feature_extraction(sample.iloc[:2])"
   ]
  },
  {
   "cell_type": "code",
   "execution_count": 10,
   "metadata": {
    "collapsed": true
   },
   "outputs": [
    {
     "data": {
      "text/plain": [
       "variable\n",
       "Avg Occupancy__abs_energy                                                            0.595636\n",
       "Avg Occupancy__absolute_sum_of_changes                                               0.053860\n",
       "Avg Occupancy__agg_autocorrelation__f_agg_\"mean\"                                    -0.158590\n",
       "Avg Occupancy__agg_autocorrelation__f_agg_\"median\"                                  -0.006676\n",
       "Avg Occupancy__agg_autocorrelation__f_agg_\"var\"                                      0.613333\n",
       "Avg Occupancy__agg_linear_trend__f_agg_\"max\"__chunk_len_10__attr_\"intercept\"         0.199040\n",
       "Avg Occupancy__agg_linear_trend__f_agg_\"max\"__chunk_len_10__attr_\"rvalue\"            1.000000\n",
       "Avg Occupancy__agg_linear_trend__f_agg_\"max\"__chunk_len_10__attr_\"slope\"             0.002260\n",
       "Avg Occupancy__agg_linear_trend__f_agg_\"max\"__chunk_len_10__attr_\"stderr\"            0.000000\n",
       "Avg Occupancy__agg_linear_trend__f_agg_\"max\"__chunk_len_5__attr_\"intercept\"          0.202770\n",
       "Avg Occupancy__agg_linear_trend__f_agg_\"max\"__chunk_len_5__attr_\"rvalue\"            -0.702532\n",
       "Avg Occupancy__agg_linear_trend__f_agg_\"max\"__chunk_len_5__attr_\"slope\"             -0.005180\n",
       "Avg Occupancy__agg_linear_trend__f_agg_\"max\"__chunk_len_5__attr_\"stderr\"             0.003710\n",
       "Avg Occupancy__agg_linear_trend__f_agg_\"mean\"__chunk_len_10__attr_\"intercept\"        0.192244\n",
       "Avg Occupancy__agg_linear_trend__f_agg_\"mean\"__chunk_len_10__attr_\"rvalue\"           1.000000\n",
       "Avg Occupancy__agg_linear_trend__f_agg_\"mean\"__chunk_len_10__attr_\"slope\"            0.001653\n",
       "Avg Occupancy__agg_linear_trend__f_agg_\"mean\"__chunk_len_10__attr_\"stderr\"           0.000000\n",
       "Avg Occupancy__agg_linear_trend__f_agg_\"mean\"__chunk_len_5__attr_\"intercept\"         0.195251\n",
       "Avg Occupancy__agg_linear_trend__f_agg_\"mean\"__chunk_len_5__attr_\"rvalue\"           -0.608890\n",
       "Avg Occupancy__agg_linear_trend__f_agg_\"mean\"__chunk_len_5__attr_\"slope\"            -0.003197\n",
       "Avg Occupancy__agg_linear_trend__f_agg_\"mean\"__chunk_len_5__attr_\"stderr\"            0.002945\n",
       "Avg Occupancy__agg_linear_trend__f_agg_\"min\"__chunk_len_10__attr_\"intercept\"         0.187160\n",
       "Avg Occupancy__agg_linear_trend__f_agg_\"min\"__chunk_len_10__attr_\"rvalue\"           -1.000000\n",
       "Avg Occupancy__agg_linear_trend__f_agg_\"min\"__chunk_len_10__attr_\"slope\"            -0.006340\n",
       "Avg Occupancy__agg_linear_trend__f_agg_\"min\"__chunk_len_10__attr_\"stderr\"            0.000000\n",
       "Avg Occupancy__agg_linear_trend__f_agg_\"min\"__chunk_len_5__attr_\"intercept\"          0.188722\n",
       "Avg Occupancy__agg_linear_trend__f_agg_\"min\"__chunk_len_5__attr_\"rvalue\"            -0.675331\n",
       "Avg Occupancy__agg_linear_trend__f_agg_\"min\"__chunk_len_5__attr_\"slope\"             -0.001828\n",
       "Avg Occupancy__agg_linear_trend__f_agg_\"min\"__chunk_len_5__attr_\"stderr\"             0.001412\n",
       "Avg Occupancy__agg_linear_trend__f_agg_\"var\"__chunk_len_10__attr_\"intercept\"         0.000018\n",
       "                                                                                     ...     \n",
       "Total Flow__symmetry_looking__r_0.0                                                  0.000000\n",
       "Total Flow__symmetry_looking__r_0.05                                                 1.000000\n",
       "Total Flow__symmetry_looking__r_0.1                                                  1.000000\n",
       "Total Flow__symmetry_looking__r_0.15000000000000002                                  1.000000\n",
       "Total Flow__symmetry_looking__r_0.2                                                  1.000000\n",
       "Total Flow__symmetry_looking__r_0.25                                                 1.000000\n",
       "Total Flow__symmetry_looking__r_0.30000000000000004                                  1.000000\n",
       "Total Flow__symmetry_looking__r_0.35000000000000003                                  1.000000\n",
       "Total Flow__symmetry_looking__r_0.4                                                  1.000000\n",
       "Total Flow__symmetry_looking__r_0.45                                                 1.000000\n",
       "Total Flow__symmetry_looking__r_0.5                                                  1.000000\n",
       "Total Flow__symmetry_looking__r_0.55                                                 1.000000\n",
       "Total Flow__symmetry_looking__r_0.6000000000000001                                   1.000000\n",
       "Total Flow__symmetry_looking__r_0.65                                                 1.000000\n",
       "Total Flow__symmetry_looking__r_0.7000000000000001                                   1.000000\n",
       "Total Flow__symmetry_looking__r_0.75                                                 1.000000\n",
       "Total Flow__symmetry_looking__r_0.8                                                  1.000000\n",
       "Total Flow__symmetry_looking__r_0.8500000000000001                                   1.000000\n",
       "Total Flow__symmetry_looking__r_0.9                                                  1.000000\n",
       "Total Flow__symmetry_looking__r_0.9500000000000001                                   1.000000\n",
       "Total Flow__time_reversal_asymmetry_statistic__lag_1                            -10060.000379\n",
       "Total Flow__time_reversal_asymmetry_statistic__lag_2                            -17305.160192\n",
       "Total Flow__time_reversal_asymmetry_statistic__lag_3                            -15125.355341\n",
       "Total Flow__value_count__value_-inf                                                  0.000000\n",
       "Total Flow__value_count__value_0                                                     0.000000\n",
       "Total Flow__value_count__value_1                                                     0.000000\n",
       "Total Flow__value_count__value_inf                                                   0.000000\n",
       "Total Flow__value_count__value_nan                                                   0.000000\n",
       "Total Flow__variance                                                                 4.065375\n",
       "Total Flow__variance_larger_than_standard_deviation                                  1.000000\n",
       "Name: 0, Length: 1228, dtype: float64"
      ]
     },
     "execution_count": 10,
     "metadata": {},
     "output_type": "execute_result"
    }
   ],
   "source": [
    "extracted_short.loc[0]"
   ]
  },
  {
   "cell_type": "code",
   "execution_count": 6,
   "metadata": {
    "collapsed": true
   },
   "outputs": [
    {
     "data": {
      "text/plain": [
       "variable\n",
       "Avg Occupancy__abs_energy                                                            0.595636\n",
       "Avg Occupancy__absolute_sum_of_changes                                               0.053860\n",
       "Avg Occupancy__agg_autocorrelation__f_agg_\"mean\"                                    -0.158590\n",
       "Avg Occupancy__agg_autocorrelation__f_agg_\"median\"                                  -0.006676\n",
       "Avg Occupancy__agg_autocorrelation__f_agg_\"var\"                                      0.613333\n",
       "Avg Occupancy__agg_linear_trend__f_agg_\"max\"__chunk_len_10__attr_\"intercept\"         0.199040\n",
       "Avg Occupancy__agg_linear_trend__f_agg_\"max\"__chunk_len_10__attr_\"rvalue\"            1.000000\n",
       "Avg Occupancy__agg_linear_trend__f_agg_\"max\"__chunk_len_10__attr_\"slope\"             0.002260\n",
       "Avg Occupancy__agg_linear_trend__f_agg_\"max\"__chunk_len_10__attr_\"stderr\"            0.000000\n",
       "Avg Occupancy__agg_linear_trend__f_agg_\"max\"__chunk_len_5__attr_\"intercept\"          0.202770\n",
       "Avg Occupancy__agg_linear_trend__f_agg_\"max\"__chunk_len_5__attr_\"rvalue\"            -0.702532\n",
       "Avg Occupancy__agg_linear_trend__f_agg_\"max\"__chunk_len_5__attr_\"slope\"             -0.005180\n",
       "Avg Occupancy__agg_linear_trend__f_agg_\"max\"__chunk_len_5__attr_\"stderr\"             0.003710\n",
       "Avg Occupancy__agg_linear_trend__f_agg_\"mean\"__chunk_len_10__attr_\"intercept\"        0.192244\n",
       "Avg Occupancy__agg_linear_trend__f_agg_\"mean\"__chunk_len_10__attr_\"rvalue\"           1.000000\n",
       "Avg Occupancy__agg_linear_trend__f_agg_\"mean\"__chunk_len_10__attr_\"slope\"            0.001653\n",
       "Avg Occupancy__agg_linear_trend__f_agg_\"mean\"__chunk_len_10__attr_\"stderr\"           0.000000\n",
       "Avg Occupancy__agg_linear_trend__f_agg_\"mean\"__chunk_len_5__attr_\"intercept\"         0.195251\n",
       "Avg Occupancy__agg_linear_trend__f_agg_\"mean\"__chunk_len_5__attr_\"rvalue\"           -0.608890\n",
       "Avg Occupancy__agg_linear_trend__f_agg_\"mean\"__chunk_len_5__attr_\"slope\"            -0.003197\n",
       "Avg Occupancy__agg_linear_trend__f_agg_\"mean\"__chunk_len_5__attr_\"stderr\"            0.002945\n",
       "Avg Occupancy__agg_linear_trend__f_agg_\"min\"__chunk_len_10__attr_\"intercept\"         0.187160\n",
       "Avg Occupancy__agg_linear_trend__f_agg_\"min\"__chunk_len_10__attr_\"rvalue\"           -1.000000\n",
       "Avg Occupancy__agg_linear_trend__f_agg_\"min\"__chunk_len_10__attr_\"slope\"            -0.006340\n",
       "Avg Occupancy__agg_linear_trend__f_agg_\"min\"__chunk_len_10__attr_\"stderr\"            0.000000\n",
       "Avg Occupancy__agg_linear_trend__f_agg_\"min\"__chunk_len_5__attr_\"intercept\"          0.188722\n",
       "Avg Occupancy__agg_linear_trend__f_agg_\"min\"__chunk_len_5__attr_\"rvalue\"            -0.675331\n",
       "Avg Occupancy__agg_linear_trend__f_agg_\"min\"__chunk_len_5__attr_\"slope\"             -0.001828\n",
       "Avg Occupancy__agg_linear_trend__f_agg_\"min\"__chunk_len_5__attr_\"stderr\"             0.001412\n",
       "Avg Occupancy__agg_linear_trend__f_agg_\"var\"__chunk_len_10__attr_\"intercept\"         0.000018\n",
       "                                                                                     ...     \n",
       "Total Flow__symmetry_looking__r_0.0                                                  0.000000\n",
       "Total Flow__symmetry_looking__r_0.05                                                 1.000000\n",
       "Total Flow__symmetry_looking__r_0.1                                                  1.000000\n",
       "Total Flow__symmetry_looking__r_0.15000000000000002                                  1.000000\n",
       "Total Flow__symmetry_looking__r_0.2                                                  1.000000\n",
       "Total Flow__symmetry_looking__r_0.25                                                 1.000000\n",
       "Total Flow__symmetry_looking__r_0.30000000000000004                                  1.000000\n",
       "Total Flow__symmetry_looking__r_0.35000000000000003                                  1.000000\n",
       "Total Flow__symmetry_looking__r_0.4                                                  1.000000\n",
       "Total Flow__symmetry_looking__r_0.45                                                 1.000000\n",
       "Total Flow__symmetry_looking__r_0.5                                                  1.000000\n",
       "Total Flow__symmetry_looking__r_0.55                                                 1.000000\n",
       "Total Flow__symmetry_looking__r_0.6000000000000001                                   1.000000\n",
       "Total Flow__symmetry_looking__r_0.65                                                 1.000000\n",
       "Total Flow__symmetry_looking__r_0.7000000000000001                                   1.000000\n",
       "Total Flow__symmetry_looking__r_0.75                                                 1.000000\n",
       "Total Flow__symmetry_looking__r_0.8                                                  1.000000\n",
       "Total Flow__symmetry_looking__r_0.8500000000000001                                   1.000000\n",
       "Total Flow__symmetry_looking__r_0.9                                                  1.000000\n",
       "Total Flow__symmetry_looking__r_0.9500000000000001                                   1.000000\n",
       "Total Flow__time_reversal_asymmetry_statistic__lag_1                            -10060.000379\n",
       "Total Flow__time_reversal_asymmetry_statistic__lag_2                            -17305.160192\n",
       "Total Flow__time_reversal_asymmetry_statistic__lag_3                            -15125.355341\n",
       "Total Flow__value_count__value_-inf                                                  0.000000\n",
       "Total Flow__value_count__value_0                                                     0.000000\n",
       "Total Flow__value_count__value_1                                                     0.000000\n",
       "Total Flow__value_count__value_inf                                                   0.000000\n",
       "Total Flow__value_count__value_nan                                                   0.000000\n",
       "Total Flow__variance                                                                 4.065375\n",
       "Total Flow__variance_larger_than_standard_deviation                                  1.000000\n",
       "Name: 0, Length: 1226, dtype: float64"
      ]
     },
     "execution_count": 6,
     "metadata": {},
     "output_type": "execute_result"
    }
   ],
   "source": [
    "extracted.loc[0]"
   ]
  },
  {
   "cell_type": "code",
   "execution_count": 18,
   "metadata": {},
   "outputs": [
    {
     "data": {
      "text/plain": [
       "(1001, 486)"
      ]
     },
     "execution_count": 18,
     "metadata": {},
     "output_type": "execute_result"
    }
   ],
   "source": [
    "extracted.shape"
   ]
  },
  {
   "cell_type": "code",
   "execution_count": 12,
   "metadata": {},
   "outputs": [
    {
     "data": {
      "text/plain": [
       "(2, 1228)"
      ]
     },
     "execution_count": 12,
     "metadata": {},
     "output_type": "execute_result"
    }
   ],
   "source": [
    "extracted_short.shape"
   ]
  },
  {
   "cell_type": "code",
   "execution_count": null,
   "metadata": {
    "collapsed": true
   },
   "outputs": [],
   "source": []
  }
 ],
 "metadata": {
  "kernelspec": {
   "display_name": "Python 3",
   "language": "python",
   "name": "python3"
  },
  "language_info": {
   "codemirror_mode": {
    "name": "ipython",
    "version": 3
   },
   "file_extension": ".py",
   "mimetype": "text/x-python",
   "name": "python",
   "nbconvert_exporter": "python",
   "pygments_lexer": "ipython3",
   "version": "3.6.3"
  }
 },
 "nbformat": 4,
 "nbformat_minor": 2
}
