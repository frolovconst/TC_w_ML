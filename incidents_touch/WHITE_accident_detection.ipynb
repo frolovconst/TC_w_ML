{
 "cells": [
  {
   "cell_type": "code",
   "execution_count": 1,
   "metadata": {},
   "outputs": [
    {
     "name": "stderr",
     "output_type": "stream",
     "text": [
      "/opt/anaconda3/lib/python3.6/site-packages/statsmodels/compat/pandas.py:56: FutureWarning: The pandas.core.datetools module is deprecated and will be removed in a future version. Please use the pandas.tseries module instead.\n",
      "  from pandas.core import datetools\n"
     ]
    }
   ],
   "source": [
    "import pandas as pd\n",
    "import numpy as np\n",
    "from pathlib import Path\n",
    "import datetime as dt\n",
    "import re\n",
    "from geopy.distance import vincenty\n",
    "import matplotlib.dates as mdts\n",
    "import matplotlib.pyplot as plt\n",
    "from matplotlib.dates import DateFormatter\n",
    "% matplotlib inline\n",
    "import cartopy.crs as ccrs\n",
    "from sklearn.svm import LinearSVC, SVC\n",
    "from sklearn.linear_model import LogisticRegression\n",
    "from sklearn.model_selection import train_test_split, GridSearchCV, cross_validate\n",
    "from sklearn.preprocessing import OneHotEncoder, StandardScaler\n",
    "from sklearn.metrics import confusion_matrix, f1_score, make_scorer, roc_curve, roc_auc_score, precision_score, recall_score\n",
    "from sklearn.ensemble import RandomForestClassifier\n",
    "from sklearn.externals import joblib\n",
    "from time import time\n",
    "from tsfresh import extract_relevant_features, extract_features\n",
    "import xgboost as xgb\n",
    "import warnings\n",
    "from sklearn.externals import joblib"
   ]
  },
  {
   "cell_type": "code",
   "execution_count": 2,
   "metadata": {
    "collapsed": true
   },
   "outputs": [],
   "source": [
    "dataset= pd.read_csv('../data/PeMS/Incidents/work_folder/windows.csv', parse_dates=['Timestamp'])"
   ]
  },
  {
   "cell_type": "markdown",
   "metadata": {},
   "source": [
    "### Optional: adding weather to dataset"
   ]
  },
  {
   "cell_type": "code",
   "execution_count": null,
   "metadata": {
    "collapsed": true
   },
   "outputs": [],
   "source": [
    "weather = pd.read_csv('../data/Weather/weather.csv', parse_dates=[\"Date\"])\n",
    "\n",
    "weather['Date'] = weather.Date.dt.date\n",
    "\n",
    "dataset['Date'] = dataset.Timestamp.dt.date\n",
    "\n",
    "dataset = dataset.merge(weather, how='left', on='Date').drop(columns='Date')"
   ]
  },
  {
   "cell_type": "markdown",
   "metadata": {},
   "source": [
    "### Optional: creation of the set of extracted features"
   ]
  },
  {
   "cell_type": "code",
   "execution_count": null,
   "metadata": {
    "collapsed": true
   },
   "outputs": [],
   "source": [
    "def feature_extraction(dataset):\n",
    "    cols = [col for col in dataset.columns if 'Avg' in col or 'Total' in col]\n",
    "    dataset = dataset[cols]\n",
    "    t_labels = np.arange(len(cols)/3, dtype=int)\n",
    "    t_labels = np.concatenate((t_labels,t_labels,t_labels))\n",
    "    aux_labels = pd.DataFrame({'val_name': cols, 't': t_labels})\n",
    "    long = dataset.reset_index().melt(id_vars=['index'], var_name='series_param', value_name='value')\n",
    "    long = long.merge(aux_labels, how='left', left_on='series_param', right_on='val_name').drop('val_name', axis=1)\n",
    "    long['series_param'] = long['series_param'].apply(lambda row: row.split('_')[0])\n",
    "    long = long.rename(columns={'index': 'ID'})[['ID', 't', 'series_param', 'value']]\n",
    "    extracted = extract_features(long, column_id='ID', column_sort='t', column_kind='series_param', column_value='value', n_jobs=4)\n",
    "    # try imputation\n",
    "    extracted.dropna(axis=1, how='any', inplace=True)\n",
    "    return extracted"
   ]
  },
  {
   "cell_type": "code",
   "execution_count": null,
   "metadata": {
    "collapsed": true
   },
   "outputs": [],
   "source": [
    "def batch_extraction(dataset, b_size):\n",
    "    m=dataset.shape[0]\n",
    "    result=pd.DataFrame()\n",
    "    for i in range(0, m, b_size):\n",
    "        crnt_ftrs = feature_extraction(dataset.loc[i:i+b_size-1])\n",
    "#         result = pd.concat((result, crnt_ftrs))\n",
    "        crnt_ftrs.to_csv('../data/PeMS/Incidents/work_folder/extracted/extracted_{0:d}.csv'.format(i), index=False)\n",
    "    print('Extraction complete')\n"
   ]
  },
  {
   "cell_type": "code",
   "execution_count": null,
   "metadata": {
    "collapsed": true
   },
   "outputs": [],
   "source": [
    "rnm_cols = ['Avg Occupancy_0', 'Avg Occupancy_1', 'Avg Occupancy_2',\n",
    "       'Avg Occupancy_3', 'Avg Occupancy_4', 'Avg Occupancy_5',\n",
    "       'Avg Occupancy_6', 'Avg Occupancy_7', 'Avg Occupancy_8',\n",
    "       'Avg Occupancy_9', 'Avg Occupancy_10', 'Avg Occupancy_11',\n",
    "       'Avg Occupancy_12', 'Avg Occupancy_13', 'Avg Occupancy_14',\n",
    "       'Avg Occupancy_15', 'Avg Speed_0', 'Avg Speed_1', 'Avg Speed_2',\n",
    "       'Avg Speed_3', 'Avg Speed_4', 'Avg Speed_5', 'Avg Speed_6',\n",
    "       'Avg Speed_7', 'Avg Speed_8', 'Avg Speed_9', 'Avg Speed_10',\n",
    "       'Avg Speed_11', 'Avg Speed_12', 'Avg Speed_13', 'Avg Speed_14',\n",
    "       'Avg Speed_15', 'Total Flow_0', 'Total Flow_1', 'Total Flow_2',\n",
    "       'Total Flow_3', 'Total Flow_4', 'Total Flow_5', 'Total Flow_6',\n",
    "       'Total Flow_7', 'Total Flow_8', 'Total Flow_9', 'Total Flow_10',\n",
    "       'Total Flow_11', 'Total Flow_12', 'Total Flow_13', 'Total Flow_14',\n",
    "       'Total Flow_15']"
   ]
  },
  {
   "cell_type": "code",
   "execution_count": null,
   "metadata": {
    "collapsed": true
   },
   "outputs": [],
   "source": [
    "dct = dict()\n",
    "for col in rnm_cols:\n",
    "    dct['Next_'+col] = 'Next '+col\n",
    "\n",
    "dataset.rename(columns=dct, inplace=True)"
   ]
  },
  {
   "cell_type": "code",
   "execution_count": null,
   "metadata": {
    "collapsed": true
   },
   "outputs": [],
   "source": [
    "batch_extraction(dataset, 1000)"
   ]
  },
  {
   "cell_type": "code",
   "execution_count": null,
   "metadata": {
    "collapsed": true
   },
   "outputs": [],
   "source": [
    "def batch_concatenation(dataset, b_size):\n",
    "    m=dataset.shape[0]\n",
    "    result = pd.DataFrame()\n",
    "    for i in range(0, m, b_size):\n",
    "        crnt_ftrs = pd.read_csv('../data/PeMS/Incidents/work_folder/fst_dataset/extracted/extracted_{0:d}.csv'.format(i))\n",
    "        crnt_ftrs = crnt_ftrs.replace([np.inf, -np.inf], np.NaN)\n",
    "        crnt_ftrs.dropna(axis=1, inplace=True)\n",
    "        result = pd.concat((result, crnt_ftrs), axis=0)\n",
    "    result = result.dropna(axis=1).reset_index(drop=True)\n",
    "    non_series_cols = [col for col in dataset.columns if 'Avg' not in col and 'Total' not in col]\n",
    "    result = pd.concat((result, dataset[non_series_cols]), axis=1)\n",
    "    return result"
   ]
  },
  {
   "cell_type": "code",
   "execution_count": null,
   "metadata": {
    "collapsed": true
   },
   "outputs": [],
   "source": [
    "dataset = batch_concatenation(dataset,1000)"
   ]
  },
  {
   "cell_type": "code",
   "execution_count": null,
   "metadata": {
    "collapsed": true
   },
   "outputs": [],
   "source": [
    "dataset.to_csv('../data/PeMS/Incidents/work_folder/fst_dataset/extracted.csv', index=False)"
   ]
  },
  {
   "cell_type": "markdown",
   "metadata": {},
   "source": [
    "# Run Logistic Regression and Random Forest"
   ]
  },
  {
   "cell_type": "code",
   "execution_count": 3,
   "metadata": {
    "collapsed": true
   },
   "outputs": [],
   "source": [
    "fignum = 1\n",
    "def score_dataset(dataset, drop_features=[], cv=5):\n",
    "    global fignum\n",
    "    drop_cols = ['y', 'Timestamp', 'ID_Prev', 'ID_Next', 'Latitude_Next', 'Longitude_Next', 'Latitude_Prev', 'Longitude_Prev'] + drop_features #, 'Longitude', 'Latitude'\n",
    "    tr_X, te_X, tr_y, te_y = train_test_split(dataset.drop(columns=drop_cols), dataset['y'], stratify=dataset.y, test_size=.2)\n",
    "    scaler = StandardScaler()\n",
    "    tr_X = scaler.fit_transform(tr_X)\n",
    "    te_X = scaler.transform(te_X)\n",
    "    print(fignum)    \n",
    "    print('Logistic regression')\n",
    "    logreg = LogisticRegression()\n",
    "    cv_res = cross_validate(logreg, tr_X, tr_y, n_jobs=-1, cv=cv, scoring=['f1', 'roc_auc', 'precision', 'recall'])# scoring={'f1_score' : make_scorer(f1_score)})\n",
    "    F1_score = cv_res['test_f1'].mean()\n",
    "    F1_var = cv_res['test_f1'].std()\n",
    "    RA_score = cv_res['test_roc_auc'].mean()\n",
    "    RA_var = cv_res['test_roc_auc'].std()\n",
    "    P_score = cv_res['test_precision'].mean()\n",
    "    P_var = cv_res['test_precision'].std()\n",
    "    R_score = cv_res['test_recall'].mean()\n",
    "    R_var = cv_res['test_recall'].std()\n",
    "    \n",
    "    print('{}-fold CV f1 = {}, std = {}'.format(cv, F1_score, F1_var))\n",
    "    print('{}-fold CV ROC AUC = {}, std = {}'.format(cv, RA_score, RA_var))\n",
    "    print('{}-fold CV P = {}, std = {}'.format(cv, P_score, P_var))\n",
    "    print('{}-fold CV R = {}, std = {}'.format(cv, R_score, R_var))\n",
    "    logreg.fit(tr_X, tr_y)\n",
    "    predict = logreg.predict(te_X)\n",
    "    proba = logreg.predict_proba(te_X)\n",
    "    print('example CM =', confusion_matrix(te_y, predict))\n",
    "    lr_fpr, lr_tpr, thresholds = roc_curve(te_y, proba[:,1])\n",
    "    plt.plot(lr_fpr, lr_tpr)\n",
    "    plt.plot([0,1], [0,1])\n",
    "    plt.grid()\n",
    "    plt.savefig('../data/PeMS/Incidents/work_folder/figs/log/roc_auc_{}'.format(fignum), lw=4, dpi=600)\n",
    "    plt.show()\n",
    "    print()\n",
    "    \n",
    "    print('Random Forest')\n",
    "    forest = RandomForestClassifier(random_state=14)  \n",
    "    cv_res = cross_validate(forest, tr_X, tr_y, n_jobs=-1, cv=cv, scoring=['f1', 'roc_auc', 'precision', 'recall'])\n",
    "    F1_score = cv_res['test_f1'].mean()\n",
    "    F1_var = cv_res['test_f1'].std()\n",
    "    RA_score = cv_res['test_roc_auc'].mean()\n",
    "    RA_var = cv_res['test_roc_auc'].std()\n",
    "    P_score = cv_res['test_precision'].mean()\n",
    "    P_var = cv_res['test_precision'].std()\n",
    "    R_score = cv_res['test_recall'].mean()\n",
    "    R_var = cv_res['test_recall'].std()\n",
    "    \n",
    "    print('{}-fold CV f1 = {}, std = {}'.format(cv, F1_score, F1_var))\n",
    "    print('{}-fold CV ROC AUC = {}, std = {}'.format(cv, RA_score, RA_var))\n",
    "    print('{}-fold CV P = {}, std = {}'.format(cv, P_score, P_var))\n",
    "    print('{}-fold CV R = {}, std = {}'.format(cv, R_score, R_var))\n",
    "    forest.fit(tr_X, tr_y)\n",
    "    predict = forest.predict(te_X)\n",
    "    proba = forest.predict_proba(te_X)\n",
    "    print('example CM =', confusion_matrix(te_y, predict))\n",
    "    fpr, tpr, thresholds = roc_curve(te_y, proba[:,1])\n",
    "    plt.plot(fpr, tpr)\n",
    "    plt.plot([0,1], [0,1])\n",
    "    plt.grid()\n",
    "    plt.savefig('../data/PeMS/Incidents/work_folder/figs/rnd/roc_auc_{}'.format(fignum), lw=4, dpi=600)\n",
    "    plt.show()\n",
    "    fignum += 1\n",
    "    print()\n",
    "    return logreg, lr_fpr, lr_tpr, forest, fpr, tpr\n"
   ]
  },
  {
   "cell_type": "code",
   "execution_count": 4,
   "metadata": {},
   "outputs": [
    {
     "name": "stdout",
     "output_type": "stream",
     "text": [
      "1\n",
      "Logistic regression\n",
      "5-fold CV f1 = 0.6271048985968994, std = 0.010102779181779912\n",
      "5-fold CV ROC AUC = 0.7254300614846874, std = 0.00621586266550119\n",
      "5-fold CV P = 0.7066101335093463, std = 0.011650284299185498\n",
      "5-fold CV R = 0.5637063516576943, std = 0.009662229610355403\n",
      "example CM = [[2674  791]\n",
      " [1357 1788]]\n"
     ]
    },
    {
     "data": {
      "image/png": "[encoded data removed]",
      "text/plain": [
       "<matplotlib.figure.Figure at 0x7f32ed60deb8>"
      ]
     },
     "metadata": {},
     "output_type": "display_data"
    },
    {
     "name": "stdout",
     "output_type": "stream",
     "text": [
      "\n",
      "Random Forest\n",
      "5-fold CV f1 = 0.6548934989944241, std = 0.012001830590999352\n",
      "5-fold CV ROC AUC = 0.7528718177137083, std = 0.007143823096906338\n",
      "5-fold CV P = 0.7213578213852554, std = 0.0099946722609855\n",
      "5-fold CV R = 0.5997926342524253, std = 0.01590951650589152\n",
      "example CM = [[2698  767]\n",
      " [1218 1927]]\n"
     ]
    },
    {
     "data": {
      "image/png": "[encoded data removed]",
      "text/plain": [
       "<matplotlib.figure.Figure at 0x7f32d83131d0>"
      ]
     },
     "metadata": {},
     "output_type": "display_data"
    },
    {
     "name": "stdout",
     "output_type": "stream",
     "text": [
      "\n"
     ]
    }
   ],
   "source": [
    "logreg, all_lfpr, all_ltpr, forest, all_lfpr_f, all_ltpr_f = score_dataset(dataset)"
   ]
  },
  {
   "cell_type": "markdown",
   "metadata": {},
   "source": [
    "### Run without the readings of the downstream sensor"
   ]
  },
  {
   "cell_type": "code",
   "execution_count": null,
   "metadata": {
    "collapsed": true
   },
   "outputs": [],
   "source": [
    "Next_cols = ['Next Avg Occupancy_0','Next Avg Occupancy_1','Next Avg Occupancy_2',\n",
    "             'Next Avg Occupancy_3','Next Avg Occupancy_4','Next Avg Occupancy_5',\n",
    "             'Next Avg Occupancy_6','Next Avg Occupancy_7','Next Avg Occupancy_8',\n",
    "             'Next Avg Occupancy_9','Next Avg Occupancy_10','Next Avg Occupancy_11',\n",
    "             'Next Avg Occupancy_12','Next Avg Occupancy_13','Next Avg Occupancy_14',\n",
    "             'Next Avg Occupancy_15','Next Total Flow_0','Next Total Flow_1',\n",
    "             'Next Total Flow_2','Next Total Flow_3','Next Total Flow_4',\n",
    "             'Next Total Flow_5','Next Total Flow_6','Next Total Flow_7',\n",
    "             'Next Total Flow_8','Next Total Flow_9','Next Total Flow_10',\n",
    "             'Next Total Flow_11','Next Total Flow_12','Next Total Flow_13',\n",
    "             'Next Total Flow_14','Next Total Flow_15','Next Avg Speed_0',\n",
    "             'Next Avg Speed_1','Next Avg Speed_2','Next Avg Speed_3',\n",
    "             'Next Avg Speed_4','Next Avg Speed_5','Next Avg Speed_6',\n",
    "             'Next Avg Speed_7','Next Avg Speed_8','Next Avg Speed_9',\n",
    "             'Next Avg Speed_10','Next Avg Speed_11','Next Avg Speed_12',\n",
    "             'Next Avg Speed_13','Next Avg Speed_14','Next Avg Speed_15']\n",
    "\n",
    "score_dataset(dataset, Next_cols)"
   ]
  },
  {
   "cell_type": "markdown",
   "metadata": {},
   "source": [
    "### Create features: linear and square difference between upstream and downstream sensor readings"
   ]
  },
  {
   "cell_type": "code",
   "execution_count": null,
   "metadata": {
    "collapsed": true
   },
   "outputs": [],
   "source": [
    "for col in ['Avg Occupancy_0', 'Avg Occupancy_1', 'Avg Occupancy_2',\n",
    "       'Avg Occupancy_3', 'Avg Occupancy_4', 'Avg Occupancy_5',\n",
    "       'Avg Occupancy_6', 'Avg Occupancy_7', 'Avg Occupancy_8',\n",
    "       'Avg Occupancy_9', 'Avg Occupancy_10', 'Avg Occupancy_11',\n",
    "       'Avg Occupancy_12', 'Avg Occupancy_13', 'Avg Occupancy_14',\n",
    "       'Avg Occupancy_15', 'Avg Speed_0', 'Avg Speed_1', 'Avg Speed_2',\n",
    "       'Avg Speed_3', 'Avg Speed_4', 'Avg Speed_5', 'Avg Speed_6',\n",
    "       'Avg Speed_7', 'Avg Speed_8', 'Avg Speed_9', 'Avg Speed_10',\n",
    "       'Avg Speed_11', 'Avg Speed_12', 'Avg Speed_13', 'Avg Speed_14',\n",
    "       'Avg Speed_15', 'Total Flow_0', 'Total Flow_1', 'Total Flow_2',\n",
    "       'Total Flow_3', 'Total Flow_4', 'Total Flow_5', 'Total Flow_6',\n",
    "       'Total Flow_7', 'Total Flow_8', 'Total Flow_9', 'Total Flow_10',\n",
    "       'Total Flow_11', 'Total Flow_12', 'Total Flow_13', 'Total Flow_14',\n",
    "       'Total Flow_15']:\n",
    "    dataset[col] = dataset[col] - dataset['Next '+col]\n",
    "    dataset[col + '_sq'] = (dataset[col] - dataset['Next '+col] )**2\n",
    "    dataset.drop(columns='Next '+col, inplace=True)\n",
    "\n",
    "sq_cols = [col for col in dataset.columns if '_sq' in col]\n",
    "\n",
    "non_sq_cols = ['Avg Occupancy_0', 'Avg Occupancy_1', 'Avg Occupancy_2',\n",
    "       'Avg Occupancy_3', 'Avg Occupancy_4', 'Avg Occupancy_5',\n",
    "       'Avg Occupancy_6', 'Avg Occupancy_7', 'Avg Occupancy_8',\n",
    "       'Avg Occupancy_9', 'Avg Occupancy_10', 'Avg Occupancy_11',\n",
    "       'Avg Occupancy_12', 'Avg Occupancy_13', 'Avg Occupancy_14',\n",
    "       'Avg Occupancy_15', 'Avg Speed_0', 'Avg Speed_1', 'Avg Speed_2',\n",
    "       'Avg Speed_3', 'Avg Speed_4', 'Avg Speed_5', 'Avg Speed_6',\n",
    "       'Avg Speed_7', 'Avg Speed_8', 'Avg Speed_9', 'Avg Speed_10',\n",
    "       'Avg Speed_11', 'Avg Speed_12', 'Avg Speed_13', 'Avg Speed_14',\n",
    "       'Avg Speed_15', 'Total Flow_0', 'Total Flow_1', 'Total Flow_2',\n",
    "       'Total Flow_3', 'Total Flow_4', 'Total Flow_5', 'Total Flow_6',\n",
    "       'Total Flow_7', 'Total Flow_8', 'Total Flow_9', 'Total Flow_10',\n",
    "       'Total Flow_11', 'Total Flow_12', 'Total Flow_13', 'Total Flow_14',\n",
    "       'Total Flow_15']"
   ]
  },
  {
   "cell_type": "code",
   "execution_count": null,
   "metadata": {
    "collapsed": true
   },
   "outputs": [],
   "source": [
    "score_dataset(dataset)"
   ]
  },
  {
   "cell_type": "markdown",
   "metadata": {},
   "source": [
    "# Classification with XGBoost"
   ]
  },
  {
   "cell_type": "code",
   "execution_count": null,
   "metadata": {
    "collapsed": true
   },
   "outputs": [],
   "source": [
    "fignum=1\n",
    "def boost(dataset, drop_features=[], cv=5):\n",
    "    global fignum\n",
    "    print(fignum)\n",
    "    drop_cols = ['y', 'Timestamp', 'ID_Prev', 'ID_Next', 'Latitude_Next', 'Longitude_Next', 'Latitude_Prev', 'Longitude_Prev'] + drop_features #, 'Longitude', 'Latitude', 'IncidentID', 'ID_Prev', 'ID_Next'\n",
    "    tr_X, te_X, tr_y, te_y = train_test_split(dataset.drop(columns=drop_cols), dataset['y'], stratify=dataset.y, test_size=.2, random_state=442)\n",
    "    scaler = StandardScaler()\n",
    "    tr_X = scaler.fit_transform(tr_X)\n",
    "    te_X = scaler.transform(te_X)\n",
    "        \n",
    "    print('XGBoost')\n",
    "    xgb_params = {'objective':'binary:logistic', 'learning_rate': 1.0, 'n_estimators': 500}\n",
    "    clf = xgb.XGBClassifier(**xgb_params)\n",
    "    cv_res = cross_validate(clf, tr_X, tr_y, n_jobs=-1, cv=cv, scoring=['f1', 'roc_auc', 'precision', 'recall']) # scoring={'f1_score' : make_scorer(f1_score)})\n",
    "    F1_score = cv_res['test_f1'].mean()\n",
    "    F1_var = cv_res['test_f1'].std()\n",
    "    RA_score = cv_res['test_roc_auc'].mean()\n",
    "    RA_var = cv_res['test_roc_auc'].std()\n",
    "    P_score = cv_res['test_precision'].mean()\n",
    "    P_var = cv_res['test_precision'].std()\n",
    "    R_score = cv_res['test_recall'].mean()\n",
    "    R_var = cv_res['test_recall'].std()\n",
    "    \n",
    "    print('{}-fold CV f1 = {}, std = {}'.format(cv, F1_score, F1_var))\n",
    "    print('{}-fold CV ROC AUC = {}, std = {}'.format(cv, RA_score, RA_var))\n",
    "    print('{}-fold CV P = {}, std = {}'.format(cv, P_score, P_var))\n",
    "    print('{}-fold CV R = {}, std = {}'.format(cv, R_score, R_var))\n",
    "    clf.fit(tr_X, tr_y)\n",
    "    predict = clf.predict(te_X)\n",
    "    proba = clf.predict_proba(te_X)\n",
    "    print('example CM =', confusion_matrix(te_y, predict))\n",
    "    fpr, tpr, thresholds = roc_curve(te_y, proba[:,1])\n",
    "    plt.plot(fpr, tpr, label='ROC')\n",
    "    plt.plot([0,1], [0,1], label='reference', linestyle='--')\n",
    "    plt.xlabel('fpr')\n",
    "    plt.ylabel('tpr')\n",
    "    plt.grid()\n",
    "    plt.legend()\n",
    "    plt.savefig('../data/PeMS/Incidents/work_folder/figs/xgb/roc_auc_{}'.format(fignum), lw=4, dpi=600)\n",
    "    plt.show()\n",
    "    fignum += 1\n",
    "    return clf, fpr, tpr"
   ]
  },
  {
   "cell_type": "code",
   "execution_count": null,
   "metadata": {
    "collapsed": true
   },
   "outputs": [],
   "source": [
    "extr_clf, extr_fpr, extr_tpr = boost(dataset)"
   ]
  },
  {
   "cell_type": "markdown",
   "metadata": {},
   "source": [
    "# Experiments with window size changing"
   ]
  },
  {
   "cell_type": "code",
   "execution_count": null,
   "metadata": {
    "collapsed": true
   },
   "outputs": [],
   "source": [
    "def crop_window(dataset, mins):\n",
    "    min_later = np.array([], dtype=str)\n",
    "    for cc in dataset.columns:\n",
    "        if 'Avg' in cc or 'Tot' in cc:\n",
    "            if int(cc.split('_')[-1])>=8+int(mins/5):\n",
    "                min_later = np.append(min_later, cc)\n",
    "    return min_later"
   ]
  },
  {
   "cell_type": "code",
   "execution_count": null,
   "metadata": {
    "collapsed": true
   },
   "outputs": [],
   "source": [
    "min_later_m10 = crop_window(dataset, -10)"
   ]
  },
  {
   "cell_type": "code",
   "execution_count": null,
   "metadata": {
    "collapsed": true
   },
   "outputs": [],
   "source": [
    "clf_m10, fpr_m10, tpr_m10 = boost(dataset, [cc for cc in min_later_m10])"
   ]
  },
  {
   "cell_type": "markdown",
   "metadata": {},
   "source": [
    "# Feature importance analysis"
   ]
  },
  {
   "cell_type": "code",
   "execution_count": null,
   "metadata": {
    "collapsed": true
   },
   "outputs": [],
   "source": [
    "def col_mapper(col):\n",
    "    if 'Tot' in col or 'Avg' in col:\n",
    "        vals = col.split('_')\n",
    "        nbr = int(vals[-1])*5-40\n",
    "        return vals[0]+' @'+str(nbr)+'\\'' if 'Next' in col else 'Prev '+vals[0]+' @'+str(nbr)+'\\''\n",
    "    else:\n",
    "        if 'Next' in col:\n",
    "            parts = col.split('_')\n",
    "            return 'Next ' + parts[0]\n",
    "        if 'Prev' in col:\n",
    "            parts = col.split('_')\n",
    "            return 'Prev ' + parts[0]\n",
    "        else:\n",
    "            return col"
   ]
  },
  {
   "cell_type": "code",
   "execution_count": null,
   "metadata": {
    "collapsed": true
   },
   "outputs": [],
   "source": [
    "ftr_imp = pd.DataFrame(np.hstack((dataset.drop(columns=['y', 'Timestamp', 'ID_Prev', 'ID_Next'] ).columns[:,np.newaxis],clf40.feature_importances_[:,np.newaxis])), columns=['feature', 'importance'])\n",
    "ftr_imp['feature']=ftr_imp.feature.apply(col_mapper)\n",
    "\n",
    "rmapp = {key:col_mapper(key) for key in dataset.columns}"
   ]
  },
  {
   "cell_type": "code",
   "execution_count": null,
   "metadata": {
    "collapsed": true
   },
   "outputs": [],
   "source": [
    "# plt.figure()\n",
    "# top = ftr_imp.rename(rmapp).sort_values(by='importance', ascending=False).head(30)\n",
    "# plt.figure(figsize=[15,10])\n",
    "ax = ftr_imp.rename(rmapp).sort_values(by='importance', ascending=False).head(30).plot.bar(x='feature', figsize=[15,10], grid=True, fontsize=18)\n",
    "# plt.bar(x=top['feature'], height=top['importance'])\n",
    "plt.xlabel('')\n",
    "# ax.get_figure().savefig('../data/PeMS/Incidents/work_folder/figs/xgb/ftr_imp', lw=4, dpi=600, bbox_inches='tight')\n",
    "plt.savefig('../data/PeMS/Incidents/work_folder/figs/xgb/ftr_imp', lw=4, dpi=600, bbox_inches='tight')"
   ]
  }
 ],
 "metadata": {
  "kernelspec": {
   "display_name": "Python 3",
   "language": "python",
   "name": "python3"
  },
  "language_info": {
   "codemirror_mode": {
    "name": "ipython",
    "version": 3
   },
   "file_extension": ".py",
   "mimetype": "text/x-python",
   "name": "python",
   "nbconvert_exporter": "python",
   "pygments_lexer": "ipython3",
   "version": "3.6.3"
  }
 },
 "nbformat": 4,
 "nbformat_minor": 2
}
