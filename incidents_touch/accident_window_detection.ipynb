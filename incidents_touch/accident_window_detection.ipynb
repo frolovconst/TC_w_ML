{
 "cells": [
  {
   "cell_type": "code",
   "execution_count": 54,
   "metadata": {},
   "outputs": [],
   "source": [
    "import pandas as pd\n",
    "import numpy as np\n",
    "from pathlib import Path\n",
    "import datetime as dt\n",
    "import re\n",
    "from geopy.distance import vincenty\n",
    "import matplotlib.dates as mdts\n",
    "import matplotlib.pyplot as plt\n",
    "from matplotlib.dates import DateFormatter\n",
    "import cartopy.crs as ccrs\n",
    "from sklearn.svm import LinearSVC, SVC\n",
    "from sklearn.linear_model import LogisticRegression\n",
    "from sklearn.model_selection import train_test_split, GridSearchCV, cross_validate\n",
    "from sklearn.preprocessing import OneHotEncoder, StandardScaler\n",
    "from sklearn.metrics import confusion_matrix, f1_score, make_scorer, roc_curve, roc_auc_score\n",
    "from sklearn.ensemble import RandomForestClassifier\n",
    "from sklearn.externals import joblib\n",
    "from time import time\n",
    "from tsfresh import extract_relevant_features, extract_features\n",
    "import xgboost as xgb"
   ]
  },
  {
   "cell_type": "code",
   "execution_count": 2,
   "metadata": {
    "collapsed": true
   },
   "outputs": [],
   "source": [
    "accdnt_windows = pd.read_csv('../data/PeMS/Incidents/work_folder/year_accdnt_wndw.csv', parse_dates=['Timestamp'])"
   ]
  },
  {
   "cell_type": "code",
   "execution_count": 55,
   "metadata": {
    "collapsed": true
   },
   "outputs": [],
   "source": [
    "accdnt_windows['y'] = 1"
   ]
  },
  {
   "cell_type": "code",
   "execution_count": 56,
   "metadata": {
    "collapsed": true
   },
   "outputs": [],
   "source": [
    "accdnt_free_windows = pd.read_csv('../data/PeMS/Incidents/work_folder/year_accdnt_free_wndw.csv', parse_dates=['Timestamp'])\n",
    "# accdnt_free_windows['IncidentID'] = 0"
   ]
  },
  {
   "cell_type": "code",
   "execution_count": 57,
   "metadata": {
    "collapsed": true
   },
   "outputs": [],
   "source": [
    "accdnt_free_windows['y'] = 0"
   ]
  },
  {
   "cell_type": "code",
   "execution_count": 6,
   "metadata": {
    "collapsed": true
   },
   "outputs": [],
   "source": [
    "def plot_window(data, chrct = 'Total Flow'):\n",
    "    formatter = DateFormatter('%H:%M')\n",
    "      \n",
    "    times = pd.date_range(start=data.Timestamp - dt.timedelta(minutes=40), periods=16, freq='300s')\n",
    "    x_min = times[0] - dt.timedelta(minutes=4)\n",
    "    x_max = times[-1] + dt.timedelta(minutes=5)\n",
    "#     cols = [col for col in data.columns if chrct in col]\n",
    "    cols = [col for col in data.index if chrct in col and 'Next' not in col]\n",
    "    n_cols = [col for col in data.index if chrct in col and 'Next' in col]\n",
    "#     data[cols].plot(linestyle='--', label = 'Upstream')\n",
    "#     data[n_cols].plot(label = 'Downstream')\n",
    "    plt.plot(times, data[cols].as_matrix(), linestyle='--', label = 'Upstream')\n",
    "    plt.plot(times, data[n_cols].as_matrix(), label = 'Downstream')\n",
    "#     plt.axvline(data.Timestamp)\n",
    "    plt.grid()\n",
    "    plt.legend()\n",
    "    plt.ylabel(chrct + ', cars/5min')\n",
    "    plt.xticks(rotation=45)\n",
    "    plt.gcf().axes[0].xaxis.set_major_formatter(formatter)\n",
    "    plt.xlim(x_min, x_max)\n",
    "    plt.savefig('window.png', lw=4, dpi=600)\n",
    "    plt.show()"
   ]
  },
  {
   "cell_type": "code",
   "execution_count": 58,
   "metadata": {
    "scrolled": true
   },
   "outputs": [
    {
     "data": {
      "image/png": "[encoded data removed]",
      "text/plain": [
       "<matplotlib.figure.Figure at 0x7f482c456780>"
      ]
     },
     "metadata": {},
     "output_type": "display_data"
    }
   ],
   "source": [
    "plot_window(accdnt_free_windows.iloc[178])"
   ]
  },
  {
   "cell_type": "code",
   "execution_count": 59,
   "metadata": {
    "collapsed": true
   },
   "outputs": [],
   "source": [
    "common_cols = ['ID_Prev', 'ID_Next', 'Timestamp', 'Latitude_Next', 'Longitude_Next', 'Latitude_Prev', 'Longitude_Prev',\n",
    "               'Lanes_Prev', 'Lanes_Next',\n",
    "             'Avg Occupancy_0',\n",
    "       'Avg Occupancy_1', 'Avg Occupancy_2', 'Avg Occupancy_3',\n",
    "       'Avg Occupancy_4', 'Avg Occupancy_5', 'Avg Occupancy_6',\n",
    "       'Avg Occupancy_7', 'Avg Occupancy_8', 'Avg Occupancy_9',\n",
    "       'Avg Occupancy_10', 'Avg Occupancy_11', 'Avg Occupancy_12',\n",
    "       'Avg Occupancy_13', 'Avg Occupancy_14', 'Avg Occupancy_15',\n",
    "       'Total Flow_0',\n",
    "       'Total Flow_1', 'Total Flow_2', 'Total Flow_3', 'Total Flow_4',\n",
    "       'Total Flow_5', 'Total Flow_6', 'Total Flow_7', 'Total Flow_8',\n",
    "       'Total Flow_9', 'Total Flow_10', 'Total Flow_11', 'Total Flow_12',\n",
    "       'Total Flow_13', 'Total Flow_14', 'Total Flow_15',\n",
    "       'Avg Speed_0', 'Avg Speed_1', 'Avg Speed_2',\n",
    "       'Avg Speed_3', 'Avg Speed_4', 'Avg Speed_5', 'Avg Speed_6',\n",
    "       'Avg Speed_7', 'Avg Speed_8', 'Avg Speed_9', 'Avg Speed_10',\n",
    "       'Avg Speed_11', 'Avg Speed_12', 'Avg Speed_13', 'Avg Speed_14',\n",
    "       'Avg Speed_15',\n",
    "        'Next Avg Occupancy_0', 'Next Avg Occupancy_1','Next Avg Occupancy_2',\n",
    "        'Next Avg Occupancy_3', 'Next Avg Occupancy_4', 'Next Avg Occupancy_5',\n",
    "        'Next Avg Occupancy_6', 'Next Avg Occupancy_7', 'Next Avg Occupancy_8',\n",
    "             'Next Avg Occupancy_9','Next Avg Occupancy_10','Next Avg Occupancy_11',\n",
    "             'Next Avg Occupancy_12','Next Avg Occupancy_13','Next Avg Occupancy_14',\n",
    "             'Next Avg Occupancy_15','Next Total Flow_0','Next Total Flow_1',\n",
    "             'Next Total Flow_2','Next Total Flow_3','Next Total Flow_4',\n",
    "             'Next Total Flow_5','Next Total Flow_6','Next Total Flow_7',\n",
    "             'Next Total Flow_8','Next Total Flow_9','Next Total Flow_10',\n",
    "             'Next Total Flow_11','Next Total Flow_12','Next Total Flow_13',\n",
    "             'Next Total Flow_14','Next Total Flow_15','Next Avg Speed_0',\n",
    "             'Next Avg Speed_1','Next Avg Speed_2','Next Avg Speed_3',\n",
    "             'Next Avg Speed_4','Next Avg Speed_5','Next Avg Speed_6',\n",
    "             'Next Avg Speed_7','Next Avg Speed_8','Next Avg Speed_9',\n",
    "             'Next Avg Speed_10','Next Avg Speed_11','Next Avg Speed_12',\n",
    "             'Next Avg Speed_13','Next Avg Speed_14','Next Avg Speed_15',\n",
    "              'y']"
   ]
  },
  {
   "cell_type": "code",
   "execution_count": 60,
   "metadata": {},
   "outputs": [
    {
     "ename": "KeyError",
     "evalue": "\"['Lanes_Prev' 'Lanes_Next'] not in index\"",
     "output_type": "error",
     "traceback": [
      "\u001b[0;31m---------------------------------------------------------------------------\u001b[0m",
      "\u001b[0;31mKeyError\u001b[0m                                  Traceback (most recent call last)",
      "\u001b[0;32m<ipython-input-60-0c7957278f5a>\u001b[0m in \u001b[0;36m<module>\u001b[0;34m()\u001b[0m\n\u001b[0;32m----> 1\u001b[0;31m \u001b[0mdataset\u001b[0m \u001b[0;34m=\u001b[0m \u001b[0mpd\u001b[0m\u001b[0;34m.\u001b[0m\u001b[0mconcat\u001b[0m\u001b[0;34m(\u001b[0m\u001b[0;34m(\u001b[0m\u001b[0maccdnt_windows\u001b[0m\u001b[0;34m[\u001b[0m\u001b[0mcommon_cols\u001b[0m\u001b[0;34m]\u001b[0m\u001b[0;34m,\u001b[0m \u001b[0maccdnt_free_windows\u001b[0m\u001b[0;34m[\u001b[0m\u001b[0mcommon_cols\u001b[0m\u001b[0;34m]\u001b[0m\u001b[0;34m)\u001b[0m\u001b[0;34m,\u001b[0m \u001b[0maxis\u001b[0m\u001b[0;34m=\u001b[0m\u001b[0;36m0\u001b[0m\u001b[0;34m)\u001b[0m\u001b[0;34m.\u001b[0m\u001b[0mreset_index\u001b[0m\u001b[0;34m(\u001b[0m\u001b[0mdrop\u001b[0m\u001b[0;34m=\u001b[0m\u001b[0;32mTrue\u001b[0m\u001b[0;34m)\u001b[0m\u001b[0;34m\u001b[0m\u001b[0m\n\u001b[0m",
      "\u001b[0;32m/opt/anaconda3/lib/python3.6/site-packages/pandas/core/frame.py\u001b[0m in \u001b[0;36m__getitem__\u001b[0;34m(self, key)\u001b[0m\n\u001b[1;32m   2131\u001b[0m         \u001b[0;32mif\u001b[0m \u001b[0misinstance\u001b[0m\u001b[0;34m(\u001b[0m\u001b[0mkey\u001b[0m\u001b[0;34m,\u001b[0m \u001b[0;34m(\u001b[0m\u001b[0mSeries\u001b[0m\u001b[0;34m,\u001b[0m \u001b[0mnp\u001b[0m\u001b[0;34m.\u001b[0m\u001b[0mndarray\u001b[0m\u001b[0;34m,\u001b[0m \u001b[0mIndex\u001b[0m\u001b[0;34m,\u001b[0m \u001b[0mlist\u001b[0m\u001b[0;34m)\u001b[0m\u001b[0;34m)\u001b[0m\u001b[0;34m:\u001b[0m\u001b[0;34m\u001b[0m\u001b[0m\n\u001b[1;32m   2132\u001b[0m             \u001b[0;31m# either boolean or fancy integer index\u001b[0m\u001b[0;34m\u001b[0m\u001b[0;34m\u001b[0m\u001b[0m\n\u001b[0;32m-> 2133\u001b[0;31m             \u001b[0;32mreturn\u001b[0m \u001b[0mself\u001b[0m\u001b[0;34m.\u001b[0m\u001b[0m_getitem_array\u001b[0m\u001b[0;34m(\u001b[0m\u001b[0mkey\u001b[0m\u001b[0;34m)\u001b[0m\u001b[0;34m\u001b[0m\u001b[0m\n\u001b[0m\u001b[1;32m   2134\u001b[0m         \u001b[0;32melif\u001b[0m \u001b[0misinstance\u001b[0m\u001b[0;34m(\u001b[0m\u001b[0mkey\u001b[0m\u001b[0;34m,\u001b[0m \u001b[0mDataFrame\u001b[0m\u001b[0;34m)\u001b[0m\u001b[0;34m:\u001b[0m\u001b[0;34m\u001b[0m\u001b[0m\n\u001b[1;32m   2135\u001b[0m             \u001b[0;32mreturn\u001b[0m \u001b[0mself\u001b[0m\u001b[0;34m.\u001b[0m\u001b[0m_getitem_frame\u001b[0m\u001b[0;34m(\u001b[0m\u001b[0mkey\u001b[0m\u001b[0;34m)\u001b[0m\u001b[0;34m\u001b[0m\u001b[0m\n",
      "\u001b[0;32m/opt/anaconda3/lib/python3.6/site-packages/pandas/core/frame.py\u001b[0m in \u001b[0;36m_getitem_array\u001b[0;34m(self, key)\u001b[0m\n\u001b[1;32m   2175\u001b[0m             \u001b[0;32mreturn\u001b[0m \u001b[0mself\u001b[0m\u001b[0;34m.\u001b[0m\u001b[0m_take\u001b[0m\u001b[0;34m(\u001b[0m\u001b[0mindexer\u001b[0m\u001b[0;34m,\u001b[0m \u001b[0maxis\u001b[0m\u001b[0;34m=\u001b[0m\u001b[0;36m0\u001b[0m\u001b[0;34m,\u001b[0m \u001b[0mconvert\u001b[0m\u001b[0;34m=\u001b[0m\u001b[0;32mFalse\u001b[0m\u001b[0;34m)\u001b[0m\u001b[0;34m\u001b[0m\u001b[0m\n\u001b[1;32m   2176\u001b[0m         \u001b[0;32melse\u001b[0m\u001b[0;34m:\u001b[0m\u001b[0;34m\u001b[0m\u001b[0m\n\u001b[0;32m-> 2177\u001b[0;31m             \u001b[0mindexer\u001b[0m \u001b[0;34m=\u001b[0m \u001b[0mself\u001b[0m\u001b[0;34m.\u001b[0m\u001b[0mloc\u001b[0m\u001b[0;34m.\u001b[0m\u001b[0m_convert_to_indexer\u001b[0m\u001b[0;34m(\u001b[0m\u001b[0mkey\u001b[0m\u001b[0;34m,\u001b[0m \u001b[0maxis\u001b[0m\u001b[0;34m=\u001b[0m\u001b[0;36m1\u001b[0m\u001b[0;34m)\u001b[0m\u001b[0;34m\u001b[0m\u001b[0m\n\u001b[0m\u001b[1;32m   2178\u001b[0m             \u001b[0;32mreturn\u001b[0m \u001b[0mself\u001b[0m\u001b[0;34m.\u001b[0m\u001b[0m_take\u001b[0m\u001b[0;34m(\u001b[0m\u001b[0mindexer\u001b[0m\u001b[0;34m,\u001b[0m \u001b[0maxis\u001b[0m\u001b[0;34m=\u001b[0m\u001b[0;36m1\u001b[0m\u001b[0;34m,\u001b[0m \u001b[0mconvert\u001b[0m\u001b[0;34m=\u001b[0m\u001b[0;32mTrue\u001b[0m\u001b[0;34m)\u001b[0m\u001b[0;34m\u001b[0m\u001b[0m\n\u001b[1;32m   2179\u001b[0m \u001b[0;34m\u001b[0m\u001b[0m\n",
      "\u001b[0;32m/opt/anaconda3/lib/python3.6/site-packages/pandas/core/indexing.py\u001b[0m in \u001b[0;36m_convert_to_indexer\u001b[0;34m(self, obj, axis, is_setter)\u001b[0m\n\u001b[1;32m   1267\u001b[0m                 \u001b[0;32mif\u001b[0m \u001b[0mmask\u001b[0m\u001b[0;34m.\u001b[0m\u001b[0many\u001b[0m\u001b[0;34m(\u001b[0m\u001b[0;34m)\u001b[0m\u001b[0;34m:\u001b[0m\u001b[0;34m\u001b[0m\u001b[0m\n\u001b[1;32m   1268\u001b[0m                     raise KeyError('{mask} not in index'\n\u001b[0;32m-> 1269\u001b[0;31m                                    .format(mask=objarr[mask]))\n\u001b[0m\u001b[1;32m   1270\u001b[0m \u001b[0;34m\u001b[0m\u001b[0m\n\u001b[1;32m   1271\u001b[0m                 \u001b[0;32mreturn\u001b[0m \u001b[0m_values_from_object\u001b[0m\u001b[0;34m(\u001b[0m\u001b[0mindexer\u001b[0m\u001b[0;34m)\u001b[0m\u001b[0;34m\u001b[0m\u001b[0m\n",
      "\u001b[0;31mKeyError\u001b[0m: \"['Lanes_Prev' 'Lanes_Next'] not in index\""
     ]
    }
   ],
   "source": [
    "dataset = pd.concat((accdnt_windows[common_cols], accdnt_free_windows[common_cols]), axis=0).reset_index(drop=True)"
   ]
  },
  {
   "cell_type": "code",
   "execution_count": 31,
   "metadata": {},
   "outputs": [
    {
     "data": {
      "text/plain": [
       "0.4758696260374895"
      ]
     },
     "execution_count": 31,
     "metadata": {},
     "output_type": "execute_result"
    }
   ],
   "source": [
    "dataset[dataset.y==1].shape[0]/dataset.shape[0]"
   ]
  },
  {
   "cell_type": "code",
   "execution_count": 30,
   "metadata": {},
   "outputs": [
    {
     "data": {
      "text/plain": [
       "(20411, 105)"
      ]
     },
     "execution_count": 30,
     "metadata": {},
     "output_type": "execute_result"
    }
   ],
   "source": [
    "dataset[dataset.y==1].shape"
   ]
  },
  {
   "cell_type": "code",
   "execution_count": 10,
   "metadata": {
    "collapsed": true
   },
   "outputs": [],
   "source": [
    "weather = pd.read_csv('../data/Weather/weather.csv', parse_dates=[\"Date\"])"
   ]
  },
  {
   "cell_type": "code",
   "execution_count": 151,
   "metadata": {
    "collapsed": true
   },
   "outputs": [],
   "source": [
    "weather['Date'] = weather.Date.dt.date"
   ]
  },
  {
   "cell_type": "code",
   "execution_count": 152,
   "metadata": {
    "collapsed": true
   },
   "outputs": [],
   "source": [
    "dataset['Date'] = dataset.Timestamp.dt.date"
   ]
  },
  {
   "cell_type": "code",
   "execution_count": 153,
   "metadata": {
    "collapsed": true
   },
   "outputs": [],
   "source": [
    "dataset = dataset.merge(weather, how='left', on='Date').drop(columns='Date')"
   ]
  },
  {
   "cell_type": "code",
   "execution_count": 12,
   "metadata": {
    "collapsed": true
   },
   "outputs": [],
   "source": [
    "dataset['Hour'] = dataset.Timestamp.dt.hour"
   ]
  },
  {
   "cell_type": "code",
   "execution_count": 13,
   "metadata": {
    "collapsed": true
   },
   "outputs": [],
   "source": [
    "dataset = dataset.drop(index=dataset[(dataset['Hour']<6) | (dataset['Hour']>21)].index).reset_index(drop=True)"
   ]
  },
  {
   "cell_type": "code",
   "execution_count": 14,
   "metadata": {
    "collapsed": true
   },
   "outputs": [],
   "source": [
    "np.random.seed(442)\n",
    "dataset = dataset.loc[np.random.choice(dataset.shape[0], dataset.shape[0], replace=False)]"
   ]
  },
  {
   "cell_type": "code",
   "execution_count": 15,
   "metadata": {
    "collapsed": true
   },
   "outputs": [],
   "source": [
    "dataset.reset_index(drop=True, inplace=True)"
   ]
  },
  {
   "cell_type": "code",
   "execution_count": 43,
   "metadata": {
    "collapsed": true
   },
   "outputs": [],
   "source": [
    "dataset = pd.get_dummies(dataset, columns=['Hour'], prefix='hour')"
   ]
  },
  {
   "cell_type": "code",
   "execution_count": 127,
   "metadata": {
    "collapsed": true
   },
   "outputs": [],
   "source": [
    "non_series_cols = [col for col in dataset.columns if 'Avg' not in col and 'Total' not in col]"
   ]
  },
  {
   "cell_type": "code",
   "execution_count": 32,
   "metadata": {
    "collapsed": true
   },
   "outputs": [],
   "source": [
    "dataset.to_csv('../data/PeMS/Incidents/work_folder/windows.csv', index=False)"
   ]
  },
  {
   "cell_type": "code",
   "execution_count": 246,
   "metadata": {
    "collapsed": true
   },
   "outputs": [],
   "source": [
    "dataset= pd.read_csv('../data/PeMS/Incidents/work_folder/fst_dataset/windows.csv', parse_dates=['Timestamp'])"
   ]
  },
  {
   "cell_type": "code",
   "execution_count": 12,
   "metadata": {
    "collapsed": true
   },
   "outputs": [],
   "source": [
    "def feature_extraction(dataset):\n",
    "    cols = [col for col in dataset.columns if 'Avg' in col or 'Total' in col]\n",
    "    dataset = dataset[cols]\n",
    "    t_labels = np.arange(len(cols)/3, dtype=int)\n",
    "    t_labels = np.concatenate((t_labels,t_labels,t_labels))\n",
    "    aux_labels = pd.DataFrame({'val_name': cols, 't': t_labels})\n",
    "    long = dataset.reset_index().melt(id_vars=['index'], var_name='series_param', value_name='value')\n",
    "    long = long.merge(aux_labels, how='left', left_on='series_param', right_on='val_name').drop('val_name', axis=1)\n",
    "    long['series_param'] = long['series_param'].apply(lambda row: row.split('_')[0])\n",
    "    long = long.rename(columns={'index': 'ID'})[['ID', 't', 'series_param', 'value']]\n",
    "    extracted = extract_features(long, column_id='ID', column_sort='t', column_kind='series_param', column_value='value', n_jobs=4)\n",
    "    # try imputation\n",
    "    extracted.dropna(axis=1, how='any', inplace=True)\n",
    "    return extracted"
   ]
  },
  {
   "cell_type": "code",
   "execution_count": 13,
   "metadata": {
    "collapsed": true
   },
   "outputs": [],
   "source": [
    "def batch_extraction(dataset, b_size):\n",
    "    m=dataset.shape[0]\n",
    "    result=pd.DataFrame()\n",
    "    for i in range(0, m, b_size):\n",
    "        crnt_ftrs = feature_extraction(dataset.loc[i:i+b_size-1])\n",
    "#         result = pd.concat((result, crnt_ftrs))\n",
    "        crnt_ftrs.to_csv('../data/PeMS/Incidents/work_folder/extracted/extracted_{0:d}.csv'.format(i), index=False)\n",
    "    print('EGOR virubajjj!!!!!!!!!!!!!!!!!!!!!!!!!!!!!!!!')\n"
   ]
  },
  {
   "cell_type": "code",
   "execution_count": 14,
   "metadata": {
    "collapsed": true
   },
   "outputs": [],
   "source": [
    "rnm_cols = ['Avg Occupancy_0', 'Avg Occupancy_1', 'Avg Occupancy_2',\n",
    "       'Avg Occupancy_3', 'Avg Occupancy_4', 'Avg Occupancy_5',\n",
    "       'Avg Occupancy_6', 'Avg Occupancy_7', 'Avg Occupancy_8',\n",
    "       'Avg Occupancy_9', 'Avg Occupancy_10', 'Avg Occupancy_11',\n",
    "       'Avg Occupancy_12', 'Avg Occupancy_13', 'Avg Occupancy_14',\n",
    "       'Avg Occupancy_15', 'Avg Speed_0', 'Avg Speed_1', 'Avg Speed_2',\n",
    "       'Avg Speed_3', 'Avg Speed_4', 'Avg Speed_5', 'Avg Speed_6',\n",
    "       'Avg Speed_7', 'Avg Speed_8', 'Avg Speed_9', 'Avg Speed_10',\n",
    "       'Avg Speed_11', 'Avg Speed_12', 'Avg Speed_13', 'Avg Speed_14',\n",
    "       'Avg Speed_15', 'Total Flow_0', 'Total Flow_1', 'Total Flow_2',\n",
    "       'Total Flow_3', 'Total Flow_4', 'Total Flow_5', 'Total Flow_6',\n",
    "       'Total Flow_7', 'Total Flow_8', 'Total Flow_9', 'Total Flow_10',\n",
    "       'Total Flow_11', 'Total Flow_12', 'Total Flow_13', 'Total Flow_14',\n",
    "       'Total Flow_15']"
   ]
  },
  {
   "cell_type": "code",
   "execution_count": 15,
   "metadata": {
    "collapsed": true
   },
   "outputs": [],
   "source": [
    "dct = dict()\n",
    "for col in rnm_cols:\n",
    "    dct['Next_'+col] = 'Next '+col"
   ]
  },
  {
   "cell_type": "code",
   "execution_count": 16,
   "metadata": {
    "collapsed": true
   },
   "outputs": [],
   "source": [
    "dataset.rename(columns=dct, inplace=True)"
   ]
  },
  {
   "cell_type": "code",
   "execution_count": 18,
   "metadata": {
    "scrolled": true
   },
   "outputs": [
    {
     "name": "stderr",
     "output_type": "stream",
     "text": [
      "Feature Extraction: 100%|██████████| 20/20 [03:16<00:00,  9.81s/it]\n"
     ]
    },
    {
     "ename": "FileNotFoundError",
     "evalue": "[Errno 2] No such file or directory: '../data/PeMS/Incidents/work_folder/extracted/extracted_0.csv'",
     "output_type": "error",
     "traceback": [
      "\u001b[0;31m---------------------------------------------------------------------------\u001b[0m",
      "\u001b[0;31mFileNotFoundError\u001b[0m                         Traceback (most recent call last)",
      "\u001b[0;32m<ipython-input-18-ccd986fe13d9>\u001b[0m in \u001b[0;36m<module>\u001b[0;34m()\u001b[0m\n\u001b[0;32m----> 1\u001b[0;31m \u001b[0mbatch_extraction\u001b[0m\u001b[0;34m(\u001b[0m\u001b[0mdataset\u001b[0m\u001b[0;34m,\u001b[0m \u001b[0;36m1000\u001b[0m\u001b[0;34m)\u001b[0m\u001b[0;34m\u001b[0m\u001b[0m\n\u001b[0m",
      "\u001b[0;32m<ipython-input-13-9b0ff306e9c2>\u001b[0m in \u001b[0;36mbatch_extraction\u001b[0;34m(dataset, b_size)\u001b[0m\n\u001b[1;32m      5\u001b[0m         \u001b[0mcrnt_ftrs\u001b[0m \u001b[0;34m=\u001b[0m \u001b[0mfeature_extraction\u001b[0m\u001b[0;34m(\u001b[0m\u001b[0mdataset\u001b[0m\u001b[0;34m.\u001b[0m\u001b[0mloc\u001b[0m\u001b[0;34m[\u001b[0m\u001b[0mi\u001b[0m\u001b[0;34m:\u001b[0m\u001b[0mi\u001b[0m\u001b[0;34m+\u001b[0m\u001b[0mb_size\u001b[0m\u001b[0;34m-\u001b[0m\u001b[0;36m1\u001b[0m\u001b[0;34m]\u001b[0m\u001b[0;34m)\u001b[0m\u001b[0;34m\u001b[0m\u001b[0m\n\u001b[1;32m      6\u001b[0m \u001b[0;31m#         result = pd.concat((result, crnt_ftrs))\u001b[0m\u001b[0;34m\u001b[0m\u001b[0;34m\u001b[0m\u001b[0m\n\u001b[0;32m----> 7\u001b[0;31m         \u001b[0mcrnt_ftrs\u001b[0m\u001b[0;34m.\u001b[0m\u001b[0mto_csv\u001b[0m\u001b[0;34m(\u001b[0m\u001b[0;34m'../data/PeMS/Incidents/work_folder/extracted/extracted_{0:d}.csv'\u001b[0m\u001b[0;34m.\u001b[0m\u001b[0mformat\u001b[0m\u001b[0;34m(\u001b[0m\u001b[0mi\u001b[0m\u001b[0;34m)\u001b[0m\u001b[0;34m,\u001b[0m \u001b[0mindex\u001b[0m\u001b[0;34m=\u001b[0m\u001b[0;32mFalse\u001b[0m\u001b[0;34m)\u001b[0m\u001b[0;34m\u001b[0m\u001b[0m\n\u001b[0m\u001b[1;32m      8\u001b[0m     \u001b[0mprint\u001b[0m\u001b[0;34m(\u001b[0m\u001b[0;34m'EGOR virubajjj!!!!!!!!!!!!!!!!!!!!!!!!!!!!!!!!'\u001b[0m\u001b[0;34m)\u001b[0m\u001b[0;34m\u001b[0m\u001b[0m\n",
      "\u001b[0;32m/opt/anaconda3/lib/python3.6/site-packages/pandas/core/frame.py\u001b[0m in \u001b[0;36mto_csv\u001b[0;34m(self, path_or_buf, sep, na_rep, float_format, columns, header, index, index_label, mode, encoding, compression, quoting, quotechar, line_terminator, chunksize, tupleize_cols, date_format, doublequote, escapechar, decimal)\u001b[0m\n\u001b[1;32m   1522\u001b[0m                                      \u001b[0mdoublequote\u001b[0m\u001b[0;34m=\u001b[0m\u001b[0mdoublequote\u001b[0m\u001b[0;34m,\u001b[0m\u001b[0;34m\u001b[0m\u001b[0m\n\u001b[1;32m   1523\u001b[0m                                      escapechar=escapechar, decimal=decimal)\n\u001b[0;32m-> 1524\u001b[0;31m         \u001b[0mformatter\u001b[0m\u001b[0;34m.\u001b[0m\u001b[0msave\u001b[0m\u001b[0;34m(\u001b[0m\u001b[0;34m)\u001b[0m\u001b[0;34m\u001b[0m\u001b[0m\n\u001b[0m\u001b[1;32m   1525\u001b[0m \u001b[0;34m\u001b[0m\u001b[0m\n\u001b[1;32m   1526\u001b[0m         \u001b[0;32mif\u001b[0m \u001b[0mpath_or_buf\u001b[0m \u001b[0;32mis\u001b[0m \u001b[0;32mNone\u001b[0m\u001b[0;34m:\u001b[0m\u001b[0;34m\u001b[0m\u001b[0m\n",
      "\u001b[0;32m/opt/anaconda3/lib/python3.6/site-packages/pandas/io/formats/format.py\u001b[0m in \u001b[0;36msave\u001b[0;34m(self)\u001b[0m\n\u001b[1;32m   1635\u001b[0m             f, handles = _get_handle(self.path_or_buf, self.mode,\n\u001b[1;32m   1636\u001b[0m                                      \u001b[0mencoding\u001b[0m\u001b[0;34m=\u001b[0m\u001b[0mencoding\u001b[0m\u001b[0;34m,\u001b[0m\u001b[0;34m\u001b[0m\u001b[0m\n\u001b[0;32m-> 1637\u001b[0;31m                                      compression=self.compression)\n\u001b[0m\u001b[1;32m   1638\u001b[0m             \u001b[0mclose\u001b[0m \u001b[0;34m=\u001b[0m \u001b[0;32mTrue\u001b[0m\u001b[0;34m\u001b[0m\u001b[0m\n\u001b[1;32m   1639\u001b[0m \u001b[0;34m\u001b[0m\u001b[0m\n",
      "\u001b[0;32m/opt/anaconda3/lib/python3.6/site-packages/pandas/io/common.py\u001b[0m in \u001b[0;36m_get_handle\u001b[0;34m(path_or_buf, mode, encoding, compression, memory_map, is_text)\u001b[0m\n\u001b[1;32m    388\u001b[0m         \u001b[0;32melif\u001b[0m \u001b[0mencoding\u001b[0m\u001b[0;34m:\u001b[0m\u001b[0;34m\u001b[0m\u001b[0m\n\u001b[1;32m    389\u001b[0m             \u001b[0;31m# Python 3 and encoding\u001b[0m\u001b[0;34m\u001b[0m\u001b[0;34m\u001b[0m\u001b[0m\n\u001b[0;32m--> 390\u001b[0;31m             \u001b[0mf\u001b[0m \u001b[0;34m=\u001b[0m \u001b[0mopen\u001b[0m\u001b[0;34m(\u001b[0m\u001b[0mpath_or_buf\u001b[0m\u001b[0;34m,\u001b[0m \u001b[0mmode\u001b[0m\u001b[0;34m,\u001b[0m \u001b[0mencoding\u001b[0m\u001b[0;34m=\u001b[0m\u001b[0mencoding\u001b[0m\u001b[0;34m)\u001b[0m\u001b[0;34m\u001b[0m\u001b[0m\n\u001b[0m\u001b[1;32m    391\u001b[0m         \u001b[0;32melif\u001b[0m \u001b[0mis_text\u001b[0m\u001b[0;34m:\u001b[0m\u001b[0;34m\u001b[0m\u001b[0m\n\u001b[1;32m    392\u001b[0m             \u001b[0;31m# Python 3 and no explicit encoding\u001b[0m\u001b[0;34m\u001b[0m\u001b[0;34m\u001b[0m\u001b[0m\n",
      "\u001b[0;31mFileNotFoundError\u001b[0m: [Errno 2] No such file or directory: '../data/PeMS/Incidents/work_folder/extracted/extracted_0.csv'"
     ]
    }
   ],
   "source": [
    "batch_extraction(dataset, 1000)"
   ]
  },
  {
   "cell_type": "code",
   "execution_count": 129,
   "metadata": {
    "collapsed": true
   },
   "outputs": [],
   "source": [
    "tr_X, te_X, tr_y, te_y = train_test_split(test.drop(columns=['y']), test['y'], stratify=test.y, test_size=.2)"
   ]
  },
  {
   "cell_type": "code",
   "execution_count": 236,
   "metadata": {
    "scrolled": true
   },
   "outputs": [
    {
     "name": "stdout",
     "output_type": "stream",
     "text": [
      "acc = 0.6635275652344517\n",
      "f1 = 0.6567940764458675\n",
      "CM = [[3482 1431]\n",
      " [1999 3282]]\n"
     ]
    }
   ],
   "source": [
    "logreg = LogisticRegression()\n",
    "logreg.fit(tr_X, tr_y)\n",
    "print('acc =', logreg.score(te_X, te_y))\n",
    "predict = logreg.predict(te_X)\n",
    "F1_score = f1_score(te_y, predict)\n",
    "print('f1 =', F1_score)\n",
    "print('CM =', confusion_matrix(te_y, predict))"
   ]
  },
  {
   "cell_type": "code",
   "execution_count": 237,
   "metadata": {},
   "outputs": [
    {
     "name": "stdout",
     "output_type": "stream",
     "text": [
      "acc = 0.7032568177359231\n",
      "f1 = 0.6977720051953242\n",
      "CM = [[3677 1236]\n",
      " [1789 3492]]\n"
     ]
    }
   ],
   "source": [
    "forest = RandomForestClassifier(random_state=14)\n",
    "forest.fit(tr_X, tr_y)\n",
    "print('acc =', forest.score(te_X, te_y))\n",
    "predict = forest.predict(te_X)\n",
    "F1_score = f1_score(te_y, predict)\n",
    "print('f1 =', F1_score)\n",
    "print('CM =', confusion_matrix(te_y, predict, labels=[0,1]))"
   ]
  },
  {
   "cell_type": "code",
   "execution_count": 238,
   "metadata": {
    "collapsed": true
   },
   "outputs": [],
   "source": [
    "proba = forest.predict_proba(te_X)"
   ]
  },
  {
   "cell_type": "code",
   "execution_count": null,
   "metadata": {
    "collapsed": true
   },
   "outputs": [],
   "source": []
  },
  {
   "cell_type": "code",
   "execution_count": 239,
   "metadata": {
    "collapsed": true
   },
   "outputs": [],
   "source": [
    "fpr, tpr, _ = roc_curve(te_y, proba[:,1])"
   ]
  },
  {
   "cell_type": "code",
   "execution_count": 240,
   "metadata": {},
   "outputs": [
    {
     "data": {
      "image/png": "[encoded data removed]",
      "text/plain": [
       "<matplotlib.figure.Figure at 0x7f8587f19a20>"
      ]
     },
     "metadata": {},
     "output_type": "display_data"
    }
   ],
   "source": [
    "plt.plot(fpr, tpr)\n",
    "plt.plot([0, 1],[0,1])\n",
    "plt.show()"
   ]
  },
  {
   "cell_type": "code",
   "execution_count": 15,
   "metadata": {
    "collapsed": true
   },
   "outputs": [],
   "source": [
    "def batch_concatenation(dataset, b_size):\n",
    "    m=dataset.shape[0]\n",
    "    result = pd.DataFrame()\n",
    "    for i in range(0, m, b_size):\n",
    "        crnt_ftrs = pd.read_csv('../data/PeMS/Incidents/work_folder/fst_dataset/extracted/extracted_{0:d}.csv'.format(i))\n",
    "        crnt_ftrs = crnt_ftrs.replace([np.inf, -np.inf], np.NaN)\n",
    "        crnt_ftrs.dropna(axis=1, inplace=True)\n",
    "        result = pd.concat((result, crnt_ftrs), axis=0)\n",
    "    result = result.dropna(axis=1).reset_index(drop=True)\n",
    "    non_series_cols = [col for col in dataset.columns if 'Avg' not in col and 'Total' not in col]\n",
    "    result = pd.concat((result, dataset[non_series_cols]), axis=1)\n",
    "    return result"
   ]
  },
  {
   "cell_type": "code",
   "execution_count": 16,
   "metadata": {
    "collapsed": true
   },
   "outputs": [],
   "source": [
    "test = batch_concatenation(dataset,1000)"
   ]
  },
  {
   "cell_type": "code",
   "execution_count": 17,
   "metadata": {
    "collapsed": true
   },
   "outputs": [],
   "source": [
    "test.drop(columns='Timestamp', inplace=True)"
   ]
  },
  {
   "cell_type": "code",
   "execution_count": 18,
   "metadata": {
    "collapsed": true
   },
   "outputs": [],
   "source": [
    "test.to_csv('../data/PeMS/Incidents/work_folder/fst_dataset/extracted.csv', index=False)"
   ]
  },
  {
   "cell_type": "code",
   "execution_count": 2,
   "metadata": {
    "collapsed": true
   },
   "outputs": [],
   "source": [
    "test = pd.read_csv('../data/PeMS/Incidents/work_folder/fst_dataset/extracted.csv')"
   ]
  },
  {
   "cell_type": "code",
   "execution_count": 19,
   "metadata": {
    "collapsed": true
   },
   "outputs": [],
   "source": [
    "tr_X, te_X, tr_y, te_y = train_test_split(test.drop(columns=['y', 'IncidentID']), test['y'], stratify=test.y)"
   ]
  },
  {
   "cell_type": "code",
   "execution_count": 20,
   "metadata": {
    "collapsed": true
   },
   "outputs": [],
   "source": [
    "scaler = StandardScaler()"
   ]
  },
  {
   "cell_type": "code",
   "execution_count": 21,
   "metadata": {
    "collapsed": true
   },
   "outputs": [],
   "source": [
    "tr_X = scaler.fit_transform(tr_X)"
   ]
  },
  {
   "cell_type": "code",
   "execution_count": 22,
   "metadata": {
    "collapsed": true
   },
   "outputs": [],
   "source": [
    "te_X = scaler.transform(te_X)"
   ]
  },
  {
   "cell_type": "code",
   "execution_count": 29,
   "metadata": {
    "scrolled": true
   },
   "outputs": [
    {
     "name": "stdout",
     "output_type": "stream",
     "text": [
      "acc = 0.6731410633706102\n",
      "f1 = 0.6624797406807131\n",
      "CM = [[3592 1321]\n",
      " [2011 3270]]\n"
     ]
    }
   ],
   "source": [
    "logreg = LogisticRegression()\n",
    "logreg.fit(tr_X, tr_y)\n",
    "print('acc =', logreg.score(te_X, te_y))\n",
    "predict = logreg.predict(te_X)\n",
    "F1_score = f1_score(te_y, predict)\n",
    "print('f1 =', F1_score)\n",
    "print('CM =', confusion_matrix(te_y, predict))"
   ]
  },
  {
   "cell_type": "code",
   "execution_count": 30,
   "metadata": {},
   "outputs": [
    {
     "name": "stdout",
     "output_type": "stream",
     "text": [
      "acc = 0.6783402001177163\n",
      "f1 = 0.6674104878790952\n",
      "CM = [[3625 1288]\n",
      " [1991 3290]]\n"
     ]
    }
   ],
   "source": [
    "forest = RandomForestClassifier(random_state=14)\n",
    "forest.fit(tr_X, tr_y)\n",
    "print('acc =', forest.score(te_X, te_y))\n",
    "predict = forest.predict(te_X)\n",
    "F1_score = f1_score(te_y, predict)\n",
    "print('f1 =', F1_score)\n",
    "print('CM =', confusion_matrix(te_y, predict, labels=[0,1]))"
   ]
  },
  {
   "cell_type": "code",
   "execution_count": null,
   "metadata": {
    "collapsed": true
   },
   "outputs": [],
   "source": []
  },
  {
   "cell_type": "code",
   "execution_count": 145,
   "metadata": {
    "collapsed": true
   },
   "outputs": [],
   "source": [
    "grid_params = {'n_estimators': [10, 100, 200],\n",
    "               'max_depth' : [2, 3, 5],  \n",
    "               'min_samples_leaf': [2, 5, 10]\n",
    "}\n",
    "grd_search = GridSearchCV(forest, grid_params,\n",
    "                          scoring={'f1_score' : make_scorer(f1_score)},\n",
    "                          refit='f1_score',\n",
    "                          cv=5, return_train_score=True, n_jobs=-1, verbose=2)"
   ]
  },
  {
   "cell_type": "code",
   "execution_count": 264,
   "metadata": {
    "scrolled": true
   },
   "outputs": [
    {
     "name": "stdout",
     "output_type": "stream",
     "text": [
      "Fitting 5 folds for each of 27 candidates, totalling 135 fits\n",
      "[CV] max_depth=2, min_samples_leaf=2, n_estimators=10 ................\n",
      "[CV] max_depth=2, min_samples_leaf=2, n_estimators=10 ................\n",
      "[CV] max_depth=2, min_samples_leaf=2, n_estimators=10 ................\n",
      "[CV] max_depth=2, min_samples_leaf=2, n_estimators=10 ................\n",
      "[CV] . max_depth=2, min_samples_leaf=2, n_estimators=10, total=   3.1s\n",
      "[CV] max_depth=2, min_samples_leaf=2, n_estimators=10 ................\n",
      "[CV] . max_depth=2, min_samples_leaf=2, n_estimators=10, total=   3.0s\n",
      "[CV] . max_depth=2, min_samples_leaf=2, n_estimators=10, total=   3.0s\n",
      "[CV] . max_depth=2, min_samples_leaf=2, n_estimators=10, total=   3.1s\n",
      "[CV] max_depth=2, min_samples_leaf=2, n_estimators=100 ...............\n",
      "[CV] max_depth=2, min_samples_leaf=2, n_estimators=100 ...............\n",
      "[CV] max_depth=2, min_samples_leaf=2, n_estimators=100 ...............\n",
      "[CV] . max_depth=2, min_samples_leaf=2, n_estimators=10, total=   0.4s\n",
      "[CV] max_depth=2, min_samples_leaf=2, n_estimators=100 ...............\n",
      "[CV]  max_depth=2, min_samples_leaf=2, n_estimators=100, total=   3.3s\n",
      "[CV] max_depth=2, min_samples_leaf=2, n_estimators=100 ...............\n",
      "[CV]  max_depth=2, min_samples_leaf=2, n_estimators=100, total=   3.4s\n",
      "[CV] max_depth=2, min_samples_leaf=2, n_estimators=200 ...............\n",
      "[CV]  max_depth=2, min_samples_leaf=2, n_estimators=100, total=   3.3s\n",
      "[CV] max_depth=2, min_samples_leaf=2, n_estimators=200 ...............\n",
      "[CV]  max_depth=2, min_samples_leaf=2, n_estimators=100, total=   3.4s\n",
      "[CV] max_depth=2, min_samples_leaf=2, n_estimators=200 ...............\n",
      "[CV]  max_depth=2, min_samples_leaf=2, n_estimators=100, total=   3.4s\n",
      "[CV] max_depth=2, min_samples_leaf=2, n_estimators=200 ...............\n",
      "[CV]  max_depth=2, min_samples_leaf=2, n_estimators=200, total=   6.9s\n",
      "[CV] max_depth=2, min_samples_leaf=2, n_estimators=200 ...............\n",
      "[CV]  max_depth=2, min_samples_leaf=2, n_estimators=200, total=   6.7s\n",
      "[CV] max_depth=2, min_samples_leaf=5, n_estimators=10 ................\n",
      "[CV]  max_depth=2, min_samples_leaf=2, n_estimators=200, total=   7.1s\n",
      "[CV] max_depth=2, min_samples_leaf=5, n_estimators=10 ................\n",
      "[CV] . max_depth=2, min_samples_leaf=5, n_estimators=10, total=   0.4s\n",
      "[CV] . max_depth=2, min_samples_leaf=5, n_estimators=10, total=   0.5s\n",
      "[CV] max_depth=2, min_samples_leaf=5, n_estimators=10 ................\n",
      "[CV] max_depth=2, min_samples_leaf=5, n_estimators=10 ................\n",
      "[CV] . max_depth=2, min_samples_leaf=5, n_estimators=10, total=   0.4s\n",
      "[CV] max_depth=2, min_samples_leaf=5, n_estimators=10 ................\n",
      "[CV] . max_depth=2, min_samples_leaf=5, n_estimators=10, total=   0.5s\n",
      "[CV] max_depth=2, min_samples_leaf=5, n_estimators=100 ...............\n",
      "[CV] . max_depth=2, min_samples_leaf=5, n_estimators=10, total=   1.5s\n",
      "[CV] max_depth=2, min_samples_leaf=5, n_estimators=100 ...............\n",
      "[CV]  max_depth=2, min_samples_leaf=2, n_estimators=200, total=   7.8s\n",
      "[CV] max_depth=2, min_samples_leaf=5, n_estimators=100 ...............\n",
      "[CV]  max_depth=2, min_samples_leaf=5, n_estimators=100, total=   3.0s\n",
      "[CV] max_depth=2, min_samples_leaf=5, n_estimators=100 ...............\n",
      "[CV]  max_depth=2, min_samples_leaf=5, n_estimators=100, total=   3.2s\n",
      "[CV] max_depth=2, min_samples_leaf=5, n_estimators=100 ...............\n",
      "[CV]  max_depth=2, min_samples_leaf=2, n_estimators=200, total=   6.6s\n",
      "[CV] max_depth=2, min_samples_leaf=5, n_estimators=200 ...............\n",
      "[CV]  max_depth=2, min_samples_leaf=5, n_estimators=100, total=   3.0s\n",
      "[CV] max_depth=2, min_samples_leaf=5, n_estimators=200 ...............\n",
      "[CV]  max_depth=2, min_samples_leaf=5, n_estimators=100, total=   3.3s\n",
      "[CV] max_depth=2, min_samples_leaf=5, n_estimators=200 ...............\n",
      "[CV]  max_depth=2, min_samples_leaf=5, n_estimators=100, total=   3.1s\n",
      "[CV] max_depth=2, min_samples_leaf=5, n_estimators=200 ...............\n",
      "[CV]  max_depth=2, min_samples_leaf=5, n_estimators=200, total=   6.6s\n",
      "[CV] max_depth=2, min_samples_leaf=5, n_estimators=200 ...............\n",
      "[CV]  max_depth=2, min_samples_leaf=5, n_estimators=200, total=   6.7s\n",
      "[CV] max_depth=2, min_samples_leaf=10, n_estimators=10 ...............\n",
      "[CV]  max_depth=2, min_samples_leaf=10, n_estimators=10, total=   0.4s\n",
      "[CV] max_depth=2, min_samples_leaf=10, n_estimators=10 ...............\n",
      "[CV]  max_depth=2, min_samples_leaf=5, n_estimators=200, total=   6.7s\n",
      "[CV] max_depth=2, min_samples_leaf=10, n_estimators=10 ...............\n",
      "[CV]  max_depth=2, min_samples_leaf=10, n_estimators=10, total=   0.4s\n",
      "[CV] max_depth=2, min_samples_leaf=10, n_estimators=10 ...............\n",
      "[CV]  max_depth=2, min_samples_leaf=10, n_estimators=10, total=   0.4s\n",
      "[CV] max_depth=2, min_samples_leaf=10, n_estimators=10 ...............\n",
      "[CV]  max_depth=2, min_samples_leaf=10, n_estimators=10, total=   0.4s\n",
      "[CV] max_depth=2, min_samples_leaf=10, n_estimators=100 ..............\n",
      "[CV]  max_depth=2, min_samples_leaf=10, n_estimators=10, total=   0.4s\n",
      "[CV] max_depth=2, min_samples_leaf=10, n_estimators=100 ..............\n"
     ]
    },
    {
     "name": "stderr",
     "output_type": "stream",
     "text": [
      "[Parallel(n_jobs=-1)]: Done  33 tasks      | elapsed:   31.3s\n"
     ]
    },
    {
     "name": "stdout",
     "output_type": "stream",
     "text": [
      "[CV]  max_depth=2, min_samples_leaf=5, n_estimators=200, total=   6.7s\n",
      "[CV] max_depth=2, min_samples_leaf=10, n_estimators=100 ..............\n",
      "[CV]  max_depth=2, min_samples_leaf=10, n_estimators=100, total=   3.6s\n",
      "[CV] max_depth=2, min_samples_leaf=10, n_estimators=100 ..............\n",
      "[CV]  max_depth=2, min_samples_leaf=10, n_estimators=100, total=   3.7s\n",
      "[CV] max_depth=2, min_samples_leaf=10, n_estimators=100 ..............\n",
      "[CV]  max_depth=2, min_samples_leaf=10, n_estimators=100, total=   3.9s\n",
      "[CV] max_depth=2, min_samples_leaf=10, n_estimators=200 ..............\n",
      "[CV]  max_depth=2, min_samples_leaf=5, n_estimators=200, total=   7.0s\n",
      "[CV] max_depth=2, min_samples_leaf=10, n_estimators=200 ..............\n",
      "[CV]  max_depth=2, min_samples_leaf=10, n_estimators=100, total=   3.1s\n",
      "[CV] max_depth=2, min_samples_leaf=10, n_estimators=200 ..............\n",
      "[CV]  max_depth=2, min_samples_leaf=10, n_estimators=100, total=   3.3s\n",
      "[CV] max_depth=2, min_samples_leaf=10, n_estimators=200 ..............\n",
      "[CV]  max_depth=2, min_samples_leaf=10, n_estimators=200, total=   6.4s\n",
      "[CV] max_depth=2, min_samples_leaf=10, n_estimators=200 ..............\n",
      "[CV]  max_depth=2, min_samples_leaf=10, n_estimators=200, total=   6.9s\n",
      "[CV] max_depth=3, min_samples_leaf=2, n_estimators=10 ................\n",
      "[CV] . max_depth=3, min_samples_leaf=2, n_estimators=10, total=   0.5s\n",
      "[CV] max_depth=3, min_samples_leaf=2, n_estimators=10 ................\n",
      "[CV] . max_depth=3, min_samples_leaf=2, n_estimators=10, total=   0.5s\n",
      "[CV] max_depth=3, min_samples_leaf=2, n_estimators=10 ................\n",
      "[CV]  max_depth=2, min_samples_leaf=10, n_estimators=200, total=   6.1s\n",
      "[CV] max_depth=3, min_samples_leaf=2, n_estimators=10 ................\n",
      "[CV]  max_depth=2, min_samples_leaf=10, n_estimators=200, total=   6.3s\n",
      "[CV] max_depth=3, min_samples_leaf=2, n_estimators=10 ................\n",
      "[CV] . max_depth=3, min_samples_leaf=2, n_estimators=10, total=   0.6s\n",
      "[CV] max_depth=3, min_samples_leaf=2, n_estimators=100 ...............\n",
      "[CV] . max_depth=3, min_samples_leaf=2, n_estimators=10, total=   0.6s\n",
      "[CV] max_depth=3, min_samples_leaf=2, n_estimators=100 ...............\n",
      "[CV] . max_depth=3, min_samples_leaf=2, n_estimators=10, total=   0.5s\n",
      "[CV] max_depth=3, min_samples_leaf=2, n_estimators=100 ...............\n",
      "[CV]  max_depth=2, min_samples_leaf=10, n_estimators=200, total=   7.0s\n",
      "[CV] max_depth=3, min_samples_leaf=2, n_estimators=100 ...............\n",
      "[CV]  max_depth=3, min_samples_leaf=2, n_estimators=100, total=   5.0s\n",
      "[CV] max_depth=3, min_samples_leaf=2, n_estimators=100 ...............\n",
      "[CV]  max_depth=3, min_samples_leaf=2, n_estimators=100, total=   4.7s\n",
      "[CV] max_depth=3, min_samples_leaf=2, n_estimators=200 ...............\n",
      "[CV]  max_depth=3, min_samples_leaf=2, n_estimators=100, total=   5.1s\n",
      "[CV] max_depth=3, min_samples_leaf=2, n_estimators=200 ...............\n",
      "[CV]  max_depth=3, min_samples_leaf=2, n_estimators=100, total=   4.0s\n",
      "[CV] max_depth=3, min_samples_leaf=2, n_estimators=200 ...............\n",
      "[CV]  max_depth=3, min_samples_leaf=2, n_estimators=100, total=   4.5s\n",
      "[CV] max_depth=3, min_samples_leaf=2, n_estimators=200 ...............\n",
      "[CV]  max_depth=3, min_samples_leaf=2, n_estimators=200, total=   7.7s\n",
      "[CV] max_depth=3, min_samples_leaf=2, n_estimators=200 ...............\n",
      "[CV]  max_depth=3, min_samples_leaf=2, n_estimators=200, total=   8.7s\n",
      "[CV] max_depth=3, min_samples_leaf=5, n_estimators=10 ................\n",
      "[CV] . max_depth=3, min_samples_leaf=5, n_estimators=10, total=   0.4s\n",
      "[CV] max_depth=3, min_samples_leaf=5, n_estimators=10 ................\n",
      "[CV] . max_depth=3, min_samples_leaf=5, n_estimators=10, total=   0.4s\n",
      "[CV] max_depth=3, min_samples_leaf=5, n_estimators=10 ................\n",
      "[CV] . max_depth=3, min_samples_leaf=5, n_estimators=10, total=   0.4s\n",
      "[CV] max_depth=3, min_samples_leaf=5, n_estimators=10 ................\n",
      "[CV] . max_depth=3, min_samples_leaf=5, n_estimators=10, total=   0.4s\n",
      "[CV] max_depth=3, min_samples_leaf=5, n_estimators=10 ................\n",
      "[CV] . max_depth=3, min_samples_leaf=5, n_estimators=10, total=   0.4s\n",
      "[CV] max_depth=3, min_samples_leaf=5, n_estimators=100 ...............\n",
      "[CV]  max_depth=3, min_samples_leaf=2, n_estimators=200, total=   8.7s\n",
      "[CV] max_depth=3, min_samples_leaf=5, n_estimators=100 ...............\n",
      "[CV]  max_depth=3, min_samples_leaf=2, n_estimators=200, total=   8.1s\n",
      "[CV] max_depth=3, min_samples_leaf=5, n_estimators=100 ...............\n",
      "[CV]  max_depth=3, min_samples_leaf=5, n_estimators=100, total=   4.1s\n",
      "[CV] max_depth=3, min_samples_leaf=5, n_estimators=100 ...............\n",
      "[CV]  max_depth=3, min_samples_leaf=5, n_estimators=100, total=   4.1s\n",
      "[CV] max_depth=3, min_samples_leaf=5, n_estimators=100 ...............\n",
      "[CV]  max_depth=3, min_samples_leaf=5, n_estimators=100, total=   4.2s\n",
      "[CV] max_depth=3, min_samples_leaf=5, n_estimators=200 ...............\n",
      "[CV]  max_depth=3, min_samples_leaf=2, n_estimators=200, total=   8.8s\n",
      "[CV] max_depth=3, min_samples_leaf=5, n_estimators=200 ...............\n",
      "[CV]  max_depth=3, min_samples_leaf=5, n_estimators=100, total=   4.0s\n",
      "[CV] max_depth=3, min_samples_leaf=5, n_estimators=200 ...............\n",
      "[CV]  max_depth=3, min_samples_leaf=5, n_estimators=100, total=   4.4s\n",
      "[CV] max_depth=3, min_samples_leaf=5, n_estimators=200 ...............\n",
      "[CV]  max_depth=3, min_samples_leaf=5, n_estimators=200, total=   8.1s\n",
      "[CV] max_depth=3, min_samples_leaf=5, n_estimators=200 ...............\n",
      "[CV]  max_depth=3, min_samples_leaf=5, n_estimators=200, total=   8.1s\n",
      "[CV] max_depth=3, min_samples_leaf=10, n_estimators=10 ...............\n",
      "[CV]  max_depth=3, min_samples_leaf=10, n_estimators=10, total=   0.5s\n",
      "[CV] max_depth=3, min_samples_leaf=10, n_estimators=10 ...............\n",
      "[CV]  max_depth=3, min_samples_leaf=10, n_estimators=10, total=   0.5s\n",
      "[CV] max_depth=3, min_samples_leaf=10, n_estimators=10 ...............\n",
      "[CV]  max_depth=3, min_samples_leaf=10, n_estimators=10, total=   0.5s\n",
      "[CV] max_depth=3, min_samples_leaf=10, n_estimators=10 ...............\n",
      "[CV]  max_depth=3, min_samples_leaf=10, n_estimators=10, total=   0.4s\n",
      "[CV] max_depth=3, min_samples_leaf=10, n_estimators=10 ...............\n",
      "[CV]  max_depth=3, min_samples_leaf=10, n_estimators=10, total=   0.4s\n",
      "[CV] max_depth=3, min_samples_leaf=10, n_estimators=100 ..............\n",
      "[CV]  max_depth=3, min_samples_leaf=5, n_estimators=200, total=   8.5s\n",
      "[CV] max_depth=3, min_samples_leaf=10, n_estimators=100 ..............\n",
      "[CV]  max_depth=3, min_samples_leaf=5, n_estimators=200, total=   8.4s\n",
      "[CV] max_depth=3, min_samples_leaf=10, n_estimators=100 ..............\n",
      "[CV]  max_depth=3, min_samples_leaf=10, n_estimators=100, total=   4.1s\n",
      "[CV] max_depth=3, min_samples_leaf=10, n_estimators=100 ..............\n",
      "[CV]  max_depth=3, min_samples_leaf=10, n_estimators=100, total=   4.5s\n",
      "[CV] max_depth=3, min_samples_leaf=10, n_estimators=100 ..............\n",
      "[CV]  max_depth=3, min_samples_leaf=5, n_estimators=200, total=   7.7s\n",
      "[CV] max_depth=3, min_samples_leaf=10, n_estimators=200 ..............\n",
      "[CV]  max_depth=3, min_samples_leaf=10, n_estimators=100, total=   4.1s\n",
      "[CV] max_depth=3, min_samples_leaf=10, n_estimators=200 ..............\n",
      "[CV]  max_depth=3, min_samples_leaf=10, n_estimators=100, total=   4.3s\n",
      "[CV] max_depth=3, min_samples_leaf=10, n_estimators=200 ..............\n",
      "[CV]  max_depth=3, min_samples_leaf=10, n_estimators=100, total=   4.1s\n",
      "[CV] max_depth=3, min_samples_leaf=10, n_estimators=200 ..............\n",
      "[CV]  max_depth=3, min_samples_leaf=10, n_estimators=200, total=   8.0s\n",
      "[CV] max_depth=3, min_samples_leaf=10, n_estimators=200 ..............\n",
      "[CV]  max_depth=3, min_samples_leaf=10, n_estimators=200, total=   7.9s\n",
      "[CV] max_depth=5, min_samples_leaf=2, n_estimators=10 ................\n",
      "[CV] . max_depth=5, min_samples_leaf=2, n_estimators=10, total=   0.7s\n",
      "[CV] max_depth=5, min_samples_leaf=2, n_estimators=10 ................\n",
      "[CV] . max_depth=5, min_samples_leaf=2, n_estimators=10, total=   0.7s\n",
      "[CV] max_depth=5, min_samples_leaf=2, n_estimators=10 ................\n",
      "[CV] . max_depth=5, min_samples_leaf=2, n_estimators=10, total=   0.7s\n",
      "[CV] max_depth=5, min_samples_leaf=2, n_estimators=10 ................\n",
      "[CV]  max_depth=3, min_samples_leaf=10, n_estimators=200, total=   8.3s\n",
      "[CV] max_depth=5, min_samples_leaf=2, n_estimators=10 ................\n",
      "[CV] . max_depth=5, min_samples_leaf=2, n_estimators=10, total=   0.7s\n",
      "[CV] max_depth=5, min_samples_leaf=2, n_estimators=100 ...............\n",
      "[CV] . max_depth=5, min_samples_leaf=2, n_estimators=10, total=   0.8s\n",
      "[CV] max_depth=5, min_samples_leaf=2, n_estimators=100 ...............\n",
      "[CV]  max_depth=3, min_samples_leaf=10, n_estimators=200, total=   8.4s\n",
      "[CV] max_depth=5, min_samples_leaf=2, n_estimators=100 ...............\n",
      "[CV]  max_depth=3, min_samples_leaf=10, n_estimators=200, total=   8.2s\n",
      "[CV] max_depth=5, min_samples_leaf=2, n_estimators=100 ...............\n",
      "[CV]  max_depth=5, min_samples_leaf=2, n_estimators=100, total=   6.0s\n",
      "[CV] max_depth=5, min_samples_leaf=2, n_estimators=100 ...............\n",
      "[CV]  max_depth=5, min_samples_leaf=2, n_estimators=100, total=   6.2s\n",
      "[CV] max_depth=5, min_samples_leaf=2, n_estimators=200 ...............\n",
      "[CV]  max_depth=5, min_samples_leaf=2, n_estimators=100, total=   6.2s\n",
      "[CV] max_depth=5, min_samples_leaf=2, n_estimators=200 ...............\n",
      "[CV]  max_depth=5, min_samples_leaf=2, n_estimators=100, total=   6.1s\n",
      "[CV] max_depth=5, min_samples_leaf=2, n_estimators=200 ...............\n",
      "[CV]  max_depth=5, min_samples_leaf=2, n_estimators=100, total=   6.1s\n",
      "[CV] max_depth=5, min_samples_leaf=2, n_estimators=200 ...............\n",
      "[CV]  max_depth=5, min_samples_leaf=2, n_estimators=200, total=  12.4s\n",
      "[CV] max_depth=5, min_samples_leaf=2, n_estimators=200 ...............\n",
      "[CV]  max_depth=5, min_samples_leaf=2, n_estimators=200, total=  12.7s\n",
      "[CV] max_depth=5, min_samples_leaf=5, n_estimators=10 ................\n",
      "[CV] . max_depth=5, min_samples_leaf=5, n_estimators=10, total=   0.7s\n",
      "[CV] max_depth=5, min_samples_leaf=5, n_estimators=10 ................\n",
      "[CV] . max_depth=5, min_samples_leaf=5, n_estimators=10, total=   0.7s\n",
      "[CV] max_depth=5, min_samples_leaf=5, n_estimators=10 ................\n",
      "[CV] . max_depth=5, min_samples_leaf=5, n_estimators=10, total=   0.7s\n",
      "[CV] max_depth=5, min_samples_leaf=5, n_estimators=10 ................\n",
      "[CV] . max_depth=5, min_samples_leaf=5, n_estimators=10, total=   0.7s\n",
      "[CV] max_depth=5, min_samples_leaf=5, n_estimators=10 ................\n",
      "[CV]  max_depth=5, min_samples_leaf=2, n_estimators=200, total=  12.3s\n",
      "[CV] max_depth=5, min_samples_leaf=5, n_estimators=100 ...............\n",
      "[CV] . max_depth=5, min_samples_leaf=5, n_estimators=10, total=   0.7s\n",
      "[CV] max_depth=5, min_samples_leaf=5, n_estimators=100 ...............\n",
      "[CV]  max_depth=5, min_samples_leaf=2, n_estimators=200, total=  12.8s\n",
      "[CV] max_depth=5, min_samples_leaf=5, n_estimators=100 ...............\n",
      "[CV]  max_depth=5, min_samples_leaf=5, n_estimators=100, total=   6.5s\n",
      "[CV] max_depth=5, min_samples_leaf=5, n_estimators=100 ...............\n",
      "[CV]  max_depth=5, min_samples_leaf=5, n_estimators=100, total=   6.4s\n",
      "[CV] max_depth=5, min_samples_leaf=5, n_estimators=100 ...............\n",
      "[CV]  max_depth=5, min_samples_leaf=5, n_estimators=100, total=   6.6s\n",
      "[CV] max_depth=5, min_samples_leaf=5, n_estimators=200 ...............\n",
      "[CV]  max_depth=5, min_samples_leaf=2, n_estimators=200, total=  13.2s\n",
      "[CV] max_depth=5, min_samples_leaf=5, n_estimators=200 ...............\n",
      "[CV]  max_depth=5, min_samples_leaf=5, n_estimators=100, total=   6.1s\n",
      "[CV] max_depth=5, min_samples_leaf=5, n_estimators=200 ...............\n",
      "[CV]  max_depth=5, min_samples_leaf=5, n_estimators=100, total=   6.0s\n",
      "[CV] max_depth=5, min_samples_leaf=5, n_estimators=200 ...............\n",
      "[CV]  max_depth=5, min_samples_leaf=5, n_estimators=200, total=  13.1s\n",
      "[CV] max_depth=5, min_samples_leaf=5, n_estimators=200 ...............\n",
      "[CV]  max_depth=5, min_samples_leaf=5, n_estimators=200, total=  12.6s\n",
      "[CV] max_depth=5, min_samples_leaf=10, n_estimators=10 ...............\n",
      "[CV]  max_depth=5, min_samples_leaf=10, n_estimators=10, total=   0.7s\n",
      "[CV] max_depth=5, min_samples_leaf=10, n_estimators=10 ...............\n",
      "[CV]  max_depth=5, min_samples_leaf=10, n_estimators=10, total=   0.7s\n",
      "[CV] max_depth=5, min_samples_leaf=10, n_estimators=10 ...............\n",
      "[CV]  max_depth=5, min_samples_leaf=10, n_estimators=10, total=   0.7s\n",
      "[CV] max_depth=5, min_samples_leaf=10, n_estimators=10 ...............\n",
      "[CV]  max_depth=5, min_samples_leaf=5, n_estimators=200, total=  12.1s\n",
      "[CV] max_depth=5, min_samples_leaf=10, n_estimators=10 ...............\n",
      "[CV]  max_depth=5, min_samples_leaf=10, n_estimators=10, total=   0.8s\n",
      "[CV] max_depth=5, min_samples_leaf=10, n_estimators=100 ..............\n",
      "[CV]  max_depth=5, min_samples_leaf=5, n_estimators=200, total=  12.9s\n",
      "[CV] max_depth=5, min_samples_leaf=10, n_estimators=100 ..............\n",
      "[CV]  max_depth=5, min_samples_leaf=10, n_estimators=10, total=   0.8s\n",
      "[CV] max_depth=5, min_samples_leaf=10, n_estimators=100 ..............\n",
      "[CV]  max_depth=5, min_samples_leaf=10, n_estimators=100, total=   6.8s\n",
      "[CV] max_depth=5, min_samples_leaf=10, n_estimators=100 ..............\n",
      "[CV]  max_depth=5, min_samples_leaf=10, n_estimators=100, total=   6.8s\n",
      "[CV] max_depth=5, min_samples_leaf=10, n_estimators=100 ..............\n",
      "[CV]  max_depth=5, min_samples_leaf=10, n_estimators=100, total=   7.0s\n",
      "[CV] max_depth=5, min_samples_leaf=10, n_estimators=200 ..............\n",
      "[CV]  max_depth=5, min_samples_leaf=5, n_estimators=200, total=  12.7s\n",
      "[CV] max_depth=5, min_samples_leaf=10, n_estimators=200 ..............\n",
      "[CV]  max_depth=5, min_samples_leaf=10, n_estimators=100, total=   6.0s\n",
      "[CV] max_depth=5, min_samples_leaf=10, n_estimators=200 ..............\n",
      "[CV]  max_depth=5, min_samples_leaf=10, n_estimators=100, total=   6.3s\n",
      "[CV] max_depth=5, min_samples_leaf=10, n_estimators=200 ..............\n",
      "[CV]  max_depth=5, min_samples_leaf=10, n_estimators=200, total=  12.7s\n",
      "[CV] max_depth=5, min_samples_leaf=10, n_estimators=200 ..............\n",
      "[CV]  max_depth=5, min_samples_leaf=10, n_estimators=200, total=  12.3s\n",
      "[CV]  max_depth=5, min_samples_leaf=10, n_estimators=200, total=  11.4s\n",
      "[CV]  max_depth=5, min_samples_leaf=10, n_estimators=200, total=  11.7s\n",
      "[CV]  max_depth=5, min_samples_leaf=10, n_estimators=200, total=   8.8s\n"
     ]
    },
    {
     "name": "stderr",
     "output_type": "stream",
     "text": [
      "[Parallel(n_jobs=-1)]: Done 135 out of 135 | elapsed:  3.0min finished\n"
     ]
    },
    {
     "data": {
      "text/plain": [
       "GridSearchCV(cv=5, error_score='raise',\n",
       "       estimator=RandomForestClassifier(bootstrap=True, class_weight=None, criterion='gini',\n",
       "            max_depth=None, max_features='auto', max_leaf_nodes=None,\n",
       "            min_impurity_decrease=0.0, min_impurity_split=None,\n",
       "            min_samples_leaf=1, min_samples_split=2,\n",
       "            min_weight_fraction_leaf=0.0, n_estimators=10, n_jobs=1,\n",
       "            oob_score=False, random_state=14, verbose=0, warm_start=False),\n",
       "       fit_params=None, iid=True, n_jobs=-1,\n",
       "       param_grid={'n_estimators': [10, 100, 200], 'max_depth': [2, 3, 5], 'min_samples_leaf': [2, 5, 10]},\n",
       "       pre_dispatch='2*n_jobs', refit='f1_score', return_train_score=True,\n",
       "       scoring={'f1_score': make_scorer(f1_score)}, verbose=2)"
      ]
     },
     "execution_count": 264,
     "metadata": {},
     "output_type": "execute_result"
    }
   ],
   "source": [
    "grd_search.fit(tr_X, tr_y)"
   ]
  },
  {
   "cell_type": "code",
   "execution_count": 265,
   "metadata": {},
   "outputs": [
    {
     "data": {
      "text/plain": [
       "0.5738945649022463"
      ]
     },
     "execution_count": 265,
     "metadata": {},
     "output_type": "execute_result"
    }
   ],
   "source": [
    "grd_search.best_score_"
   ]
  },
  {
   "cell_type": "code",
   "execution_count": null,
   "metadata": {
    "collapsed": true
   },
   "outputs": [],
   "source": []
  },
  {
   "cell_type": "code",
   "execution_count": 186,
   "metadata": {
    "collapsed": true
   },
   "outputs": [
    {
     "name": "stdout",
     "output_type": "stream",
     "text": [
      "IncidentID\n",
      "Latitude\n",
      "Longitude\n",
      "Avg Occupancy_0\n",
      "Avg Occupancy_1\n",
      "Avg Occupancy_2\n",
      "Avg Occupancy_3\n",
      "Avg Occupancy_4\n",
      "Avg Occupancy_5\n",
      "Avg Occupancy_6\n",
      "Avg Occupancy_7\n",
      "Avg Occupancy_8\n",
      "Avg Occupancy_9\n",
      "Avg Occupancy_10\n",
      "Avg Occupancy_11\n",
      "Avg Occupancy_12\n",
      "Avg Occupancy_13\n",
      "Avg Occupancy_14\n",
      "Avg Occupancy_15\n",
      "Avg Speed_0\n",
      "Avg Speed_1\n",
      "Avg Speed_2\n",
      "Avg Speed_3\n",
      "Avg Speed_4\n",
      "Avg Speed_5\n",
      "Avg Speed_6\n",
      "Avg Speed_7\n",
      "Avg Speed_8\n",
      "Avg Speed_9\n",
      "Avg Speed_10\n",
      "Avg Speed_11\n",
      "Avg Speed_12\n",
      "Avg Speed_13\n",
      "Avg Speed_14\n",
      "Avg Speed_15\n",
      "Total Flow_0\n",
      "Total Flow_1\n",
      "Total Flow_2\n",
      "Total Flow_3\n",
      "Total Flow_4\n",
      "Total Flow_5\n",
      "Total Flow_6\n",
      "Total Flow_7\n",
      "Total Flow_8\n",
      "Total Flow_9\n",
      "Total Flow_10\n",
      "Total Flow_11\n",
      "Total Flow_12\n",
      "Total Flow_13\n",
      "Total Flow_14\n",
      "Total Flow_15\n",
      "y\n",
      "hour__6\n",
      "hour__7\n",
      "hour__8\n",
      "hour__9\n",
      "hour__10\n",
      "hour__11\n",
      "hour__12\n",
      "hour__13\n",
      "hour__14\n",
      "hour__15\n",
      "hour__16\n",
      "hour__17\n",
      "hour__18\n",
      "hour__19\n",
      "hour__20\n",
      "hour__21\n",
      "Avg Occupancy_0_sq\n",
      "Avg Occupancy_1_sq\n",
      "Avg Occupancy_2_sq\n",
      "Avg Occupancy_3_sq\n",
      "Avg Occupancy_4_sq\n",
      "Avg Occupancy_5_sq\n",
      "Avg Occupancy_6_sq\n",
      "Avg Occupancy_7_sq\n",
      "Avg Occupancy_8_sq\n",
      "Avg Occupancy_9_sq\n",
      "Avg Occupancy_10_sq\n",
      "Avg Occupancy_11_sq\n",
      "Avg Occupancy_12_sq\n",
      "Avg Occupancy_13_sq\n",
      "Avg Occupancy_14_sq\n",
      "Avg Occupancy_15_sq\n",
      "Avg Speed_0_sq\n",
      "Avg Speed_1_sq\n",
      "Avg Speed_2_sq\n",
      "Avg Speed_3_sq\n",
      "Avg Speed_4_sq\n",
      "Avg Speed_5_sq\n",
      "Avg Speed_6_sq\n",
      "Avg Speed_7_sq\n",
      "Avg Speed_8_sq\n",
      "Avg Speed_9_sq\n",
      "Avg Speed_10_sq\n",
      "Avg Speed_11_sq\n",
      "Avg Speed_12_sq\n",
      "Avg Speed_13_sq\n",
      "Avg Speed_14_sq\n",
      "Avg Speed_15_sq\n",
      "Total Flow_0_sq\n",
      "Total Flow_1_sq\n",
      "Total Flow_2_sq\n",
      "Total Flow_3_sq\n",
      "Total Flow_4_sq\n",
      "Total Flow_5_sq\n",
      "Total Flow_6_sq\n",
      "Total Flow_7_sq\n",
      "Total Flow_8_sq\n",
      "Total Flow_9_sq\n",
      "Total Flow_10_sq\n",
      "Total Flow_11_sq\n",
      "Total Flow_12_sq\n",
      "Total Flow_13_sq\n",
      "Total Flow_14_sq\n",
      "Total Flow_15_sq\n"
     ]
    }
   ],
   "source": [
    "for col in dataset.columns:\n",
    "    print(col)"
   ]
  },
  {
   "cell_type": "code",
   "execution_count": 60,
   "metadata": {
    "collapsed": true
   },
   "outputs": [],
   "source": [
    "fignum = 1\n",
    "def score_dataset(dataset, drop_features=[], cv=5):\n",
    "    global fignum\n",
    "    drop_cols = ['y', 'Timestamp'] + drop_features #, 'Longitude', 'Latitude'\n",
    "    tr_X, te_X, tr_y, te_y = train_test_split(dataset.drop(columns=drop_cols), dataset['y'], stratify=dataset.y, test_size=.2)\n",
    "    scaler = StandardScaler()\n",
    "    tr_X = scaler.fit_transform(tr_X)\n",
    "    te_X = scaler.transform(te_X)\n",
    "    print(fignum)    \n",
    "    print('Logistic regression')\n",
    "    logreg = LogisticRegression()\n",
    "    cv_res = cross_validate(logreg, tr_X, tr_y, n_jobs=-1, cv=cv, scoring=['f1', 'roc_auc', 'precision', 'recall'])# scoring={'f1_score' : make_scorer(f1_score)})\n",
    "    F1_score = cv_res['test_f1'].mean()\n",
    "    F1_var = cv_res['test_f1'].std()\n",
    "    RA_score = cv_res['test_roc_auc'].mean()\n",
    "    RA_var = cv_res['test_roc_auc'].std()\n",
    "    P_score = cv_res['test_precision'].mean()\n",
    "    P_var = cv_res['test_precision'].std()\n",
    "    R_score = cv_res['test_recall'].mean()\n",
    "    R_var = cv_res['test_recall'].std()\n",
    "    \n",
    "    print('{}-fold CV f1 = {}, std = {}'.format(cv, F1_score, F1_var))\n",
    "    print('{}-fold CV ROC AUC = {}, std = {}'.format(cv, RA_score, RA_var))\n",
    "    print('{}-fold CV P = {}, std = {}'.format(cv, P_score, P_var))\n",
    "    print('{}-fold CV R = {}, std = {}'.format(cv, R_score, R_var))\n",
    "    logreg.fit(tr_X, tr_y)\n",
    "    predict = logreg.predict(te_X)\n",
    "    proba = logreg.predict_proba(te_X)\n",
    "    print('example CM =', confusion_matrix(te_y, predict))\n",
    "    fpr, tpr, thresholds = roc_curve(te_y, proba[:,1])\n",
    "    plt.plot(fpr, tpr)\n",
    "    plt.plot([0,1], [0,1])\n",
    "    plt.grid()\n",
    "    plt.savefig('../data/PeMS/Incidents/work_folder/figs/log/roc_auc_{}'.format(fignum), lw=4, dpi=600)\n",
    "    plt.show()\n",
    "    print()\n",
    "    \n",
    "    print('Random Forest')\n",
    "    forest = RandomForestClassifier(random_state=14)  \n",
    "    cv_res = cross_validate(forest, tr_X, tr_y, n_jobs=-1, cv=cv, scoring=['f1', 'roc_auc', 'precision', 'recall'])\n",
    "    F1_score = cv_res['test_f1'].mean()\n",
    "    F1_var = cv_res['test_f1'].std()\n",
    "    RA_score = cv_res['test_roc_auc'].mean()\n",
    "    RA_var = cv_res['test_roc_auc'].std()\n",
    "    P_score = cv_res['test_precision'].mean()\n",
    "    P_var = cv_res['test_precision'].std()\n",
    "    R_score = cv_res['test_recall'].mean()\n",
    "    R_var = cv_res['test_recall'].std()\n",
    "    \n",
    "    print('{}-fold CV f1 = {}, std = {}'.format(cv, F1_score, F1_var))\n",
    "    print('{}-fold CV ROC AUC = {}, std = {}'.format(cv, RA_score, RA_var))\n",
    "    print('{}-fold CV P = {}, std = {}'.format(cv, P_score, P_var))\n",
    "    print('{}-fold CV R = {}, std = {}'.format(cv, R_score, R_var))\n",
    "    forest.fit(tr_X, tr_y)\n",
    "    predict = forest.predict(te_X)\n",
    "    proba = forest.predict_proba(te_X)\n",
    "    print('example CM =', confusion_matrix(te_y, predict))\n",
    "    fpr, tpr, thresholds = roc_curve(te_y, proba[:,1])\n",
    "    plt.plot(fpr, tpr)\n",
    "    plt.plot([0,1], [0,1])\n",
    "    plt.grid()\n",
    "    plt.savefig('../data/PeMS/Incidents/work_folder/figs/rnd/roc_auc_{}'.format(fignum), lw=4, dpi=600)\n",
    "    plt.show()\n",
    "    fignum += 1\n",
    "    print()\n",
    "    \n"
   ]
  },
  {
   "cell_type": "code",
   "execution_count": 52,
   "metadata": {},
   "outputs": [
    {
     "name": "stdout",
     "output_type": "stream",
     "text": [
      "Logistic regression\n",
      "5-fold CV f1 = 0.6112452059644051, std = 0.003158062322117099\n",
      "5-fold CV ROC AUC = 0.719060153530742, std = 0.0029892937711869408\n",
      "example CM = [[3587  910]\n",
      " [1855 2227]]\n",
      "\n",
      "Random Forest\n",
      "5-fold CV f1 = 0.6801389006395849, std = 0.0016653502125407187\n",
      "5-fold CV ROC AUC = 0.7844298156697966, std = 0.0019958708469515144\n",
      "example CM = [[3677  820]\n",
      " [1504 2578]]\n"
     ]
    },
    {
     "data": {
      "image/png": "[encoded data removed]",
      "text/plain": [
       "<matplotlib.figure.Figure at 0x7f2a280e7400>"
      ]
     },
     "metadata": {},
     "output_type": "display_data"
    },
    {
     "name": "stdout",
     "output_type": "stream",
     "text": [
      "\n"
     ]
    }
   ],
   "source": [
    "score_dataset(dataset)"
   ]
  },
  {
   "cell_type": "markdown",
   "metadata": {},
   "source": [
    "# W/o weather data"
   ]
  },
  {
   "cell_type": "markdown",
   "metadata": {},
   "source": [
    "## as is"
   ]
  },
  {
   "cell_type": "code",
   "execution_count": 61,
   "metadata": {
    "scrolled": true
   },
   "outputs": [
    {
     "name": "stdout",
     "output_type": "stream",
     "text": [
      "1\n",
      "Logistic regression\n",
      "5-fold CV f1 = 0.6154932167604338, std = 0.009021385722723709\n",
      "5-fold CV ROC AUC = 0.7211998850512604, std = 0.008817048614362603\n",
      "5-fold CV P = 0.7053596820810103, std = 0.007135341467731637\n",
      "5-fold CV R = 0.5459603000518591, std = 0.010123796779198137\n",
      "example CM = [[3544  953]\n",
      " [1869 2213]]\n"
     ]
    },
    {
     "data": {
      "image/png": "[encoded data removed]",
      "text/plain": [
       "<matplotlib.figure.Figure at 0x7f2a286819b0>"
      ]
     },
     "metadata": {},
     "output_type": "display_data"
    },
    {
     "name": "stdout",
     "output_type": "stream",
     "text": [
      "\n",
      "Random Forest\n",
      "5-fold CV f1 = 0.6848452167412891, std = 0.010666084786475093\n",
      "5-fold CV ROC AUC = 0.7898131014266092, std = 0.00908231888335867\n",
      "5-fold CV P = 0.7527501925332142, std = 0.01230156849334317\n",
      "5-fold CV R = 0.6282063939667032, std = 0.010299796939084465\n",
      "example CM = [[3677  820]\n",
      " [1509 2573]]\n"
     ]
    },
    {
     "data": {
      "image/png": "[encoded data removed]",
      "text/plain": [
       "<matplotlib.figure.Figure at 0x7f2a280fa7b8>"
      ]
     },
     "metadata": {},
     "output_type": "display_data"
    },
    {
     "name": "stdout",
     "output_type": "stream",
     "text": [
      "\n"
     ]
    }
   ],
   "source": [
    "score_dataset(dataset)"
   ]
  },
  {
   "cell_type": "markdown",
   "metadata": {},
   "source": [
    "## w/o Next"
   ]
  },
  {
   "cell_type": "code",
   "execution_count": 21,
   "metadata": {
    "collapsed": true
   },
   "outputs": [],
   "source": [
    "Next_cols = ['Next Avg Occupancy_0','Next Avg Occupancy_1','Next Avg Occupancy_2',\n",
    "             'Next Avg Occupancy_3','Next Avg Occupancy_4','Next Avg Occupancy_5',\n",
    "             'Next Avg Occupancy_6','Next Avg Occupancy_7','Next Avg Occupancy_8',\n",
    "             'Next Avg Occupancy_9','Next Avg Occupancy_10','Next Avg Occupancy_11',\n",
    "             'Next Avg Occupancy_12','Next Avg Occupancy_13','Next Avg Occupancy_14',\n",
    "             'Next Avg Occupancy_15','Next Total Flow_0','Next Total Flow_1',\n",
    "             'Next Total Flow_2','Next Total Flow_3','Next Total Flow_4',\n",
    "             'Next Total Flow_5','Next Total Flow_6','Next Total Flow_7',\n",
    "             'Next Total Flow_8','Next Total Flow_9','Next Total Flow_10',\n",
    "             'Next Total Flow_11','Next Total Flow_12','Next Total Flow_13',\n",
    "             'Next Total Flow_14','Next Total Flow_15','Next Avg Speed_0',\n",
    "             'Next Avg Speed_1','Next Avg Speed_2','Next Avg Speed_3',\n",
    "             'Next Avg Speed_4','Next Avg Speed_5','Next Avg Speed_6',\n",
    "             'Next Avg Speed_7','Next Avg Speed_8','Next Avg Speed_9',\n",
    "             'Next Avg Speed_10','Next Avg Speed_11','Next Avg Speed_12',\n",
    "             'Next Avg Speed_13','Next Avg Speed_14','Next Avg Speed_15']"
   ]
  },
  {
   "cell_type": "code",
   "execution_count": 22,
   "metadata": {},
   "outputs": [
    {
     "name": "stdout",
     "output_type": "stream",
     "text": [
      "Logistic regression\n",
      "5-fold CV f1 = 0.6084991141317013, std = 0.010136356075097443\n",
      "5-fold CV ROC AUC = 0.7168695172819903, std = 0.008945383075633253\n",
      "example CM = [[3454 1043]\n",
      " [1790 2292]]\n",
      "\n",
      "Random Forest\n",
      "5-fold CV f1 = 0.6594705733010067, std = 0.007329745685990869\n",
      "5-fold CV ROC AUC = 0.7682074722558159, std = 0.009461377249831648\n",
      "example CM = [[3557  940]\n",
      " [1525 2557]]\n"
     ]
    },
    {
     "data": {
      "image/png": "[encoded data removed]",
      "text/plain": [
       "<matplotlib.figure.Figure at 0x7f2a28665fd0>"
      ]
     },
     "metadata": {},
     "output_type": "display_data"
    },
    {
     "name": "stdout",
     "output_type": "stream",
     "text": [
      "\n"
     ]
    }
   ],
   "source": [
    "score_dataset(dataset, Next_cols)"
   ]
  },
  {
   "cell_type": "markdown",
   "metadata": {},
   "source": [
    "## delta"
   ]
  },
  {
   "cell_type": "code",
   "execution_count": 23,
   "metadata": {
    "collapsed": true
   },
   "outputs": [],
   "source": [
    "for col in ['Avg Occupancy_0', 'Avg Occupancy_1', 'Avg Occupancy_2',\n",
    "       'Avg Occupancy_3', 'Avg Occupancy_4', 'Avg Occupancy_5',\n",
    "       'Avg Occupancy_6', 'Avg Occupancy_7', 'Avg Occupancy_8',\n",
    "       'Avg Occupancy_9', 'Avg Occupancy_10', 'Avg Occupancy_11',\n",
    "       'Avg Occupancy_12', 'Avg Occupancy_13', 'Avg Occupancy_14',\n",
    "       'Avg Occupancy_15', 'Avg Speed_0', 'Avg Speed_1', 'Avg Speed_2',\n",
    "       'Avg Speed_3', 'Avg Speed_4', 'Avg Speed_5', 'Avg Speed_6',\n",
    "       'Avg Speed_7', 'Avg Speed_8', 'Avg Speed_9', 'Avg Speed_10',\n",
    "       'Avg Speed_11', 'Avg Speed_12', 'Avg Speed_13', 'Avg Speed_14',\n",
    "       'Avg Speed_15', 'Total Flow_0', 'Total Flow_1', 'Total Flow_2',\n",
    "       'Total Flow_3', 'Total Flow_4', 'Total Flow_5', 'Total Flow_6',\n",
    "       'Total Flow_7', 'Total Flow_8', 'Total Flow_9', 'Total Flow_10',\n",
    "       'Total Flow_11', 'Total Flow_12', 'Total Flow_13', 'Total Flow_14',\n",
    "       'Total Flow_15']:\n",
    "    dataset[col] = dataset[col] - dataset['Next '+col]\n",
    "    dataset[col + '_sq'] = (dataset[col] - dataset['Next '+col] )**2\n",
    "    dataset.drop(columns='Next '+col, inplace=True)\n",
    "\n",
    "sq_cols = [col for col in dataset.columns if '_sq' in col]\n",
    "\n",
    "non_sq_cols = ['Avg Occupancy_0', 'Avg Occupancy_1', 'Avg Occupancy_2',\n",
    "       'Avg Occupancy_3', 'Avg Occupancy_4', 'Avg Occupancy_5',\n",
    "       'Avg Occupancy_6', 'Avg Occupancy_7', 'Avg Occupancy_8',\n",
    "       'Avg Occupancy_9', 'Avg Occupancy_10', 'Avg Occupancy_11',\n",
    "       'Avg Occupancy_12', 'Avg Occupancy_13', 'Avg Occupancy_14',\n",
    "       'Avg Occupancy_15', 'Avg Speed_0', 'Avg Speed_1', 'Avg Speed_2',\n",
    "       'Avg Speed_3', 'Avg Speed_4', 'Avg Speed_5', 'Avg Speed_6',\n",
    "       'Avg Speed_7', 'Avg Speed_8', 'Avg Speed_9', 'Avg Speed_10',\n",
    "       'Avg Speed_11', 'Avg Speed_12', 'Avg Speed_13', 'Avg Speed_14',\n",
    "       'Avg Speed_15', 'Total Flow_0', 'Total Flow_1', 'Total Flow_2',\n",
    "       'Total Flow_3', 'Total Flow_4', 'Total Flow_5', 'Total Flow_6',\n",
    "       'Total Flow_7', 'Total Flow_8', 'Total Flow_9', 'Total Flow_10',\n",
    "       'Total Flow_11', 'Total Flow_12', 'Total Flow_13', 'Total Flow_14',\n",
    "       'Total Flow_15']"
   ]
  },
  {
   "cell_type": "code",
   "execution_count": 24,
   "metadata": {},
   "outputs": [
    {
     "name": "stdout",
     "output_type": "stream",
     "text": [
      "Logistic regression\n",
      "5-fold CV f1 = 0.5542718285025499, std = 0.004291434911506981\n",
      "5-fold CV ROC AUC = 0.6342379788674183, std = 0.004814993174693637\n",
      "example CM = [[3121 1376]\n",
      " [1967 2115]]\n",
      "\n",
      "Random Forest\n",
      "5-fold CV f1 = 0.7003412821870043, std = 0.005245694087165433\n",
      "5-fold CV ROC AUC = 0.8163316287057176, std = 0.004055764998915301\n",
      "example CM = [[3717  780]\n",
      " [1366 2716]]\n"
     ]
    },
    {
     "data": {
      "image/png": "[encoded data removed]",
      "text/plain": [
       "<matplotlib.figure.Figure at 0x7f2a286268d0>"
      ]
     },
     "metadata": {},
     "output_type": "display_data"
    },
    {
     "name": "stdout",
     "output_type": "stream",
     "text": [
      "\n"
     ]
    }
   ],
   "source": [
    "score_dataset(dataset, sq_cols)"
   ]
  },
  {
   "cell_type": "markdown",
   "metadata": {},
   "source": [
    "## diff and sq diff"
   ]
  },
  {
   "cell_type": "code",
   "execution_count": 25,
   "metadata": {
    "scrolled": false
   },
   "outputs": [
    {
     "name": "stdout",
     "output_type": "stream",
     "text": [
      "Logistic regression\n",
      "5-fold CV f1 = 0.6040799364407862, std = 0.008323041877052881\n",
      "5-fold CV ROC AUC = 0.7125674976693432, std = 0.006192050928147204\n",
      "example CM = [[3501  996]\n",
      " [1881 2201]]\n",
      "\n",
      "Random Forest\n",
      "5-fold CV f1 = 0.6804613180891432, std = 0.005506014048512122\n",
      "5-fold CV ROC AUC = 0.788501387587031, std = 0.0028177347060926888\n",
      "example CM = [[3653  844]\n",
      " [1499 2583]]\n"
     ]
    },
    {
     "data": {
      "image/png": "[encoded data removed]",
      "text/plain": [
       "<matplotlib.figure.Figure at 0x7f2a286659b0>"
      ]
     },
     "metadata": {},
     "output_type": "display_data"
    },
    {
     "name": "stdout",
     "output_type": "stream",
     "text": [
      "\n"
     ]
    }
   ],
   "source": [
    "score_dataset(dataset)"
   ]
  },
  {
   "cell_type": "code",
   "execution_count": null,
   "metadata": {
    "collapsed": true
   },
   "outputs": [],
   "source": []
  },
  {
   "cell_type": "code",
   "execution_count": null,
   "metadata": {
    "collapsed": true
   },
   "outputs": [],
   "source": []
  },
  {
   "cell_type": "code",
   "execution_count": null,
   "metadata": {
    "collapsed": true
   },
   "outputs": [],
   "source": []
  },
  {
   "cell_type": "markdown",
   "metadata": {},
   "source": [
    "# W/ weather data"
   ]
  },
  {
   "cell_type": "markdown",
   "metadata": {},
   "source": [
    "## as is"
   ]
  },
  {
   "cell_type": "code",
   "execution_count": 159,
   "metadata": {},
   "outputs": [
    {
     "name": "stdout",
     "output_type": "stream",
     "text": [
      "Logistic regression\n",
      "5-fold CV f1 = 0.6223333738336404, std = 0.00907895985101549\n",
      "5-fold CV ROC AUC = 0.7285476072975927, std = 0.005020811220883979\n",
      "example CM = [[3530  967]\n",
      " [1780 2302]]\n",
      "\n",
      "Random Forest\n",
      "5-fold CV f1 = 0.6391332507353342, std = 0.003637904186128698\n",
      "5-fold CV ROC AUC = 0.7390842791872758, std = 0.004241690125568024\n",
      "example CM = [[3559  938]\n",
      " [1627 2455]]\n"
     ]
    },
    {
     "data": {
      "image/png": "[encoded data removed]",
      "text/plain": [
       "<matplotlib.figure.Figure at 0x7f5f9416fe48>"
      ]
     },
     "metadata": {},
     "output_type": "display_data"
    },
    {
     "name": "stdout",
     "output_type": "stream",
     "text": [
      "\n"
     ]
    }
   ],
   "source": [
    "score_dataset(dataset)"
   ]
  },
  {
   "cell_type": "markdown",
   "metadata": {},
   "source": [
    "## w/o Next"
   ]
  },
  {
   "cell_type": "code",
   "execution_count": 160,
   "metadata": {
    "collapsed": true
   },
   "outputs": [],
   "source": [
    "Next_cols = ['Next_Avg Occupancy_0', 'Next_Avg Occupancy_1', 'Next_Avg Occupancy_2', 'Next_Avg Occupancy_3',\n",
    "         'Next_Avg Occupancy_4', 'Next_Avg Occupancy_5', 'Next_Avg Occupancy_6', 'Next_Avg Occupancy_7',\n",
    "         'Next_Avg Occupancy_8', 'Next_Avg Occupancy_9', 'Next_Avg Occupancy_10', 'Next_Avg Occupancy_11',\n",
    "         'Next_Avg Occupancy_12', 'Next_Avg Occupancy_13', 'Next_Avg Occupancy_14', 'Next_Avg Occupancy_15',\n",
    "         'Next_Total Flow_0', 'Next_Total Flow_1', 'Next_Total Flow_2', 'Next_Total Flow_3', 'Next_Total Flow_4',\n",
    "         'Next_Total Flow_5', 'Next_Total Flow_6', 'Next_Total Flow_7', 'Next_Total Flow_8', 'Next_Total Flow_9',\n",
    "         'Next_Total Flow_10', 'Next_Total Flow_11', 'Next_Total Flow_12', 'Next_Total Flow_13', 'Next_Total Flow_14',\n",
    "         'Next_Total Flow_15', 'Next_Avg Speed_0', 'Next_Avg Speed_1', 'Next_Avg Speed_2', 'Next_Avg Speed_3',\n",
    "         'Next_Avg Speed_4', 'Next_Avg Speed_5', 'Next_Avg Speed_6', 'Next_Avg Speed_7', 'Next_Avg Speed_8',\n",
    "         'Next_Avg Speed_9', 'Next_Avg Speed_10', 'Next_Avg Speed_11', 'Next_Avg Speed_12', 'Next_Avg Speed_13',\n",
    "         'Next_Avg Speed_14', 'Next_Avg Speed_15',]"
   ]
  },
  {
   "cell_type": "code",
   "execution_count": 161,
   "metadata": {},
   "outputs": [
    {
     "name": "stdout",
     "output_type": "stream",
     "text": [
      "Logistic regression\n",
      "5-fold CV f1 = 0.6117052313278378, std = 0.010988924926238711\n",
      "5-fold CV ROC AUC = 0.7181842301954842, std = 0.010852262396216946\n",
      "example CM = [[3513  984]\n",
      " [1839 2243]]\n",
      "\n",
      "Random Forest\n",
      "5-fold CV f1 = 0.6288438138108675, std = 0.008326173490603715\n",
      "5-fold CV ROC AUC = 0.7238896394870367, std = 0.0059738752590642865\n",
      "example CM = [[3501  996]\n",
      " [1689 2393]]\n"
     ]
    },
    {
     "data": {
      "image/png": "[encoded data removed]",
      "text/plain": [
       "<matplotlib.figure.Figure at 0x7f5f93dc5048>"
      ]
     },
     "metadata": {},
     "output_type": "display_data"
    },
    {
     "name": "stdout",
     "output_type": "stream",
     "text": [
      "\n"
     ]
    }
   ],
   "source": [
    "score_dataset(dataset, Next_cols)"
   ]
  },
  {
   "cell_type": "markdown",
   "metadata": {},
   "source": [
    "## delta"
   ]
  },
  {
   "cell_type": "code",
   "execution_count": 162,
   "metadata": {
    "collapsed": true
   },
   "outputs": [],
   "source": [
    "for col in ['Avg Occupancy_0', 'Avg Occupancy_1', 'Avg Occupancy_2',\n",
    "       'Avg Occupancy_3', 'Avg Occupancy_4', 'Avg Occupancy_5',\n",
    "       'Avg Occupancy_6', 'Avg Occupancy_7', 'Avg Occupancy_8',\n",
    "       'Avg Occupancy_9', 'Avg Occupancy_10', 'Avg Occupancy_11',\n",
    "       'Avg Occupancy_12', 'Avg Occupancy_13', 'Avg Occupancy_14',\n",
    "       'Avg Occupancy_15', 'Avg Speed_0', 'Avg Speed_1', 'Avg Speed_2',\n",
    "       'Avg Speed_3', 'Avg Speed_4', 'Avg Speed_5', 'Avg Speed_6',\n",
    "       'Avg Speed_7', 'Avg Speed_8', 'Avg Speed_9', 'Avg Speed_10',\n",
    "       'Avg Speed_11', 'Avg Speed_12', 'Avg Speed_13', 'Avg Speed_14',\n",
    "       'Avg Speed_15', 'Total Flow_0', 'Total Flow_1', 'Total Flow_2',\n",
    "       'Total Flow_3', 'Total Flow_4', 'Total Flow_5', 'Total Flow_6',\n",
    "       'Total Flow_7', 'Total Flow_8', 'Total Flow_9', 'Total Flow_10',\n",
    "       'Total Flow_11', 'Total Flow_12', 'Total Flow_13', 'Total Flow_14',\n",
    "       'Total Flow_15']:\n",
    "    dataset[col] = dataset[col] - dataset['Next_'+col]\n",
    "    dataset[col + '_sq'] = (dataset[col] - dataset['Next_'+col] )**2\n",
    "    dataset.drop(columns='Next_'+col, inplace=True)"
   ]
  },
  {
   "cell_type": "code",
   "execution_count": 163,
   "metadata": {
    "collapsed": true
   },
   "outputs": [],
   "source": [
    "sq_cols = [col for col in dataset.columns if '_sq' in col]"
   ]
  },
  {
   "cell_type": "code",
   "execution_count": 164,
   "metadata": {},
   "outputs": [
    {
     "name": "stdout",
     "output_type": "stream",
     "text": [
      "Logistic regression\n",
      "5-fold CV f1 = 0.5516515226561836, std = 0.006956247521161038\n",
      "5-fold CV ROC AUC = 0.627745160423492, std = 0.004747859160596274\n",
      "example CM = [[3100 1397]\n",
      " [1998 2084]]\n",
      "\n",
      "Random Forest\n",
      "5-fold CV f1 = 0.6027012793374014, std = 0.006196811638553415\n",
      "5-fold CV ROC AUC = 0.7016672887941144, std = 0.006453599334684405\n",
      "example CM = [[3366 1131]\n",
      " [1781 2301]]\n"
     ]
    },
    {
     "data": {
      "image/png": "[encoded data removed]",
      "text/plain": [
       "<matplotlib.figure.Figure at 0x7f5f93e940b8>"
      ]
     },
     "metadata": {},
     "output_type": "display_data"
    },
    {
     "name": "stdout",
     "output_type": "stream",
     "text": [
      "\n"
     ]
    }
   ],
   "source": [
    "score_dataset(dataset, sq_cols)"
   ]
  },
  {
   "cell_type": "markdown",
   "metadata": {},
   "source": [
    "## diff and sq diff"
   ]
  },
  {
   "cell_type": "code",
   "execution_count": 165,
   "metadata": {
    "scrolled": false
   },
   "outputs": [
    {
     "name": "stdout",
     "output_type": "stream",
     "text": [
      "Logistic regression\n",
      "5-fold CV f1 = 0.604187839373018, std = 0.009228889803749078\n",
      "5-fold CV ROC AUC = 0.7114112014447184, std = 0.00706882273128855\n",
      "example CM = [[3514  983]\n",
      " [1918 2164]]\n",
      "\n",
      "Random Forest\n",
      "5-fold CV f1 = 0.6284585796803075, std = 0.005886446457099992\n",
      "5-fold CV ROC AUC = 0.7293718887234384, std = 0.005416370498449051\n",
      "example CM = [[3480 1017]\n",
      " [1715 2367]]\n"
     ]
    },
    {
     "data": {
      "image/png": "[encoded data removed]",
      "text/plain": [
       "<matplotlib.figure.Figure at 0x7f5f9432f978>"
      ]
     },
     "metadata": {},
     "output_type": "display_data"
    },
    {
     "name": "stdout",
     "output_type": "stream",
     "text": [
      "\n"
     ]
    }
   ],
   "source": [
    "score_dataset(dataset)"
   ]
  },
  {
   "cell_type": "code",
   "execution_count": 166,
   "metadata": {
    "collapsed": true
   },
   "outputs": [],
   "source": [
    "non_sq_cols = ['Avg Occupancy_0', 'Avg Occupancy_1', 'Avg Occupancy_2',\n",
    "       'Avg Occupancy_3', 'Avg Occupancy_4', 'Avg Occupancy_5',\n",
    "       'Avg Occupancy_6', 'Avg Occupancy_7', 'Avg Occupancy_8',\n",
    "       'Avg Occupancy_9', 'Avg Occupancy_10', 'Avg Occupancy_11',\n",
    "       'Avg Occupancy_12', 'Avg Occupancy_13', 'Avg Occupancy_14',\n",
    "       'Avg Occupancy_15', 'Avg Speed_0', 'Avg Speed_1', 'Avg Speed_2',\n",
    "       'Avg Speed_3', 'Avg Speed_4', 'Avg Speed_5', 'Avg Speed_6',\n",
    "       'Avg Speed_7', 'Avg Speed_8', 'Avg Speed_9', 'Avg Speed_10',\n",
    "       'Avg Speed_11', 'Avg Speed_12', 'Avg Speed_13', 'Avg Speed_14',\n",
    "       'Avg Speed_15', 'Total Flow_0', 'Total Flow_1', 'Total Flow_2',\n",
    "       'Total Flow_3', 'Total Flow_4', 'Total Flow_5', 'Total Flow_6',\n",
    "       'Total Flow_7', 'Total Flow_8', 'Total Flow_9', 'Total Flow_10',\n",
    "       'Total Flow_11', 'Total Flow_12', 'Total Flow_13', 'Total Flow_14',\n",
    "       'Total Flow_15']"
   ]
  },
  {
   "cell_type": "code",
   "execution_count": 167,
   "metadata": {
    "scrolled": false
   },
   "outputs": [
    {
     "name": "stdout",
     "output_type": "stream",
     "text": [
      "Logistic regression\n",
      "5-fold CV f1 = 0.5789765714842441, std = 0.007216029597472301\n",
      "5-fold CV ROC AUC = 0.6734412809316963, std = 0.006928142157094343\n",
      "example CM = [[3254 1243]\n",
      " [1955 2127]]\n",
      "\n",
      "Random Forest\n",
      "5-fold CV f1 = 0.6103570186584435, std = 0.0051925781846948\n",
      "5-fold CV ROC AUC = 0.7101732753625777, std = 0.0063320521448359335\n",
      "example CM = [[3404 1093]\n",
      " [1807 2275]]\n"
     ]
    },
    {
     "data": {
      "image/png": "[encoded data removed]",
      "text/plain": [
       "<matplotlib.figure.Figure at 0x7f5f93d18eb8>"
      ]
     },
     "metadata": {},
     "output_type": "display_data"
    },
    {
     "name": "stdout",
     "output_type": "stream",
     "text": [
      "\n"
     ]
    }
   ],
   "source": [
    "score_dataset(dataset, non_sq_cols)"
   ]
  },
  {
   "cell_type": "markdown",
   "metadata": {
    "collapsed": true
   },
   "source": [
    "# XGBoost"
   ]
  },
  {
   "cell_type": "code",
   "execution_count": 30,
   "metadata": {},
   "outputs": [
    {
     "data": {
      "text/plain": [
       "(5640, 117)"
      ]
     },
     "execution_count": 30,
     "metadata": {},
     "output_type": "execute_result"
    }
   ],
   "source": []
  },
  {
   "cell_type": "code",
   "execution_count": 31,
   "metadata": {
    "collapsed": true
   },
   "outputs": [],
   "source": [
    "dataset.drop(index=dataset[dataset.Timestamp.dt.dayofweek>5].index, inplace=True)"
   ]
  },
  {
   "cell_type": "code",
   "execution_count": 32,
   "metadata": {
    "collapsed": true
   },
   "outputs": [],
   "source": [
    "drop_cols = ['y', 'Timestamp', 'IncidentID', 'Longitude', 'Latitude']\n",
    "tr_X, te_X, tr_y, te_y = train_test_split(dataset.drop(columns=drop_cols), dataset['y'], stratify=dataset.y, test_size=.2)\n",
    "\n",
    "scaler = StandardScaler()\n",
    "tr_X = scaler.fit_transform(tr_X)\n",
    "te_X = scaler.transform(te_X)"
   ]
  },
  {
   "cell_type": "code",
   "execution_count": 118,
   "metadata": {
    "collapsed": true
   },
   "outputs": [],
   "source": [
    "tr_d = xgb.DMatrix(tr_X, label=tr_y)\n",
    "te_d = xgb.DMatrix(te_X, label=te_y)"
   ]
  },
  {
   "cell_type": "code",
   "execution_count": 34,
   "metadata": {},
   "outputs": [
    {
     "name": "stderr",
     "output_type": "stream",
     "text": [
      "/opt/anaconda3/lib/python3.6/site-packages/sklearn/preprocessing/label.py:151: DeprecationWarning: The truth value of an empty array is ambiguous. Returning False, but in future this will result in an error. Use `array.size > 0` to check that an array is not empty.\n",
      "  if diff:\n"
     ]
    },
    {
     "data": {
      "text/plain": [
       "0.6541143654114365"
      ]
     },
     "execution_count": 34,
     "metadata": {},
     "output_type": "execute_result"
    }
   ],
   "source": [
    "xgb_params = {'objective':'binary:logistic', 'learning_rate': 1.0, 'n_estimators': 500, 'min_child_weight': .1, 'max_depth': 3, 'gamma': 0, 'subsample': 1, 'colsample_bytree': 1, 'reg_lambda': 1}\n",
    "\n",
    "clf = xgb.XGBClassifier(**xgb_params)\n",
    "\n",
    "clf.fit(tr_X, tr_y)\n",
    "\n",
    "prd = clf.predict(te_X)\n",
    "\n",
    "prd = np.round(prd)\n",
    "\n",
    "f1_score(te_y, prd)"
   ]
  },
  {
   "cell_type": "code",
   "execution_count": 112,
   "metadata": {},
   "outputs": [
    {
     "data": {
      "text/plain": [
       "0.6401273885350318"
      ]
     },
     "execution_count": 112,
     "metadata": {},
     "output_type": "execute_result"
    }
   ],
   "source": [
    "f1_score(te_y, prd)"
   ]
  },
  {
   "cell_type": "code",
   "execution_count": 68,
   "metadata": {
    "collapsed": true
   },
   "outputs": [],
   "source": [
    "min_lon = dataset['Longitude'].min()\n",
    "max_lon = dataset['Longitude'].max()\n",
    "min_lat = dataset['Latitude'].min()\n",
    "max_lat = dataset['Latitude'].max()"
   ]
  },
  {
   "cell_type": "code",
   "execution_count": null,
   "metadata": {
    "collapsed": true
   },
   "outputs": [],
   "source": [
    "st1_coords = (stations_active['Latitude'][0], stations_active['Longitude'][0])\n",
    "st2_coords = (stations_active['Latitude'][1], stations_active['Longitude'][1])\n",
    "st1_coords_ccrs = [stations_active['Latitude'][0], stations_active['Longitude'][0]]"
   ]
  },
  {
   "cell_type": "code",
   "execution_count": 76,
   "metadata": {
    "collapsed": true
   },
   "outputs": [],
   "source": [
    "drop_cols = ['y', 'Timestamp', 'IncidentID'] #, 'Longitude', 'Latitude']\n",
    "tr_X, te_X, tr_y, te_y = train_test_split(dataset.drop(columns=drop_cols), dataset['y'], stratify=dataset.y, test_size=.2)"
   ]
  },
  {
   "cell_type": "code",
   "execution_count": 82,
   "metadata": {
    "scrolled": false
   },
   "outputs": [
    {
     "data": {
      "image/png": "[encoded data removed]",
      "text/plain": [
       "<matplotlib.figure.Figure at 0x7f5f93cecac8>"
      ]
     },
     "metadata": {},
     "output_type": "display_data"
    }
   ],
   "source": [
    "fig = plt.figure(figsize=[15,10])\n",
    "ax = fig.gca(projection=ccrs.PlateCarree())\n",
    "ax.stock_img()\n",
    "ax.set_xlim((min_lon, max_lon))\n",
    "ax.set_ylim((min_lat, max_lat))\n",
    "plt.plot(te_X[te_y==0].head(1000)['Longitude'], te_X[te_y==0].head(1000)['Latitude'], transform=ccrs.PlateCarree(), marker='o', linestyle='')\n",
    "plt.plot(te_X[te_y==1].head(1000)['Longitude'], te_X[te_y==1].head(1000)['Latitude'], transform=ccrs.PlateCarree(), marker='x', color='red', linestyle='')\n",
    "# plt.plot(data_inc_d07[data_inc_d07['District']==7]['Longitude'], data_inc_d07[data_inc_d07['District']==7]['Latitude'], marker='x', color='red', linestyle='')\n",
    "# plt.plot(data_inc_d07[data_inc_d07['District']==7]['Longitude'].mean(), data_inc_d07[data_inc_d07['District']==7]['Latitude'].mean()-.05, marker='*', markersize=10, color='black', linestyle='')\n",
    "plt.show()"
   ]
  },
  {
   "cell_type": "code",
   "execution_count": 50,
   "metadata": {
    "collapsed": true
   },
   "outputs": [],
   "source": [
    "param_grid = {'objective': ['binary:logistic'], \n",
    "              'learning_rate': [1.0, .1],\n",
    "              'n_estimators': [500],\n",
    "             'min_child_weight' : [.1, 1, 10],\n",
    "             'max_depth': [3, 6, 10],\n",
    "             'gamma': [0, .1],\n",
    "             'subsample': [.5, 1],\n",
    "              'colsample_bytree': [.5, 1],\n",
    "              'reg_lambda': [1]\n",
    "             }\n",
    "grdCV = GridSearchCV(clf, param_grid, 'f1', cv=5, n_jobs=-1, refit=True)"
   ]
  },
  {
   "cell_type": "code",
   "execution_count": 51,
   "metadata": {
    "scrolled": true
   },
   "outputs": [
    {
     "name": "stderr",
     "output_type": "stream",
     "text": [
      "/opt/anaconda3/lib/python3.6/site-packages/sklearn/preprocessing/label.py:151: DeprecationWarning: The truth value of an empty array is ambiguous. Returning False, but in future this will result in an error. Use `array.size > 0` to check that an array is not empty.\n",
      "  if diff:\n",
      "/opt/anaconda3/lib/python3.6/site-packages/sklearn/preprocessing/label.py:151: DeprecationWarning: The truth value of an empty array is ambiguous. Returning False, but in future this will result in an error. Use `array.size > 0` to check that an array is not empty.\n",
      "  if diff:\n",
      "/opt/anaconda3/lib/python3.6/site-packages/sklearn/preprocessing/label.py:151: DeprecationWarning: The truth value of an empty array is ambiguous. Returning False, but in future this will result in an error. Use `array.size > 0` to check that an array is not empty.\n",
      "  if diff:\n",
      "/opt/anaconda3/lib/python3.6/site-packages/sklearn/preprocessing/label.py:151: DeprecationWarning: The truth value of an empty array is ambiguous. Returning False, but in future this will result in an error. Use `array.size > 0` to check that an array is not empty.\n",
      "  if diff:\n",
      "/opt/anaconda3/lib/python3.6/site-packages/sklearn/preprocessing/label.py:151: DeprecationWarning: The truth value of an empty array is ambiguous. Returning False, but in future this will result in an error. Use `array.size > 0` to check that an array is not empty.\n",
      "  if diff:\n",
      "/opt/anaconda3/lib/python3.6/site-packages/sklearn/preprocessing/label.py:151: DeprecationWarning: The truth value of an empty array is ambiguous. Returning False, but in future this will result in an error. Use `array.size > 0` to check that an array is not empty.\n",
      "  if diff:\n",
      "/opt/anaconda3/lib/python3.6/site-packages/sklearn/preprocessing/label.py:151: DeprecationWarning: The truth value of an empty array is ambiguous. Returning False, but in future this will result in an error. Use `array.size > 0` to check that an array is not empty.\n",
      "  if diff:\n",
      "/opt/anaconda3/lib/python3.6/site-packages/sklearn/preprocessing/label.py:151: DeprecationWarning: The truth value of an empty array is ambiguous. Returning False, but in future this will result in an error. Use `array.size > 0` to check that an array is not empty.\n",
      "  if diff:\n",
      "/opt/anaconda3/lib/python3.6/site-packages/sklearn/preprocessing/label.py:151: DeprecationWarning: The truth value of an empty array is ambiguous. Returning False, but in future this will result in an error. Use `array.size > 0` to check that an array is not empty.\n",
      "  if diff:\n",
      "/opt/anaconda3/lib/python3.6/site-packages/sklearn/preprocessing/label.py:151: DeprecationWarning: The truth value of an empty array is ambiguous. Returning False, but in future this will result in an error. Use `array.size > 0` to check that an array is not empty.\n",
      "  if diff:\n",
      "/opt/anaconda3/lib/python3.6/site-packages/sklearn/preprocessing/label.py:151: DeprecationWarning: The truth value of an empty array is ambiguous. Returning False, but in future this will result in an error. Use `array.size > 0` to check that an array is not empty.\n",
      "  if diff:\n",
      "/opt/anaconda3/lib/python3.6/site-packages/sklearn/preprocessing/label.py:151: DeprecationWarning: The truth value of an empty array is ambiguous. Returning False, but in future this will result in an error. Use `array.size > 0` to check that an array is not empty.\n",
      "  if diff:\n",
      "/opt/anaconda3/lib/python3.6/site-packages/sklearn/preprocessing/label.py:151: DeprecationWarning: The truth value of an empty array is ambiguous. Returning False, but in future this will result in an error. Use `array.size > 0` to check that an array is not empty.\n",
      "  if diff:\n",
      "/opt/anaconda3/lib/python3.6/site-packages/sklearn/preprocessing/label.py:151: DeprecationWarning: The truth value of an empty array is ambiguous. Returning False, but in future this will result in an error. Use `array.size > 0` to check that an array is not empty.\n",
      "  if diff:\n",
      "/opt/anaconda3/lib/python3.6/site-packages/sklearn/preprocessing/label.py:151: DeprecationWarning: The truth value of an empty array is ambiguous. Returning False, but in future this will result in an error. Use `array.size > 0` to check that an array is not empty.\n",
      "  if diff:\n",
      "/opt/anaconda3/lib/python3.6/site-packages/sklearn/preprocessing/label.py:151: DeprecationWarning: The truth value of an empty array is ambiguous. Returning False, but in future this will result in an error. Use `array.size > 0` to check that an array is not empty.\n",
      "  if diff:\n",
      "/opt/anaconda3/lib/python3.6/site-packages/sklearn/preprocessing/label.py:151: DeprecationWarning: The truth value of an empty array is ambiguous. Returning False, but in future this will result in an error. Use `array.size > 0` to check that an array is not empty.\n",
      "  if diff:\n",
      "/opt/anaconda3/lib/python3.6/site-packages/sklearn/preprocessing/label.py:151: DeprecationWarning: The truth value of an empty array is ambiguous. Returning False, but in future this will result in an error. Use `array.size > 0` to check that an array is not empty.\n",
      "  if diff:\n",
      "/opt/anaconda3/lib/python3.6/site-packages/sklearn/preprocessing/label.py:151: DeprecationWarning: The truth value of an empty array is ambiguous. Returning False, but in future this will result in an error. Use `array.size > 0` to check that an array is not empty.\n",
      "  if diff:\n",
      "/opt/anaconda3/lib/python3.6/site-packages/sklearn/preprocessing/label.py:151: DeprecationWarning: The truth value of an empty array is ambiguous. Returning False, but in future this will result in an error. Use `array.size > 0` to check that an array is not empty.\n",
      "  if diff:\n"
     ]
    },
    {
     "data": {
      "text/plain": [
       "GridSearchCV(cv=5, error_score='raise',\n",
       "       estimator=XGBClassifier(base_score=0.5, booster='gbtree', colsample_bylevel=1,\n",
       "       colsample_bytree=1, gamma=0, learning_rate=1.0, max_delta_step=0,\n",
       "       max_depth=3, min_child_weight=1, missing=None, n_estimators=500,\n",
       "       n_jobs=1, nthread=None, objective='binary:logistic', random_state=0,\n",
       "       reg_alpha=0, reg_lambda=1, scale_pos_weight=1, seed=None,\n",
       "       silent=True, subsample=1),\n",
       "       fit_params=None, iid=True, n_jobs=-1,\n",
       "       param_grid={'objective': ['binary:logistic'], 'learning_rate': [1.0, 0.1], 'n_estimators': [500]},\n",
       "       pre_dispatch='2*n_jobs', refit=True, return_train_score='warn',\n",
       "       scoring='f1', verbose=0)"
      ]
     },
     "execution_count": 51,
     "metadata": {},
     "output_type": "execute_result"
    }
   ],
   "source": [
    "grdCV.fit(tr_X, tr_y)"
   ]
  },
  {
   "cell_type": "code",
   "execution_count": 52,
   "metadata": {},
   "outputs": [
    {
     "data": {
      "text/plain": [
       "0.793343643429183"
      ]
     },
     "execution_count": 52,
     "metadata": {},
     "output_type": "execute_result"
    }
   ],
   "source": [
    "grdCV.best_score_"
   ]
  },
  {
   "cell_type": "code",
   "execution_count": 54,
   "metadata": {
    "collapsed": true
   },
   "outputs": [],
   "source": [
    "def grd_srch_boost(dataset, drop_features=[], cv=5):\n",
    "    drop_cols = ['y', 'Timestamp', 'IncidentID'] + drop_features #, 'Longitude', 'Latitude'\n",
    "    tr_X, te_X, tr_y, te_y = train_test_split(dataset.drop(columns=drop_cols), dataset['y'], stratify=dataset.y, test_size=.2)\n",
    "    scaler = StandardScaler()\n",
    "    tr_X = scaler.fit_transform(tr_X)\n",
    "    te_X = scaler.transform(te_X)\n",
    "        \n",
    "    print('XGBoost')\n",
    "    param_grid = {'objective': ['binary:logistic'], \n",
    "              'learning_rate': [1.0, .1],\n",
    "              'n_estimators': [500]}\n",
    "    clf = xgb.XGBClassifier(**xgb_params)\n",
    "    grdCV = GridSearchCV(clf, param_grid, 'f1', cv=cv, n_jobs=-1, refit=True)\n",
    "    grdCV.fit(tr_X, tr_y)\n",
    "    return grdCV\n",
    "    predict = clf.predict(te_X)\n",
    "    print('example CM =', confusion_matrix(te_y, predict))\n",
    "    proba = clf.predict_proba(te_X)\n",
    "    fpr, tpr, thresholds = roc_curve(te_y, proba[:,1])\n",
    "    print()\n",
    "      \n",
    "    plt.plot(fpr, tpr)\n",
    "    plt.plot([0,1], [0,1])\n",
    "    plt.grid()\n",
    "    plt.show()\n",
    "    \n",
    "    print()\n",
    "    \n"
   ]
  },
  {
   "cell_type": "code",
   "execution_count": 56,
   "metadata": {
    "scrolled": true
   },
   "outputs": [
    {
     "name": "stdout",
     "output_type": "stream",
     "text": [
      "XGBoost\n"
     ]
    },
    {
     "name": "stderr",
     "output_type": "stream",
     "text": [
      "/opt/anaconda3/lib/python3.6/site-packages/sklearn/preprocessing/label.py:151: DeprecationWarning: The truth value of an empty array is ambiguous. Returning False, but in future this will result in an error. Use `array.size > 0` to check that an array is not empty.\n",
      "  if diff:\n",
      "/opt/anaconda3/lib/python3.6/site-packages/sklearn/preprocessing/label.py:151: DeprecationWarning: The truth value of an empty array is ambiguous. Returning False, but in future this will result in an error. Use `array.size > 0` to check that an array is not empty.\n",
      "  if diff:\n",
      "/opt/anaconda3/lib/python3.6/site-packages/sklearn/preprocessing/label.py:151: DeprecationWarning: The truth value of an empty array is ambiguous. Returning False, but in future this will result in an error. Use `array.size > 0` to check that an array is not empty.\n",
      "  if diff:\n",
      "/opt/anaconda3/lib/python3.6/site-packages/sklearn/preprocessing/label.py:151: DeprecationWarning: The truth value of an empty array is ambiguous. Returning False, but in future this will result in an error. Use `array.size > 0` to check that an array is not empty.\n",
      "  if diff:\n",
      "/opt/anaconda3/lib/python3.6/site-packages/sklearn/preprocessing/label.py:151: DeprecationWarning: The truth value of an empty array is ambiguous. Returning False, but in future this will result in an error. Use `array.size > 0` to check that an array is not empty.\n",
      "  if diff:\n",
      "/opt/anaconda3/lib/python3.6/site-packages/sklearn/preprocessing/label.py:151: DeprecationWarning: The truth value of an empty array is ambiguous. Returning False, but in future this will result in an error. Use `array.size > 0` to check that an array is not empty.\n",
      "  if diff:\n",
      "/opt/anaconda3/lib/python3.6/site-packages/sklearn/preprocessing/label.py:151: DeprecationWarning: The truth value of an empty array is ambiguous. Returning False, but in future this will result in an error. Use `array.size > 0` to check that an array is not empty.\n",
      "  if diff:\n",
      "/opt/anaconda3/lib/python3.6/site-packages/sklearn/preprocessing/label.py:151: DeprecationWarning: The truth value of an empty array is ambiguous. Returning False, but in future this will result in an error. Use `array.size > 0` to check that an array is not empty.\n",
      "  if diff:\n",
      "/opt/anaconda3/lib/python3.6/site-packages/sklearn/preprocessing/label.py:151: DeprecationWarning: The truth value of an empty array is ambiguous. Returning False, but in future this will result in an error. Use `array.size > 0` to check that an array is not empty.\n",
      "  if diff:\n",
      "/opt/anaconda3/lib/python3.6/site-packages/sklearn/preprocessing/label.py:151: DeprecationWarning: The truth value of an empty array is ambiguous. Returning False, but in future this will result in an error. Use `array.size > 0` to check that an array is not empty.\n",
      "  if diff:\n",
      "/opt/anaconda3/lib/python3.6/site-packages/sklearn/preprocessing/label.py:151: DeprecationWarning: The truth value of an empty array is ambiguous. Returning False, but in future this will result in an error. Use `array.size > 0` to check that an array is not empty.\n",
      "  if diff:\n",
      "/opt/anaconda3/lib/python3.6/site-packages/sklearn/preprocessing/label.py:151: DeprecationWarning: The truth value of an empty array is ambiguous. Returning False, but in future this will result in an error. Use `array.size > 0` to check that an array is not empty.\n",
      "  if diff:\n",
      "/opt/anaconda3/lib/python3.6/site-packages/sklearn/preprocessing/label.py:151: DeprecationWarning: The truth value of an empty array is ambiguous. Returning False, but in future this will result in an error. Use `array.size > 0` to check that an array is not empty.\n",
      "  if diff:\n",
      "/opt/anaconda3/lib/python3.6/site-packages/sklearn/preprocessing/label.py:151: DeprecationWarning: The truth value of an empty array is ambiguous. Returning False, but in future this will result in an error. Use `array.size > 0` to check that an array is not empty.\n",
      "  if diff:\n",
      "/opt/anaconda3/lib/python3.6/site-packages/sklearn/preprocessing/label.py:151: DeprecationWarning: The truth value of an empty array is ambiguous. Returning False, but in future this will result in an error. Use `array.size > 0` to check that an array is not empty.\n",
      "  if diff:\n",
      "/opt/anaconda3/lib/python3.6/site-packages/sklearn/preprocessing/label.py:151: DeprecationWarning: The truth value of an empty array is ambiguous. Returning False, but in future this will result in an error. Use `array.size > 0` to check that an array is not empty.\n",
      "  if diff:\n",
      "/opt/anaconda3/lib/python3.6/site-packages/sklearn/preprocessing/label.py:151: DeprecationWarning: The truth value of an empty array is ambiguous. Returning False, but in future this will result in an error. Use `array.size > 0` to check that an array is not empty.\n",
      "  if diff:\n",
      "/opt/anaconda3/lib/python3.6/site-packages/sklearn/preprocessing/label.py:151: DeprecationWarning: The truth value of an empty array is ambiguous. Returning False, but in future this will result in an error. Use `array.size > 0` to check that an array is not empty.\n",
      "  if diff:\n",
      "/opt/anaconda3/lib/python3.6/site-packages/sklearn/preprocessing/label.py:151: DeprecationWarning: The truth value of an empty array is ambiguous. Returning False, but in future this will result in an error. Use `array.size > 0` to check that an array is not empty.\n",
      "  if diff:\n",
      "/opt/anaconda3/lib/python3.6/site-packages/sklearn/preprocessing/label.py:151: DeprecationWarning: The truth value of an empty array is ambiguous. Returning False, but in future this will result in an error. Use `array.size > 0` to check that an array is not empty.\n",
      "  if diff:\n"
     ]
    }
   ],
   "source": [
    "grd_CV = grd_srch_boost(dataset)"
   ]
  },
  {
   "cell_type": "code",
   "execution_count": 99,
   "metadata": {},
   "outputs": [
    {
     "data": {
      "text/plain": [
       "['pickle.pkl']"
      ]
     },
     "execution_count": 99,
     "metadata": {},
     "output_type": "execute_result"
    }
   ],
   "source": [
    "joblib.dump(grd_CV, 'pickle.pkl')"
   ]
  },
  {
   "cell_type": "code",
   "execution_count": 100,
   "metadata": {
    "collapsed": true
   },
   "outputs": [],
   "source": [
    "cl = joblib.load('pickle.pkl')"
   ]
  },
  {
   "cell_type": "code",
   "execution_count": 104,
   "metadata": {},
   "outputs": [
    {
     "name": "stderr",
     "output_type": "stream",
     "text": [
      "/opt/anaconda3/lib/python3.6/site-packages/sklearn/preprocessing/label.py:151: DeprecationWarning: The truth value of an empty array is ambiguous. Returning False, but in future this will result in an error. Use `array.size > 0` to check that an array is not empty.\n",
      "  if diff:\n"
     ]
    }
   ],
   "source": [
    "prd = cl.best_estimator_.predict(te_X)\n"
   ]
  },
  {
   "cell_type": "code",
   "execution_count": 106,
   "metadata": {},
   "outputs": [
    {
     "data": {
      "text/plain": [
       "0.7536160217579428"
      ]
     },
     "execution_count": 106,
     "metadata": {},
     "output_type": "execute_result"
    }
   ],
   "source": [
    "f1_score(te_y, prd)"
   ]
  },
  {
   "cell_type": "code",
   "execution_count": 67,
   "metadata": {
    "scrolled": true
   },
   "outputs": [
    {
     "data": {
      "text/plain": [
       "array([0.14949675, 0.16370633, 0.01095323, 0.00562463, 0.00503256,\n",
       "       0.00651273, 0.00562463, 0.00473653, 0.00384843, 0.0062167 ,\n",
       "       0.00592066, 0.00680876, 0.0062167 , 0.0079929 , 0.0071048 ,\n",
       "       0.0062167 , 0.00917703, 0.01154529, 0.00680876, 0.0044405 ,\n",
       "       0.00473653, 0.0053286 , 0.0053286 , 0.0062167 , 0.00680876,\n",
       "       0.0053286 , 0.00562463, 0.0079929 , 0.00651273, 0.00592066,\n",
       "       0.00503256, 0.00592066, 0.00769686, 0.00888099, 0.00917703,\n",
       "       0.00680876, 0.00740083, 0.0053286 , 0.00592066, 0.0062167 ,\n",
       "       0.00828893, 0.0062167 , 0.0035524 , 0.0026643 , 0.00651273,\n",
       "       0.00947306, 0.00651273, 0.00592066, 0.0079929 , 0.01332149,\n",
       "       0.00503256, 0.00384843, 0.00503256, 0.00592066, 0.00384843,\n",
       "       0.0062167 , 0.00473653, 0.00414446, 0.00562463, 0.00473653,\n",
       "       0.0044405 , 0.00651273, 0.00592066, 0.00769686, 0.0079929 ,\n",
       "       0.00976909, 0.01272943, 0.00769686, 0.00917703, 0.00769686,\n",
       "       0.00503256, 0.0044405 , 0.00769686, 0.0071048 , 0.0062167 ,\n",
       "       0.0079929 , 0.0062167 , 0.00858496, 0.00680876, 0.0071048 ,\n",
       "       0.00769686, 0.01095323, 0.0071048 , 0.0062167 , 0.0062167 ,\n",
       "       0.0053286 , 0.00592066, 0.00740083, 0.00680876, 0.0079929 ,\n",
       "       0.00503256, 0.00917703, 0.0053286 , 0.0062167 , 0.00680876,\n",
       "       0.00976909, 0.0071048 , 0.01006513, 0.01302546, 0.01243339,\n",
       "       0.0035524 , 0.        , 0.        , 0.00029603, 0.00059207,\n",
       "       0.00118413, 0.00059207, 0.00118413, 0.00059207, 0.00029603,\n",
       "       0.0017762 , 0.00148017, 0.0008881 , 0.00059207, 0.00059207,\n",
       "       0.00029603, 0.00029603, 0.00059207], dtype=float32)"
      ]
     },
     "execution_count": 67,
     "metadata": {},
     "output_type": "execute_result"
    }
   ],
   "source": [
    "grd_CV.best_estimator_.feature_importances_"
   ]
  },
  {
   "cell_type": "code",
   "execution_count": 44,
   "metadata": {
    "collapsed": true
   },
   "outputs": [],
   "source": [
    "fignum=1\n",
    "def boost(dataset, drop_features=[], cv=5):\n",
    "    global fignum\n",
    "    print(fignum)\n",
    "    drop_cols = ['y', 'Timestamp', 'ID_Prev', 'ID_Next'] + drop_features #, 'Longitude', 'Latitude', 'IncidentID'\n",
    "    tr_X, te_X, tr_y, te_y = train_test_split(dataset.drop(columns=drop_cols), dataset['y'], stratify=dataset.y, test_size=.2)\n",
    "    scaler = StandardScaler()\n",
    "    tr_X = scaler.fit_transform(tr_X)\n",
    "    te_X = scaler.transform(te_X)\n",
    "        \n",
    "    print('XGBoost')\n",
    "    xgb_params = {'objective':'binary:logistic', 'learning_rate': 1.0, 'n_estimators': 500}\n",
    "    clf = xgb.XGBClassifier(**xgb_params)\n",
    "    cv_res = cross_validate(clf, tr_X, tr_y, n_jobs=-1, cv=cv, scoring=['f1', 'roc_auc', 'precision', 'recall']) # scoring={'f1_score' : make_scorer(f1_score)})\n",
    "    F1_score = cv_res['test_f1'].mean()\n",
    "    F1_var = cv_res['test_f1'].std()\n",
    "    RA_score = cv_res['test_roc_auc'].mean()\n",
    "    RA_var = cv_res['test_roc_auc'].std()\n",
    "    P_score = cv_res['test_precision'].mean()\n",
    "    P_var = cv_res['test_precision'].std()\n",
    "    R_score = cv_res['test_recall'].mean()\n",
    "    R_var = cv_res['test_recall'].std()\n",
    "    \n",
    "    print('{}-fold CV f1 = {}, std = {}'.format(cv, F1_score, F1_var))\n",
    "    print('{}-fold CV ROC AUC = {}, std = {}'.format(cv, RA_score, RA_var))\n",
    "    print('{}-fold CV P = {}, std = {}'.format(cv, P_score, P_var))\n",
    "    print('{}-fold CV R = {}, std = {}'.format(cv, R_score, R_var))\n",
    "    clf.fit(tr_X, tr_y)\n",
    "    predict = clf.predict(te_X)\n",
    "    proba = clf.predict_proba(te_X)\n",
    "    print('example CM =', confusion_matrix(te_y, predict))\n",
    "    fpr, tpr, thresholds = roc_curve(te_y, proba[:,1])\n",
    "    plt.plot(fpr, tpr)\n",
    "    plt.plot([0,1], [0,1])\n",
    "    plt.grid()\n",
    "    plt.savefig('../data/PeMS/Incidents/work_folder/figs/xgb/roc_auc_{}'.format(fignum), lw=4, dpi=600)\n",
    "    plt.show()\n",
    "    fignum += 1\n"
   ]
  },
  {
   "cell_type": "code",
   "execution_count": 16,
   "metadata": {},
   "outputs": [
    {
     "name": "stdout",
     "output_type": "stream",
     "text": [
      "'ID_Prev',\n",
      "'ID_Next',\n",
      "'Timestamp',\n",
      "'Latitude_Next',\n",
      "'Longitude_Next',\n",
      "'Latitude_Prev',\n",
      "'Longitude_Prev',\n",
      "'Avg Occupancy_0',\n",
      "'Avg Occupancy_1',\n",
      "'Avg Occupancy_2',\n",
      "'Avg Occupancy_3',\n",
      "'Avg Occupancy_4',\n",
      "'Avg Occupancy_5',\n",
      "'Avg Occupancy_6',\n",
      "'Avg Occupancy_7',\n",
      "'Avg Occupancy_8',\n",
      "'Avg Occupancy_9',\n",
      "'Avg Occupancy_10',\n",
      "'Avg Occupancy_11',\n",
      "'Avg Occupancy_12',\n",
      "'Avg Occupancy_13',\n",
      "'Avg Occupancy_14',\n",
      "'Avg Occupancy_15',\n",
      "'Total Flow_0',\n",
      "'Total Flow_1',\n",
      "'Total Flow_2',\n",
      "'Total Flow_3',\n",
      "'Total Flow_4',\n",
      "'Total Flow_5',\n",
      "'Total Flow_6',\n",
      "'Total Flow_7',\n",
      "'Total Flow_8',\n",
      "'Total Flow_9',\n",
      "'Total Flow_10',\n",
      "'Total Flow_11',\n",
      "'Total Flow_12',\n",
      "'Total Flow_13',\n",
      "'Total Flow_14',\n",
      "'Total Flow_15',\n",
      "'Avg Speed_0',\n",
      "'Avg Speed_1',\n",
      "'Avg Speed_2',\n",
      "'Avg Speed_3',\n",
      "'Avg Speed_4',\n",
      "'Avg Speed_5',\n",
      "'Avg Speed_6',\n",
      "'Avg Speed_7',\n",
      "'Avg Speed_8',\n",
      "'Avg Speed_9',\n",
      "'Avg Speed_10',\n",
      "'Avg Speed_11',\n",
      "'Avg Speed_12',\n",
      "'Avg Speed_13',\n",
      "'Avg Speed_14',\n",
      "'Avg Speed_15',\n",
      "'Next Avg Occupancy_0',\n",
      "'Next Avg Occupancy_1',\n",
      "'Next Avg Occupancy_2',\n",
      "'Next Avg Occupancy_3',\n",
      "'Next Avg Occupancy_4',\n",
      "'Next Avg Occupancy_5',\n",
      "'Next Avg Occupancy_6',\n",
      "'Next Avg Occupancy_7',\n",
      "'Next Avg Occupancy_8',\n",
      "'Next Avg Occupancy_9',\n",
      "'Next Avg Occupancy_10',\n",
      "'Next Avg Occupancy_11',\n",
      "'Next Avg Occupancy_12',\n",
      "'Next Avg Occupancy_13',\n",
      "'Next Avg Occupancy_14',\n",
      "'Next Avg Occupancy_15',\n",
      "'Next Total Flow_0',\n",
      "'Next Total Flow_1',\n",
      "'Next Total Flow_2',\n",
      "'Next Total Flow_3',\n",
      "'Next Total Flow_4',\n",
      "'Next Total Flow_5',\n",
      "'Next Total Flow_6',\n",
      "'Next Total Flow_7',\n",
      "'Next Total Flow_8',\n",
      "'Next Total Flow_9',\n",
      "'Next Total Flow_10',\n",
      "'Next Total Flow_11',\n",
      "'Next Total Flow_12',\n",
      "'Next Total Flow_13',\n",
      "'Next Total Flow_14',\n",
      "'Next Total Flow_15',\n",
      "'Next Avg Speed_0',\n",
      "'Next Avg Speed_1',\n",
      "'Next Avg Speed_2',\n",
      "'Next Avg Speed_3',\n",
      "'Next Avg Speed_4',\n",
      "'Next Avg Speed_5',\n",
      "'Next Avg Speed_6',\n",
      "'Next Avg Speed_7',\n",
      "'Next Avg Speed_8',\n",
      "'Next Avg Speed_9',\n",
      "'Next Avg Speed_10',\n",
      "'Next Avg Speed_11',\n",
      "'Next Avg Speed_12',\n",
      "'Next Avg Speed_13',\n",
      "'Next Avg Speed_14',\n",
      "'Next Avg Speed_15',\n",
      "'y',\n",
      "'hour_6',\n",
      "'hour_7',\n",
      "'hour_8',\n",
      "'hour_9',\n",
      "'hour_10',\n",
      "'hour_11',\n",
      "'hour_12',\n",
      "'hour_13',\n",
      "'hour_14',\n",
      "'hour_15',\n",
      "'hour_16',\n",
      "'hour_17',\n",
      "'hour_18',\n",
      "'hour_19',\n",
      "'hour_20',\n",
      "'hour_21',\n"
     ]
    }
   ],
   "source": [
    "for c in dataset.columns:\n",
    "    print('\\'' + c + '\\',')"
   ]
  },
  {
   "cell_type": "code",
   "execution_count": 64,
   "metadata": {
    "scrolled": false
   },
   "outputs": [
    {
     "name": "stdout",
     "output_type": "stream",
     "text": [
      "XGBoost\n"
     ]
    },
    {
     "name": "stderr",
     "output_type": "stream",
     "text": [
      "/opt/anaconda3/lib/python3.6/site-packages/sklearn/preprocessing/label.py:151: DeprecationWarning: The truth value of an empty array is ambiguous. Returning False, but in future this will result in an error. Use `array.size > 0` to check that an array is not empty.\n",
      "  if diff:\n",
      "/opt/anaconda3/lib/python3.6/site-packages/sklearn/preprocessing/label.py:151: DeprecationWarning: The truth value of an empty array is ambiguous. Returning False, but in future this will result in an error. Use `array.size > 0` to check that an array is not empty.\n",
      "  if diff:\n",
      "/opt/anaconda3/lib/python3.6/site-packages/sklearn/preprocessing/label.py:151: DeprecationWarning: The truth value of an empty array is ambiguous. Returning False, but in future this will result in an error. Use `array.size > 0` to check that an array is not empty.\n",
      "  if diff:\n",
      "/opt/anaconda3/lib/python3.6/site-packages/sklearn/preprocessing/label.py:151: DeprecationWarning: The truth value of an empty array is ambiguous. Returning False, but in future this will result in an error. Use `array.size > 0` to check that an array is not empty.\n",
      "  if diff:\n",
      "/opt/anaconda3/lib/python3.6/site-packages/sklearn/preprocessing/label.py:151: DeprecationWarning: The truth value of an empty array is ambiguous. Returning False, but in future this will result in an error. Use `array.size > 0` to check that an array is not empty.\n",
      "  if diff:\n",
      "/opt/anaconda3/lib/python3.6/site-packages/sklearn/preprocessing/label.py:151: DeprecationWarning: The truth value of an empty array is ambiguous. Returning False, but in future this will result in an error. Use `array.size > 0` to check that an array is not empty.\n",
      "  if diff:\n",
      "/opt/anaconda3/lib/python3.6/site-packages/sklearn/preprocessing/label.py:151: DeprecationWarning: The truth value of an empty array is ambiguous. Returning False, but in future this will result in an error. Use `array.size > 0` to check that an array is not empty.\n",
      "  if diff:\n",
      "/opt/anaconda3/lib/python3.6/site-packages/sklearn/preprocessing/label.py:151: DeprecationWarning: The truth value of an empty array is ambiguous. Returning False, but in future this will result in an error. Use `array.size > 0` to check that an array is not empty.\n",
      "  if diff:\n",
      "/opt/anaconda3/lib/python3.6/site-packages/sklearn/preprocessing/label.py:151: DeprecationWarning: The truth value of an empty array is ambiguous. Returning False, but in future this will result in an error. Use `array.size > 0` to check that an array is not empty.\n",
      "  if diff:\n",
      "/opt/anaconda3/lib/python3.6/site-packages/sklearn/preprocessing/label.py:151: DeprecationWarning: The truth value of an empty array is ambiguous. Returning False, but in future this will result in an error. Use `array.size > 0` to check that an array is not empty.\n",
      "  if diff:\n",
      "/opt/anaconda3/lib/python3.6/site-packages/sklearn/preprocessing/label.py:151: DeprecationWarning: The truth value of an empty array is ambiguous. Returning False, but in future this will result in an error. Use `array.size > 0` to check that an array is not empty.\n",
      "  if diff:\n",
      "/opt/anaconda3/lib/python3.6/site-packages/sklearn/preprocessing/label.py:151: DeprecationWarning: The truth value of an empty array is ambiguous. Returning False, but in future this will result in an error. Use `array.size > 0` to check that an array is not empty.\n",
      "  if diff:\n",
      "/opt/anaconda3/lib/python3.6/site-packages/sklearn/preprocessing/label.py:151: DeprecationWarning: The truth value of an empty array is ambiguous. Returning False, but in future this will result in an error. Use `array.size > 0` to check that an array is not empty.\n",
      "  if diff:\n",
      "/opt/anaconda3/lib/python3.6/site-packages/sklearn/preprocessing/label.py:151: DeprecationWarning: The truth value of an empty array is ambiguous. Returning False, but in future this will result in an error. Use `array.size > 0` to check that an array is not empty.\n",
      "  if diff:\n",
      "/opt/anaconda3/lib/python3.6/site-packages/sklearn/preprocessing/label.py:151: DeprecationWarning: The truth value of an empty array is ambiguous. Returning False, but in future this will result in an error. Use `array.size > 0` to check that an array is not empty.\n",
      "  if diff:\n",
      "/opt/anaconda3/lib/python3.6/site-packages/sklearn/preprocessing/label.py:151: DeprecationWarning: The truth value of an empty array is ambiguous. Returning False, but in future this will result in an error. Use `array.size > 0` to check that an array is not empty.\n",
      "  if diff:\n",
      "/opt/anaconda3/lib/python3.6/site-packages/sklearn/preprocessing/label.py:151: DeprecationWarning: The truth value of an empty array is ambiguous. Returning False, but in future this will result in an error. Use `array.size > 0` to check that an array is not empty.\n",
      "  if diff:\n",
      "/opt/anaconda3/lib/python3.6/site-packages/sklearn/preprocessing/label.py:151: DeprecationWarning: The truth value of an empty array is ambiguous. Returning False, but in future this will result in an error. Use `array.size > 0` to check that an array is not empty.\n",
      "  if diff:\n",
      "/opt/anaconda3/lib/python3.6/site-packages/sklearn/preprocessing/label.py:151: DeprecationWarning: The truth value of an empty array is ambiguous. Returning False, but in future this will result in an error. Use `array.size > 0` to check that an array is not empty.\n",
      "  if diff:\n",
      "/opt/anaconda3/lib/python3.6/site-packages/sklearn/preprocessing/label.py:151: DeprecationWarning: The truth value of an empty array is ambiguous. Returning False, but in future this will result in an error. Use `array.size > 0` to check that an array is not empty.\n",
      "  if diff:\n",
      "/opt/anaconda3/lib/python3.6/site-packages/sklearn/preprocessing/label.py:151: DeprecationWarning: The truth value of an empty array is ambiguous. Returning False, but in future this will result in an error. Use `array.size > 0` to check that an array is not empty.\n",
      "  if diff:\n",
      "/opt/anaconda3/lib/python3.6/site-packages/sklearn/preprocessing/label.py:151: DeprecationWarning: The truth value of an empty array is ambiguous. Returning False, but in future this will result in an error. Use `array.size > 0` to check that an array is not empty.\n",
      "  if diff:\n",
      "/opt/anaconda3/lib/python3.6/site-packages/sklearn/preprocessing/label.py:151: DeprecationWarning: The truth value of an empty array is ambiguous. Returning False, but in future this will result in an error. Use `array.size > 0` to check that an array is not empty.\n",
      "  if diff:\n",
      "/opt/anaconda3/lib/python3.6/site-packages/sklearn/preprocessing/label.py:151: DeprecationWarning: The truth value of an empty array is ambiguous. Returning False, but in future this will result in an error. Use `array.size > 0` to check that an array is not empty.\n",
      "  if diff:\n",
      "/opt/anaconda3/lib/python3.6/site-packages/sklearn/preprocessing/label.py:151: DeprecationWarning: The truth value of an empty array is ambiguous. Returning False, but in future this will result in an error. Use `array.size > 0` to check that an array is not empty.\n",
      "  if diff:\n",
      "/opt/anaconda3/lib/python3.6/site-packages/sklearn/preprocessing/label.py:151: DeprecationWarning: The truth value of an empty array is ambiguous. Returning False, but in future this will result in an error. Use `array.size > 0` to check that an array is not empty.\n",
      "  if diff:\n",
      "/opt/anaconda3/lib/python3.6/site-packages/sklearn/preprocessing/label.py:151: DeprecationWarning: The truth value of an empty array is ambiguous. Returning False, but in future this will result in an error. Use `array.size > 0` to check that an array is not empty.\n",
      "  if diff:\n",
      "/opt/anaconda3/lib/python3.6/site-packages/sklearn/preprocessing/label.py:151: DeprecationWarning: The truth value of an empty array is ambiguous. Returning False, but in future this will result in an error. Use `array.size > 0` to check that an array is not empty.\n",
      "  if diff:\n",
      "/opt/anaconda3/lib/python3.6/site-packages/sklearn/preprocessing/label.py:151: DeprecationWarning: The truth value of an empty array is ambiguous. Returning False, but in future this will result in an error. Use `array.size > 0` to check that an array is not empty.\n",
      "  if diff:\n",
      "/opt/anaconda3/lib/python3.6/site-packages/sklearn/preprocessing/label.py:151: DeprecationWarning: The truth value of an empty array is ambiguous. Returning False, but in future this will result in an error. Use `array.size > 0` to check that an array is not empty.\n",
      "  if diff:\n"
     ]
    },
    {
     "name": "stdout",
     "output_type": "stream",
     "text": [
      "5-fold CV f1 = 0.7554569222733257, std = 0.007084555225662891\n",
      "5-fold CV ROC AUC = 0.8474387568005215, std = 0.005579687462654272\n",
      "5-fold CV P = 0.7663393167859247, std = 0.005937436075524324\n",
      "5-fold CV R = 0.744932493958357, std = 0.010202446153924455\n"
     ]
    },
    {
     "name": "stderr",
     "output_type": "stream",
     "text": [
      "/opt/anaconda3/lib/python3.6/site-packages/sklearn/preprocessing/label.py:151: DeprecationWarning: The truth value of an empty array is ambiguous. Returning False, but in future this will result in an error. Use `array.size > 0` to check that an array is not empty.\n",
      "  if diff:\n"
     ]
    },
    {
     "name": "stdout",
     "output_type": "stream",
     "text": [
      "example CM = [[3677  820]\n",
      " [ 952 3130]]\n"
     ]
    },
    {
     "data": {
      "image/png": "[encoded data removed]",
      "text/plain": [
       "<matplotlib.figure.Figure at 0x7f2a28d73be0>"
      ]
     },
     "metadata": {},
     "output_type": "display_data"
    }
   ],
   "source": [
    "boost(dataset)"
   ]
  },
  {
   "cell_type": "code",
   "execution_count": 115,
   "metadata": {
    "collapsed": true
   },
   "outputs": [],
   "source": [
    "Next_cols = ['Next Avg Occupancy_0','Next Avg Occupancy_1','Next Avg Occupancy_2',\n",
    "             'Next Avg Occupancy_3','Next Avg Occupancy_4','Next Avg Occupancy_5',\n",
    "             'Next Avg Occupancy_6','Next Avg Occupancy_7','Next Avg Occupancy_8',\n",
    "             'Next Avg Occupancy_9','Next Avg Occupancy_10','Next Avg Occupancy_11',\n",
    "             'Next Avg Occupancy_12','Next Avg Occupancy_13','Next Avg Occupancy_14',\n",
    "             'Next Avg Occupancy_15','Next Total Flow_0','Next Total Flow_1',\n",
    "             'Next Total Flow_2','Next Total Flow_3','Next Total Flow_4',\n",
    "             'Next Total Flow_5','Next Total Flow_6','Next Total Flow_7',\n",
    "             'Next Total Flow_8','Next Total Flow_9','Next Total Flow_10',\n",
    "             'Next Total Flow_11','Next Total Flow_12','Next Total Flow_13',\n",
    "             'Next Total Flow_14','Next Total Flow_15','Next Avg Speed_0',\n",
    "             'Next Avg Speed_1','Next Avg Speed_2','Next Avg Speed_3',\n",
    "             'Next Avg Speed_4','Next Avg Speed_5','Next Avg Speed_6',\n",
    "             'Next Avg Speed_7','Next Avg Speed_8','Next Avg Speed_9',\n",
    "             'Next Avg Speed_10','Next Avg Speed_11','Next Avg Speed_12',\n",
    "             'Next Avg Speed_13','Next Avg Speed_14','Next Avg Speed_15']"
   ]
  },
  {
   "cell_type": "code",
   "execution_count": 116,
   "metadata": {},
   "outputs": [
    {
     "name": "stdout",
     "output_type": "stream",
     "text": [
      "XGBoost\n"
     ]
    },
    {
     "name": "stderr",
     "output_type": "stream",
     "text": [
      "/opt/anaconda3/lib/python3.6/site-packages/sklearn/preprocessing/label.py:151: DeprecationWarning: The truth value of an empty array is ambiguous. Returning False, but in future this will result in an error. Use `array.size > 0` to check that an array is not empty.\n",
      "  if diff:\n",
      "/opt/anaconda3/lib/python3.6/site-packages/sklearn/preprocessing/label.py:151: DeprecationWarning: The truth value of an empty array is ambiguous. Returning False, but in future this will result in an error. Use `array.size > 0` to check that an array is not empty.\n",
      "  if diff:\n",
      "/opt/anaconda3/lib/python3.6/site-packages/sklearn/preprocessing/label.py:151: DeprecationWarning: The truth value of an empty array is ambiguous. Returning False, but in future this will result in an error. Use `array.size > 0` to check that an array is not empty.\n",
      "  if diff:\n",
      "/opt/anaconda3/lib/python3.6/site-packages/sklearn/preprocessing/label.py:151: DeprecationWarning: The truth value of an empty array is ambiguous. Returning False, but in future this will result in an error. Use `array.size > 0` to check that an array is not empty.\n",
      "  if diff:\n",
      "/opt/anaconda3/lib/python3.6/site-packages/sklearn/preprocessing/label.py:151: DeprecationWarning: The truth value of an empty array is ambiguous. Returning False, but in future this will result in an error. Use `array.size > 0` to check that an array is not empty.\n",
      "  if diff:\n",
      "/opt/anaconda3/lib/python3.6/site-packages/sklearn/preprocessing/label.py:151: DeprecationWarning: The truth value of an empty array is ambiguous. Returning False, but in future this will result in an error. Use `array.size > 0` to check that an array is not empty.\n",
      "  if diff:\n",
      "/opt/anaconda3/lib/python3.6/site-packages/sklearn/preprocessing/label.py:151: DeprecationWarning: The truth value of an empty array is ambiguous. Returning False, but in future this will result in an error. Use `array.size > 0` to check that an array is not empty.\n",
      "  if diff:\n",
      "/opt/anaconda3/lib/python3.6/site-packages/sklearn/preprocessing/label.py:151: DeprecationWarning: The truth value of an empty array is ambiguous. Returning False, but in future this will result in an error. Use `array.size > 0` to check that an array is not empty.\n",
      "  if diff:\n",
      "/opt/anaconda3/lib/python3.6/site-packages/sklearn/preprocessing/label.py:151: DeprecationWarning: The truth value of an empty array is ambiguous. Returning False, but in future this will result in an error. Use `array.size > 0` to check that an array is not empty.\n",
      "  if diff:\n",
      "/opt/anaconda3/lib/python3.6/site-packages/sklearn/preprocessing/label.py:151: DeprecationWarning: The truth value of an empty array is ambiguous. Returning False, but in future this will result in an error. Use `array.size > 0` to check that an array is not empty.\n",
      "  if diff:\n"
     ]
    },
    {
     "name": "stdout",
     "output_type": "stream",
     "text": [
      "5-fold CV f1 = 0.7818227783000397, std = 0.006555575670232165\n",
      "5-fold CV ROC AUC = 0.8687877322417897, std = 0.004928461197383409\n"
     ]
    },
    {
     "name": "stderr",
     "output_type": "stream",
     "text": [
      "/opt/anaconda3/lib/python3.6/site-packages/sklearn/preprocessing/label.py:151: DeprecationWarning: The truth value of an empty array is ambiguous. Returning False, but in future this will result in an error. Use `array.size > 0` to check that an array is not empty.\n",
      "  if diff:\n"
     ]
    },
    {
     "name": "stdout",
     "output_type": "stream",
     "text": [
      "example CM = [[3824  673]\n",
      " [ 832 3250]]\n",
      "test F1 = 0.8119925046845721\n",
      "test ROC AUC = 0.8232615090881537\n"
     ]
    },
    {
     "data": {
      "image/png": "[encoded data removed]",
      "text/plain": [
       "<matplotlib.figure.Figure at 0x7f5df3c1f470>"
      ]
     },
     "metadata": {},
     "output_type": "display_data"
    }
   ],
   "source": [
    "boost(dataset, Next_cols)"
   ]
  },
  {
   "cell_type": "code",
   "execution_count": null,
   "metadata": {
    "collapsed": true
   },
   "outputs": [],
   "source": [
    "for col in ['Avg Occupancy_0', 'Avg Occupancy_1', 'Avg Occupancy_2',\n",
    "       'Avg Occupancy_3', 'Avg Occupancy_4', 'Avg Occupancy_5',\n",
    "       'Avg Occupancy_6', 'Avg Occupancy_7', 'Avg Occupancy_8',\n",
    "       'Avg Occupancy_9', 'Avg Occupancy_10', 'Avg Occupancy_11',\n",
    "       'Avg Occupancy_12', 'Avg Occupancy_13', 'Avg Occupancy_14',\n",
    "       'Avg Occupancy_15', 'Avg Speed_0', 'Avg Speed_1', 'Avg Speed_2',\n",
    "       'Avg Speed_3', 'Avg Speed_4', 'Avg Speed_5', 'Avg Speed_6',\n",
    "       'Avg Speed_7', 'Avg Speed_8', 'Avg Speed_9', 'Avg Speed_10',\n",
    "       'Avg Speed_11', 'Avg Speed_12', 'Avg Speed_13', 'Avg Speed_14',\n",
    "       'Avg Speed_15', 'Total Flow_0', 'Total Flow_1', 'Total Flow_2',\n",
    "       'Total Flow_3', 'Total Flow_4', 'Total Flow_5', 'Total Flow_6',\n",
    "       'Total Flow_7', 'Total Flow_8', 'Total Flow_9', 'Total Flow_10',\n",
    "       'Total Flow_11', 'Total Flow_12', 'Total Flow_13', 'Total Flow_14',\n",
    "       'Total Flow_15']:\n",
    "    dataset[col] = dataset[col] - dataset['Next '+col]\n",
    "    dataset[col + '_sq'] = (dataset[col] - dataset['Next '+col] )**2\n",
    "    dataset.drop(columns='Next '+col, inplace=True)"
   ]
  },
  {
   "cell_type": "code",
   "execution_count": null,
   "metadata": {
    "collapsed": true
   },
   "outputs": [],
   "source": [
    "sq_cols = [col for col in dataset.columns if '_sq' in col]"
   ]
  },
  {
   "cell_type": "code",
   "execution_count": 117,
   "metadata": {
    "collapsed": true
   },
   "outputs": [],
   "source": [
    "non_sq_cols = ['Avg Occupancy_0', 'Avg Occupancy_1', 'Avg Occupancy_2',\n",
    "       'Avg Occupancy_3', 'Avg Occupancy_4', 'Avg Occupancy_5',\n",
    "       'Avg Occupancy_6', 'Avg Occupancy_7', 'Avg Occupancy_8',\n",
    "       'Avg Occupancy_9', 'Avg Occupancy_10', 'Avg Occupancy_11',\n",
    "       'Avg Occupancy_12', 'Avg Occupancy_13', 'Avg Occupancy_14',\n",
    "       'Avg Occupancy_15', 'Avg Speed_0', 'Avg Speed_1', 'Avg Speed_2',\n",
    "       'Avg Speed_3', 'Avg Speed_4', 'Avg Speed_5', 'Avg Speed_6',\n",
    "       'Avg Speed_7', 'Avg Speed_8', 'Avg Speed_9', 'Avg Speed_10',\n",
    "       'Avg Speed_11', 'Avg Speed_12', 'Avg Speed_13', 'Avg Speed_14',\n",
    "       'Avg Speed_15', 'Total Flow_0', 'Total Flow_1', 'Total Flow_2',\n",
    "       'Total Flow_3', 'Total Flow_4', 'Total Flow_5', 'Total Flow_6',\n",
    "       'Total Flow_7', 'Total Flow_8', 'Total Flow_9', 'Total Flow_10',\n",
    "       'Total Flow_11', 'Total Flow_12', 'Total Flow_13', 'Total Flow_14',\n",
    "       'Total Flow_15']"
   ]
  },
  {
   "cell_type": "code",
   "execution_count": 120,
   "metadata": {},
   "outputs": [
    {
     "name": "stdout",
     "output_type": "stream",
     "text": [
      "XGBoost\n"
     ]
    },
    {
     "name": "stderr",
     "output_type": "stream",
     "text": [
      "/opt/anaconda3/lib/python3.6/site-packages/sklearn/preprocessing/label.py:151: DeprecationWarning: The truth value of an empty array is ambiguous. Returning False, but in future this will result in an error. Use `array.size > 0` to check that an array is not empty.\n",
      "  if diff:\n",
      "/opt/anaconda3/lib/python3.6/site-packages/sklearn/preprocessing/label.py:151: DeprecationWarning: The truth value of an empty array is ambiguous. Returning False, but in future this will result in an error. Use `array.size > 0` to check that an array is not empty.\n",
      "  if diff:\n",
      "/opt/anaconda3/lib/python3.6/site-packages/sklearn/preprocessing/label.py:151: DeprecationWarning: The truth value of an empty array is ambiguous. Returning False, but in future this will result in an error. Use `array.size > 0` to check that an array is not empty.\n",
      "  if diff:\n",
      "/opt/anaconda3/lib/python3.6/site-packages/sklearn/preprocessing/label.py:151: DeprecationWarning: The truth value of an empty array is ambiguous. Returning False, but in future this will result in an error. Use `array.size > 0` to check that an array is not empty.\n",
      "  if diff:\n",
      "/opt/anaconda3/lib/python3.6/site-packages/sklearn/preprocessing/label.py:151: DeprecationWarning: The truth value of an empty array is ambiguous. Returning False, but in future this will result in an error. Use `array.size > 0` to check that an array is not empty.\n",
      "  if diff:\n",
      "/opt/anaconda3/lib/python3.6/site-packages/sklearn/preprocessing/label.py:151: DeprecationWarning: The truth value of an empty array is ambiguous. Returning False, but in future this will result in an error. Use `array.size > 0` to check that an array is not empty.\n",
      "  if diff:\n",
      "/opt/anaconda3/lib/python3.6/site-packages/sklearn/preprocessing/label.py:151: DeprecationWarning: The truth value of an empty array is ambiguous. Returning False, but in future this will result in an error. Use `array.size > 0` to check that an array is not empty.\n",
      "  if diff:\n",
      "/opt/anaconda3/lib/python3.6/site-packages/sklearn/preprocessing/label.py:151: DeprecationWarning: The truth value of an empty array is ambiguous. Returning False, but in future this will result in an error. Use `array.size > 0` to check that an array is not empty.\n",
      "  if diff:\n",
      "/opt/anaconda3/lib/python3.6/site-packages/sklearn/preprocessing/label.py:151: DeprecationWarning: The truth value of an empty array is ambiguous. Returning False, but in future this will result in an error. Use `array.size > 0` to check that an array is not empty.\n",
      "  if diff:\n",
      "/opt/anaconda3/lib/python3.6/site-packages/sklearn/preprocessing/label.py:151: DeprecationWarning: The truth value of an empty array is ambiguous. Returning False, but in future this will result in an error. Use `array.size > 0` to check that an array is not empty.\n",
      "  if diff:\n"
     ]
    },
    {
     "name": "stdout",
     "output_type": "stream",
     "text": [
      "5-fold CV f1 = 0.7593504507273489, std = 0.005059611957811536\n",
      "5-fold CV ROC AUC = 0.849945703017713, std = 0.004511058982447553\n"
     ]
    },
    {
     "name": "stderr",
     "output_type": "stream",
     "text": [
      "/opt/anaconda3/lib/python3.6/site-packages/sklearn/preprocessing/label.py:151: DeprecationWarning: The truth value of an empty array is ambiguous. Returning False, but in future this will result in an error. Use `array.size > 0` to check that an array is not empty.\n",
      "  if diff:\n"
     ]
    },
    {
     "name": "stdout",
     "output_type": "stream",
     "text": [
      "example CM = [[3648  849]\n",
      " [ 918 3164]]\n",
      "test F1 = 0.7817171093267449\n",
      "test ROC AUC = 0.793158855863079\n"
     ]
    },
    {
     "data": {
      "image/png": "[encoded data removed]",
      "text/plain": [
       "<matplotlib.figure.Figure at 0x7f5daa5039e8>"
      ]
     },
     "metadata": {},
     "output_type": "display_data"
    }
   ],
   "source": [
    "boost(dataset)"
   ]
  },
  {
   "cell_type": "code",
   "execution_count": 121,
   "metadata": {},
   "outputs": [
    {
     "name": "stdout",
     "output_type": "stream",
     "text": [
      "XGBoost\n"
     ]
    },
    {
     "name": "stderr",
     "output_type": "stream",
     "text": [
      "/opt/anaconda3/lib/python3.6/site-packages/sklearn/preprocessing/label.py:151: DeprecationWarning: The truth value of an empty array is ambiguous. Returning False, but in future this will result in an error. Use `array.size > 0` to check that an array is not empty.\n",
      "  if diff:\n",
      "/opt/anaconda3/lib/python3.6/site-packages/sklearn/preprocessing/label.py:151: DeprecationWarning: The truth value of an empty array is ambiguous. Returning False, but in future this will result in an error. Use `array.size > 0` to check that an array is not empty.\n",
      "  if diff:\n",
      "/opt/anaconda3/lib/python3.6/site-packages/sklearn/preprocessing/label.py:151: DeprecationWarning: The truth value of an empty array is ambiguous. Returning False, but in future this will result in an error. Use `array.size > 0` to check that an array is not empty.\n",
      "  if diff:\n",
      "/opt/anaconda3/lib/python3.6/site-packages/sklearn/preprocessing/label.py:151: DeprecationWarning: The truth value of an empty array is ambiguous. Returning False, but in future this will result in an error. Use `array.size > 0` to check that an array is not empty.\n",
      "  if diff:\n",
      "/opt/anaconda3/lib/python3.6/site-packages/sklearn/preprocessing/label.py:151: DeprecationWarning: The truth value of an empty array is ambiguous. Returning False, but in future this will result in an error. Use `array.size > 0` to check that an array is not empty.\n",
      "  if diff:\n",
      "/opt/anaconda3/lib/python3.6/site-packages/sklearn/preprocessing/label.py:151: DeprecationWarning: The truth value of an empty array is ambiguous. Returning False, but in future this will result in an error. Use `array.size > 0` to check that an array is not empty.\n",
      "  if diff:\n",
      "/opt/anaconda3/lib/python3.6/site-packages/sklearn/preprocessing/label.py:151: DeprecationWarning: The truth value of an empty array is ambiguous. Returning False, but in future this will result in an error. Use `array.size > 0` to check that an array is not empty.\n",
      "  if diff:\n",
      "/opt/anaconda3/lib/python3.6/site-packages/sklearn/preprocessing/label.py:151: DeprecationWarning: The truth value of an empty array is ambiguous. Returning False, but in future this will result in an error. Use `array.size > 0` to check that an array is not empty.\n",
      "  if diff:\n",
      "/opt/anaconda3/lib/python3.6/site-packages/sklearn/preprocessing/label.py:151: DeprecationWarning: The truth value of an empty array is ambiguous. Returning False, but in future this will result in an error. Use `array.size > 0` to check that an array is not empty.\n",
      "  if diff:\n",
      "/opt/anaconda3/lib/python3.6/site-packages/sklearn/preprocessing/label.py:151: DeprecationWarning: The truth value of an empty array is ambiguous. Returning False, but in future this will result in an error. Use `array.size > 0` to check that an array is not empty.\n",
      "  if diff:\n"
     ]
    },
    {
     "name": "stdout",
     "output_type": "stream",
     "text": [
      "5-fold CV f1 = 0.7779694542831376, std = 0.007762256980054429\n",
      "5-fold CV ROC AUC = 0.8657868460012615, std = 0.00780404700863803\n"
     ]
    },
    {
     "name": "stderr",
     "output_type": "stream",
     "text": [
      "/opt/anaconda3/lib/python3.6/site-packages/sklearn/preprocessing/label.py:151: DeprecationWarning: The truth value of an empty array is ambiguous. Returning False, but in future this will result in an error. Use `array.size > 0` to check that an array is not empty.\n",
      "  if diff:\n"
     ]
    },
    {
     "name": "stdout",
     "output_type": "stream",
     "text": [
      "example CM = [[3715  782]\n",
      " [ 861 3221]]\n",
      "test F1 = 0.7967841682127397\n",
      "test ROC AUC = 0.8075901382128889\n"
     ]
    },
    {
     "data": {
      "image/png": "[encoded data removed]",
      "text/plain": [
       "<matplotlib.figure.Figure at 0x7f5daa3828d0>"
      ]
     },
     "metadata": {},
     "output_type": "display_data"
    }
   ],
   "source": [
    "boost(dataset, non_sq_cols)"
   ]
  },
  {
   "cell_type": "code",
   "execution_count": 37,
   "metadata": {},
   "outputs": [],
   "source": [
    "def crop_window(dataset, mins):\n",
    "    min_later = np.array([], dtype=str)\n",
    "    for cc in dataset.columns:\n",
    "        if 'Avg' in cc or 'Tot' in cc:\n",
    "            if int(cc.split('_')[-1])>=8+int(mins/5):\n",
    "                min_later = np.append(min_later, cc)\n",
    "    return min_later"
   ]
  },
  {
   "cell_type": "code",
   "execution_count": 39,
   "metadata": {},
   "outputs": [],
   "source": [
    "min_later5 = crop_window(dataset, 5)"
   ]
  },
  {
   "cell_type": "code",
   "execution_count": 40,
   "metadata": {
    "collapsed": true
   },
   "outputs": [],
   "source": [
    "min_later10 = crop_window(dataset, 10)"
   ]
  },
  {
   "cell_type": "code",
   "execution_count": 41,
   "metadata": {
    "collapsed": true
   },
   "outputs": [],
   "source": [
    "min_later20 = crop_window(dataset, 20)"
   ]
  },
  {
   "cell_type": "code",
   "execution_count": 42,
   "metadata": {
    "collapsed": true
   },
   "outputs": [],
   "source": [
    "min_later30 = crop_window(dataset, 30)"
   ]
  },
  {
   "cell_type": "code",
   "execution_count": 49,
   "metadata": {
    "scrolled": false
   },
   "outputs": [
    {
     "name": "stdout",
     "output_type": "stream",
     "text": [
      "1\n",
      "XGBoost\n"
     ]
    },
    {
     "name": "stderr",
     "output_type": "stream",
     "text": [
      "/opt/anaconda3/lib/python3.6/site-packages/sklearn/preprocessing/label.py:151: DeprecationWarning: The truth value of an empty array is ambiguous. Returning False, but in future this will result in an error. Use `array.size > 0` to check that an array is not empty.\n",
      "  if diff:\n",
      "/opt/anaconda3/lib/python3.6/site-packages/sklearn/preprocessing/label.py:151: DeprecationWarning: The truth value of an empty array is ambiguous. Returning False, but in future this will result in an error. Use `array.size > 0` to check that an array is not empty.\n",
      "  if diff:\n",
      "/opt/anaconda3/lib/python3.6/site-packages/sklearn/preprocessing/label.py:151: DeprecationWarning: The truth value of an empty array is ambiguous. Returning False, but in future this will result in an error. Use `array.size > 0` to check that an array is not empty.\n",
      "  if diff:\n",
      "/opt/anaconda3/lib/python3.6/site-packages/sklearn/preprocessing/label.py:151: DeprecationWarning: The truth value of an empty array is ambiguous. Returning False, but in future this will result in an error. Use `array.size > 0` to check that an array is not empty.\n",
      "  if diff:\n",
      "/opt/anaconda3/lib/python3.6/site-packages/sklearn/preprocessing/label.py:151: DeprecationWarning: The truth value of an empty array is ambiguous. Returning False, but in future this will result in an error. Use `array.size > 0` to check that an array is not empty.\n",
      "  if diff:\n",
      "/opt/anaconda3/lib/python3.6/site-packages/sklearn/preprocessing/label.py:151: DeprecationWarning: The truth value of an empty array is ambiguous. Returning False, but in future this will result in an error. Use `array.size > 0` to check that an array is not empty.\n",
      "  if diff:\n",
      "/opt/anaconda3/lib/python3.6/site-packages/sklearn/preprocessing/label.py:151: DeprecationWarning: The truth value of an empty array is ambiguous. Returning False, but in future this will result in an error. Use `array.size > 0` to check that an array is not empty.\n",
      "  if diff:\n",
      "/opt/anaconda3/lib/python3.6/site-packages/sklearn/preprocessing/label.py:151: DeprecationWarning: The truth value of an empty array is ambiguous. Returning False, but in future this will result in an error. Use `array.size > 0` to check that an array is not empty.\n",
      "  if diff:\n",
      "/opt/anaconda3/lib/python3.6/site-packages/sklearn/preprocessing/label.py:151: DeprecationWarning: The truth value of an empty array is ambiguous. Returning False, but in future this will result in an error. Use `array.size > 0` to check that an array is not empty.\n",
      "  if diff:\n",
      "/opt/anaconda3/lib/python3.6/site-packages/sklearn/preprocessing/label.py:151: DeprecationWarning: The truth value of an empty array is ambiguous. Returning False, but in future this will result in an error. Use `array.size > 0` to check that an array is not empty.\n",
      "  if diff:\n",
      "/opt/anaconda3/lib/python3.6/site-packages/sklearn/preprocessing/label.py:151: DeprecationWarning: The truth value of an empty array is ambiguous. Returning False, but in future this will result in an error. Use `array.size > 0` to check that an array is not empty.\n",
      "  if diff:\n",
      "/opt/anaconda3/lib/python3.6/site-packages/sklearn/preprocessing/label.py:151: DeprecationWarning: The truth value of an empty array is ambiguous. Returning False, but in future this will result in an error. Use `array.size > 0` to check that an array is not empty.\n",
      "  if diff:\n",
      "/opt/anaconda3/lib/python3.6/site-packages/sklearn/preprocessing/label.py:151: DeprecationWarning: The truth value of an empty array is ambiguous. Returning False, but in future this will result in an error. Use `array.size > 0` to check that an array is not empty.\n",
      "  if diff:\n",
      "/opt/anaconda3/lib/python3.6/site-packages/sklearn/preprocessing/label.py:151: DeprecationWarning: The truth value of an empty array is ambiguous. Returning False, but in future this will result in an error. Use `array.size > 0` to check that an array is not empty.\n",
      "  if diff:\n",
      "/opt/anaconda3/lib/python3.6/site-packages/sklearn/preprocessing/label.py:151: DeprecationWarning: The truth value of an empty array is ambiguous. Returning False, but in future this will result in an error. Use `array.size > 0` to check that an array is not empty.\n",
      "  if diff:\n",
      "/opt/anaconda3/lib/python3.6/site-packages/sklearn/preprocessing/label.py:151: DeprecationWarning: The truth value of an empty array is ambiguous. Returning False, but in future this will result in an error. Use `array.size > 0` to check that an array is not empty.\n",
      "  if diff:\n",
      "/opt/anaconda3/lib/python3.6/site-packages/sklearn/preprocessing/label.py:151: DeprecationWarning: The truth value of an empty array is ambiguous. Returning False, but in future this will result in an error. Use `array.size > 0` to check that an array is not empty.\n",
      "  if diff:\n",
      "/opt/anaconda3/lib/python3.6/site-packages/sklearn/preprocessing/label.py:151: DeprecationWarning: The truth value of an empty array is ambiguous. Returning False, but in future this will result in an error. Use `array.size > 0` to check that an array is not empty.\n",
      "  if diff:\n",
      "/opt/anaconda3/lib/python3.6/site-packages/sklearn/preprocessing/label.py:151: DeprecationWarning: The truth value of an empty array is ambiguous. Returning False, but in future this will result in an error. Use `array.size > 0` to check that an array is not empty.\n",
      "  if diff:\n",
      "/opt/anaconda3/lib/python3.6/site-packages/sklearn/preprocessing/label.py:151: DeprecationWarning: The truth value of an empty array is ambiguous. Returning False, but in future this will result in an error. Use `array.size > 0` to check that an array is not empty.\n",
      "  if diff:\n",
      "/opt/anaconda3/lib/python3.6/site-packages/sklearn/preprocessing/label.py:151: DeprecationWarning: The truth value of an empty array is ambiguous. Returning False, but in future this will result in an error. Use `array.size > 0` to check that an array is not empty.\n",
      "  if diff:\n",
      "/opt/anaconda3/lib/python3.6/site-packages/sklearn/preprocessing/label.py:151: DeprecationWarning: The truth value of an empty array is ambiguous. Returning False, but in future this will result in an error. Use `array.size > 0` to check that an array is not empty.\n",
      "  if diff:\n",
      "/opt/anaconda3/lib/python3.6/site-packages/sklearn/preprocessing/label.py:151: DeprecationWarning: The truth value of an empty array is ambiguous. Returning False, but in future this will result in an error. Use `array.size > 0` to check that an array is not empty.\n",
      "  if diff:\n",
      "/opt/anaconda3/lib/python3.6/site-packages/sklearn/preprocessing/label.py:151: DeprecationWarning: The truth value of an empty array is ambiguous. Returning False, but in future this will result in an error. Use `array.size > 0` to check that an array is not empty.\n",
      "  if diff:\n",
      "/opt/anaconda3/lib/python3.6/site-packages/sklearn/preprocessing/label.py:151: DeprecationWarning: The truth value of an empty array is ambiguous. Returning False, but in future this will result in an error. Use `array.size > 0` to check that an array is not empty.\n",
      "  if diff:\n",
      "/opt/anaconda3/lib/python3.6/site-packages/sklearn/preprocessing/label.py:151: DeprecationWarning: The truth value of an empty array is ambiguous. Returning False, but in future this will result in an error. Use `array.size > 0` to check that an array is not empty.\n",
      "  if diff:\n",
      "/opt/anaconda3/lib/python3.6/site-packages/sklearn/preprocessing/label.py:151: DeprecationWarning: The truth value of an empty array is ambiguous. Returning False, but in future this will result in an error. Use `array.size > 0` to check that an array is not empty.\n",
      "  if diff:\n",
      "/opt/anaconda3/lib/python3.6/site-packages/sklearn/preprocessing/label.py:151: DeprecationWarning: The truth value of an empty array is ambiguous. Returning False, but in future this will result in an error. Use `array.size > 0` to check that an array is not empty.\n",
      "  if diff:\n",
      "/opt/anaconda3/lib/python3.6/site-packages/sklearn/preprocessing/label.py:151: DeprecationWarning: The truth value of an empty array is ambiguous. Returning False, but in future this will result in an error. Use `array.size > 0` to check that an array is not empty.\n",
      "  if diff:\n",
      "/opt/anaconda3/lib/python3.6/site-packages/sklearn/preprocessing/label.py:151: DeprecationWarning: The truth value of an empty array is ambiguous. Returning False, but in future this will result in an error. Use `array.size > 0` to check that an array is not empty.\n",
      "  if diff:\n"
     ]
    },
    {
     "name": "stdout",
     "output_type": "stream",
     "text": [
      "5-fold CV f1 = 0.7635708174628133, std = 0.0038198947155239716\n",
      "5-fold CV ROC AUC = 0.8510780084290657, std = 0.004810182628634512\n",
      "5-fold CV P = 0.7715305813100658, std = 0.006055938548542873\n",
      "5-fold CV R = 0.7558327714472466, std = 0.00620594904187664\n"
     ]
    },
    {
     "name": "stderr",
     "output_type": "stream",
     "text": [
      "/opt/anaconda3/lib/python3.6/site-packages/sklearn/preprocessing/label.py:151: DeprecationWarning: The truth value of an empty array is ambiguous. Returning False, but in future this will result in an error. Use `array.size > 0` to check that an array is not empty.\n",
      "  if diff:\n"
     ]
    },
    {
     "name": "stdout",
     "output_type": "stream",
     "text": [
      "example CM = [[3734  763]\n",
      " [ 858 3224]]\n"
     ]
    },
    {
     "data": {
      "image/png": "[encoded data removed]",
      "text/plain": [
       "<matplotlib.figure.Figure at 0x7f482c8fa278>"
      ]
     },
     "metadata": {},
     "output_type": "display_data"
    }
   ],
   "source": [
    "boost(dataset, [cc for cc in min_later5])"
   ]
  },
  {
   "cell_type": "code",
   "execution_count": 50,
   "metadata": {
    "scrolled": false
   },
   "outputs": [
    {
     "name": "stdout",
     "output_type": "stream",
     "text": [
      "2\n",
      "XGBoost\n"
     ]
    },
    {
     "name": "stderr",
     "output_type": "stream",
     "text": [
      "/opt/anaconda3/lib/python3.6/site-packages/sklearn/preprocessing/label.py:151: DeprecationWarning: The truth value of an empty array is ambiguous. Returning False, but in future this will result in an error. Use `array.size > 0` to check that an array is not empty.\n",
      "  if diff:\n",
      "/opt/anaconda3/lib/python3.6/site-packages/sklearn/preprocessing/label.py:151: DeprecationWarning: The truth value of an empty array is ambiguous. Returning False, but in future this will result in an error. Use `array.size > 0` to check that an array is not empty.\n",
      "  if diff:\n",
      "/opt/anaconda3/lib/python3.6/site-packages/sklearn/preprocessing/label.py:151: DeprecationWarning: The truth value of an empty array is ambiguous. Returning False, but in future this will result in an error. Use `array.size > 0` to check that an array is not empty.\n",
      "  if diff:\n",
      "/opt/anaconda3/lib/python3.6/site-packages/sklearn/preprocessing/label.py:151: DeprecationWarning: The truth value of an empty array is ambiguous. Returning False, but in future this will result in an error. Use `array.size > 0` to check that an array is not empty.\n",
      "  if diff:\n",
      "/opt/anaconda3/lib/python3.6/site-packages/sklearn/preprocessing/label.py:151: DeprecationWarning: The truth value of an empty array is ambiguous. Returning False, but in future this will result in an error. Use `array.size > 0` to check that an array is not empty.\n",
      "  if diff:\n",
      "/opt/anaconda3/lib/python3.6/site-packages/sklearn/preprocessing/label.py:151: DeprecationWarning: The truth value of an empty array is ambiguous. Returning False, but in future this will result in an error. Use `array.size > 0` to check that an array is not empty.\n",
      "  if diff:\n",
      "/opt/anaconda3/lib/python3.6/site-packages/sklearn/preprocessing/label.py:151: DeprecationWarning: The truth value of an empty array is ambiguous. Returning False, but in future this will result in an error. Use `array.size > 0` to check that an array is not empty.\n",
      "  if diff:\n",
      "/opt/anaconda3/lib/python3.6/site-packages/sklearn/preprocessing/label.py:151: DeprecationWarning: The truth value of an empty array is ambiguous. Returning False, but in future this will result in an error. Use `array.size > 0` to check that an array is not empty.\n",
      "  if diff:\n",
      "/opt/anaconda3/lib/python3.6/site-packages/sklearn/preprocessing/label.py:151: DeprecationWarning: The truth value of an empty array is ambiguous. Returning False, but in future this will result in an error. Use `array.size > 0` to check that an array is not empty.\n",
      "  if diff:\n",
      "/opt/anaconda3/lib/python3.6/site-packages/sklearn/preprocessing/label.py:151: DeprecationWarning: The truth value of an empty array is ambiguous. Returning False, but in future this will result in an error. Use `array.size > 0` to check that an array is not empty.\n",
      "  if diff:\n",
      "/opt/anaconda3/lib/python3.6/site-packages/sklearn/preprocessing/label.py:151: DeprecationWarning: The truth value of an empty array is ambiguous. Returning False, but in future this will result in an error. Use `array.size > 0` to check that an array is not empty.\n",
      "  if diff:\n",
      "/opt/anaconda3/lib/python3.6/site-packages/sklearn/preprocessing/label.py:151: DeprecationWarning: The truth value of an empty array is ambiguous. Returning False, but in future this will result in an error. Use `array.size > 0` to check that an array is not empty.\n",
      "  if diff:\n",
      "/opt/anaconda3/lib/python3.6/site-packages/sklearn/preprocessing/label.py:151: DeprecationWarning: The truth value of an empty array is ambiguous. Returning False, but in future this will result in an error. Use `array.size > 0` to check that an array is not empty.\n",
      "  if diff:\n",
      "/opt/anaconda3/lib/python3.6/site-packages/sklearn/preprocessing/label.py:151: DeprecationWarning: The truth value of an empty array is ambiguous. Returning False, but in future this will result in an error. Use `array.size > 0` to check that an array is not empty.\n",
      "  if diff:\n",
      "/opt/anaconda3/lib/python3.6/site-packages/sklearn/preprocessing/label.py:151: DeprecationWarning: The truth value of an empty array is ambiguous. Returning False, but in future this will result in an error. Use `array.size > 0` to check that an array is not empty.\n",
      "  if diff:\n",
      "/opt/anaconda3/lib/python3.6/site-packages/sklearn/preprocessing/label.py:151: DeprecationWarning: The truth value of an empty array is ambiguous. Returning False, but in future this will result in an error. Use `array.size > 0` to check that an array is not empty.\n",
      "  if diff:\n",
      "/opt/anaconda3/lib/python3.6/site-packages/sklearn/preprocessing/label.py:151: DeprecationWarning: The truth value of an empty array is ambiguous. Returning False, but in future this will result in an error. Use `array.size > 0` to check that an array is not empty.\n",
      "  if diff:\n",
      "/opt/anaconda3/lib/python3.6/site-packages/sklearn/preprocessing/label.py:151: DeprecationWarning: The truth value of an empty array is ambiguous. Returning False, but in future this will result in an error. Use `array.size > 0` to check that an array is not empty.\n",
      "  if diff:\n",
      "/opt/anaconda3/lib/python3.6/site-packages/sklearn/preprocessing/label.py:151: DeprecationWarning: The truth value of an empty array is ambiguous. Returning False, but in future this will result in an error. Use `array.size > 0` to check that an array is not empty.\n",
      "  if diff:\n",
      "/opt/anaconda3/lib/python3.6/site-packages/sklearn/preprocessing/label.py:151: DeprecationWarning: The truth value of an empty array is ambiguous. Returning False, but in future this will result in an error. Use `array.size > 0` to check that an array is not empty.\n",
      "  if diff:\n",
      "/opt/anaconda3/lib/python3.6/site-packages/sklearn/preprocessing/label.py:151: DeprecationWarning: The truth value of an empty array is ambiguous. Returning False, but in future this will result in an error. Use `array.size > 0` to check that an array is not empty.\n",
      "  if diff:\n",
      "/opt/anaconda3/lib/python3.6/site-packages/sklearn/preprocessing/label.py:151: DeprecationWarning: The truth value of an empty array is ambiguous. Returning False, but in future this will result in an error. Use `array.size > 0` to check that an array is not empty.\n",
      "  if diff:\n",
      "/opt/anaconda3/lib/python3.6/site-packages/sklearn/preprocessing/label.py:151: DeprecationWarning: The truth value of an empty array is ambiguous. Returning False, but in future this will result in an error. Use `array.size > 0` to check that an array is not empty.\n",
      "  if diff:\n",
      "/opt/anaconda3/lib/python3.6/site-packages/sklearn/preprocessing/label.py:151: DeprecationWarning: The truth value of an empty array is ambiguous. Returning False, but in future this will result in an error. Use `array.size > 0` to check that an array is not empty.\n",
      "  if diff:\n",
      "/opt/anaconda3/lib/python3.6/site-packages/sklearn/preprocessing/label.py:151: DeprecationWarning: The truth value of an empty array is ambiguous. Returning False, but in future this will result in an error. Use `array.size > 0` to check that an array is not empty.\n",
      "  if diff:\n",
      "/opt/anaconda3/lib/python3.6/site-packages/sklearn/preprocessing/label.py:151: DeprecationWarning: The truth value of an empty array is ambiguous. Returning False, but in future this will result in an error. Use `array.size > 0` to check that an array is not empty.\n",
      "  if diff:\n",
      "/opt/anaconda3/lib/python3.6/site-packages/sklearn/preprocessing/label.py:151: DeprecationWarning: The truth value of an empty array is ambiguous. Returning False, but in future this will result in an error. Use `array.size > 0` to check that an array is not empty.\n",
      "  if diff:\n",
      "/opt/anaconda3/lib/python3.6/site-packages/sklearn/preprocessing/label.py:151: DeprecationWarning: The truth value of an empty array is ambiguous. Returning False, but in future this will result in an error. Use `array.size > 0` to check that an array is not empty.\n",
      "  if diff:\n",
      "/opt/anaconda3/lib/python3.6/site-packages/sklearn/preprocessing/label.py:151: DeprecationWarning: The truth value of an empty array is ambiguous. Returning False, but in future this will result in an error. Use `array.size > 0` to check that an array is not empty.\n",
      "  if diff:\n",
      "/opt/anaconda3/lib/python3.6/site-packages/sklearn/preprocessing/label.py:151: DeprecationWarning: The truth value of an empty array is ambiguous. Returning False, but in future this will result in an error. Use `array.size > 0` to check that an array is not empty.\n",
      "  if diff:\n"
     ]
    },
    {
     "name": "stdout",
     "output_type": "stream",
     "text": [
      "5-fold CV f1 = 0.7612968026397408, std = 0.0074301035704518814\n",
      "5-fold CV ROC AUC = 0.8500674010995116, std = 0.006906377198258623\n",
      "5-fold CV P = 0.7681440920561757, std = 0.010296983884508332\n",
      "5-fold CV R = 0.754608669394354, std = 0.006014582314406498\n"
     ]
    },
    {
     "name": "stderr",
     "output_type": "stream",
     "text": [
      "/opt/anaconda3/lib/python3.6/site-packages/sklearn/preprocessing/label.py:151: DeprecationWarning: The truth value of an empty array is ambiguous. Returning False, but in future this will result in an error. Use `array.size > 0` to check that an array is not empty.\n",
      "  if diff:\n"
     ]
    },
    {
     "name": "stdout",
     "output_type": "stream",
     "text": [
      "example CM = [[3669  828]\n",
      " [ 845 3237]]\n"
     ]
    },
    {
     "data": {
      "image/png": "[encoded data removed]",
      "text/plain": [
       "<matplotlib.figure.Figure at 0x7f482d13e5c0>"
      ]
     },
     "metadata": {},
     "output_type": "display_data"
    }
   ],
   "source": [
    "boost(dataset, [cc for cc in min_later10])"
   ]
  },
  {
   "cell_type": "code",
   "execution_count": 51,
   "metadata": {
    "scrolled": false
   },
   "outputs": [
    {
     "name": "stdout",
     "output_type": "stream",
     "text": [
      "3\n",
      "XGBoost\n"
     ]
    },
    {
     "name": "stderr",
     "output_type": "stream",
     "text": [
      "/opt/anaconda3/lib/python3.6/site-packages/sklearn/preprocessing/label.py:151: DeprecationWarning: The truth value of an empty array is ambiguous. Returning False, but in future this will result in an error. Use `array.size > 0` to check that an array is not empty.\n",
      "  if diff:\n",
      "/opt/anaconda3/lib/python3.6/site-packages/sklearn/preprocessing/label.py:151: DeprecationWarning: The truth value of an empty array is ambiguous. Returning False, but in future this will result in an error. Use `array.size > 0` to check that an array is not empty.\n",
      "  if diff:\n",
      "/opt/anaconda3/lib/python3.6/site-packages/sklearn/preprocessing/label.py:151: DeprecationWarning: The truth value of an empty array is ambiguous. Returning False, but in future this will result in an error. Use `array.size > 0` to check that an array is not empty.\n",
      "  if diff:\n",
      "/opt/anaconda3/lib/python3.6/site-packages/sklearn/preprocessing/label.py:151: DeprecationWarning: The truth value of an empty array is ambiguous. Returning False, but in future this will result in an error. Use `array.size > 0` to check that an array is not empty.\n",
      "  if diff:\n",
      "/opt/anaconda3/lib/python3.6/site-packages/sklearn/preprocessing/label.py:151: DeprecationWarning: The truth value of an empty array is ambiguous. Returning False, but in future this will result in an error. Use `array.size > 0` to check that an array is not empty.\n",
      "  if diff:\n",
      "/opt/anaconda3/lib/python3.6/site-packages/sklearn/preprocessing/label.py:151: DeprecationWarning: The truth value of an empty array is ambiguous. Returning False, but in future this will result in an error. Use `array.size > 0` to check that an array is not empty.\n",
      "  if diff:\n",
      "/opt/anaconda3/lib/python3.6/site-packages/sklearn/preprocessing/label.py:151: DeprecationWarning: The truth value of an empty array is ambiguous. Returning False, but in future this will result in an error. Use `array.size > 0` to check that an array is not empty.\n",
      "  if diff:\n",
      "/opt/anaconda3/lib/python3.6/site-packages/sklearn/preprocessing/label.py:151: DeprecationWarning: The truth value of an empty array is ambiguous. Returning False, but in future this will result in an error. Use `array.size > 0` to check that an array is not empty.\n",
      "  if diff:\n",
      "/opt/anaconda3/lib/python3.6/site-packages/sklearn/preprocessing/label.py:151: DeprecationWarning: The truth value of an empty array is ambiguous. Returning False, but in future this will result in an error. Use `array.size > 0` to check that an array is not empty.\n",
      "  if diff:\n",
      "/opt/anaconda3/lib/python3.6/site-packages/sklearn/preprocessing/label.py:151: DeprecationWarning: The truth value of an empty array is ambiguous. Returning False, but in future this will result in an error. Use `array.size > 0` to check that an array is not empty.\n",
      "  if diff:\n",
      "/opt/anaconda3/lib/python3.6/site-packages/sklearn/preprocessing/label.py:151: DeprecationWarning: The truth value of an empty array is ambiguous. Returning False, but in future this will result in an error. Use `array.size > 0` to check that an array is not empty.\n",
      "  if diff:\n",
      "/opt/anaconda3/lib/python3.6/site-packages/sklearn/preprocessing/label.py:151: DeprecationWarning: The truth value of an empty array is ambiguous. Returning False, but in future this will result in an error. Use `array.size > 0` to check that an array is not empty.\n",
      "  if diff:\n",
      "/opt/anaconda3/lib/python3.6/site-packages/sklearn/preprocessing/label.py:151: DeprecationWarning: The truth value of an empty array is ambiguous. Returning False, but in future this will result in an error. Use `array.size > 0` to check that an array is not empty.\n",
      "  if diff:\n",
      "/opt/anaconda3/lib/python3.6/site-packages/sklearn/preprocessing/label.py:151: DeprecationWarning: The truth value of an empty array is ambiguous. Returning False, but in future this will result in an error. Use `array.size > 0` to check that an array is not empty.\n",
      "  if diff:\n",
      "/opt/anaconda3/lib/python3.6/site-packages/sklearn/preprocessing/label.py:151: DeprecationWarning: The truth value of an empty array is ambiguous. Returning False, but in future this will result in an error. Use `array.size > 0` to check that an array is not empty.\n",
      "  if diff:\n",
      "/opt/anaconda3/lib/python3.6/site-packages/sklearn/preprocessing/label.py:151: DeprecationWarning: The truth value of an empty array is ambiguous. Returning False, but in future this will result in an error. Use `array.size > 0` to check that an array is not empty.\n",
      "  if diff:\n",
      "/opt/anaconda3/lib/python3.6/site-packages/sklearn/preprocessing/label.py:151: DeprecationWarning: The truth value of an empty array is ambiguous. Returning False, but in future this will result in an error. Use `array.size > 0` to check that an array is not empty.\n",
      "  if diff:\n",
      "/opt/anaconda3/lib/python3.6/site-packages/sklearn/preprocessing/label.py:151: DeprecationWarning: The truth value of an empty array is ambiguous. Returning False, but in future this will result in an error. Use `array.size > 0` to check that an array is not empty.\n",
      "  if diff:\n",
      "/opt/anaconda3/lib/python3.6/site-packages/sklearn/preprocessing/label.py:151: DeprecationWarning: The truth value of an empty array is ambiguous. Returning False, but in future this will result in an error. Use `array.size > 0` to check that an array is not empty.\n",
      "  if diff:\n",
      "/opt/anaconda3/lib/python3.6/site-packages/sklearn/preprocessing/label.py:151: DeprecationWarning: The truth value of an empty array is ambiguous. Returning False, but in future this will result in an error. Use `array.size > 0` to check that an array is not empty.\n",
      "  if diff:\n",
      "/opt/anaconda3/lib/python3.6/site-packages/sklearn/preprocessing/label.py:151: DeprecationWarning: The truth value of an empty array is ambiguous. Returning False, but in future this will result in an error. Use `array.size > 0` to check that an array is not empty.\n",
      "  if diff:\n",
      "/opt/anaconda3/lib/python3.6/site-packages/sklearn/preprocessing/label.py:151: DeprecationWarning: The truth value of an empty array is ambiguous. Returning False, but in future this will result in an error. Use `array.size > 0` to check that an array is not empty.\n",
      "  if diff:\n",
      "/opt/anaconda3/lib/python3.6/site-packages/sklearn/preprocessing/label.py:151: DeprecationWarning: The truth value of an empty array is ambiguous. Returning False, but in future this will result in an error. Use `array.size > 0` to check that an array is not empty.\n",
      "  if diff:\n",
      "/opt/anaconda3/lib/python3.6/site-packages/sklearn/preprocessing/label.py:151: DeprecationWarning: The truth value of an empty array is ambiguous. Returning False, but in future this will result in an error. Use `array.size > 0` to check that an array is not empty.\n",
      "  if diff:\n",
      "/opt/anaconda3/lib/python3.6/site-packages/sklearn/preprocessing/label.py:151: DeprecationWarning: The truth value of an empty array is ambiguous. Returning False, but in future this will result in an error. Use `array.size > 0` to check that an array is not empty.\n",
      "  if diff:\n",
      "/opt/anaconda3/lib/python3.6/site-packages/sklearn/preprocessing/label.py:151: DeprecationWarning: The truth value of an empty array is ambiguous. Returning False, but in future this will result in an error. Use `array.size > 0` to check that an array is not empty.\n",
      "  if diff:\n",
      "/opt/anaconda3/lib/python3.6/site-packages/sklearn/preprocessing/label.py:151: DeprecationWarning: The truth value of an empty array is ambiguous. Returning False, but in future this will result in an error. Use `array.size > 0` to check that an array is not empty.\n",
      "  if diff:\n",
      "/opt/anaconda3/lib/python3.6/site-packages/sklearn/preprocessing/label.py:151: DeprecationWarning: The truth value of an empty array is ambiguous. Returning False, but in future this will result in an error. Use `array.size > 0` to check that an array is not empty.\n",
      "  if diff:\n",
      "/opt/anaconda3/lib/python3.6/site-packages/sklearn/preprocessing/label.py:151: DeprecationWarning: The truth value of an empty array is ambiguous. Returning False, but in future this will result in an error. Use `array.size > 0` to check that an array is not empty.\n",
      "  if diff:\n",
      "/opt/anaconda3/lib/python3.6/site-packages/sklearn/preprocessing/label.py:151: DeprecationWarning: The truth value of an empty array is ambiguous. Returning False, but in future this will result in an error. Use `array.size > 0` to check that an array is not empty.\n",
      "  if diff:\n"
     ]
    },
    {
     "name": "stdout",
     "output_type": "stream",
     "text": [
      "5-fold CV f1 = 0.7672633175643032, std = 0.008316071425959644\n",
      "5-fold CV ROC AUC = 0.8545858048323778, std = 0.006351242671125875\n",
      "5-fold CV P = 0.776553235673143, std = 0.008799370461151751\n",
      "5-fold CV R = 0.7582218954582411, std = 0.009145577236047774\n"
     ]
    },
    {
     "name": "stderr",
     "output_type": "stream",
     "text": [
      "/opt/anaconda3/lib/python3.6/site-packages/sklearn/preprocessing/label.py:151: DeprecationWarning: The truth value of an empty array is ambiguous. Returning False, but in future this will result in an error. Use `array.size > 0` to check that an array is not empty.\n",
      "  if diff:\n"
     ]
    },
    {
     "name": "stdout",
     "output_type": "stream",
     "text": [
      "example CM = [[3701  796]\n",
      " [ 894 3188]]\n"
     ]
    },
    {
     "data": {
      "image/png": "[encoded data removed]",
      "text/plain": [
       "<matplotlib.figure.Figure at 0x7f482c6c0240>"
      ]
     },
     "metadata": {},
     "output_type": "display_data"
    }
   ],
   "source": [
    "boost(dataset, [cc for cc in min_later20])"
   ]
  },
  {
   "cell_type": "code",
   "execution_count": 52,
   "metadata": {},
   "outputs": [
    {
     "name": "stdout",
     "output_type": "stream",
     "text": [
      "4\n",
      "XGBoost\n"
     ]
    },
    {
     "name": "stderr",
     "output_type": "stream",
     "text": [
      "/opt/anaconda3/lib/python3.6/site-packages/sklearn/preprocessing/label.py:151: DeprecationWarning: The truth value of an empty array is ambiguous. Returning False, but in future this will result in an error. Use `array.size > 0` to check that an array is not empty.\n",
      "  if diff:\n",
      "/opt/anaconda3/lib/python3.6/site-packages/sklearn/preprocessing/label.py:151: DeprecationWarning: The truth value of an empty array is ambiguous. Returning False, but in future this will result in an error. Use `array.size > 0` to check that an array is not empty.\n",
      "  if diff:\n",
      "/opt/anaconda3/lib/python3.6/site-packages/sklearn/preprocessing/label.py:151: DeprecationWarning: The truth value of an empty array is ambiguous. Returning False, but in future this will result in an error. Use `array.size > 0` to check that an array is not empty.\n",
      "  if diff:\n",
      "/opt/anaconda3/lib/python3.6/site-packages/sklearn/preprocessing/label.py:151: DeprecationWarning: The truth value of an empty array is ambiguous. Returning False, but in future this will result in an error. Use `array.size > 0` to check that an array is not empty.\n",
      "  if diff:\n",
      "/opt/anaconda3/lib/python3.6/site-packages/sklearn/preprocessing/label.py:151: DeprecationWarning: The truth value of an empty array is ambiguous. Returning False, but in future this will result in an error. Use `array.size > 0` to check that an array is not empty.\n",
      "  if diff:\n",
      "/opt/anaconda3/lib/python3.6/site-packages/sklearn/preprocessing/label.py:151: DeprecationWarning: The truth value of an empty array is ambiguous. Returning False, but in future this will result in an error. Use `array.size > 0` to check that an array is not empty.\n",
      "  if diff:\n",
      "/opt/anaconda3/lib/python3.6/site-packages/sklearn/preprocessing/label.py:151: DeprecationWarning: The truth value of an empty array is ambiguous. Returning False, but in future this will result in an error. Use `array.size > 0` to check that an array is not empty.\n",
      "  if diff:\n",
      "/opt/anaconda3/lib/python3.6/site-packages/sklearn/preprocessing/label.py:151: DeprecationWarning: The truth value of an empty array is ambiguous. Returning False, but in future this will result in an error. Use `array.size > 0` to check that an array is not empty.\n",
      "  if diff:\n",
      "/opt/anaconda3/lib/python3.6/site-packages/sklearn/preprocessing/label.py:151: DeprecationWarning: The truth value of an empty array is ambiguous. Returning False, but in future this will result in an error. Use `array.size > 0` to check that an array is not empty.\n",
      "  if diff:\n",
      "/opt/anaconda3/lib/python3.6/site-packages/sklearn/preprocessing/label.py:151: DeprecationWarning: The truth value of an empty array is ambiguous. Returning False, but in future this will result in an error. Use `array.size > 0` to check that an array is not empty.\n",
      "  if diff:\n",
      "/opt/anaconda3/lib/python3.6/site-packages/sklearn/preprocessing/label.py:151: DeprecationWarning: The truth value of an empty array is ambiguous. Returning False, but in future this will result in an error. Use `array.size > 0` to check that an array is not empty.\n",
      "  if diff:\n",
      "/opt/anaconda3/lib/python3.6/site-packages/sklearn/preprocessing/label.py:151: DeprecationWarning: The truth value of an empty array is ambiguous. Returning False, but in future this will result in an error. Use `array.size > 0` to check that an array is not empty.\n",
      "  if diff:\n",
      "/opt/anaconda3/lib/python3.6/site-packages/sklearn/preprocessing/label.py:151: DeprecationWarning: The truth value of an empty array is ambiguous. Returning False, but in future this will result in an error. Use `array.size > 0` to check that an array is not empty.\n",
      "  if diff:\n",
      "/opt/anaconda3/lib/python3.6/site-packages/sklearn/preprocessing/label.py:151: DeprecationWarning: The truth value of an empty array is ambiguous. Returning False, but in future this will result in an error. Use `array.size > 0` to check that an array is not empty.\n",
      "  if diff:\n",
      "/opt/anaconda3/lib/python3.6/site-packages/sklearn/preprocessing/label.py:151: DeprecationWarning: The truth value of an empty array is ambiguous. Returning False, but in future this will result in an error. Use `array.size > 0` to check that an array is not empty.\n",
      "  if diff:\n",
      "/opt/anaconda3/lib/python3.6/site-packages/sklearn/preprocessing/label.py:151: DeprecationWarning: The truth value of an empty array is ambiguous. Returning False, but in future this will result in an error. Use `array.size > 0` to check that an array is not empty.\n",
      "  if diff:\n",
      "/opt/anaconda3/lib/python3.6/site-packages/sklearn/preprocessing/label.py:151: DeprecationWarning: The truth value of an empty array is ambiguous. Returning False, but in future this will result in an error. Use `array.size > 0` to check that an array is not empty.\n",
      "  if diff:\n",
      "/opt/anaconda3/lib/python3.6/site-packages/sklearn/preprocessing/label.py:151: DeprecationWarning: The truth value of an empty array is ambiguous. Returning False, but in future this will result in an error. Use `array.size > 0` to check that an array is not empty.\n",
      "  if diff:\n",
      "/opt/anaconda3/lib/python3.6/site-packages/sklearn/preprocessing/label.py:151: DeprecationWarning: The truth value of an empty array is ambiguous. Returning False, but in future this will result in an error. Use `array.size > 0` to check that an array is not empty.\n",
      "  if diff:\n",
      "/opt/anaconda3/lib/python3.6/site-packages/sklearn/preprocessing/label.py:151: DeprecationWarning: The truth value of an empty array is ambiguous. Returning False, but in future this will result in an error. Use `array.size > 0` to check that an array is not empty.\n",
      "  if diff:\n",
      "/opt/anaconda3/lib/python3.6/site-packages/sklearn/preprocessing/label.py:151: DeprecationWarning: The truth value of an empty array is ambiguous. Returning False, but in future this will result in an error. Use `array.size > 0` to check that an array is not empty.\n",
      "  if diff:\n",
      "/opt/anaconda3/lib/python3.6/site-packages/sklearn/preprocessing/label.py:151: DeprecationWarning: The truth value of an empty array is ambiguous. Returning False, but in future this will result in an error. Use `array.size > 0` to check that an array is not empty.\n",
      "  if diff:\n",
      "/opt/anaconda3/lib/python3.6/site-packages/sklearn/preprocessing/label.py:151: DeprecationWarning: The truth value of an empty array is ambiguous. Returning False, but in future this will result in an error. Use `array.size > 0` to check that an array is not empty.\n",
      "  if diff:\n",
      "/opt/anaconda3/lib/python3.6/site-packages/sklearn/preprocessing/label.py:151: DeprecationWarning: The truth value of an empty array is ambiguous. Returning False, but in future this will result in an error. Use `array.size > 0` to check that an array is not empty.\n",
      "  if diff:\n",
      "/opt/anaconda3/lib/python3.6/site-packages/sklearn/preprocessing/label.py:151: DeprecationWarning: The truth value of an empty array is ambiguous. Returning False, but in future this will result in an error. Use `array.size > 0` to check that an array is not empty.\n",
      "  if diff:\n",
      "/opt/anaconda3/lib/python3.6/site-packages/sklearn/preprocessing/label.py:151: DeprecationWarning: The truth value of an empty array is ambiguous. Returning False, but in future this will result in an error. Use `array.size > 0` to check that an array is not empty.\n",
      "  if diff:\n",
      "/opt/anaconda3/lib/python3.6/site-packages/sklearn/preprocessing/label.py:151: DeprecationWarning: The truth value of an empty array is ambiguous. Returning False, but in future this will result in an error. Use `array.size > 0` to check that an array is not empty.\n",
      "  if diff:\n",
      "/opt/anaconda3/lib/python3.6/site-packages/sklearn/preprocessing/label.py:151: DeprecationWarning: The truth value of an empty array is ambiguous. Returning False, but in future this will result in an error. Use `array.size > 0` to check that an array is not empty.\n",
      "  if diff:\n",
      "/opt/anaconda3/lib/python3.6/site-packages/sklearn/preprocessing/label.py:151: DeprecationWarning: The truth value of an empty array is ambiguous. Returning False, but in future this will result in an error. Use `array.size > 0` to check that an array is not empty.\n",
      "  if diff:\n",
      "/opt/anaconda3/lib/python3.6/site-packages/sklearn/preprocessing/label.py:151: DeprecationWarning: The truth value of an empty array is ambiguous. Returning False, but in future this will result in an error. Use `array.size > 0` to check that an array is not empty.\n",
      "  if diff:\n"
     ]
    },
    {
     "name": "stdout",
     "output_type": "stream",
     "text": [
      "5-fold CV f1 = 0.7652076975412624, std = 0.008016169245072905\n",
      "5-fold CV ROC AUC = 0.8525949417582938, std = 0.007401881686468959\n",
      "5-fold CV P = 0.7725594216870929, std = 0.006866692687510949\n",
      "5-fold CV R = 0.758100040418287, std = 0.012685781232330396\n"
     ]
    },
    {
     "name": "stderr",
     "output_type": "stream",
     "text": [
      "/opt/anaconda3/lib/python3.6/site-packages/sklearn/preprocessing/label.py:151: DeprecationWarning: The truth value of an empty array is ambiguous. Returning False, but in future this will result in an error. Use `array.size > 0` to check that an array is not empty.\n",
      "  if diff:\n"
     ]
    },
    {
     "name": "stdout",
     "output_type": "stream",
     "text": [
      "example CM = [[3640  857]\n",
      " [ 881 3201]]\n"
     ]
    },
    {
     "data": {
      "image/png": "[encoded data removed]",
      "text/plain": [
       "<matplotlib.figure.Figure at 0x7f482c661cc0>"
      ]
     },
     "metadata": {},
     "output_type": "display_data"
    }
   ],
   "source": [
    "boost(dataset, [cc for cc in min_later30])"
   ]
  },
  {
   "cell_type": "code",
   "execution_count": 53,
   "metadata": {},
   "outputs": [
    {
     "ename": "NameError",
     "evalue": "name 'min_later40' is not defined",
     "output_type": "error",
     "traceback": [
      "\u001b[0;31m---------------------------------------------------------------------------\u001b[0m",
      "\u001b[0;31mNameError\u001b[0m                                 Traceback (most recent call last)",
      "\u001b[0;32m<ipython-input-53-bfaa65624eaa>\u001b[0m in \u001b[0;36m<module>\u001b[0;34m()\u001b[0m\n\u001b[0;32m----> 1\u001b[0;31m \u001b[0mboost\u001b[0m\u001b[0;34m(\u001b[0m\u001b[0mdataset\u001b[0m\u001b[0;34m,\u001b[0m \u001b[0;34m[\u001b[0m\u001b[0mcc\u001b[0m \u001b[0;32mfor\u001b[0m \u001b[0mcc\u001b[0m \u001b[0;32min\u001b[0m \u001b[0mmin_later40\u001b[0m\u001b[0;34m]\u001b[0m\u001b[0;34m)\u001b[0m\u001b[0;34m\u001b[0m\u001b[0m\n\u001b[0m",
      "\u001b[0;31mNameError\u001b[0m: name 'min_later40' is not defined"
     ]
    }
   ],
   "source": [
    "boost(dataset, [cc for cc in min_later40])"
   ]
  },
  {
   "cell_type": "code",
   "execution_count": null,
   "metadata": {
    "collapsed": true
   },
   "outputs": [],
   "source": [
    "print(min_later40)"
   ]
  }
 ],
 "metadata": {
  "kernelspec": {
   "display_name": "Python 3",
   "language": "python",
   "name": "python3"
  },
  "language_info": {
   "codemirror_mode": {
    "name": "ipython",
    "version": 3
   },
   "file_extension": ".py",
   "mimetype": "text/x-python",
   "name": "python",
   "nbconvert_exporter": "python",
   "pygments_lexer": "ipython3",
   "version": "3.6.3"
  }
 },
 "nbformat": 4,
 "nbformat_minor": 2
}
