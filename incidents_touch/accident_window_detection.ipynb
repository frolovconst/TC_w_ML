{
 "cells": [
  {
   "cell_type": "code",
   "execution_count": 37,
   "metadata": {},
   "outputs": [
    {
     "name": "stderr",
     "output_type": "stream",
     "text": [
      "/opt/anaconda3/lib/python3.6/site-packages/sklearn/cross_validation.py:41: DeprecationWarning: This module was deprecated in version 0.18 in favor of the model_selection module into which all the refactored classes and functions are moved. Also note that the interface of the new CV iterators are different from that of this module. This module will be removed in 0.20.\n",
      "  \"This module will be removed in 0.20.\", DeprecationWarning)\n"
     ]
    }
   ],
   "source": [
    "import pandas as pd\n",
    "import numpy as np\n",
    "from pathlib import Path\n",
    "import datetime as dt\n",
    "import re\n",
    "from geopy.distance import vincenty\n",
    "import matplotlib.dates as mdts\n",
    "import matplotlib.pyplot as plt\n",
    "import cartopy.crs as ccrs\n",
    "from sklearn.svm import LinearSVC, SVC\n",
    "from sklearn.linear_model import LogisticRegression\n",
    "from sklearn.model_selection import train_test_split, GridSearchCV, cross_validate\n",
    "from sklearn.preprocessing import OneHotEncoder, StandardScaler\n",
    "from sklearn.metrics import confusion_matrix, f1_score, make_scorer, roc_curve, roc_auc_score\n",
    "from sklearn.ensemble import RandomForestClassifier\n",
    "from time import time\n",
    "from tsfresh import extract_relevant_features, extract_features\n",
    "import xgboost as xgb"
   ]
  },
  {
   "cell_type": "code",
   "execution_count": 107,
   "metadata": {
    "collapsed": true
   },
   "outputs": [],
   "source": [
    "accdnt_windows = pd.read_csv('../data/PeMS/Incidents/work_folder/year_accdnt_wndw.csv', parse_dates=['Timestamp'])"
   ]
  },
  {
   "cell_type": "code",
   "execution_count": 108,
   "metadata": {
    "collapsed": true
   },
   "outputs": [],
   "source": [
    "accdnt_windows['y'] = 1"
   ]
  },
  {
   "cell_type": "code",
   "execution_count": 109,
   "metadata": {
    "collapsed": true
   },
   "outputs": [],
   "source": [
    "accdnt_free_windows = pd.read_csv('../data/PeMS/Incidents/work_folder/year_accdnt_free_wndw.csv', parse_dates=['Timestamp'])\n",
    "# accdnt_free_windows['IncidentID'] = 0"
   ]
  },
  {
   "cell_type": "code",
   "execution_count": 110,
   "metadata": {
    "collapsed": true
   },
   "outputs": [],
   "source": [
    "accdnt_free_windows['y'] = 0"
   ]
  },
  {
   "cell_type": "code",
   "execution_count": 224,
   "metadata": {
    "collapsed": true
   },
   "outputs": [],
   "source": [
    "def plot_window(data, chrct = 'Total Flow'):\n",
    "    \n",
    "#     cols = [col for col in data.columns if chrct in col]\n",
    "    cols = [col for col in data.index if chrct in col]\n",
    "    data[cols].plot()\n",
    "    plt.grid()\n",
    "    plt.show()"
   ]
  },
  {
   "cell_type": "code",
   "execution_count": 225,
   "metadata": {
    "scrolled": true
   },
   "outputs": [
    {
     "data": {
      "image/png": "[encoded data removed]",
      "text/plain": [
       "<matplotlib.figure.Figure at 0x7f0a2b40fbe0>"
      ]
     },
     "metadata": {},
     "output_type": "display_data"
    }
   ],
   "source": [
    "plot_window(accdnt_free_windows.iloc[86])"
   ]
  },
  {
   "cell_type": "code",
   "execution_count": 111,
   "metadata": {
    "collapsed": true
   },
   "outputs": [],
   "source": [
    "common_cols = ['Timestamp', 'IncidentID', 'Latitude', 'Longitude', 'Avg Occupancy_0', 'Avg Occupancy_1', 'Avg Occupancy_2',\n",
    "       'Avg Occupancy_3', 'Avg Occupancy_4', 'Avg Occupancy_5',\n",
    "       'Avg Occupancy_6', 'Avg Occupancy_7', 'Avg Occupancy_8',\n",
    "       'Avg Occupancy_9', 'Avg Occupancy_10', 'Avg Occupancy_11',\n",
    "       'Avg Occupancy_12', 'Avg Occupancy_13', 'Avg Occupancy_14',\n",
    "       'Avg Occupancy_15', 'Avg Speed_0', 'Avg Speed_1', 'Avg Speed_2',\n",
    "       'Avg Speed_3', 'Avg Speed_4', 'Avg Speed_5', 'Avg Speed_6',\n",
    "       'Avg Speed_7', 'Avg Speed_8', 'Avg Speed_9', 'Avg Speed_10',\n",
    "       'Avg Speed_11', 'Avg Speed_12', 'Avg Speed_13', 'Avg Speed_14',\n",
    "       'Avg Speed_15', 'Total Flow_0', 'Total Flow_1', 'Total Flow_2',\n",
    "       'Total Flow_3', 'Total Flow_4', 'Total Flow_5', 'Total Flow_6',\n",
    "       'Total Flow_7', 'Total Flow_8', 'Total Flow_9', 'Total Flow_10',\n",
    "       'Total Flow_11', 'Total Flow_12', 'Total Flow_13', 'Total Flow_14',\n",
    "       'Total Flow_15', 'y',\n",
    "\n",
    "        'Next_Avg Occupancy_0', 'Next_Avg Occupancy_1', 'Next_Avg Occupancy_2', 'Next_Avg Occupancy_3',\n",
    "         'Next_Avg Occupancy_4', 'Next_Avg Occupancy_5', 'Next_Avg Occupancy_6', 'Next_Avg Occupancy_7',\n",
    "         'Next_Avg Occupancy_8', 'Next_Avg Occupancy_9', 'Next_Avg Occupancy_10', 'Next_Avg Occupancy_11',\n",
    "         'Next_Avg Occupancy_12', 'Next_Avg Occupancy_13', 'Next_Avg Occupancy_14', 'Next_Avg Occupancy_15',\n",
    "         'Next_Total Flow_0', 'Next_Total Flow_1', 'Next_Total Flow_2', 'Next_Total Flow_3', 'Next_Total Flow_4',\n",
    "         'Next_Total Flow_5', 'Next_Total Flow_6', 'Next_Total Flow_7', 'Next_Total Flow_8', 'Next_Total Flow_9',\n",
    "         'Next_Total Flow_10', 'Next_Total Flow_11', 'Next_Total Flow_12', 'Next_Total Flow_13', 'Next_Total Flow_14',\n",
    "         'Next_Total Flow_15', 'Next_Avg Speed_0', 'Next_Avg Speed_1', 'Next_Avg Speed_2', 'Next_Avg Speed_3',\n",
    "         'Next_Avg Speed_4', 'Next_Avg Speed_5', 'Next_Avg Speed_6', 'Next_Avg Speed_7', 'Next_Avg Speed_8',\n",
    "         'Next_Avg Speed_9', 'Next_Avg Speed_10', 'Next_Avg Speed_11', 'Next_Avg Speed_12', 'Next_Avg Speed_13',\n",
    "         'Next_Avg Speed_14', 'Next_Avg Speed_15',\n",
    "               ]"
   ]
  },
  {
   "cell_type": "code",
   "execution_count": 97,
   "metadata": {},
   "outputs": [
    {
     "data": {
      "text/plain": [
       "0.4758696260374895"
      ]
     },
     "execution_count": 97,
     "metadata": {},
     "output_type": "execute_result"
    }
   ],
   "source": [
    "dataset[dataset.y==1].shape[0]/dataset.shape[0]"
   ]
  },
  {
   "cell_type": "code",
   "execution_count": 96,
   "metadata": {},
   "outputs": [
    {
     "data": {
      "text/plain": [
       "20411"
      ]
     },
     "execution_count": 96,
     "metadata": {},
     "output_type": "execute_result"
    }
   ],
   "source": [
    "dataset[dataset.y==1].shape[0]"
   ]
  },
  {
   "cell_type": "code",
   "execution_count": 112,
   "metadata": {},
   "outputs": [],
   "source": [
    "dataset = pd.concat((accdnt_windows[common_cols], accdnt_free_windows[common_cols]), axis=0).reset_index(drop=True)"
   ]
  },
  {
   "cell_type": "code",
   "execution_count": 87,
   "metadata": {
    "collapsed": true
   },
   "outputs": [],
   "source": [
    "weather = pd.read_csv('../data/Weather/weather.csv', parse_dates=[\"Date\"])"
   ]
  },
  {
   "cell_type": "code",
   "execution_count": 88,
   "metadata": {
    "collapsed": true
   },
   "outputs": [],
   "source": [
    "weather['Date'] = weather.Date.dt.date"
   ]
  },
  {
   "cell_type": "code",
   "execution_count": 89,
   "metadata": {
    "collapsed": true
   },
   "outputs": [],
   "source": [
    "dataset['Date'] = dataset.Timestamp.dt.date"
   ]
  },
  {
   "cell_type": "code",
   "execution_count": 90,
   "metadata": {
    "collapsed": true
   },
   "outputs": [],
   "source": [
    "dataset = dataset.merge(weather, how='left', on='Date').drop(columns='Date')"
   ]
  },
  {
   "cell_type": "code",
   "execution_count": 113,
   "metadata": {
    "collapsed": true
   },
   "outputs": [],
   "source": [
    "dataset['Hour'] = dataset.Timestamp.dt.hour"
   ]
  },
  {
   "cell_type": "code",
   "execution_count": 114,
   "metadata": {
    "collapsed": true
   },
   "outputs": [],
   "source": [
    "dataset = dataset.drop(index=dataset[(dataset['Hour']<6) | (dataset['Hour']>21)].index).reset_index(drop=True)"
   ]
  },
  {
   "cell_type": "code",
   "execution_count": 115,
   "metadata": {
    "collapsed": true
   },
   "outputs": [],
   "source": [
    "dataset = pd.get_dummies(dataset, columns=['Hour'], prefix='hour')"
   ]
  },
  {
   "cell_type": "code",
   "execution_count": 116,
   "metadata": {
    "collapsed": true
   },
   "outputs": [],
   "source": [
    "np.random.seed(442)\n",
    "dataset = dataset.loc[np.random.choice(dataset.shape[0], dataset.shape[0], replace=False)]"
   ]
  },
  {
   "cell_type": "code",
   "execution_count": 117,
   "metadata": {
    "collapsed": true
   },
   "outputs": [],
   "source": [
    "dataset.reset_index(drop=True, inplace=True)"
   ]
  },
  {
   "cell_type": "code",
   "execution_count": 127,
   "metadata": {
    "collapsed": true
   },
   "outputs": [],
   "source": [
    "non_series_cols = [col for col in dataset.columns if 'Avg' not in col and 'Total' not in col]"
   ]
  },
  {
   "cell_type": "code",
   "execution_count": 32,
   "metadata": {
    "collapsed": true
   },
   "outputs": [],
   "source": [
    "dataset.to_csv('../data/PeMS/Incidents/work_folder/windows.csv', index=False)"
   ]
  },
  {
   "cell_type": "code",
   "execution_count": 246,
   "metadata": {
    "collapsed": true
   },
   "outputs": [],
   "source": [
    "dataset= pd.read_csv('../data/PeMS/Incidents/work_folder/fst_dataset/windows.csv', parse_dates=['Timestamp'])"
   ]
  },
  {
   "cell_type": "code",
   "execution_count": 12,
   "metadata": {
    "collapsed": true
   },
   "outputs": [],
   "source": [
    "def feature_extraction(dataset):\n",
    "    cols = [col for col in dataset.columns if 'Avg' in col or 'Total' in col]\n",
    "    dataset = dataset[cols]\n",
    "    t_labels = np.arange(len(cols)/3, dtype=int)\n",
    "    t_labels = np.concatenate((t_labels,t_labels,t_labels))\n",
    "    aux_labels = pd.DataFrame({'val_name': cols, 't': t_labels})\n",
    "    long = dataset.reset_index().melt(id_vars=['index'], var_name='series_param', value_name='value')\n",
    "    long = long.merge(aux_labels, how='left', left_on='series_param', right_on='val_name').drop('val_name', axis=1)\n",
    "    long['series_param'] = long['series_param'].apply(lambda row: row.split('_')[0])\n",
    "    long = long.rename(columns={'index': 'ID'})[['ID', 't', 'series_param', 'value']]\n",
    "    extracted = extract_features(long, column_id='ID', column_sort='t', column_kind='series_param', column_value='value', n_jobs=4)\n",
    "    # try imputation\n",
    "    extracted.dropna(axis=1, how='any', inplace=True)\n",
    "    return extracted"
   ]
  },
  {
   "cell_type": "code",
   "execution_count": 13,
   "metadata": {
    "collapsed": true
   },
   "outputs": [],
   "source": [
    "def batch_extraction(dataset, b_size):\n",
    "    m=dataset.shape[0]\n",
    "    result=pd.DataFrame()\n",
    "    for i in range(0, m, b_size):\n",
    "        crnt_ftrs = feature_extraction(dataset.loc[i:i+b_size-1])\n",
    "#         result = pd.concat((result, crnt_ftrs))\n",
    "        crnt_ftrs.to_csv('../data/PeMS/Incidents/work_folder/extracted/extracted_{0:d}.csv'.format(i), index=False)\n",
    "    print('EGOR virubajjj!!!!!!!!!!!!!!!!!!!!!!!!!!!!!!!!')\n"
   ]
  },
  {
   "cell_type": "code",
   "execution_count": 14,
   "metadata": {
    "collapsed": true
   },
   "outputs": [],
   "source": [
    "rnm_cols = ['Avg Occupancy_0', 'Avg Occupancy_1', 'Avg Occupancy_2',\n",
    "       'Avg Occupancy_3', 'Avg Occupancy_4', 'Avg Occupancy_5',\n",
    "       'Avg Occupancy_6', 'Avg Occupancy_7', 'Avg Occupancy_8',\n",
    "       'Avg Occupancy_9', 'Avg Occupancy_10', 'Avg Occupancy_11',\n",
    "       'Avg Occupancy_12', 'Avg Occupancy_13', 'Avg Occupancy_14',\n",
    "       'Avg Occupancy_15', 'Avg Speed_0', 'Avg Speed_1', 'Avg Speed_2',\n",
    "       'Avg Speed_3', 'Avg Speed_4', 'Avg Speed_5', 'Avg Speed_6',\n",
    "       'Avg Speed_7', 'Avg Speed_8', 'Avg Speed_9', 'Avg Speed_10',\n",
    "       'Avg Speed_11', 'Avg Speed_12', 'Avg Speed_13', 'Avg Speed_14',\n",
    "       'Avg Speed_15', 'Total Flow_0', 'Total Flow_1', 'Total Flow_2',\n",
    "       'Total Flow_3', 'Total Flow_4', 'Total Flow_5', 'Total Flow_6',\n",
    "       'Total Flow_7', 'Total Flow_8', 'Total Flow_9', 'Total Flow_10',\n",
    "       'Total Flow_11', 'Total Flow_12', 'Total Flow_13', 'Total Flow_14',\n",
    "       'Total Flow_15']"
   ]
  },
  {
   "cell_type": "code",
   "execution_count": 15,
   "metadata": {
    "collapsed": true
   },
   "outputs": [],
   "source": [
    "dct = dict()\n",
    "for col in rnm_cols:\n",
    "    dct['Next_'+col] = 'Next '+col"
   ]
  },
  {
   "cell_type": "code",
   "execution_count": 16,
   "metadata": {
    "collapsed": true
   },
   "outputs": [],
   "source": [
    "dataset.rename(columns=dct, inplace=True)"
   ]
  },
  {
   "cell_type": "code",
   "execution_count": 18,
   "metadata": {
    "scrolled": true
   },
   "outputs": [
    {
     "name": "stderr",
     "output_type": "stream",
     "text": [
      "Feature Extraction: 100%|██████████| 20/20 [03:16<00:00,  9.81s/it]\n"
     ]
    },
    {
     "ename": "FileNotFoundError",
     "evalue": "[Errno 2] No such file or directory: '../data/PeMS/Incidents/work_folder/extracted/extracted_0.csv'",
     "output_type": "error",
     "traceback": [
      "\u001b[0;31m---------------------------------------------------------------------------\u001b[0m",
      "\u001b[0;31mFileNotFoundError\u001b[0m                         Traceback (most recent call last)",
      "\u001b[0;32m<ipython-input-18-ccd986fe13d9>\u001b[0m in \u001b[0;36m<module>\u001b[0;34m()\u001b[0m\n\u001b[0;32m----> 1\u001b[0;31m \u001b[0mbatch_extraction\u001b[0m\u001b[0;34m(\u001b[0m\u001b[0mdataset\u001b[0m\u001b[0;34m,\u001b[0m \u001b[0;36m1000\u001b[0m\u001b[0;34m)\u001b[0m\u001b[0;34m\u001b[0m\u001b[0m\n\u001b[0m",
      "\u001b[0;32m<ipython-input-13-9b0ff306e9c2>\u001b[0m in \u001b[0;36mbatch_extraction\u001b[0;34m(dataset, b_size)\u001b[0m\n\u001b[1;32m      5\u001b[0m         \u001b[0mcrnt_ftrs\u001b[0m \u001b[0;34m=\u001b[0m \u001b[0mfeature_extraction\u001b[0m\u001b[0;34m(\u001b[0m\u001b[0mdataset\u001b[0m\u001b[0;34m.\u001b[0m\u001b[0mloc\u001b[0m\u001b[0;34m[\u001b[0m\u001b[0mi\u001b[0m\u001b[0;34m:\u001b[0m\u001b[0mi\u001b[0m\u001b[0;34m+\u001b[0m\u001b[0mb_size\u001b[0m\u001b[0;34m-\u001b[0m\u001b[0;36m1\u001b[0m\u001b[0;34m]\u001b[0m\u001b[0;34m)\u001b[0m\u001b[0;34m\u001b[0m\u001b[0m\n\u001b[1;32m      6\u001b[0m \u001b[0;31m#         result = pd.concat((result, crnt_ftrs))\u001b[0m\u001b[0;34m\u001b[0m\u001b[0;34m\u001b[0m\u001b[0m\n\u001b[0;32m----> 7\u001b[0;31m         \u001b[0mcrnt_ftrs\u001b[0m\u001b[0;34m.\u001b[0m\u001b[0mto_csv\u001b[0m\u001b[0;34m(\u001b[0m\u001b[0;34m'../data/PeMS/Incidents/work_folder/extracted/extracted_{0:d}.csv'\u001b[0m\u001b[0;34m.\u001b[0m\u001b[0mformat\u001b[0m\u001b[0;34m(\u001b[0m\u001b[0mi\u001b[0m\u001b[0;34m)\u001b[0m\u001b[0;34m,\u001b[0m \u001b[0mindex\u001b[0m\u001b[0;34m=\u001b[0m\u001b[0;32mFalse\u001b[0m\u001b[0;34m)\u001b[0m\u001b[0;34m\u001b[0m\u001b[0m\n\u001b[0m\u001b[1;32m      8\u001b[0m     \u001b[0mprint\u001b[0m\u001b[0;34m(\u001b[0m\u001b[0;34m'EGOR virubajjj!!!!!!!!!!!!!!!!!!!!!!!!!!!!!!!!'\u001b[0m\u001b[0;34m)\u001b[0m\u001b[0;34m\u001b[0m\u001b[0m\n",
      "\u001b[0;32m/opt/anaconda3/lib/python3.6/site-packages/pandas/core/frame.py\u001b[0m in \u001b[0;36mto_csv\u001b[0;34m(self, path_or_buf, sep, na_rep, float_format, columns, header, index, index_label, mode, encoding, compression, quoting, quotechar, line_terminator, chunksize, tupleize_cols, date_format, doublequote, escapechar, decimal)\u001b[0m\n\u001b[1;32m   1522\u001b[0m                                      \u001b[0mdoublequote\u001b[0m\u001b[0;34m=\u001b[0m\u001b[0mdoublequote\u001b[0m\u001b[0;34m,\u001b[0m\u001b[0;34m\u001b[0m\u001b[0m\n\u001b[1;32m   1523\u001b[0m                                      escapechar=escapechar, decimal=decimal)\n\u001b[0;32m-> 1524\u001b[0;31m         \u001b[0mformatter\u001b[0m\u001b[0;34m.\u001b[0m\u001b[0msave\u001b[0m\u001b[0;34m(\u001b[0m\u001b[0;34m)\u001b[0m\u001b[0;34m\u001b[0m\u001b[0m\n\u001b[0m\u001b[1;32m   1525\u001b[0m \u001b[0;34m\u001b[0m\u001b[0m\n\u001b[1;32m   1526\u001b[0m         \u001b[0;32mif\u001b[0m \u001b[0mpath_or_buf\u001b[0m \u001b[0;32mis\u001b[0m \u001b[0;32mNone\u001b[0m\u001b[0;34m:\u001b[0m\u001b[0;34m\u001b[0m\u001b[0m\n",
      "\u001b[0;32m/opt/anaconda3/lib/python3.6/site-packages/pandas/io/formats/format.py\u001b[0m in \u001b[0;36msave\u001b[0;34m(self)\u001b[0m\n\u001b[1;32m   1635\u001b[0m             f, handles = _get_handle(self.path_or_buf, self.mode,\n\u001b[1;32m   1636\u001b[0m                                      \u001b[0mencoding\u001b[0m\u001b[0;34m=\u001b[0m\u001b[0mencoding\u001b[0m\u001b[0;34m,\u001b[0m\u001b[0;34m\u001b[0m\u001b[0m\n\u001b[0;32m-> 1637\u001b[0;31m                                      compression=self.compression)\n\u001b[0m\u001b[1;32m   1638\u001b[0m             \u001b[0mclose\u001b[0m \u001b[0;34m=\u001b[0m \u001b[0;32mTrue\u001b[0m\u001b[0;34m\u001b[0m\u001b[0m\n\u001b[1;32m   1639\u001b[0m \u001b[0;34m\u001b[0m\u001b[0m\n",
      "\u001b[0;32m/opt/anaconda3/lib/python3.6/site-packages/pandas/io/common.py\u001b[0m in \u001b[0;36m_get_handle\u001b[0;34m(path_or_buf, mode, encoding, compression, memory_map, is_text)\u001b[0m\n\u001b[1;32m    388\u001b[0m         \u001b[0;32melif\u001b[0m \u001b[0mencoding\u001b[0m\u001b[0;34m:\u001b[0m\u001b[0;34m\u001b[0m\u001b[0m\n\u001b[1;32m    389\u001b[0m             \u001b[0;31m# Python 3 and encoding\u001b[0m\u001b[0;34m\u001b[0m\u001b[0;34m\u001b[0m\u001b[0m\n\u001b[0;32m--> 390\u001b[0;31m             \u001b[0mf\u001b[0m \u001b[0;34m=\u001b[0m \u001b[0mopen\u001b[0m\u001b[0;34m(\u001b[0m\u001b[0mpath_or_buf\u001b[0m\u001b[0;34m,\u001b[0m \u001b[0mmode\u001b[0m\u001b[0;34m,\u001b[0m \u001b[0mencoding\u001b[0m\u001b[0;34m=\u001b[0m\u001b[0mencoding\u001b[0m\u001b[0;34m)\u001b[0m\u001b[0;34m\u001b[0m\u001b[0m\n\u001b[0m\u001b[1;32m    391\u001b[0m         \u001b[0;32melif\u001b[0m \u001b[0mis_text\u001b[0m\u001b[0;34m:\u001b[0m\u001b[0;34m\u001b[0m\u001b[0m\n\u001b[1;32m    392\u001b[0m             \u001b[0;31m# Python 3 and no explicit encoding\u001b[0m\u001b[0;34m\u001b[0m\u001b[0;34m\u001b[0m\u001b[0m\n",
      "\u001b[0;31mFileNotFoundError\u001b[0m: [Errno 2] No such file or directory: '../data/PeMS/Incidents/work_folder/extracted/extracted_0.csv'"
     ]
    }
   ],
   "source": [
    "batch_extraction(dataset, 1000)"
   ]
  },
  {
   "cell_type": "code",
   "execution_count": 129,
   "metadata": {
    "collapsed": true
   },
   "outputs": [],
   "source": [
    "tr_X, te_X, tr_y, te_y = train_test_split(test.drop(columns=['y']), test['y'], stratify=test.y, test_size=.2)"
   ]
  },
  {
   "cell_type": "code",
   "execution_count": 236,
   "metadata": {
    "scrolled": true
   },
   "outputs": [
    {
     "name": "stdout",
     "output_type": "stream",
     "text": [
      "acc = 0.6635275652344517\n",
      "f1 = 0.6567940764458675\n",
      "CM = [[3482 1431]\n",
      " [1999 3282]]\n"
     ]
    }
   ],
   "source": [
    "logreg = LogisticRegression()\n",
    "logreg.fit(tr_X, tr_y)\n",
    "print('acc =', logreg.score(te_X, te_y))\n",
    "predict = logreg.predict(te_X)\n",
    "F1_score = f1_score(te_y, predict)\n",
    "print('f1 =', F1_score)\n",
    "print('CM =', confusion_matrix(te_y, predict))"
   ]
  },
  {
   "cell_type": "code",
   "execution_count": 237,
   "metadata": {},
   "outputs": [
    {
     "name": "stdout",
     "output_type": "stream",
     "text": [
      "acc = 0.7032568177359231\n",
      "f1 = 0.6977720051953242\n",
      "CM = [[3677 1236]\n",
      " [1789 3492]]\n"
     ]
    }
   ],
   "source": [
    "forest = RandomForestClassifier(random_state=14)\n",
    "forest.fit(tr_X, tr_y)\n",
    "print('acc =', forest.score(te_X, te_y))\n",
    "predict = forest.predict(te_X)\n",
    "F1_score = f1_score(te_y, predict)\n",
    "print('f1 =', F1_score)\n",
    "print('CM =', confusion_matrix(te_y, predict, labels=[0,1]))"
   ]
  },
  {
   "cell_type": "code",
   "execution_count": 238,
   "metadata": {
    "collapsed": true
   },
   "outputs": [],
   "source": [
    "proba = forest.predict_proba(te_X)"
   ]
  },
  {
   "cell_type": "code",
   "execution_count": null,
   "metadata": {
    "collapsed": true
   },
   "outputs": [],
   "source": []
  },
  {
   "cell_type": "code",
   "execution_count": 239,
   "metadata": {
    "collapsed": true
   },
   "outputs": [],
   "source": [
    "fpr, tpr, _ = roc_curve(te_y, proba[:,1])"
   ]
  },
  {
   "cell_type": "code",
   "execution_count": 240,
   "metadata": {},
   "outputs": [
    {
     "data": {
      "image/png": "[encoded data removed]",
      "text/plain": [
       "<matplotlib.figure.Figure at 0x7f8587f19a20>"
      ]
     },
     "metadata": {},
     "output_type": "display_data"
    }
   ],
   "source": [
    "plt.plot(fpr, tpr)\n",
    "plt.plot([0, 1],[0,1])\n",
    "plt.show()"
   ]
  },
  {
   "cell_type": "code",
   "execution_count": 15,
   "metadata": {
    "collapsed": true
   },
   "outputs": [],
   "source": [
    "def batch_concatenation(dataset, b_size):\n",
    "    m=dataset.shape[0]\n",
    "    result = pd.DataFrame()\n",
    "    for i in range(0, m, b_size):\n",
    "        crnt_ftrs = pd.read_csv('../data/PeMS/Incidents/work_folder/fst_dataset/extracted/extracted_{0:d}.csv'.format(i))\n",
    "        crnt_ftrs = crnt_ftrs.replace([np.inf, -np.inf], np.NaN)\n",
    "        crnt_ftrs.dropna(axis=1, inplace=True)\n",
    "        result = pd.concat((result, crnt_ftrs), axis=0)\n",
    "    result = result.dropna(axis=1).reset_index(drop=True)\n",
    "    non_series_cols = [col for col in dataset.columns if 'Avg' not in col and 'Total' not in col]\n",
    "    result = pd.concat((result, dataset[non_series_cols]), axis=1)\n",
    "    return result"
   ]
  },
  {
   "cell_type": "code",
   "execution_count": 16,
   "metadata": {
    "collapsed": true
   },
   "outputs": [],
   "source": [
    "test = batch_concatenation(dataset,1000)"
   ]
  },
  {
   "cell_type": "code",
   "execution_count": 17,
   "metadata": {
    "collapsed": true
   },
   "outputs": [],
   "source": [
    "test.drop(columns='Timestamp', inplace=True)"
   ]
  },
  {
   "cell_type": "code",
   "execution_count": 18,
   "metadata": {
    "collapsed": true
   },
   "outputs": [],
   "source": [
    "test.to_csv('../data/PeMS/Incidents/work_folder/fst_dataset/extracted.csv', index=False)"
   ]
  },
  {
   "cell_type": "code",
   "execution_count": 2,
   "metadata": {
    "collapsed": true
   },
   "outputs": [],
   "source": [
    "test = pd.read_csv('../data/PeMS/Incidents/work_folder/fst_dataset/extracted.csv')"
   ]
  },
  {
   "cell_type": "code",
   "execution_count": 19,
   "metadata": {
    "collapsed": true
   },
   "outputs": [],
   "source": [
    "tr_X, te_X, tr_y, te_y = train_test_split(test.drop(columns=['y', 'IncidentID']), test['y'], stratify=test.y)"
   ]
  },
  {
   "cell_type": "code",
   "execution_count": 20,
   "metadata": {
    "collapsed": true
   },
   "outputs": [],
   "source": [
    "scaler = StandardScaler()"
   ]
  },
  {
   "cell_type": "code",
   "execution_count": 21,
   "metadata": {
    "collapsed": true
   },
   "outputs": [],
   "source": [
    "tr_X = scaler.fit_transform(tr_X)"
   ]
  },
  {
   "cell_type": "code",
   "execution_count": 22,
   "metadata": {
    "collapsed": true
   },
   "outputs": [],
   "source": [
    "te_X = scaler.transform(te_X)"
   ]
  },
  {
   "cell_type": "code",
   "execution_count": 29,
   "metadata": {
    "scrolled": true
   },
   "outputs": [
    {
     "name": "stdout",
     "output_type": "stream",
     "text": [
      "acc = 0.6731410633706102\n",
      "f1 = 0.6624797406807131\n",
      "CM = [[3592 1321]\n",
      " [2011 3270]]\n"
     ]
    }
   ],
   "source": [
    "logreg = LogisticRegression()\n",
    "logreg.fit(tr_X, tr_y)\n",
    "print('acc =', logreg.score(te_X, te_y))\n",
    "predict = logreg.predict(te_X)\n",
    "F1_score = f1_score(te_y, predict)\n",
    "print('f1 =', F1_score)\n",
    "print('CM =', confusion_matrix(te_y, predict))"
   ]
  },
  {
   "cell_type": "code",
   "execution_count": 30,
   "metadata": {},
   "outputs": [
    {
     "name": "stdout",
     "output_type": "stream",
     "text": [
      "acc = 0.6783402001177163\n",
      "f1 = 0.6674104878790952\n",
      "CM = [[3625 1288]\n",
      " [1991 3290]]\n"
     ]
    }
   ],
   "source": [
    "forest = RandomForestClassifier(random_state=14)\n",
    "forest.fit(tr_X, tr_y)\n",
    "print('acc =', forest.score(te_X, te_y))\n",
    "predict = forest.predict(te_X)\n",
    "F1_score = f1_score(te_y, predict)\n",
    "print('f1 =', F1_score)\n",
    "print('CM =', confusion_matrix(te_y, predict, labels=[0,1]))"
   ]
  },
  {
   "cell_type": "code",
   "execution_count": null,
   "metadata": {
    "collapsed": true
   },
   "outputs": [],
   "source": []
  },
  {
   "cell_type": "code",
   "execution_count": 145,
   "metadata": {
    "collapsed": true
   },
   "outputs": [],
   "source": [
    "grid_params = {'n_estimators': [10, 100, 200],\n",
    "               'max_depth' : [2, 3, 5],  \n",
    "               'min_samples_leaf': [2, 5, 10]\n",
    "}\n",
    "grd_search = GridSearchCV(forest, grid_params,\n",
    "                          scoring={'f1_score' : make_scorer(f1_score)},\n",
    "                          refit='f1_score',\n",
    "                          cv=5, return_train_score=True, n_jobs=-1, verbose=2)"
   ]
  },
  {
   "cell_type": "code",
   "execution_count": 264,
   "metadata": {
    "scrolled": true
   },
   "outputs": [
    {
     "name": "stdout",
     "output_type": "stream",
     "text": [
      "Fitting 5 folds for each of 27 candidates, totalling 135 fits\n",
      "[CV] max_depth=2, min_samples_leaf=2, n_estimators=10 ................\n",
      "[CV] max_depth=2, min_samples_leaf=2, n_estimators=10 ................\n",
      "[CV] max_depth=2, min_samples_leaf=2, n_estimators=10 ................\n",
      "[CV] max_depth=2, min_samples_leaf=2, n_estimators=10 ................\n",
      "[CV] . max_depth=2, min_samples_leaf=2, n_estimators=10, total=   3.1s\n",
      "[CV] max_depth=2, min_samples_leaf=2, n_estimators=10 ................\n",
      "[CV] . max_depth=2, min_samples_leaf=2, n_estimators=10, total=   3.0s\n",
      "[CV] . max_depth=2, min_samples_leaf=2, n_estimators=10, total=   3.0s\n",
      "[CV] . max_depth=2, min_samples_leaf=2, n_estimators=10, total=   3.1s\n",
      "[CV] max_depth=2, min_samples_leaf=2, n_estimators=100 ...............\n",
      "[CV] max_depth=2, min_samples_leaf=2, n_estimators=100 ...............\n",
      "[CV] max_depth=2, min_samples_leaf=2, n_estimators=100 ...............\n",
      "[CV] . max_depth=2, min_samples_leaf=2, n_estimators=10, total=   0.4s\n",
      "[CV] max_depth=2, min_samples_leaf=2, n_estimators=100 ...............\n",
      "[CV]  max_depth=2, min_samples_leaf=2, n_estimators=100, total=   3.3s\n",
      "[CV] max_depth=2, min_samples_leaf=2, n_estimators=100 ...............\n",
      "[CV]  max_depth=2, min_samples_leaf=2, n_estimators=100, total=   3.4s\n",
      "[CV] max_depth=2, min_samples_leaf=2, n_estimators=200 ...............\n",
      "[CV]  max_depth=2, min_samples_leaf=2, n_estimators=100, total=   3.3s\n",
      "[CV] max_depth=2, min_samples_leaf=2, n_estimators=200 ...............\n",
      "[CV]  max_depth=2, min_samples_leaf=2, n_estimators=100, total=   3.4s\n",
      "[CV] max_depth=2, min_samples_leaf=2, n_estimators=200 ...............\n",
      "[CV]  max_depth=2, min_samples_leaf=2, n_estimators=100, total=   3.4s\n",
      "[CV] max_depth=2, min_samples_leaf=2, n_estimators=200 ...............\n",
      "[CV]  max_depth=2, min_samples_leaf=2, n_estimators=200, total=   6.9s\n",
      "[CV] max_depth=2, min_samples_leaf=2, n_estimators=200 ...............\n",
      "[CV]  max_depth=2, min_samples_leaf=2, n_estimators=200, total=   6.7s\n",
      "[CV] max_depth=2, min_samples_leaf=5, n_estimators=10 ................\n",
      "[CV]  max_depth=2, min_samples_leaf=2, n_estimators=200, total=   7.1s\n",
      "[CV] max_depth=2, min_samples_leaf=5, n_estimators=10 ................\n",
      "[CV] . max_depth=2, min_samples_leaf=5, n_estimators=10, total=   0.4s\n",
      "[CV] . max_depth=2, min_samples_leaf=5, n_estimators=10, total=   0.5s\n",
      "[CV] max_depth=2, min_samples_leaf=5, n_estimators=10 ................\n",
      "[CV] max_depth=2, min_samples_leaf=5, n_estimators=10 ................\n",
      "[CV] . max_depth=2, min_samples_leaf=5, n_estimators=10, total=   0.4s\n",
      "[CV] max_depth=2, min_samples_leaf=5, n_estimators=10 ................\n",
      "[CV] . max_depth=2, min_samples_leaf=5, n_estimators=10, total=   0.5s\n",
      "[CV] max_depth=2, min_samples_leaf=5, n_estimators=100 ...............\n",
      "[CV] . max_depth=2, min_samples_leaf=5, n_estimators=10, total=   1.5s\n",
      "[CV] max_depth=2, min_samples_leaf=5, n_estimators=100 ...............\n",
      "[CV]  max_depth=2, min_samples_leaf=2, n_estimators=200, total=   7.8s\n",
      "[CV] max_depth=2, min_samples_leaf=5, n_estimators=100 ...............\n",
      "[CV]  max_depth=2, min_samples_leaf=5, n_estimators=100, total=   3.0s\n",
      "[CV] max_depth=2, min_samples_leaf=5, n_estimators=100 ...............\n",
      "[CV]  max_depth=2, min_samples_leaf=5, n_estimators=100, total=   3.2s\n",
      "[CV] max_depth=2, min_samples_leaf=5, n_estimators=100 ...............\n",
      "[CV]  max_depth=2, min_samples_leaf=2, n_estimators=200, total=   6.6s\n",
      "[CV] max_depth=2, min_samples_leaf=5, n_estimators=200 ...............\n",
      "[CV]  max_depth=2, min_samples_leaf=5, n_estimators=100, total=   3.0s\n",
      "[CV] max_depth=2, min_samples_leaf=5, n_estimators=200 ...............\n",
      "[CV]  max_depth=2, min_samples_leaf=5, n_estimators=100, total=   3.3s\n",
      "[CV] max_depth=2, min_samples_leaf=5, n_estimators=200 ...............\n",
      "[CV]  max_depth=2, min_samples_leaf=5, n_estimators=100, total=   3.1s\n",
      "[CV] max_depth=2, min_samples_leaf=5, n_estimators=200 ...............\n",
      "[CV]  max_depth=2, min_samples_leaf=5, n_estimators=200, total=   6.6s\n",
      "[CV] max_depth=2, min_samples_leaf=5, n_estimators=200 ...............\n",
      "[CV]  max_depth=2, min_samples_leaf=5, n_estimators=200, total=   6.7s\n",
      "[CV] max_depth=2, min_samples_leaf=10, n_estimators=10 ...............\n",
      "[CV]  max_depth=2, min_samples_leaf=10, n_estimators=10, total=   0.4s\n",
      "[CV] max_depth=2, min_samples_leaf=10, n_estimators=10 ...............\n",
      "[CV]  max_depth=2, min_samples_leaf=5, n_estimators=200, total=   6.7s\n",
      "[CV] max_depth=2, min_samples_leaf=10, n_estimators=10 ...............\n",
      "[CV]  max_depth=2, min_samples_leaf=10, n_estimators=10, total=   0.4s\n",
      "[CV] max_depth=2, min_samples_leaf=10, n_estimators=10 ...............\n",
      "[CV]  max_depth=2, min_samples_leaf=10, n_estimators=10, total=   0.4s\n",
      "[CV] max_depth=2, min_samples_leaf=10, n_estimators=10 ...............\n",
      "[CV]  max_depth=2, min_samples_leaf=10, n_estimators=10, total=   0.4s\n",
      "[CV] max_depth=2, min_samples_leaf=10, n_estimators=100 ..............\n",
      "[CV]  max_depth=2, min_samples_leaf=10, n_estimators=10, total=   0.4s\n",
      "[CV] max_depth=2, min_samples_leaf=10, n_estimators=100 ..............\n"
     ]
    },
    {
     "name": "stderr",
     "output_type": "stream",
     "text": [
      "[Parallel(n_jobs=-1)]: Done  33 tasks      | elapsed:   31.3s\n"
     ]
    },
    {
     "name": "stdout",
     "output_type": "stream",
     "text": [
      "[CV]  max_depth=2, min_samples_leaf=5, n_estimators=200, total=   6.7s\n",
      "[CV] max_depth=2, min_samples_leaf=10, n_estimators=100 ..............\n",
      "[CV]  max_depth=2, min_samples_leaf=10, n_estimators=100, total=   3.6s\n",
      "[CV] max_depth=2, min_samples_leaf=10, n_estimators=100 ..............\n",
      "[CV]  max_depth=2, min_samples_leaf=10, n_estimators=100, total=   3.7s\n",
      "[CV] max_depth=2, min_samples_leaf=10, n_estimators=100 ..............\n",
      "[CV]  max_depth=2, min_samples_leaf=10, n_estimators=100, total=   3.9s\n",
      "[CV] max_depth=2, min_samples_leaf=10, n_estimators=200 ..............\n",
      "[CV]  max_depth=2, min_samples_leaf=5, n_estimators=200, total=   7.0s\n",
      "[CV] max_depth=2, min_samples_leaf=10, n_estimators=200 ..............\n",
      "[CV]  max_depth=2, min_samples_leaf=10, n_estimators=100, total=   3.1s\n",
      "[CV] max_depth=2, min_samples_leaf=10, n_estimators=200 ..............\n",
      "[CV]  max_depth=2, min_samples_leaf=10, n_estimators=100, total=   3.3s\n",
      "[CV] max_depth=2, min_samples_leaf=10, n_estimators=200 ..............\n",
      "[CV]  max_depth=2, min_samples_leaf=10, n_estimators=200, total=   6.4s\n",
      "[CV] max_depth=2, min_samples_leaf=10, n_estimators=200 ..............\n",
      "[CV]  max_depth=2, min_samples_leaf=10, n_estimators=200, total=   6.9s\n",
      "[CV] max_depth=3, min_samples_leaf=2, n_estimators=10 ................\n",
      "[CV] . max_depth=3, min_samples_leaf=2, n_estimators=10, total=   0.5s\n",
      "[CV] max_depth=3, min_samples_leaf=2, n_estimators=10 ................\n",
      "[CV] . max_depth=3, min_samples_leaf=2, n_estimators=10, total=   0.5s\n",
      "[CV] max_depth=3, min_samples_leaf=2, n_estimators=10 ................\n",
      "[CV]  max_depth=2, min_samples_leaf=10, n_estimators=200, total=   6.1s\n",
      "[CV] max_depth=3, min_samples_leaf=2, n_estimators=10 ................\n",
      "[CV]  max_depth=2, min_samples_leaf=10, n_estimators=200, total=   6.3s\n",
      "[CV] max_depth=3, min_samples_leaf=2, n_estimators=10 ................\n",
      "[CV] . max_depth=3, min_samples_leaf=2, n_estimators=10, total=   0.6s\n",
      "[CV] max_depth=3, min_samples_leaf=2, n_estimators=100 ...............\n",
      "[CV] . max_depth=3, min_samples_leaf=2, n_estimators=10, total=   0.6s\n",
      "[CV] max_depth=3, min_samples_leaf=2, n_estimators=100 ...............\n",
      "[CV] . max_depth=3, min_samples_leaf=2, n_estimators=10, total=   0.5s\n",
      "[CV] max_depth=3, min_samples_leaf=2, n_estimators=100 ...............\n",
      "[CV]  max_depth=2, min_samples_leaf=10, n_estimators=200, total=   7.0s\n",
      "[CV] max_depth=3, min_samples_leaf=2, n_estimators=100 ...............\n",
      "[CV]  max_depth=3, min_samples_leaf=2, n_estimators=100, total=   5.0s\n",
      "[CV] max_depth=3, min_samples_leaf=2, n_estimators=100 ...............\n",
      "[CV]  max_depth=3, min_samples_leaf=2, n_estimators=100, total=   4.7s\n",
      "[CV] max_depth=3, min_samples_leaf=2, n_estimators=200 ...............\n",
      "[CV]  max_depth=3, min_samples_leaf=2, n_estimators=100, total=   5.1s\n",
      "[CV] max_depth=3, min_samples_leaf=2, n_estimators=200 ...............\n",
      "[CV]  max_depth=3, min_samples_leaf=2, n_estimators=100, total=   4.0s\n",
      "[CV] max_depth=3, min_samples_leaf=2, n_estimators=200 ...............\n",
      "[CV]  max_depth=3, min_samples_leaf=2, n_estimators=100, total=   4.5s\n",
      "[CV] max_depth=3, min_samples_leaf=2, n_estimators=200 ...............\n",
      "[CV]  max_depth=3, min_samples_leaf=2, n_estimators=200, total=   7.7s\n",
      "[CV] max_depth=3, min_samples_leaf=2, n_estimators=200 ...............\n",
      "[CV]  max_depth=3, min_samples_leaf=2, n_estimators=200, total=   8.7s\n",
      "[CV] max_depth=3, min_samples_leaf=5, n_estimators=10 ................\n",
      "[CV] . max_depth=3, min_samples_leaf=5, n_estimators=10, total=   0.4s\n",
      "[CV] max_depth=3, min_samples_leaf=5, n_estimators=10 ................\n",
      "[CV] . max_depth=3, min_samples_leaf=5, n_estimators=10, total=   0.4s\n",
      "[CV] max_depth=3, min_samples_leaf=5, n_estimators=10 ................\n",
      "[CV] . max_depth=3, min_samples_leaf=5, n_estimators=10, total=   0.4s\n",
      "[CV] max_depth=3, min_samples_leaf=5, n_estimators=10 ................\n",
      "[CV] . max_depth=3, min_samples_leaf=5, n_estimators=10, total=   0.4s\n",
      "[CV] max_depth=3, min_samples_leaf=5, n_estimators=10 ................\n",
      "[CV] . max_depth=3, min_samples_leaf=5, n_estimators=10, total=   0.4s\n",
      "[CV] max_depth=3, min_samples_leaf=5, n_estimators=100 ...............\n",
      "[CV]  max_depth=3, min_samples_leaf=2, n_estimators=200, total=   8.7s\n",
      "[CV] max_depth=3, min_samples_leaf=5, n_estimators=100 ...............\n",
      "[CV]  max_depth=3, min_samples_leaf=2, n_estimators=200, total=   8.1s\n",
      "[CV] max_depth=3, min_samples_leaf=5, n_estimators=100 ...............\n",
      "[CV]  max_depth=3, min_samples_leaf=5, n_estimators=100, total=   4.1s\n",
      "[CV] max_depth=3, min_samples_leaf=5, n_estimators=100 ...............\n",
      "[CV]  max_depth=3, min_samples_leaf=5, n_estimators=100, total=   4.1s\n",
      "[CV] max_depth=3, min_samples_leaf=5, n_estimators=100 ...............\n",
      "[CV]  max_depth=3, min_samples_leaf=5, n_estimators=100, total=   4.2s\n",
      "[CV] max_depth=3, min_samples_leaf=5, n_estimators=200 ...............\n",
      "[CV]  max_depth=3, min_samples_leaf=2, n_estimators=200, total=   8.8s\n",
      "[CV] max_depth=3, min_samples_leaf=5, n_estimators=200 ...............\n",
      "[CV]  max_depth=3, min_samples_leaf=5, n_estimators=100, total=   4.0s\n",
      "[CV] max_depth=3, min_samples_leaf=5, n_estimators=200 ...............\n",
      "[CV]  max_depth=3, min_samples_leaf=5, n_estimators=100, total=   4.4s\n",
      "[CV] max_depth=3, min_samples_leaf=5, n_estimators=200 ...............\n",
      "[CV]  max_depth=3, min_samples_leaf=5, n_estimators=200, total=   8.1s\n",
      "[CV] max_depth=3, min_samples_leaf=5, n_estimators=200 ...............\n",
      "[CV]  max_depth=3, min_samples_leaf=5, n_estimators=200, total=   8.1s\n",
      "[CV] max_depth=3, min_samples_leaf=10, n_estimators=10 ...............\n",
      "[CV]  max_depth=3, min_samples_leaf=10, n_estimators=10, total=   0.5s\n",
      "[CV] max_depth=3, min_samples_leaf=10, n_estimators=10 ...............\n",
      "[CV]  max_depth=3, min_samples_leaf=10, n_estimators=10, total=   0.5s\n",
      "[CV] max_depth=3, min_samples_leaf=10, n_estimators=10 ...............\n",
      "[CV]  max_depth=3, min_samples_leaf=10, n_estimators=10, total=   0.5s\n",
      "[CV] max_depth=3, min_samples_leaf=10, n_estimators=10 ...............\n",
      "[CV]  max_depth=3, min_samples_leaf=10, n_estimators=10, total=   0.4s\n",
      "[CV] max_depth=3, min_samples_leaf=10, n_estimators=10 ...............\n",
      "[CV]  max_depth=3, min_samples_leaf=10, n_estimators=10, total=   0.4s\n",
      "[CV] max_depth=3, min_samples_leaf=10, n_estimators=100 ..............\n",
      "[CV]  max_depth=3, min_samples_leaf=5, n_estimators=200, total=   8.5s\n",
      "[CV] max_depth=3, min_samples_leaf=10, n_estimators=100 ..............\n",
      "[CV]  max_depth=3, min_samples_leaf=5, n_estimators=200, total=   8.4s\n",
      "[CV] max_depth=3, min_samples_leaf=10, n_estimators=100 ..............\n",
      "[CV]  max_depth=3, min_samples_leaf=10, n_estimators=100, total=   4.1s\n",
      "[CV] max_depth=3, min_samples_leaf=10, n_estimators=100 ..............\n",
      "[CV]  max_depth=3, min_samples_leaf=10, n_estimators=100, total=   4.5s\n",
      "[CV] max_depth=3, min_samples_leaf=10, n_estimators=100 ..............\n",
      "[CV]  max_depth=3, min_samples_leaf=5, n_estimators=200, total=   7.7s\n",
      "[CV] max_depth=3, min_samples_leaf=10, n_estimators=200 ..............\n",
      "[CV]  max_depth=3, min_samples_leaf=10, n_estimators=100, total=   4.1s\n",
      "[CV] max_depth=3, min_samples_leaf=10, n_estimators=200 ..............\n",
      "[CV]  max_depth=3, min_samples_leaf=10, n_estimators=100, total=   4.3s\n",
      "[CV] max_depth=3, min_samples_leaf=10, n_estimators=200 ..............\n",
      "[CV]  max_depth=3, min_samples_leaf=10, n_estimators=100, total=   4.1s\n",
      "[CV] max_depth=3, min_samples_leaf=10, n_estimators=200 ..............\n",
      "[CV]  max_depth=3, min_samples_leaf=10, n_estimators=200, total=   8.0s\n",
      "[CV] max_depth=3, min_samples_leaf=10, n_estimators=200 ..............\n",
      "[CV]  max_depth=3, min_samples_leaf=10, n_estimators=200, total=   7.9s\n",
      "[CV] max_depth=5, min_samples_leaf=2, n_estimators=10 ................\n",
      "[CV] . max_depth=5, min_samples_leaf=2, n_estimators=10, total=   0.7s\n",
      "[CV] max_depth=5, min_samples_leaf=2, n_estimators=10 ................\n",
      "[CV] . max_depth=5, min_samples_leaf=2, n_estimators=10, total=   0.7s\n",
      "[CV] max_depth=5, min_samples_leaf=2, n_estimators=10 ................\n",
      "[CV] . max_depth=5, min_samples_leaf=2, n_estimators=10, total=   0.7s\n",
      "[CV] max_depth=5, min_samples_leaf=2, n_estimators=10 ................\n",
      "[CV]  max_depth=3, min_samples_leaf=10, n_estimators=200, total=   8.3s\n",
      "[CV] max_depth=5, min_samples_leaf=2, n_estimators=10 ................\n",
      "[CV] . max_depth=5, min_samples_leaf=2, n_estimators=10, total=   0.7s\n",
      "[CV] max_depth=5, min_samples_leaf=2, n_estimators=100 ...............\n",
      "[CV] . max_depth=5, min_samples_leaf=2, n_estimators=10, total=   0.8s\n",
      "[CV] max_depth=5, min_samples_leaf=2, n_estimators=100 ...............\n",
      "[CV]  max_depth=3, min_samples_leaf=10, n_estimators=200, total=   8.4s\n",
      "[CV] max_depth=5, min_samples_leaf=2, n_estimators=100 ...............\n",
      "[CV]  max_depth=3, min_samples_leaf=10, n_estimators=200, total=   8.2s\n",
      "[CV] max_depth=5, min_samples_leaf=2, n_estimators=100 ...............\n",
      "[CV]  max_depth=5, min_samples_leaf=2, n_estimators=100, total=   6.0s\n",
      "[CV] max_depth=5, min_samples_leaf=2, n_estimators=100 ...............\n",
      "[CV]  max_depth=5, min_samples_leaf=2, n_estimators=100, total=   6.2s\n",
      "[CV] max_depth=5, min_samples_leaf=2, n_estimators=200 ...............\n",
      "[CV]  max_depth=5, min_samples_leaf=2, n_estimators=100, total=   6.2s\n",
      "[CV] max_depth=5, min_samples_leaf=2, n_estimators=200 ...............\n",
      "[CV]  max_depth=5, min_samples_leaf=2, n_estimators=100, total=   6.1s\n",
      "[CV] max_depth=5, min_samples_leaf=2, n_estimators=200 ...............\n",
      "[CV]  max_depth=5, min_samples_leaf=2, n_estimators=100, total=   6.1s\n",
      "[CV] max_depth=5, min_samples_leaf=2, n_estimators=200 ...............\n",
      "[CV]  max_depth=5, min_samples_leaf=2, n_estimators=200, total=  12.4s\n",
      "[CV] max_depth=5, min_samples_leaf=2, n_estimators=200 ...............\n",
      "[CV]  max_depth=5, min_samples_leaf=2, n_estimators=200, total=  12.7s\n",
      "[CV] max_depth=5, min_samples_leaf=5, n_estimators=10 ................\n",
      "[CV] . max_depth=5, min_samples_leaf=5, n_estimators=10, total=   0.7s\n",
      "[CV] max_depth=5, min_samples_leaf=5, n_estimators=10 ................\n",
      "[CV] . max_depth=5, min_samples_leaf=5, n_estimators=10, total=   0.7s\n",
      "[CV] max_depth=5, min_samples_leaf=5, n_estimators=10 ................\n",
      "[CV] . max_depth=5, min_samples_leaf=5, n_estimators=10, total=   0.7s\n",
      "[CV] max_depth=5, min_samples_leaf=5, n_estimators=10 ................\n",
      "[CV] . max_depth=5, min_samples_leaf=5, n_estimators=10, total=   0.7s\n",
      "[CV] max_depth=5, min_samples_leaf=5, n_estimators=10 ................\n",
      "[CV]  max_depth=5, min_samples_leaf=2, n_estimators=200, total=  12.3s\n",
      "[CV] max_depth=5, min_samples_leaf=5, n_estimators=100 ...............\n",
      "[CV] . max_depth=5, min_samples_leaf=5, n_estimators=10, total=   0.7s\n",
      "[CV] max_depth=5, min_samples_leaf=5, n_estimators=100 ...............\n",
      "[CV]  max_depth=5, min_samples_leaf=2, n_estimators=200, total=  12.8s\n",
      "[CV] max_depth=5, min_samples_leaf=5, n_estimators=100 ...............\n",
      "[CV]  max_depth=5, min_samples_leaf=5, n_estimators=100, total=   6.5s\n",
      "[CV] max_depth=5, min_samples_leaf=5, n_estimators=100 ...............\n",
      "[CV]  max_depth=5, min_samples_leaf=5, n_estimators=100, total=   6.4s\n",
      "[CV] max_depth=5, min_samples_leaf=5, n_estimators=100 ...............\n",
      "[CV]  max_depth=5, min_samples_leaf=5, n_estimators=100, total=   6.6s\n",
      "[CV] max_depth=5, min_samples_leaf=5, n_estimators=200 ...............\n",
      "[CV]  max_depth=5, min_samples_leaf=2, n_estimators=200, total=  13.2s\n",
      "[CV] max_depth=5, min_samples_leaf=5, n_estimators=200 ...............\n",
      "[CV]  max_depth=5, min_samples_leaf=5, n_estimators=100, total=   6.1s\n",
      "[CV] max_depth=5, min_samples_leaf=5, n_estimators=200 ...............\n",
      "[CV]  max_depth=5, min_samples_leaf=5, n_estimators=100, total=   6.0s\n",
      "[CV] max_depth=5, min_samples_leaf=5, n_estimators=200 ...............\n",
      "[CV]  max_depth=5, min_samples_leaf=5, n_estimators=200, total=  13.1s\n",
      "[CV] max_depth=5, min_samples_leaf=5, n_estimators=200 ...............\n",
      "[CV]  max_depth=5, min_samples_leaf=5, n_estimators=200, total=  12.6s\n",
      "[CV] max_depth=5, min_samples_leaf=10, n_estimators=10 ...............\n",
      "[CV]  max_depth=5, min_samples_leaf=10, n_estimators=10, total=   0.7s\n",
      "[CV] max_depth=5, min_samples_leaf=10, n_estimators=10 ...............\n",
      "[CV]  max_depth=5, min_samples_leaf=10, n_estimators=10, total=   0.7s\n",
      "[CV] max_depth=5, min_samples_leaf=10, n_estimators=10 ...............\n",
      "[CV]  max_depth=5, min_samples_leaf=10, n_estimators=10, total=   0.7s\n",
      "[CV] max_depth=5, min_samples_leaf=10, n_estimators=10 ...............\n",
      "[CV]  max_depth=5, min_samples_leaf=5, n_estimators=200, total=  12.1s\n",
      "[CV] max_depth=5, min_samples_leaf=10, n_estimators=10 ...............\n",
      "[CV]  max_depth=5, min_samples_leaf=10, n_estimators=10, total=   0.8s\n",
      "[CV] max_depth=5, min_samples_leaf=10, n_estimators=100 ..............\n",
      "[CV]  max_depth=5, min_samples_leaf=5, n_estimators=200, total=  12.9s\n",
      "[CV] max_depth=5, min_samples_leaf=10, n_estimators=100 ..............\n",
      "[CV]  max_depth=5, min_samples_leaf=10, n_estimators=10, total=   0.8s\n",
      "[CV] max_depth=5, min_samples_leaf=10, n_estimators=100 ..............\n",
      "[CV]  max_depth=5, min_samples_leaf=10, n_estimators=100, total=   6.8s\n",
      "[CV] max_depth=5, min_samples_leaf=10, n_estimators=100 ..............\n",
      "[CV]  max_depth=5, min_samples_leaf=10, n_estimators=100, total=   6.8s\n",
      "[CV] max_depth=5, min_samples_leaf=10, n_estimators=100 ..............\n",
      "[CV]  max_depth=5, min_samples_leaf=10, n_estimators=100, total=   7.0s\n",
      "[CV] max_depth=5, min_samples_leaf=10, n_estimators=200 ..............\n",
      "[CV]  max_depth=5, min_samples_leaf=5, n_estimators=200, total=  12.7s\n",
      "[CV] max_depth=5, min_samples_leaf=10, n_estimators=200 ..............\n",
      "[CV]  max_depth=5, min_samples_leaf=10, n_estimators=100, total=   6.0s\n",
      "[CV] max_depth=5, min_samples_leaf=10, n_estimators=200 ..............\n",
      "[CV]  max_depth=5, min_samples_leaf=10, n_estimators=100, total=   6.3s\n",
      "[CV] max_depth=5, min_samples_leaf=10, n_estimators=200 ..............\n",
      "[CV]  max_depth=5, min_samples_leaf=10, n_estimators=200, total=  12.7s\n",
      "[CV] max_depth=5, min_samples_leaf=10, n_estimators=200 ..............\n",
      "[CV]  max_depth=5, min_samples_leaf=10, n_estimators=200, total=  12.3s\n",
      "[CV]  max_depth=5, min_samples_leaf=10, n_estimators=200, total=  11.4s\n",
      "[CV]  max_depth=5, min_samples_leaf=10, n_estimators=200, total=  11.7s\n",
      "[CV]  max_depth=5, min_samples_leaf=10, n_estimators=200, total=   8.8s\n"
     ]
    },
    {
     "name": "stderr",
     "output_type": "stream",
     "text": [
      "[Parallel(n_jobs=-1)]: Done 135 out of 135 | elapsed:  3.0min finished\n"
     ]
    },
    {
     "data": {
      "text/plain": [
       "GridSearchCV(cv=5, error_score='raise',\n",
       "       estimator=RandomForestClassifier(bootstrap=True, class_weight=None, criterion='gini',\n",
       "            max_depth=None, max_features='auto', max_leaf_nodes=None,\n",
       "            min_impurity_decrease=0.0, min_impurity_split=None,\n",
       "            min_samples_leaf=1, min_samples_split=2,\n",
       "            min_weight_fraction_leaf=0.0, n_estimators=10, n_jobs=1,\n",
       "            oob_score=False, random_state=14, verbose=0, warm_start=False),\n",
       "       fit_params=None, iid=True, n_jobs=-1,\n",
       "       param_grid={'n_estimators': [10, 100, 200], 'max_depth': [2, 3, 5], 'min_samples_leaf': [2, 5, 10]},\n",
       "       pre_dispatch='2*n_jobs', refit='f1_score', return_train_score=True,\n",
       "       scoring={'f1_score': make_scorer(f1_score)}, verbose=2)"
      ]
     },
     "execution_count": 264,
     "metadata": {},
     "output_type": "execute_result"
    }
   ],
   "source": [
    "grd_search.fit(tr_X, tr_y)"
   ]
  },
  {
   "cell_type": "code",
   "execution_count": 265,
   "metadata": {},
   "outputs": [
    {
     "data": {
      "text/plain": [
       "0.5738945649022463"
      ]
     },
     "execution_count": 265,
     "metadata": {},
     "output_type": "execute_result"
    }
   ],
   "source": [
    "grd_search.best_score_"
   ]
  },
  {
   "cell_type": "code",
   "execution_count": null,
   "metadata": {
    "collapsed": true
   },
   "outputs": [],
   "source": []
  },
  {
   "cell_type": "code",
   "execution_count": 186,
   "metadata": {
    "collapsed": true
   },
   "outputs": [
    {
     "name": "stdout",
     "output_type": "stream",
     "text": [
      "IncidentID\n",
      "Latitude\n",
      "Longitude\n",
      "Avg Occupancy_0\n",
      "Avg Occupancy_1\n",
      "Avg Occupancy_2\n",
      "Avg Occupancy_3\n",
      "Avg Occupancy_4\n",
      "Avg Occupancy_5\n",
      "Avg Occupancy_6\n",
      "Avg Occupancy_7\n",
      "Avg Occupancy_8\n",
      "Avg Occupancy_9\n",
      "Avg Occupancy_10\n",
      "Avg Occupancy_11\n",
      "Avg Occupancy_12\n",
      "Avg Occupancy_13\n",
      "Avg Occupancy_14\n",
      "Avg Occupancy_15\n",
      "Avg Speed_0\n",
      "Avg Speed_1\n",
      "Avg Speed_2\n",
      "Avg Speed_3\n",
      "Avg Speed_4\n",
      "Avg Speed_5\n",
      "Avg Speed_6\n",
      "Avg Speed_7\n",
      "Avg Speed_8\n",
      "Avg Speed_9\n",
      "Avg Speed_10\n",
      "Avg Speed_11\n",
      "Avg Speed_12\n",
      "Avg Speed_13\n",
      "Avg Speed_14\n",
      "Avg Speed_15\n",
      "Total Flow_0\n",
      "Total Flow_1\n",
      "Total Flow_2\n",
      "Total Flow_3\n",
      "Total Flow_4\n",
      "Total Flow_5\n",
      "Total Flow_6\n",
      "Total Flow_7\n",
      "Total Flow_8\n",
      "Total Flow_9\n",
      "Total Flow_10\n",
      "Total Flow_11\n",
      "Total Flow_12\n",
      "Total Flow_13\n",
      "Total Flow_14\n",
      "Total Flow_15\n",
      "y\n",
      "hour__6\n",
      "hour__7\n",
      "hour__8\n",
      "hour__9\n",
      "hour__10\n",
      "hour__11\n",
      "hour__12\n",
      "hour__13\n",
      "hour__14\n",
      "hour__15\n",
      "hour__16\n",
      "hour__17\n",
      "hour__18\n",
      "hour__19\n",
      "hour__20\n",
      "hour__21\n",
      "Avg Occupancy_0_sq\n",
      "Avg Occupancy_1_sq\n",
      "Avg Occupancy_2_sq\n",
      "Avg Occupancy_3_sq\n",
      "Avg Occupancy_4_sq\n",
      "Avg Occupancy_5_sq\n",
      "Avg Occupancy_6_sq\n",
      "Avg Occupancy_7_sq\n",
      "Avg Occupancy_8_sq\n",
      "Avg Occupancy_9_sq\n",
      "Avg Occupancy_10_sq\n",
      "Avg Occupancy_11_sq\n",
      "Avg Occupancy_12_sq\n",
      "Avg Occupancy_13_sq\n",
      "Avg Occupancy_14_sq\n",
      "Avg Occupancy_15_sq\n",
      "Avg Speed_0_sq\n",
      "Avg Speed_1_sq\n",
      "Avg Speed_2_sq\n",
      "Avg Speed_3_sq\n",
      "Avg Speed_4_sq\n",
      "Avg Speed_5_sq\n",
      "Avg Speed_6_sq\n",
      "Avg Speed_7_sq\n",
      "Avg Speed_8_sq\n",
      "Avg Speed_9_sq\n",
      "Avg Speed_10_sq\n",
      "Avg Speed_11_sq\n",
      "Avg Speed_12_sq\n",
      "Avg Speed_13_sq\n",
      "Avg Speed_14_sq\n",
      "Avg Speed_15_sq\n",
      "Total Flow_0_sq\n",
      "Total Flow_1_sq\n",
      "Total Flow_2_sq\n",
      "Total Flow_3_sq\n",
      "Total Flow_4_sq\n",
      "Total Flow_5_sq\n",
      "Total Flow_6_sq\n",
      "Total Flow_7_sq\n",
      "Total Flow_8_sq\n",
      "Total Flow_9_sq\n",
      "Total Flow_10_sq\n",
      "Total Flow_11_sq\n",
      "Total Flow_12_sq\n",
      "Total Flow_13_sq\n",
      "Total Flow_14_sq\n",
      "Total Flow_15_sq\n"
     ]
    }
   ],
   "source": [
    "for col in dataset.columns:\n",
    "    print(col)"
   ]
  },
  {
   "cell_type": "code",
   "execution_count": 70,
   "metadata": {
    "collapsed": true
   },
   "outputs": [],
   "source": [
    "def score_dataset(dataset, drop_features=[], cv=5):\n",
    "    drop_cols = ['y', 'Timestamp', 'IncidentID'] + drop_features #, 'Longitude', 'Latitude'\n",
    "    tr_X, te_X, tr_y, te_y = train_test_split(dataset.drop(columns=drop_cols), dataset['y'], stratify=dataset.y, test_size=.2)\n",
    "    scaler = StandardScaler()\n",
    "    tr_X = scaler.fit_transform(tr_X)\n",
    "    te_X = scaler.transform(te_X)\n",
    "        \n",
    "    print('Logistic regression')\n",
    "    logreg = LogisticRegression()\n",
    "    cv_res = cross_validate(logreg, tr_X, tr_y, n_jobs=-1, cv=cv, scoring={'f1_score' : make_scorer(f1_score)})\n",
    "    F1_score = cv_res['test_f1_score'].mean()\n",
    "    F1_var = cv_res['test_f1_score'].std()\n",
    "    print('{}-fold CV f1 = {}, std = {}'.format(cv, F1_score, F1_var))\n",
    "    logreg.fit(tr_X, tr_y)\n",
    "    predict = logreg.predict(te_X)\n",
    "    print('example CM =', confusion_matrix(te_y, predict))\n",
    "    print()\n",
    "    \n",
    "    print('Random Forest')\n",
    "    forest = RandomForestClassifier(random_state=14)  \n",
    "    cv_res = cross_validate(forest, tr_X, tr_y, n_jobs=-1, cv=cv, scoring={'f1_score' : make_scorer(f1_score)})\n",
    "    F1_score = cv_res['test_f1_score'].mean()\n",
    "    F1_var = cv_res['test_f1_score'].std()\n",
    "    print('{}-fold CV f1 = {}, std = {}'.format(cv, F1_score, F1_var))\n",
    "    forest.fit(tr_X, tr_y)\n",
    "    predict = forest.predict(te_X)\n",
    "    proba = forest.predict_proba(te_X)\n",
    "    print('example CM =', confusion_matrix(te_y, predict))\n",
    "    fpr, tpr, thresholds = roc_curve(te_y, proba[:,1])\n",
    "    \n",
    "    plt.plot(fpr, tpr)\n",
    "    plt.plot([0,1], [0,1])\n",
    "    plt.grid()\n",
    "    plt.show()\n",
    "    \n",
    "    print()\n",
    "    \n"
   ]
  },
  {
   "cell_type": "code",
   "execution_count": 22,
   "metadata": {},
   "outputs": [
    {
     "name": "stdout",
     "output_type": "stream",
     "text": [
      "Logistic regression\n",
      "5-fold CV f1 = 0.6487233026700397, std = 0.004591180431084991\n",
      "example CM = [[2761 1169]\n",
      " [1725 2500]]\n",
      "\n",
      "Random Forest\n",
      "5-fold CV f1 = 0.6616747379640213, std = 0.005658515948329251\n",
      "example CM = [[2860 1070]\n",
      " [1588 2637]]\n"
     ]
    },
    {
     "data": {
      "image/png": "[encoded data removed]",
      "text/plain": [
       "<matplotlib.figure.Figure at 0x7ff994f4da58>"
      ]
     },
     "metadata": {},
     "output_type": "display_data"
    },
    {
     "name": "stdout",
     "output_type": "stream",
     "text": [
      "\n"
     ]
    }
   ],
   "source": [
    "score_dataset(dataset)"
   ]
  },
  {
   "cell_type": "markdown",
   "metadata": {},
   "source": [
    "# W/o weather data"
   ]
  },
  {
   "cell_type": "markdown",
   "metadata": {},
   "source": [
    "## as is"
   ]
  },
  {
   "cell_type": "code",
   "execution_count": 71,
   "metadata": {},
   "outputs": [
    {
     "name": "stdout",
     "output_type": "stream",
     "text": [
      "Logistic regression\n",
      "5-fold CV f1 = 0.6204714855330495, std = 0.0034408794852207446\n",
      "example CM = [[3540  957]\n",
      " [1773 2309]]\n",
      "\n",
      "Random Forest\n",
      "5-fold CV f1 = 0.6515166630630926, std = 0.005577138040868198\n",
      "example CM = [[3604  893]\n",
      " [1558 2524]]\n"
     ]
    },
    {
     "data": {
      "image/png": "[encoded data removed]",
      "text/plain": [
       "<matplotlib.figure.Figure at 0x7f1b205fb2e8>"
      ]
     },
     "metadata": {},
     "output_type": "display_data"
    },
    {
     "name": "stdout",
     "output_type": "stream",
     "text": [
      "\n"
     ]
    }
   ],
   "source": [
    "score_dataset(dataset)"
   ]
  },
  {
   "cell_type": "markdown",
   "metadata": {},
   "source": [
    "## w/o Next"
   ]
  },
  {
   "cell_type": "code",
   "execution_count": 72,
   "metadata": {
    "collapsed": true
   },
   "outputs": [],
   "source": [
    "Next_cols = ['Next_Avg Occupancy_0', 'Next_Avg Occupancy_1', 'Next_Avg Occupancy_2', 'Next_Avg Occupancy_3',\n",
    "         'Next_Avg Occupancy_4', 'Next_Avg Occupancy_5', 'Next_Avg Occupancy_6', 'Next_Avg Occupancy_7',\n",
    "         'Next_Avg Occupancy_8', 'Next_Avg Occupancy_9', 'Next_Avg Occupancy_10', 'Next_Avg Occupancy_11',\n",
    "         'Next_Avg Occupancy_12', 'Next_Avg Occupancy_13', 'Next_Avg Occupancy_14', 'Next_Avg Occupancy_15',\n",
    "         'Next_Total Flow_0', 'Next_Total Flow_1', 'Next_Total Flow_2', 'Next_Total Flow_3', 'Next_Total Flow_4',\n",
    "         'Next_Total Flow_5', 'Next_Total Flow_6', 'Next_Total Flow_7', 'Next_Total Flow_8', 'Next_Total Flow_9',\n",
    "         'Next_Total Flow_10', 'Next_Total Flow_11', 'Next_Total Flow_12', 'Next_Total Flow_13', 'Next_Total Flow_14',\n",
    "         'Next_Total Flow_15', 'Next_Avg Speed_0', 'Next_Avg Speed_1', 'Next_Avg Speed_2', 'Next_Avg Speed_3',\n",
    "         'Next_Avg Speed_4', 'Next_Avg Speed_5', 'Next_Avg Speed_6', 'Next_Avg Speed_7', 'Next_Avg Speed_8',\n",
    "         'Next_Avg Speed_9', 'Next_Avg Speed_10', 'Next_Avg Speed_11', 'Next_Avg Speed_12', 'Next_Avg Speed_13',\n",
    "         'Next_Avg Speed_14', 'Next_Avg Speed_15',]"
   ]
  },
  {
   "cell_type": "code",
   "execution_count": 73,
   "metadata": {},
   "outputs": [
    {
     "name": "stdout",
     "output_type": "stream",
     "text": [
      "Logistic regression\n",
      "5-fold CV f1 = 0.6076463929700565, std = 0.008169215220721622\n",
      "example CM = [[3554  943]\n",
      " [1921 2161]]\n",
      "\n",
      "Random Forest\n",
      "5-fold CV f1 = 0.6461133390321494, std = 0.005215437418034422\n",
      "example CM = [[3575  922]\n",
      " [1621 2461]]\n"
     ]
    },
    {
     "data": {
      "image/png": "[encoded data removed]",
      "text/plain": [
       "<matplotlib.figure.Figure at 0x7f1add2b0048>"
      ]
     },
     "metadata": {},
     "output_type": "display_data"
    },
    {
     "name": "stdout",
     "output_type": "stream",
     "text": [
      "\n"
     ]
    }
   ],
   "source": [
    "score_dataset(dataset, Next_cols)"
   ]
  },
  {
   "cell_type": "markdown",
   "metadata": {},
   "source": [
    "## delta"
   ]
  },
  {
   "cell_type": "code",
   "execution_count": 74,
   "metadata": {
    "collapsed": true
   },
   "outputs": [],
   "source": [
    "for col in ['Avg Occupancy_0', 'Avg Occupancy_1', 'Avg Occupancy_2',\n",
    "       'Avg Occupancy_3', 'Avg Occupancy_4', 'Avg Occupancy_5',\n",
    "       'Avg Occupancy_6', 'Avg Occupancy_7', 'Avg Occupancy_8',\n",
    "       'Avg Occupancy_9', 'Avg Occupancy_10', 'Avg Occupancy_11',\n",
    "       'Avg Occupancy_12', 'Avg Occupancy_13', 'Avg Occupancy_14',\n",
    "       'Avg Occupancy_15', 'Avg Speed_0', 'Avg Speed_1', 'Avg Speed_2',\n",
    "       'Avg Speed_3', 'Avg Speed_4', 'Avg Speed_5', 'Avg Speed_6',\n",
    "       'Avg Speed_7', 'Avg Speed_8', 'Avg Speed_9', 'Avg Speed_10',\n",
    "       'Avg Speed_11', 'Avg Speed_12', 'Avg Speed_13', 'Avg Speed_14',\n",
    "       'Avg Speed_15', 'Total Flow_0', 'Total Flow_1', 'Total Flow_2',\n",
    "       'Total Flow_3', 'Total Flow_4', 'Total Flow_5', 'Total Flow_6',\n",
    "       'Total Flow_7', 'Total Flow_8', 'Total Flow_9', 'Total Flow_10',\n",
    "       'Total Flow_11', 'Total Flow_12', 'Total Flow_13', 'Total Flow_14',\n",
    "       'Total Flow_15']:\n",
    "    dataset[col] = dataset[col] - dataset['Next_'+col]\n",
    "    dataset[col + '_sq'] = (dataset[col] - dataset['Next_'+col] )**2\n",
    "    dataset.drop(columns='Next_'+col, inplace=True)"
   ]
  },
  {
   "cell_type": "code",
   "execution_count": 75,
   "metadata": {
    "collapsed": true
   },
   "outputs": [],
   "source": [
    "sq_cols = [col for col in dataset.columns if '_sq' in col]"
   ]
  },
  {
   "cell_type": "code",
   "execution_count": 76,
   "metadata": {},
   "outputs": [
    {
     "name": "stdout",
     "output_type": "stream",
     "text": [
      "Logistic regression\n",
      "5-fold CV f1 = 0.5572119682258452, std = 0.005164806167936775\n",
      "example CM = [[3003 1494]\n",
      " [1964 2118]]\n",
      "\n",
      "Random Forest\n",
      "5-fold CV f1 = 0.641371017011141, std = 0.005067828607036853\n",
      "example CM = [[3483 1014]\n",
      " [1629 2453]]\n"
     ]
    },
    {
     "data": {
      "image/png": "[encoded data removed]",
      "text/plain": [
       "<matplotlib.figure.Figure at 0x7f1ae0fbcb38>"
      ]
     },
     "metadata": {},
     "output_type": "display_data"
    },
    {
     "name": "stdout",
     "output_type": "stream",
     "text": [
      "\n"
     ]
    }
   ],
   "source": [
    "score_dataset(dataset, sq_cols)"
   ]
  },
  {
   "cell_type": "markdown",
   "metadata": {},
   "source": [
    "## diff and sq diff"
   ]
  },
  {
   "cell_type": "code",
   "execution_count": 77,
   "metadata": {
    "scrolled": false
   },
   "outputs": [
    {
     "name": "stdout",
     "output_type": "stream",
     "text": [
      "Logistic regression\n",
      "5-fold CV f1 = 0.5992830994965688, std = 0.00744571707889029\n",
      "example CM = [[3515  982]\n",
      " [1931 2151]]\n",
      "\n",
      "Random Forest\n",
      "5-fold CV f1 = 0.6436743262266829, std = 0.010227118953861634\n",
      "example CM = [[3551  946]\n",
      " [1603 2479]]\n"
     ]
    },
    {
     "data": {
      "image/png": "[encoded data removed]",
      "text/plain": [
       "<matplotlib.figure.Figure at 0x7f1ae05ceba8>"
      ]
     },
     "metadata": {},
     "output_type": "display_data"
    },
    {
     "name": "stdout",
     "output_type": "stream",
     "text": [
      "\n"
     ]
    }
   ],
   "source": [
    "score_dataset(dataset)"
   ]
  },
  {
   "cell_type": "code",
   "execution_count": null,
   "metadata": {
    "collapsed": true
   },
   "outputs": [],
   "source": []
  },
  {
   "cell_type": "code",
   "execution_count": null,
   "metadata": {
    "collapsed": true
   },
   "outputs": [],
   "source": []
  },
  {
   "cell_type": "code",
   "execution_count": null,
   "metadata": {
    "collapsed": true
   },
   "outputs": [],
   "source": []
  },
  {
   "cell_type": "markdown",
   "metadata": {},
   "source": [
    "# W/ weather data"
   ]
  },
  {
   "cell_type": "markdown",
   "metadata": {},
   "source": [
    "## as is"
   ]
  },
  {
   "cell_type": "code",
   "execution_count": 98,
   "metadata": {},
   "outputs": [
    {
     "name": "stdout",
     "output_type": "stream",
     "text": [
      "Logistic regression\n",
      "5-fold CV f1 = 0.6255739231213896, std = 0.007125384164661013\n",
      "example CM = [[3495 1002]\n",
      " [1769 2313]]\n",
      "\n",
      "Random Forest\n",
      "5-fold CV f1 = 0.6509493346040063, std = 0.0038487137644732943\n",
      "example CM = [[3585  912]\n",
      " [1558 2524]]\n"
     ]
    },
    {
     "data": {
      "image/png": "[encoded data removed]",
      "text/plain": [
       "<matplotlib.figure.Figure at 0x7f1ae162e3c8>"
      ]
     },
     "metadata": {},
     "output_type": "display_data"
    },
    {
     "name": "stdout",
     "output_type": "stream",
     "text": [
      "\n"
     ]
    }
   ],
   "source": [
    "score_dataset(dataset)"
   ]
  },
  {
   "cell_type": "markdown",
   "metadata": {},
   "source": [
    "## w/o Next"
   ]
  },
  {
   "cell_type": "code",
   "execution_count": 99,
   "metadata": {
    "collapsed": true
   },
   "outputs": [],
   "source": [
    "Next_cols = ['Next_Avg Occupancy_0', 'Next_Avg Occupancy_1', 'Next_Avg Occupancy_2', 'Next_Avg Occupancy_3',\n",
    "         'Next_Avg Occupancy_4', 'Next_Avg Occupancy_5', 'Next_Avg Occupancy_6', 'Next_Avg Occupancy_7',\n",
    "         'Next_Avg Occupancy_8', 'Next_Avg Occupancy_9', 'Next_Avg Occupancy_10', 'Next_Avg Occupancy_11',\n",
    "         'Next_Avg Occupancy_12', 'Next_Avg Occupancy_13', 'Next_Avg Occupancy_14', 'Next_Avg Occupancy_15',\n",
    "         'Next_Total Flow_0', 'Next_Total Flow_1', 'Next_Total Flow_2', 'Next_Total Flow_3', 'Next_Total Flow_4',\n",
    "         'Next_Total Flow_5', 'Next_Total Flow_6', 'Next_Total Flow_7', 'Next_Total Flow_8', 'Next_Total Flow_9',\n",
    "         'Next_Total Flow_10', 'Next_Total Flow_11', 'Next_Total Flow_12', 'Next_Total Flow_13', 'Next_Total Flow_14',\n",
    "         'Next_Total Flow_15', 'Next_Avg Speed_0', 'Next_Avg Speed_1', 'Next_Avg Speed_2', 'Next_Avg Speed_3',\n",
    "         'Next_Avg Speed_4', 'Next_Avg Speed_5', 'Next_Avg Speed_6', 'Next_Avg Speed_7', 'Next_Avg Speed_8',\n",
    "         'Next_Avg Speed_9', 'Next_Avg Speed_10', 'Next_Avg Speed_11', 'Next_Avg Speed_12', 'Next_Avg Speed_13',\n",
    "         'Next_Avg Speed_14', 'Next_Avg Speed_15',]"
   ]
  },
  {
   "cell_type": "code",
   "execution_count": 100,
   "metadata": {},
   "outputs": [
    {
     "name": "stdout",
     "output_type": "stream",
     "text": [
      "Logistic regression\n",
      "5-fold CV f1 = 0.6120812030491221, std = 0.01115767465122743\n",
      "example CM = [[3501  996]\n",
      " [1810 2272]]\n",
      "\n",
      "Random Forest\n",
      "5-fold CV f1 = 0.6486535423576457, std = 0.0075746043504348005\n",
      "example CM = [[3545  952]\n",
      " [1592 2490]]\n"
     ]
    },
    {
     "data": {
      "image/png": "[encoded data removed]",
      "text/plain": [
       "<matplotlib.figure.Figure at 0x7f1a5caf28d0>"
      ]
     },
     "metadata": {},
     "output_type": "display_data"
    },
    {
     "name": "stdout",
     "output_type": "stream",
     "text": [
      "\n"
     ]
    }
   ],
   "source": [
    "score_dataset(dataset, Next_cols)"
   ]
  },
  {
   "cell_type": "markdown",
   "metadata": {},
   "source": [
    "## delta"
   ]
  },
  {
   "cell_type": "code",
   "execution_count": 101,
   "metadata": {
    "collapsed": true
   },
   "outputs": [],
   "source": [
    "for col in ['Avg Occupancy_0', 'Avg Occupancy_1', 'Avg Occupancy_2',\n",
    "       'Avg Occupancy_3', 'Avg Occupancy_4', 'Avg Occupancy_5',\n",
    "       'Avg Occupancy_6', 'Avg Occupancy_7', 'Avg Occupancy_8',\n",
    "       'Avg Occupancy_9', 'Avg Occupancy_10', 'Avg Occupancy_11',\n",
    "       'Avg Occupancy_12', 'Avg Occupancy_13', 'Avg Occupancy_14',\n",
    "       'Avg Occupancy_15', 'Avg Speed_0', 'Avg Speed_1', 'Avg Speed_2',\n",
    "       'Avg Speed_3', 'Avg Speed_4', 'Avg Speed_5', 'Avg Speed_6',\n",
    "       'Avg Speed_7', 'Avg Speed_8', 'Avg Speed_9', 'Avg Speed_10',\n",
    "       'Avg Speed_11', 'Avg Speed_12', 'Avg Speed_13', 'Avg Speed_14',\n",
    "       'Avg Speed_15', 'Total Flow_0', 'Total Flow_1', 'Total Flow_2',\n",
    "       'Total Flow_3', 'Total Flow_4', 'Total Flow_5', 'Total Flow_6',\n",
    "       'Total Flow_7', 'Total Flow_8', 'Total Flow_9', 'Total Flow_10',\n",
    "       'Total Flow_11', 'Total Flow_12', 'Total Flow_13', 'Total Flow_14',\n",
    "       'Total Flow_15']:\n",
    "    dataset[col] = dataset[col] - dataset['Next_'+col]\n",
    "    dataset[col + '_sq'] = (dataset[col] - dataset['Next_'+col] )**2\n",
    "    dataset.drop(columns='Next_'+col, inplace=True)"
   ]
  },
  {
   "cell_type": "code",
   "execution_count": 102,
   "metadata": {
    "collapsed": true
   },
   "outputs": [],
   "source": [
    "sq_cols = [col for col in dataset.columns if '_sq' in col]"
   ]
  },
  {
   "cell_type": "code",
   "execution_count": 103,
   "metadata": {},
   "outputs": [
    {
     "name": "stdout",
     "output_type": "stream",
     "text": [
      "Logistic regression\n",
      "5-fold CV f1 = 0.5543746535325316, std = 0.0069041568386644814\n",
      "example CM = [[3104 1393]\n",
      " [1971 2111]]\n",
      "\n",
      "Random Forest\n",
      "5-fold CV f1 = 0.642122876026546, std = 0.005489915001763578\n",
      "example CM = [[3557  940]\n",
      " [1704 2378]]\n"
     ]
    },
    {
     "data": {
      "image/png": "[encoded data removed]",
      "text/plain": [
       "<matplotlib.figure.Figure at 0x7f1ade042c50>"
      ]
     },
     "metadata": {},
     "output_type": "display_data"
    },
    {
     "name": "stdout",
     "output_type": "stream",
     "text": [
      "\n"
     ]
    }
   ],
   "source": [
    "score_dataset(dataset, sq_cols)"
   ]
  },
  {
   "cell_type": "markdown",
   "metadata": {},
   "source": [
    "## diff and sq diff"
   ]
  },
  {
   "cell_type": "code",
   "execution_count": 104,
   "metadata": {
    "scrolled": false
   },
   "outputs": [
    {
     "name": "stdout",
     "output_type": "stream",
     "text": [
      "Logistic regression\n",
      "5-fold CV f1 = 0.6037931126407882, std = 0.008550254146928657\n",
      "example CM = [[3478 1019]\n",
      " [1901 2181]]\n",
      "\n",
      "Random Forest\n",
      "5-fold CV f1 = 0.6412568259418202, std = 0.010337640986047215\n",
      "example CM = [[3513  984]\n",
      " [1610 2472]]\n"
     ]
    },
    {
     "data": {
      "image/png": "[encoded data removed]",
      "text/plain": [
       "<matplotlib.figure.Figure at 0x7f1ae0622198>"
      ]
     },
     "metadata": {},
     "output_type": "display_data"
    },
    {
     "name": "stdout",
     "output_type": "stream",
     "text": [
      "\n"
     ]
    }
   ],
   "source": [
    "score_dataset(dataset)"
   ]
  },
  {
   "cell_type": "code",
   "execution_count": 105,
   "metadata": {
    "collapsed": true
   },
   "outputs": [],
   "source": [
    "non_sq_cols = ['Avg Occupancy_0', 'Avg Occupancy_1', 'Avg Occupancy_2',\n",
    "       'Avg Occupancy_3', 'Avg Occupancy_4', 'Avg Occupancy_5',\n",
    "       'Avg Occupancy_6', 'Avg Occupancy_7', 'Avg Occupancy_8',\n",
    "       'Avg Occupancy_9', 'Avg Occupancy_10', 'Avg Occupancy_11',\n",
    "       'Avg Occupancy_12', 'Avg Occupancy_13', 'Avg Occupancy_14',\n",
    "       'Avg Occupancy_15', 'Avg Speed_0', 'Avg Speed_1', 'Avg Speed_2',\n",
    "       'Avg Speed_3', 'Avg Speed_4', 'Avg Speed_5', 'Avg Speed_6',\n",
    "       'Avg Speed_7', 'Avg Speed_8', 'Avg Speed_9', 'Avg Speed_10',\n",
    "       'Avg Speed_11', 'Avg Speed_12', 'Avg Speed_13', 'Avg Speed_14',\n",
    "       'Avg Speed_15', 'Total Flow_0', 'Total Flow_1', 'Total Flow_2',\n",
    "       'Total Flow_3', 'Total Flow_4', 'Total Flow_5', 'Total Flow_6',\n",
    "       'Total Flow_7', 'Total Flow_8', 'Total Flow_9', 'Total Flow_10',\n",
    "       'Total Flow_11', 'Total Flow_12', 'Total Flow_13', 'Total Flow_14',\n",
    "       'Total Flow_15']"
   ]
  },
  {
   "cell_type": "code",
   "execution_count": 106,
   "metadata": {
    "scrolled": false
   },
   "outputs": [
    {
     "name": "stdout",
     "output_type": "stream",
     "text": [
      "Logistic regression\n",
      "5-fold CV f1 = 0.583616988872065, std = 0.0094217343342383\n",
      "example CM = [[3267 1230]\n",
      " [1909 2173]]\n",
      "\n",
      "Random Forest\n",
      "5-fold CV f1 = 0.6306095351857117, std = 0.005669766183767388\n",
      "example CM = [[3487 1010]\n",
      " [1727 2355]]\n"
     ]
    },
    {
     "data": {
      "image/png": "[encoded data removed]",
      "text/plain": [
       "<matplotlib.figure.Figure at 0x7f1a5cafa978>"
      ]
     },
     "metadata": {},
     "output_type": "display_data"
    },
    {
     "name": "stdout",
     "output_type": "stream",
     "text": [
      "\n"
     ]
    }
   ],
   "source": [
    "score_dataset(dataset, non_sq_cols)"
   ]
  },
  {
   "cell_type": "markdown",
   "metadata": {
    "collapsed": true
   },
   "source": [
    "# XGBoost"
   ]
  },
  {
   "cell_type": "code",
   "execution_count": 118,
   "metadata": {
    "collapsed": true
   },
   "outputs": [],
   "source": [
    "drop_cols = ['y', 'Timestamp', 'IncidentID'] #, 'Longitude', 'Latitude']\n",
    "tr_X, te_X, tr_y, te_y = train_test_split(dataset.drop(columns=drop_cols), dataset['y'], stratify=dataset.y, test_size=.2)\n",
    "scaler = StandardScaler()\n",
    "tr_X = scaler.fit_transform(tr_X)\n",
    "te_X = scaler.transform(te_X)\n",
    "tr_d = xgb.DMatrix(tr_X, label=tr_y)\n",
    "te_d = xgb.DMatrix(te_X, label=te_y)"
   ]
  },
  {
   "cell_type": "code",
   "execution_count": 218,
   "metadata": {
    "collapsed": true
   },
   "outputs": [],
   "source": [
    "xgb_params = {'objective':'binary:logistic', 'learning_rate': 1.0, 'n_estimators': 500}"
   ]
  },
  {
   "cell_type": "code",
   "execution_count": 222,
   "metadata": {
    "collapsed": true
   },
   "outputs": [],
   "source": [
    "clf = xgb.XGBClassifier(**xgb_params)"
   ]
  },
  {
   "cell_type": "code",
   "execution_count": 223,
   "metadata": {},
   "outputs": [
    {
     "data": {
      "text/plain": [
       "XGBClassifier(base_score=0.5, colsample_bylevel=1, colsample_bytree=1,\n",
       "       gamma=0, learning_rate=1.0, max_delta_step=0, max_depth=3,\n",
       "       min_child_weight=1, missing=None, n_estimators=500, nthread=-1,\n",
       "       objective='binary:logistic', reg_alpha=0, reg_lambda=1,\n",
       "       scale_pos_weight=1, seed=0, silent=True, subsample=1)"
      ]
     },
     "execution_count": 223,
     "metadata": {},
     "output_type": "execute_result"
    }
   ],
   "source": [
    "clf.fit(tr_X, tr_y)"
   ]
  },
  {
   "cell_type": "code",
   "execution_count": 224,
   "metadata": {},
   "outputs": [
    {
     "name": "stderr",
     "output_type": "stream",
     "text": [
      "/opt/anaconda3/lib/python3.6/site-packages/sklearn/preprocessing/label.py:151: DeprecationWarning: The truth value of an empty array is ambiguous. Returning False, but in future this will result in an error. Use `array.size > 0` to check that an array is not empty.\n",
      "  if diff:\n"
     ]
    }
   ],
   "source": [
    "prd = clf.predict(te_X)"
   ]
  },
  {
   "cell_type": "code",
   "execution_count": 219,
   "metadata": {
    "scrolled": true
   },
   "outputs": [
    {
     "name": "stderr",
     "output_type": "stream",
     "text": [
      "/opt/anaconda3/lib/python3.6/site-packages/sklearn/preprocessing/label.py:151: DeprecationWarning: The truth value of an empty array is ambiguous. Returning False, but in future this will result in an error. Use `array.size > 0` to check that an array is not empty.\n",
      "  if diff:\n"
     ]
    },
    {
     "data": {
      "text/plain": [
       "0.8229463511336885"
      ]
     },
     "execution_count": 219,
     "metadata": {},
     "output_type": "execute_result"
    }
   ],
   "source": [
    "prd = np.round(prd)\n",
    "\n",
    "f1_score(te_y, prd)"
   ]
  },
  {
   "cell_type": "code",
   "execution_count": 220,
   "metadata": {
    "collapsed": true
   },
   "outputs": [],
   "source": [
    "def boost(dataset, drop_features=[], cv=5):\n",
    "    drop_cols = ['y', 'Timestamp', 'IncidentID'] + drop_features #, 'Longitude', 'Latitude'\n",
    "    tr_X, te_X, tr_y, te_y = train_test_split(dataset.drop(columns=drop_cols), dataset['y'], stratify=dataset.y, test_size=.2)\n",
    "    scaler = StandardScaler()\n",
    "    tr_X = scaler.fit_transform(tr_X)\n",
    "    te_X = scaler.transform(te_X)\n",
    "        \n",
    "    print('XGBoost')\n",
    "    xgb_params = {'objective':'binary:logistic', 'learning_rate': 1.0, 'n_estimators': 500}\n",
    "    clf = xgb.XGBClassifier(**xgb_params)\n",
    "    cv_res = cross_validate(clf, tr_X, tr_y, n_jobs=-1, cv=cv, scoring={'f1_score' : make_scorer(f1_score)})\n",
    "    F1_score = cv_res['test_f1_score'].mean()\n",
    "    F1_var = cv_res['test_f1_score'].std()\n",
    "    print('{}-fold CV f1 = {}, std = {}'.format(cv, F1_score, F1_var))\n",
    "    clf.fit(tr_X, tr_y)\n",
    "    predict = clf.predict(te_X)\n",
    "    print('example CM =', confusion_matrix(te_y, predict))\n",
    "    proba = clf.predict_proba(te_X)\n",
    "    fpr, tpr, thresholds = roc_curve(te_y, proba[:,1])\n",
    "    print()\n",
    "      \n",
    "    plt.plot(fpr, tpr)\n",
    "    plt.plot([0,1], [0,1])\n",
    "    plt.grid()\n",
    "    plt.show()\n",
    "    \n",
    "    print()\n",
    "    \n"
   ]
  },
  {
   "cell_type": "code",
   "execution_count": 221,
   "metadata": {},
   "outputs": [
    {
     "name": "stdout",
     "output_type": "stream",
     "text": [
      "XGBoost\n"
     ]
    },
    {
     "name": "stderr",
     "output_type": "stream",
     "text": [
      "/opt/anaconda3/lib/python3.6/site-packages/sklearn/preprocessing/label.py:151: DeprecationWarning: The truth value of an empty array is ambiguous. Returning False, but in future this will result in an error. Use `array.size > 0` to check that an array is not empty.\n",
      "  if diff:\n",
      "/opt/anaconda3/lib/python3.6/site-packages/sklearn/preprocessing/label.py:151: DeprecationWarning: The truth value of an empty array is ambiguous. Returning False, but in future this will result in an error. Use `array.size > 0` to check that an array is not empty.\n",
      "  if diff:\n",
      "/opt/anaconda3/lib/python3.6/site-packages/sklearn/preprocessing/label.py:151: DeprecationWarning: The truth value of an empty array is ambiguous. Returning False, but in future this will result in an error. Use `array.size > 0` to check that an array is not empty.\n",
      "  if diff:\n",
      "/opt/anaconda3/lib/python3.6/site-packages/sklearn/preprocessing/label.py:151: DeprecationWarning: The truth value of an empty array is ambiguous. Returning False, but in future this will result in an error. Use `array.size > 0` to check that an array is not empty.\n",
      "  if diff:\n",
      "/opt/anaconda3/lib/python3.6/site-packages/sklearn/preprocessing/label.py:151: DeprecationWarning: The truth value of an empty array is ambiguous. Returning False, but in future this will result in an error. Use `array.size > 0` to check that an array is not empty.\n",
      "  if diff:\n",
      "/opt/anaconda3/lib/python3.6/site-packages/sklearn/preprocessing/label.py:151: DeprecationWarning: The truth value of an empty array is ambiguous. Returning False, but in future this will result in an error. Use `array.size > 0` to check that an array is not empty.\n",
      "  if diff:\n",
      "/opt/anaconda3/lib/python3.6/site-packages/sklearn/preprocessing/label.py:151: DeprecationWarning: The truth value of an empty array is ambiguous. Returning False, but in future this will result in an error. Use `array.size > 0` to check that an array is not empty.\n",
      "  if diff:\n",
      "/opt/anaconda3/lib/python3.6/site-packages/sklearn/preprocessing/label.py:151: DeprecationWarning: The truth value of an empty array is ambiguous. Returning False, but in future this will result in an error. Use `array.size > 0` to check that an array is not empty.\n",
      "  if diff:\n",
      "/opt/anaconda3/lib/python3.6/site-packages/sklearn/preprocessing/label.py:151: DeprecationWarning: The truth value of an empty array is ambiguous. Returning False, but in future this will result in an error. Use `array.size > 0` to check that an array is not empty.\n",
      "  if diff:\n",
      "/opt/anaconda3/lib/python3.6/site-packages/sklearn/preprocessing/label.py:151: DeprecationWarning: The truth value of an empty array is ambiguous. Returning False, but in future this will result in an error. Use `array.size > 0` to check that an array is not empty.\n",
      "  if diff:\n"
     ]
    },
    {
     "name": "stdout",
     "output_type": "stream",
     "text": [
      "5-fold CV f1 = 0.790687483003813, std = 0.0072935016643392945\n"
     ]
    },
    {
     "name": "stderr",
     "output_type": "stream",
     "text": [
      "/opt/anaconda3/lib/python3.6/site-packages/sklearn/preprocessing/label.py:151: DeprecationWarning: The truth value of an empty array is ambiguous. Returning False, but in future this will result in an error. Use `array.size > 0` to check that an array is not empty.\n",
      "  if diff:\n"
     ]
    },
    {
     "name": "stdout",
     "output_type": "stream",
     "text": [
      "example CM = [[3810  687]\n",
      " [ 756 3326]]\n",
      "\n"
     ]
    },
    {
     "data": {
      "image/png": "[encoded data removed]",
      "text/plain": [
       "<matplotlib.figure.Figure at 0x7f1a5cc93c88>"
      ]
     },
     "metadata": {},
     "output_type": "display_data"
    },
    {
     "name": "stdout",
     "output_type": "stream",
     "text": [
      "\n"
     ]
    }
   ],
   "source": [
    "boost(dataset)"
   ]
  }
 ],
 "metadata": {
  "kernelspec": {
   "display_name": "Python 3",
   "language": "python",
   "name": "python3"
  },
  "language_info": {
   "codemirror_mode": {
    "name": "ipython",
    "version": 3
   },
   "file_extension": ".py",
   "mimetype": "text/x-python",
   "name": "python",
   "nbconvert_exporter": "python",
   "pygments_lexer": "ipython3",
   "version": "3.6.3"
  }
 },
 "nbformat": 4,
 "nbformat_minor": 2
}
