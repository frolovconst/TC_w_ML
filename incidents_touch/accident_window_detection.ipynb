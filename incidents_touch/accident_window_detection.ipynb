{
 "cells": [
  {
   "cell_type": "code",
   "execution_count": 1,
   "metadata": {},
   "outputs": [
    {
     "name": "stderr",
     "output_type": "stream",
     "text": [
      "/opt/anaconda3/lib/python3.6/site-packages/statsmodels/compat/pandas.py:56: FutureWarning: The pandas.core.datetools module is deprecated and will be removed in a future version. Please use the pandas.tseries module instead.\n",
      "  from pandas.core import datetools\n"
     ]
    }
   ],
   "source": [
    "import pandas as pd\n",
    "import numpy as np\n",
    "from pathlib import Path\n",
    "import datetime as dt\n",
    "import re\n",
    "from geopy.distance import vincenty\n",
    "import matplotlib.dates as mdts\n",
    "import matplotlib.pyplot as plt\n",
    "import cartopy.crs as ccrs\n",
    "from sklearn.svm import LinearSVC, SVC\n",
    "from sklearn.linear_model import LogisticRegression\n",
    "from sklearn.model_selection import train_test_split, GridSearchCV\n",
    "from sklearn.preprocessing import OneHotEncoder, StandardScaler\n",
    "from sklearn.metrics import confusion_matrix, f1_score, make_scorer\n",
    "from sklearn.ensemble import RandomForestClassifier\n",
    "from time import time\n",
    "from tsfresh import extract_relevant_features, extract_features"
   ]
  },
  {
   "cell_type": "code",
   "execution_count": 2,
   "metadata": {
    "collapsed": true
   },
   "outputs": [],
   "source": [
    "accdnt_windows = pd.read_csv('../data/PeMS/Incidents/work_folder/year_accdnt_wndw.csv', parse_dates=['Timestamp'])"
   ]
  },
  {
   "cell_type": "code",
   "execution_count": 3,
   "metadata": {
    "collapsed": true
   },
   "outputs": [],
   "source": [
    "accdnt_windows['y'] = 1"
   ]
  },
  {
   "cell_type": "code",
   "execution_count": 4,
   "metadata": {
    "collapsed": true
   },
   "outputs": [],
   "source": [
    "accdnt_free_windows = pd.read_csv('../data/PeMS/Incidents/work_folder/year_accdnt_free_wndw.csv', parse_dates=['Timestamp'])"
   ]
  },
  {
   "cell_type": "code",
   "execution_count": 5,
   "metadata": {
    "collapsed": true
   },
   "outputs": [],
   "source": [
    "accdnt_free_windows['y'] = 0"
   ]
  },
  {
   "cell_type": "code",
   "execution_count": 6,
   "metadata": {
    "collapsed": true
   },
   "outputs": [],
   "source": [
    "def plot_window(data, chrct = 'Total Flow'):\n",
    "    \n",
    "#     cols = [col for col in data.columns if chrct in col]\n",
    "    cols = [col for col in data.index if chrct in col]\n",
    "    data[cols].plot()\n",
    "    plt.grid()\n",
    "    plt.show()"
   ]
  },
  {
   "cell_type": "code",
   "execution_count": 7,
   "metadata": {
    "scrolled": true
   },
   "outputs": [
    {
     "data": {
      "image/png": "[encoded data removed]",
      "text/plain": [
       "<matplotlib.figure.Figure at 0x7fb2f6554a20>"
      ]
     },
     "metadata": {},
     "output_type": "display_data"
    }
   ],
   "source": [
    "plot_window(accdnt_free_windows.iloc[86])"
   ]
  },
  {
   "cell_type": "code",
   "execution_count": 8,
   "metadata": {
    "collapsed": true
   },
   "outputs": [],
   "source": [
    "common_cols = ['Timestamp', 'Latitude', 'Longitude', 'Avg Occupancy_0', 'Avg Occupancy_1', 'Avg Occupancy_2',\n",
    "       'Avg Occupancy_3', 'Avg Occupancy_4', 'Avg Occupancy_5',\n",
    "       'Avg Occupancy_6', 'Avg Occupancy_7', 'Avg Occupancy_8',\n",
    "       'Avg Occupancy_9', 'Avg Occupancy_10', 'Avg Occupancy_11',\n",
    "       'Avg Occupancy_12', 'Avg Occupancy_13', 'Avg Occupancy_14',\n",
    "       'Avg Occupancy_15', 'Avg Speed_0', 'Avg Speed_1', 'Avg Speed_2',\n",
    "       'Avg Speed_3', 'Avg Speed_4', 'Avg Speed_5', 'Avg Speed_6',\n",
    "       'Avg Speed_7', 'Avg Speed_8', 'Avg Speed_9', 'Avg Speed_10',\n",
    "       'Avg Speed_11', 'Avg Speed_12', 'Avg Speed_13', 'Avg Speed_14',\n",
    "       'Avg Speed_15', 'Total Flow_0', 'Total Flow_1', 'Total Flow_2',\n",
    "       'Total Flow_3', 'Total Flow_4', 'Total Flow_5', 'Total Flow_6',\n",
    "       'Total Flow_7', 'Total Flow_8', 'Total Flow_9', 'Total Flow_10',\n",
    "       'Total Flow_11', 'Total Flow_12', 'Total Flow_13', 'Total Flow_14',\n",
    "       'Total Flow_15', 'y']"
   ]
  },
  {
   "cell_type": "code",
   "execution_count": 9,
   "metadata": {
    "collapsed": true
   },
   "outputs": [],
   "source": [
    "dataset = pd.concat((accdnt_windows[common_cols], accdnt_free_windows[common_cols]), axis=0)"
   ]
  },
  {
   "cell_type": "code",
   "execution_count": 10,
   "metadata": {
    "collapsed": true
   },
   "outputs": [],
   "source": [
    "dataset['Hour'] = dataset.Timestamp.dt.hour"
   ]
  },
  {
   "cell_type": "code",
   "execution_count": 11,
   "metadata": {
    "collapsed": true
   },
   "outputs": [],
   "source": [
    "dataset = dataset.drop(index=dataset[(dataset['Hour']<6) | (dataset['Hour']>21)].index).reset_index(drop=True)"
   ]
  },
  {
   "cell_type": "code",
   "execution_count": 12,
   "metadata": {
    "collapsed": true
   },
   "outputs": [],
   "source": [
    "dataset = pd.get_dummies(dataset, columns=['Hour'], prefix='hour_').drop(columns=['Timestamp'])"
   ]
  },
  {
   "cell_type": "code",
   "execution_count": 13,
   "metadata": {
    "collapsed": true
   },
   "outputs": [],
   "source": [
    "dataset = dataset.loc[np.random.choice(dataset.shape[0], dataset.shape[0], replace=False)]"
   ]
  },
  {
   "cell_type": "code",
   "execution_count": 15,
   "metadata": {
    "collapsed": true
   },
   "outputs": [],
   "source": [
    "dataset.reset_index(drop=True, inplace=True)"
   ]
  },
  {
   "cell_type": "code",
   "execution_count": 26,
   "metadata": {
    "collapsed": true
   },
   "outputs": [],
   "source": [
    "dataset.to_csv('../data/PeMS/Incidents/work_folder/windows.csv', index=False)"
   ]
  },
  {
   "cell_type": "code",
   "execution_count": 32,
   "metadata": {
    "collapsed": true
   },
   "outputs": [],
   "source": [
    "def feature_extraction(dataset):\n",
    "    cols = [col for col in dataset.columns if 'Avg' in col or 'Total' in col]\n",
    "    dataset = dataset[cols]\n",
    "    t_labels = np.arange(len(cols)/3, dtype=int)\n",
    "    t_labels = np.concatenate((t_labels,t_labels,t_labels))\n",
    "    aux_labels = pd.DataFrame({'val_name': cols, 't': t_labels})\n",
    "    long = dataset.reset_index().melt(id_vars=['index'], var_name='series_param', value_name='value')\n",
    "    long = long.merge(aux_labels, how='left', left_on='series_param', right_on='val_name').drop('val_name', axis=1)\n",
    "    long['series_param'] = long['series_param'].apply(lambda row: row.split('_')[0])\n",
    "    long = long.rename(columns={'index': 'ID'})[['ID', 't', 'series_param', 'value']]\n",
    "    extracted = extract_features(long, column_id='ID', column_sort='t', column_kind='series_param', column_value='value', n_jobs=4)\n",
    "    # try imputation\n",
    "    extracted.dropna(axis=1, how='any', inplace=True)\n",
    "    return extracted"
   ]
  },
  {
   "cell_type": "code",
   "execution_count": 33,
   "metadata": {
    "collapsed": true
   },
   "outputs": [],
   "source": [
    "def batch_extraction(dataset, b_size):\n",
    "    m=dataset.shape[0]\n",
    "    result=pd.DataFrame()\n",
    "    for i in range(0, m, b_size):\n",
    "        crnt_ftrs = feature_extraction(dataset.loc[i:i+b_size-1])\n",
    "#         result = pd.concat((result, crnt_ftrs))\n",
    "        crnt_ftrs.to_csv('../data/PeMS/Incidents/work_folder/extracted/extracted_{0:d}.csv'.format(i), index=False)\n",
    "    print('EGOR virubajjj!!!!!!!!!!!!!!!!!!!!!!!!!!!!!!!!')\n"
   ]
  },
  {
   "cell_type": "code",
   "execution_count": 34,
   "metadata": {},
   "outputs": [
    {
     "name": "stderr",
     "output_type": "stream",
     "text": [
      "Feature Extraction: 100%|██████████| 20/20 [01:31<00:00,  4.60s/it]\n",
      "Feature Extraction: 100%|██████████| 20/20 [01:33<00:00,  4.67s/it]\n",
      "Feature Extraction: 100%|██████████| 20/20 [01:31<00:00,  4.59s/it]\n",
      "Feature Extraction: 100%|██████████| 20/20 [01:32<00:00,  4.62s/it]\n",
      "Feature Extraction: 100%|██████████| 20/20 [01:31<00:00,  4.57s/it]\n",
      "Feature Extraction: 100%|██████████| 20/20 [01:32<00:00,  4.60s/it]\n",
      "Feature Extraction: 100%|██████████| 20/20 [01:31<00:00,  4.56s/it]\n",
      "Feature Extraction: 100%|██████████| 20/20 [01:32<00:00,  4.64s/it]\n",
      "Feature Extraction: 100%|██████████| 20/20 [01:32<00:00,  4.62s/it]\n",
      "Feature Extraction: 100%|██████████| 20/20 [01:32<00:00,  4.62s/it]\n",
      "Feature Extraction: 100%|██████████| 20/20 [01:32<00:00,  4.60s/it]\n",
      "Feature Extraction: 100%|██████████| 20/20 [01:31<00:00,  4.60s/it]\n",
      "Feature Extraction: 100%|██████████| 20/20 [01:32<00:00,  4.63s/it]\n",
      "Feature Extraction: 100%|██████████| 20/20 [01:31<00:00,  4.59s/it]\n",
      "Feature Extraction: 100%|██████████| 20/20 [01:32<00:00,  4.62s/it]\n",
      "Feature Extraction: 100%|██████████| 20/20 [01:31<00:00,  4.59s/it]\n",
      "Feature Extraction: 100%|██████████| 20/20 [01:31<00:00,  4.60s/it]\n",
      "Feature Extraction: 100%|██████████| 20/20 [01:32<00:00,  4.62s/it]\n",
      "Feature Extraction: 100%|██████████| 20/20 [01:31<00:00,  4.60s/it]\n",
      "Feature Extraction: 100%|██████████| 20/20 [01:31<00:00,  4.59s/it]\n",
      "Feature Extraction: 100%|██████████| 20/20 [01:32<00:00,  4.63s/it]\n",
      "Feature Extraction: 100%|██████████| 20/20 [01:31<00:00,  4.58s/it]\n",
      "Feature Extraction: 100%|██████████| 20/20 [01:32<00:00,  4.62s/it]\n",
      "Feature Extraction: 100%|██████████| 20/20 [01:31<00:00,  4.60s/it]\n",
      "Feature Extraction: 100%|██████████| 20/20 [01:32<00:00,  4.61s/it]\n",
      "Feature Extraction: 100%|██████████| 20/20 [01:32<00:00,  4.62s/it]\n",
      "Feature Extraction: 100%|██████████| 20/20 [01:32<00:00,  4.63s/it]\n",
      "Feature Extraction: 100%|██████████| 20/20 [01:31<00:00,  4.60s/it]\n",
      "Feature Extraction: 100%|██████████| 20/20 [01:32<00:00,  4.60s/it]\n",
      "Feature Extraction: 100%|██████████| 20/20 [01:31<00:00,  4.60s/it]\n",
      "Feature Extraction: 100%|██████████| 20/20 [01:31<00:00,  4.58s/it]\n",
      "Feature Extraction: 100%|██████████| 20/20 [01:20<00:00,  4.02s/it]\n"
     ]
    },
    {
     "name": "stdout",
     "output_type": "stream",
     "text": [
      "EGOR virubajjj!!!!!!!!!!!!!!!!!!!!!!!!!!!!!!!!\n"
     ]
    }
   ],
   "source": [
    "batch_extraction(dataset, 1000)"
   ]
  },
  {
   "cell_type": "code",
   "execution_count": null,
   "metadata": {
    "collapsed": true
   },
   "outputs": [],
   "source": [
    "extracted.to_csv('../data/PeMS/Incidents/work_folder/windows.csv', index=False)"
   ]
  },
  {
   "cell_type": "code",
   "execution_count": 227,
   "metadata": {
    "collapsed": true
   },
   "outputs": [],
   "source": [
    "tr_X, te_X, tr_y, te_y = train_test_split(dataset.drop(columns=['y']), dataset['y'], stratify=dataset.y)"
   ]
  },
  {
   "cell_type": "code",
   "execution_count": 228,
   "metadata": {
    "collapsed": true
   },
   "outputs": [],
   "source": [
    "scaler = StandardScaler()"
   ]
  },
  {
   "cell_type": "code",
   "execution_count": 229,
   "metadata": {
    "collapsed": true
   },
   "outputs": [],
   "source": [
    "tr_X = scaler.fit_transform(tr_X)"
   ]
  },
  {
   "cell_type": "code",
   "execution_count": 230,
   "metadata": {
    "collapsed": true
   },
   "outputs": [],
   "source": [
    "te_X = scaler.transform(te_X)"
   ]
  },
  {
   "cell_type": "code",
   "execution_count": 231,
   "metadata": {
    "scrolled": true
   },
   "outputs": [
    {
     "name": "stdout",
     "output_type": "stream",
     "text": [
      "acc = 0.6851549755301795\n",
      "f1 = 0.5977232643899312\n",
      "CM = [[3596  774]\n",
      " [1735 1864]]\n"
     ]
    }
   ],
   "source": [
    "logreg = LogisticRegression()\n",
    "logreg.fit(tr_X, tr_y)\n",
    "print('acc =', logreg.score(te_X, te_y))\n",
    "predict = logreg.predict(te_X)\n",
    "F1_score = f1_score(te_y, predict)\n",
    "print('f1 =', F1_score)\n",
    "print('CM =', confusion_matrix(te_y, predict))"
   ]
  },
  {
   "cell_type": "code",
   "execution_count": 262,
   "metadata": {},
   "outputs": [
    {
     "name": "stdout",
     "output_type": "stream",
     "text": [
      "acc = 0.7017191617517882\n",
      "f1 = 0.6341388333076805\n",
      "CM = [[3532  838]\n",
      " [1539 2060]]\n"
     ]
    }
   ],
   "source": [
    "forest = RandomForestClassifier(random_state=14)\n",
    "forest.fit(tr_X, tr_y)\n",
    "print('acc =', forest.score(te_X, te_y))\n",
    "predict = forest.predict(te_X)\n",
    "F1_score = f1_score(te_y, predict)\n",
    "print('f1 =', F1_score)\n",
    "print('CM =', confusion_matrix(te_y, predict, labels=[0,1]))"
   ]
  },
  {
   "cell_type": "code",
   "execution_count": 263,
   "metadata": {
    "collapsed": true
   },
   "outputs": [],
   "source": [
    "grid_params = {'n_estimators': [10, 100, 200],\n",
    "               'max_depth' : [2, 3, 5],  \n",
    "               'min_samples_leaf': [2, 5, 10]\n",
    "}\n",
    "grd_search = GridSearchCV(forest, grid_params,\n",
    "                          scoring={'f1_score' : make_scorer(f1_score)},\n",
    "                          refit='f1_score',\n",
    "                          cv=5, return_train_score=True, n_jobs=-1, verbose=2)"
   ]
  },
  {
   "cell_type": "code",
   "execution_count": 264,
   "metadata": {
    "scrolled": false
   },
   "outputs": [
    {
     "name": "stdout",
     "output_type": "stream",
     "text": [
      "Fitting 5 folds for each of 27 candidates, totalling 135 fits\n",
      "[CV] max_depth=2, min_samples_leaf=2, n_estimators=10 ................\n",
      "[CV] max_depth=2, min_samples_leaf=2, n_estimators=10 ................\n",
      "[CV] max_depth=2, min_samples_leaf=2, n_estimators=10 ................\n",
      "[CV] max_depth=2, min_samples_leaf=2, n_estimators=10 ................\n",
      "[CV] . max_depth=2, min_samples_leaf=2, n_estimators=10, total=   3.1s\n",
      "[CV] max_depth=2, min_samples_leaf=2, n_estimators=10 ................\n",
      "[CV] . max_depth=2, min_samples_leaf=2, n_estimators=10, total=   3.0s\n",
      "[CV] . max_depth=2, min_samples_leaf=2, n_estimators=10, total=   3.0s\n",
      "[CV] . max_depth=2, min_samples_leaf=2, n_estimators=10, total=   3.1s\n",
      "[CV] max_depth=2, min_samples_leaf=2, n_estimators=100 ...............\n",
      "[CV] max_depth=2, min_samples_leaf=2, n_estimators=100 ...............\n",
      "[CV] max_depth=2, min_samples_leaf=2, n_estimators=100 ...............\n",
      "[CV] . max_depth=2, min_samples_leaf=2, n_estimators=10, total=   0.4s\n",
      "[CV] max_depth=2, min_samples_leaf=2, n_estimators=100 ...............\n",
      "[CV]  max_depth=2, min_samples_leaf=2, n_estimators=100, total=   3.3s\n",
      "[CV] max_depth=2, min_samples_leaf=2, n_estimators=100 ...............\n",
      "[CV]  max_depth=2, min_samples_leaf=2, n_estimators=100, total=   3.4s\n",
      "[CV] max_depth=2, min_samples_leaf=2, n_estimators=200 ...............\n",
      "[CV]  max_depth=2, min_samples_leaf=2, n_estimators=100, total=   3.3s\n",
      "[CV] max_depth=2, min_samples_leaf=2, n_estimators=200 ...............\n",
      "[CV]  max_depth=2, min_samples_leaf=2, n_estimators=100, total=   3.4s\n",
      "[CV] max_depth=2, min_samples_leaf=2, n_estimators=200 ...............\n",
      "[CV]  max_depth=2, min_samples_leaf=2, n_estimators=100, total=   3.4s\n",
      "[CV] max_depth=2, min_samples_leaf=2, n_estimators=200 ...............\n",
      "[CV]  max_depth=2, min_samples_leaf=2, n_estimators=200, total=   6.9s\n",
      "[CV] max_depth=2, min_samples_leaf=2, n_estimators=200 ...............\n",
      "[CV]  max_depth=2, min_samples_leaf=2, n_estimators=200, total=   6.7s\n",
      "[CV] max_depth=2, min_samples_leaf=5, n_estimators=10 ................\n",
      "[CV]  max_depth=2, min_samples_leaf=2, n_estimators=200, total=   7.1s\n",
      "[CV] max_depth=2, min_samples_leaf=5, n_estimators=10 ................\n",
      "[CV] . max_depth=2, min_samples_leaf=5, n_estimators=10, total=   0.4s\n",
      "[CV] . max_depth=2, min_samples_leaf=5, n_estimators=10, total=   0.5s\n",
      "[CV] max_depth=2, min_samples_leaf=5, n_estimators=10 ................\n",
      "[CV] max_depth=2, min_samples_leaf=5, n_estimators=10 ................\n",
      "[CV] . max_depth=2, min_samples_leaf=5, n_estimators=10, total=   0.4s\n",
      "[CV] max_depth=2, min_samples_leaf=5, n_estimators=10 ................\n",
      "[CV] . max_depth=2, min_samples_leaf=5, n_estimators=10, total=   0.5s\n",
      "[CV] max_depth=2, min_samples_leaf=5, n_estimators=100 ...............\n",
      "[CV] . max_depth=2, min_samples_leaf=5, n_estimators=10, total=   1.5s\n",
      "[CV] max_depth=2, min_samples_leaf=5, n_estimators=100 ...............\n",
      "[CV]  max_depth=2, min_samples_leaf=2, n_estimators=200, total=   7.8s\n",
      "[CV] max_depth=2, min_samples_leaf=5, n_estimators=100 ...............\n",
      "[CV]  max_depth=2, min_samples_leaf=5, n_estimators=100, total=   3.0s\n",
      "[CV] max_depth=2, min_samples_leaf=5, n_estimators=100 ...............\n",
      "[CV]  max_depth=2, min_samples_leaf=5, n_estimators=100, total=   3.2s\n",
      "[CV] max_depth=2, min_samples_leaf=5, n_estimators=100 ...............\n",
      "[CV]  max_depth=2, min_samples_leaf=2, n_estimators=200, total=   6.6s\n",
      "[CV] max_depth=2, min_samples_leaf=5, n_estimators=200 ...............\n",
      "[CV]  max_depth=2, min_samples_leaf=5, n_estimators=100, total=   3.0s\n",
      "[CV] max_depth=2, min_samples_leaf=5, n_estimators=200 ...............\n",
      "[CV]  max_depth=2, min_samples_leaf=5, n_estimators=100, total=   3.3s\n",
      "[CV] max_depth=2, min_samples_leaf=5, n_estimators=200 ...............\n",
      "[CV]  max_depth=2, min_samples_leaf=5, n_estimators=100, total=   3.1s\n",
      "[CV] max_depth=2, min_samples_leaf=5, n_estimators=200 ...............\n",
      "[CV]  max_depth=2, min_samples_leaf=5, n_estimators=200, total=   6.6s\n",
      "[CV] max_depth=2, min_samples_leaf=5, n_estimators=200 ...............\n",
      "[CV]  max_depth=2, min_samples_leaf=5, n_estimators=200, total=   6.7s\n",
      "[CV] max_depth=2, min_samples_leaf=10, n_estimators=10 ...............\n",
      "[CV]  max_depth=2, min_samples_leaf=10, n_estimators=10, total=   0.4s\n",
      "[CV] max_depth=2, min_samples_leaf=10, n_estimators=10 ...............\n",
      "[CV]  max_depth=2, min_samples_leaf=5, n_estimators=200, total=   6.7s\n",
      "[CV] max_depth=2, min_samples_leaf=10, n_estimators=10 ...............\n",
      "[CV]  max_depth=2, min_samples_leaf=10, n_estimators=10, total=   0.4s\n",
      "[CV] max_depth=2, min_samples_leaf=10, n_estimators=10 ...............\n",
      "[CV]  max_depth=2, min_samples_leaf=10, n_estimators=10, total=   0.4s\n",
      "[CV] max_depth=2, min_samples_leaf=10, n_estimators=10 ...............\n",
      "[CV]  max_depth=2, min_samples_leaf=10, n_estimators=10, total=   0.4s\n",
      "[CV] max_depth=2, min_samples_leaf=10, n_estimators=100 ..............\n",
      "[CV]  max_depth=2, min_samples_leaf=10, n_estimators=10, total=   0.4s\n",
      "[CV] max_depth=2, min_samples_leaf=10, n_estimators=100 ..............\n"
     ]
    },
    {
     "name": "stderr",
     "output_type": "stream",
     "text": [
      "[Parallel(n_jobs=-1)]: Done  33 tasks      | elapsed:   31.3s\n"
     ]
    },
    {
     "name": "stdout",
     "output_type": "stream",
     "text": [
      "[CV]  max_depth=2, min_samples_leaf=5, n_estimators=200, total=   6.7s\n",
      "[CV] max_depth=2, min_samples_leaf=10, n_estimators=100 ..............\n",
      "[CV]  max_depth=2, min_samples_leaf=10, n_estimators=100, total=   3.6s\n",
      "[CV] max_depth=2, min_samples_leaf=10, n_estimators=100 ..............\n",
      "[CV]  max_depth=2, min_samples_leaf=10, n_estimators=100, total=   3.7s\n",
      "[CV] max_depth=2, min_samples_leaf=10, n_estimators=100 ..............\n",
      "[CV]  max_depth=2, min_samples_leaf=10, n_estimators=100, total=   3.9s\n",
      "[CV] max_depth=2, min_samples_leaf=10, n_estimators=200 ..............\n",
      "[CV]  max_depth=2, min_samples_leaf=5, n_estimators=200, total=   7.0s\n",
      "[CV] max_depth=2, min_samples_leaf=10, n_estimators=200 ..............\n",
      "[CV]  max_depth=2, min_samples_leaf=10, n_estimators=100, total=   3.1s\n",
      "[CV] max_depth=2, min_samples_leaf=10, n_estimators=200 ..............\n",
      "[CV]  max_depth=2, min_samples_leaf=10, n_estimators=100, total=   3.3s\n",
      "[CV] max_depth=2, min_samples_leaf=10, n_estimators=200 ..............\n",
      "[CV]  max_depth=2, min_samples_leaf=10, n_estimators=200, total=   6.4s\n",
      "[CV] max_depth=2, min_samples_leaf=10, n_estimators=200 ..............\n",
      "[CV]  max_depth=2, min_samples_leaf=10, n_estimators=200, total=   6.9s\n",
      "[CV] max_depth=3, min_samples_leaf=2, n_estimators=10 ................\n",
      "[CV] . max_depth=3, min_samples_leaf=2, n_estimators=10, total=   0.5s\n",
      "[CV] max_depth=3, min_samples_leaf=2, n_estimators=10 ................\n",
      "[CV] . max_depth=3, min_samples_leaf=2, n_estimators=10, total=   0.5s\n",
      "[CV] max_depth=3, min_samples_leaf=2, n_estimators=10 ................\n",
      "[CV]  max_depth=2, min_samples_leaf=10, n_estimators=200, total=   6.1s\n",
      "[CV] max_depth=3, min_samples_leaf=2, n_estimators=10 ................\n",
      "[CV]  max_depth=2, min_samples_leaf=10, n_estimators=200, total=   6.3s\n",
      "[CV] max_depth=3, min_samples_leaf=2, n_estimators=10 ................\n",
      "[CV] . max_depth=3, min_samples_leaf=2, n_estimators=10, total=   0.6s\n",
      "[CV] max_depth=3, min_samples_leaf=2, n_estimators=100 ...............\n",
      "[CV] . max_depth=3, min_samples_leaf=2, n_estimators=10, total=   0.6s\n",
      "[CV] max_depth=3, min_samples_leaf=2, n_estimators=100 ...............\n",
      "[CV] . max_depth=3, min_samples_leaf=2, n_estimators=10, total=   0.5s\n",
      "[CV] max_depth=3, min_samples_leaf=2, n_estimators=100 ...............\n",
      "[CV]  max_depth=2, min_samples_leaf=10, n_estimators=200, total=   7.0s\n",
      "[CV] max_depth=3, min_samples_leaf=2, n_estimators=100 ...............\n",
      "[CV]  max_depth=3, min_samples_leaf=2, n_estimators=100, total=   5.0s\n",
      "[CV] max_depth=3, min_samples_leaf=2, n_estimators=100 ...............\n",
      "[CV]  max_depth=3, min_samples_leaf=2, n_estimators=100, total=   4.7s\n",
      "[CV] max_depth=3, min_samples_leaf=2, n_estimators=200 ...............\n",
      "[CV]  max_depth=3, min_samples_leaf=2, n_estimators=100, total=   5.1s\n",
      "[CV] max_depth=3, min_samples_leaf=2, n_estimators=200 ...............\n",
      "[CV]  max_depth=3, min_samples_leaf=2, n_estimators=100, total=   4.0s\n",
      "[CV] max_depth=3, min_samples_leaf=2, n_estimators=200 ...............\n",
      "[CV]  max_depth=3, min_samples_leaf=2, n_estimators=100, total=   4.5s\n",
      "[CV] max_depth=3, min_samples_leaf=2, n_estimators=200 ...............\n",
      "[CV]  max_depth=3, min_samples_leaf=2, n_estimators=200, total=   7.7s\n",
      "[CV] max_depth=3, min_samples_leaf=2, n_estimators=200 ...............\n",
      "[CV]  max_depth=3, min_samples_leaf=2, n_estimators=200, total=   8.7s\n",
      "[CV] max_depth=3, min_samples_leaf=5, n_estimators=10 ................\n",
      "[CV] . max_depth=3, min_samples_leaf=5, n_estimators=10, total=   0.4s\n",
      "[CV] max_depth=3, min_samples_leaf=5, n_estimators=10 ................\n",
      "[CV] . max_depth=3, min_samples_leaf=5, n_estimators=10, total=   0.4s\n",
      "[CV] max_depth=3, min_samples_leaf=5, n_estimators=10 ................\n",
      "[CV] . max_depth=3, min_samples_leaf=5, n_estimators=10, total=   0.4s\n",
      "[CV] max_depth=3, min_samples_leaf=5, n_estimators=10 ................\n",
      "[CV] . max_depth=3, min_samples_leaf=5, n_estimators=10, total=   0.4s\n",
      "[CV] max_depth=3, min_samples_leaf=5, n_estimators=10 ................\n",
      "[CV] . max_depth=3, min_samples_leaf=5, n_estimators=10, total=   0.4s\n",
      "[CV] max_depth=3, min_samples_leaf=5, n_estimators=100 ...............\n",
      "[CV]  max_depth=3, min_samples_leaf=2, n_estimators=200, total=   8.7s\n",
      "[CV] max_depth=3, min_samples_leaf=5, n_estimators=100 ...............\n",
      "[CV]  max_depth=3, min_samples_leaf=2, n_estimators=200, total=   8.1s\n",
      "[CV] max_depth=3, min_samples_leaf=5, n_estimators=100 ...............\n",
      "[CV]  max_depth=3, min_samples_leaf=5, n_estimators=100, total=   4.1s\n",
      "[CV] max_depth=3, min_samples_leaf=5, n_estimators=100 ...............\n",
      "[CV]  max_depth=3, min_samples_leaf=5, n_estimators=100, total=   4.1s\n",
      "[CV] max_depth=3, min_samples_leaf=5, n_estimators=100 ...............\n",
      "[CV]  max_depth=3, min_samples_leaf=5, n_estimators=100, total=   4.2s\n",
      "[CV] max_depth=3, min_samples_leaf=5, n_estimators=200 ...............\n",
      "[CV]  max_depth=3, min_samples_leaf=2, n_estimators=200, total=   8.8s\n",
      "[CV] max_depth=3, min_samples_leaf=5, n_estimators=200 ...............\n",
      "[CV]  max_depth=3, min_samples_leaf=5, n_estimators=100, total=   4.0s\n",
      "[CV] max_depth=3, min_samples_leaf=5, n_estimators=200 ...............\n",
      "[CV]  max_depth=3, min_samples_leaf=5, n_estimators=100, total=   4.4s\n",
      "[CV] max_depth=3, min_samples_leaf=5, n_estimators=200 ...............\n",
      "[CV]  max_depth=3, min_samples_leaf=5, n_estimators=200, total=   8.1s\n",
      "[CV] max_depth=3, min_samples_leaf=5, n_estimators=200 ...............\n",
      "[CV]  max_depth=3, min_samples_leaf=5, n_estimators=200, total=   8.1s\n",
      "[CV] max_depth=3, min_samples_leaf=10, n_estimators=10 ...............\n",
      "[CV]  max_depth=3, min_samples_leaf=10, n_estimators=10, total=   0.5s\n",
      "[CV] max_depth=3, min_samples_leaf=10, n_estimators=10 ...............\n",
      "[CV]  max_depth=3, min_samples_leaf=10, n_estimators=10, total=   0.5s\n",
      "[CV] max_depth=3, min_samples_leaf=10, n_estimators=10 ...............\n",
      "[CV]  max_depth=3, min_samples_leaf=10, n_estimators=10, total=   0.5s\n",
      "[CV] max_depth=3, min_samples_leaf=10, n_estimators=10 ...............\n",
      "[CV]  max_depth=3, min_samples_leaf=10, n_estimators=10, total=   0.4s\n",
      "[CV] max_depth=3, min_samples_leaf=10, n_estimators=10 ...............\n",
      "[CV]  max_depth=3, min_samples_leaf=10, n_estimators=10, total=   0.4s\n",
      "[CV] max_depth=3, min_samples_leaf=10, n_estimators=100 ..............\n",
      "[CV]  max_depth=3, min_samples_leaf=5, n_estimators=200, total=   8.5s\n",
      "[CV] max_depth=3, min_samples_leaf=10, n_estimators=100 ..............\n",
      "[CV]  max_depth=3, min_samples_leaf=5, n_estimators=200, total=   8.4s\n",
      "[CV] max_depth=3, min_samples_leaf=10, n_estimators=100 ..............\n",
      "[CV]  max_depth=3, min_samples_leaf=10, n_estimators=100, total=   4.1s\n",
      "[CV] max_depth=3, min_samples_leaf=10, n_estimators=100 ..............\n",
      "[CV]  max_depth=3, min_samples_leaf=10, n_estimators=100, total=   4.5s\n",
      "[CV] max_depth=3, min_samples_leaf=10, n_estimators=100 ..............\n",
      "[CV]  max_depth=3, min_samples_leaf=5, n_estimators=200, total=   7.7s\n",
      "[CV] max_depth=3, min_samples_leaf=10, n_estimators=200 ..............\n",
      "[CV]  max_depth=3, min_samples_leaf=10, n_estimators=100, total=   4.1s\n",
      "[CV] max_depth=3, min_samples_leaf=10, n_estimators=200 ..............\n",
      "[CV]  max_depth=3, min_samples_leaf=10, n_estimators=100, total=   4.3s\n",
      "[CV] max_depth=3, min_samples_leaf=10, n_estimators=200 ..............\n",
      "[CV]  max_depth=3, min_samples_leaf=10, n_estimators=100, total=   4.1s\n",
      "[CV] max_depth=3, min_samples_leaf=10, n_estimators=200 ..............\n",
      "[CV]  max_depth=3, min_samples_leaf=10, n_estimators=200, total=   8.0s\n",
      "[CV] max_depth=3, min_samples_leaf=10, n_estimators=200 ..............\n",
      "[CV]  max_depth=3, min_samples_leaf=10, n_estimators=200, total=   7.9s\n",
      "[CV] max_depth=5, min_samples_leaf=2, n_estimators=10 ................\n",
      "[CV] . max_depth=5, min_samples_leaf=2, n_estimators=10, total=   0.7s\n",
      "[CV] max_depth=5, min_samples_leaf=2, n_estimators=10 ................\n",
      "[CV] . max_depth=5, min_samples_leaf=2, n_estimators=10, total=   0.7s\n",
      "[CV] max_depth=5, min_samples_leaf=2, n_estimators=10 ................\n",
      "[CV] . max_depth=5, min_samples_leaf=2, n_estimators=10, total=   0.7s\n",
      "[CV] max_depth=5, min_samples_leaf=2, n_estimators=10 ................\n",
      "[CV]  max_depth=3, min_samples_leaf=10, n_estimators=200, total=   8.3s\n",
      "[CV] max_depth=5, min_samples_leaf=2, n_estimators=10 ................\n"
     ]
    },
    {
     "name": "stdout",
     "output_type": "stream",
     "text": [
      "[CV] . max_depth=5, min_samples_leaf=2, n_estimators=10, total=   0.7s\n",
      "[CV] max_depth=5, min_samples_leaf=2, n_estimators=100 ...............\n",
      "[CV] . max_depth=5, min_samples_leaf=2, n_estimators=10, total=   0.8s\n",
      "[CV] max_depth=5, min_samples_leaf=2, n_estimators=100 ...............\n",
      "[CV]  max_depth=3, min_samples_leaf=10, n_estimators=200, total=   8.4s\n",
      "[CV] max_depth=5, min_samples_leaf=2, n_estimators=100 ...............\n",
      "[CV]  max_depth=3, min_samples_leaf=10, n_estimators=200, total=   8.2s\n",
      "[CV] max_depth=5, min_samples_leaf=2, n_estimators=100 ...............\n",
      "[CV]  max_depth=5, min_samples_leaf=2, n_estimators=100, total=   6.0s\n",
      "[CV] max_depth=5, min_samples_leaf=2, n_estimators=100 ...............\n",
      "[CV]  max_depth=5, min_samples_leaf=2, n_estimators=100, total=   6.2s\n",
      "[CV] max_depth=5, min_samples_leaf=2, n_estimators=200 ...............\n",
      "[CV]  max_depth=5, min_samples_leaf=2, n_estimators=100, total=   6.2s\n",
      "[CV] max_depth=5, min_samples_leaf=2, n_estimators=200 ...............\n",
      "[CV]  max_depth=5, min_samples_leaf=2, n_estimators=100, total=   6.1s\n",
      "[CV] max_depth=5, min_samples_leaf=2, n_estimators=200 ...............\n",
      "[CV]  max_depth=5, min_samples_leaf=2, n_estimators=100, total=   6.1s\n",
      "[CV] max_depth=5, min_samples_leaf=2, n_estimators=200 ...............\n",
      "[CV]  max_depth=5, min_samples_leaf=2, n_estimators=200, total=  12.4s\n",
      "[CV] max_depth=5, min_samples_leaf=2, n_estimators=200 ...............\n",
      "[CV]  max_depth=5, min_samples_leaf=2, n_estimators=200, total=  12.7s\n",
      "[CV] max_depth=5, min_samples_leaf=5, n_estimators=10 ................\n",
      "[CV] . max_depth=5, min_samples_leaf=5, n_estimators=10, total=   0.7s\n",
      "[CV] max_depth=5, min_samples_leaf=5, n_estimators=10 ................\n",
      "[CV] . max_depth=5, min_samples_leaf=5, n_estimators=10, total=   0.7s\n",
      "[CV] max_depth=5, min_samples_leaf=5, n_estimators=10 ................\n",
      "[CV] . max_depth=5, min_samples_leaf=5, n_estimators=10, total=   0.7s\n",
      "[CV] max_depth=5, min_samples_leaf=5, n_estimators=10 ................\n",
      "[CV] . max_depth=5, min_samples_leaf=5, n_estimators=10, total=   0.7s\n",
      "[CV] max_depth=5, min_samples_leaf=5, n_estimators=10 ................\n",
      "[CV]  max_depth=5, min_samples_leaf=2, n_estimators=200, total=  12.3s\n",
      "[CV] max_depth=5, min_samples_leaf=5, n_estimators=100 ...............\n",
      "[CV] . max_depth=5, min_samples_leaf=5, n_estimators=10, total=   0.7s\n",
      "[CV] max_depth=5, min_samples_leaf=5, n_estimators=100 ...............\n",
      "[CV]  max_depth=5, min_samples_leaf=2, n_estimators=200, total=  12.8s\n",
      "[CV] max_depth=5, min_samples_leaf=5, n_estimators=100 ...............\n",
      "[CV]  max_depth=5, min_samples_leaf=5, n_estimators=100, total=   6.5s\n",
      "[CV] max_depth=5, min_samples_leaf=5, n_estimators=100 ...............\n",
      "[CV]  max_depth=5, min_samples_leaf=5, n_estimators=100, total=   6.4s\n",
      "[CV] max_depth=5, min_samples_leaf=5, n_estimators=100 ...............\n",
      "[CV]  max_depth=5, min_samples_leaf=5, n_estimators=100, total=   6.6s\n",
      "[CV] max_depth=5, min_samples_leaf=5, n_estimators=200 ...............\n",
      "[CV]  max_depth=5, min_samples_leaf=2, n_estimators=200, total=  13.2s\n",
      "[CV] max_depth=5, min_samples_leaf=5, n_estimators=200 ...............\n",
      "[CV]  max_depth=5, min_samples_leaf=5, n_estimators=100, total=   6.1s\n",
      "[CV] max_depth=5, min_samples_leaf=5, n_estimators=200 ...............\n",
      "[CV]  max_depth=5, min_samples_leaf=5, n_estimators=100, total=   6.0s\n",
      "[CV] max_depth=5, min_samples_leaf=5, n_estimators=200 ...............\n",
      "[CV]  max_depth=5, min_samples_leaf=5, n_estimators=200, total=  13.1s\n",
      "[CV] max_depth=5, min_samples_leaf=5, n_estimators=200 ...............\n",
      "[CV]  max_depth=5, min_samples_leaf=5, n_estimators=200, total=  12.6s\n",
      "[CV] max_depth=5, min_samples_leaf=10, n_estimators=10 ...............\n",
      "[CV]  max_depth=5, min_samples_leaf=10, n_estimators=10, total=   0.7s\n",
      "[CV] max_depth=5, min_samples_leaf=10, n_estimators=10 ...............\n",
      "[CV]  max_depth=5, min_samples_leaf=10, n_estimators=10, total=   0.7s\n",
      "[CV] max_depth=5, min_samples_leaf=10, n_estimators=10 ...............\n",
      "[CV]  max_depth=5, min_samples_leaf=10, n_estimators=10, total=   0.7s\n",
      "[CV] max_depth=5, min_samples_leaf=10, n_estimators=10 ...............\n",
      "[CV]  max_depth=5, min_samples_leaf=5, n_estimators=200, total=  12.1s\n",
      "[CV] max_depth=5, min_samples_leaf=10, n_estimators=10 ...............\n",
      "[CV]  max_depth=5, min_samples_leaf=10, n_estimators=10, total=   0.8s\n",
      "[CV] max_depth=5, min_samples_leaf=10, n_estimators=100 ..............\n",
      "[CV]  max_depth=5, min_samples_leaf=5, n_estimators=200, total=  12.9s\n",
      "[CV] max_depth=5, min_samples_leaf=10, n_estimators=100 ..............\n",
      "[CV]  max_depth=5, min_samples_leaf=10, n_estimators=10, total=   0.8s\n",
      "[CV] max_depth=5, min_samples_leaf=10, n_estimators=100 ..............\n",
      "[CV]  max_depth=5, min_samples_leaf=10, n_estimators=100, total=   6.8s\n",
      "[CV] max_depth=5, min_samples_leaf=10, n_estimators=100 ..............\n",
      "[CV]  max_depth=5, min_samples_leaf=10, n_estimators=100, total=   6.8s\n",
      "[CV] max_depth=5, min_samples_leaf=10, n_estimators=100 ..............\n",
      "[CV]  max_depth=5, min_samples_leaf=10, n_estimators=100, total=   7.0s\n",
      "[CV] max_depth=5, min_samples_leaf=10, n_estimators=200 ..............\n",
      "[CV]  max_depth=5, min_samples_leaf=5, n_estimators=200, total=  12.7s\n",
      "[CV] max_depth=5, min_samples_leaf=10, n_estimators=200 ..............\n",
      "[CV]  max_depth=5, min_samples_leaf=10, n_estimators=100, total=   6.0s\n",
      "[CV] max_depth=5, min_samples_leaf=10, n_estimators=200 ..............\n",
      "[CV]  max_depth=5, min_samples_leaf=10, n_estimators=100, total=   6.3s\n",
      "[CV] max_depth=5, min_samples_leaf=10, n_estimators=200 ..............\n",
      "[CV]  max_depth=5, min_samples_leaf=10, n_estimators=200, total=  12.7s\n",
      "[CV] max_depth=5, min_samples_leaf=10, n_estimators=200 ..............\n",
      "[CV]  max_depth=5, min_samples_leaf=10, n_estimators=200, total=  12.3s\n",
      "[CV]  max_depth=5, min_samples_leaf=10, n_estimators=200, total=  11.4s\n",
      "[CV]  max_depth=5, min_samples_leaf=10, n_estimators=200, total=  11.7s\n",
      "[CV]  max_depth=5, min_samples_leaf=10, n_estimators=200, total=   8.8s\n"
     ]
    },
    {
     "name": "stderr",
     "output_type": "stream",
     "text": [
      "[Parallel(n_jobs=-1)]: Done 135 out of 135 | elapsed:  3.0min finished\n"
     ]
    },
    {
     "data": {
      "text/plain": [
       "GridSearchCV(cv=5, error_score='raise',\n",
       "       estimator=RandomForestClassifier(bootstrap=True, class_weight=None, criterion='gini',\n",
       "            max_depth=None, max_features='auto', max_leaf_nodes=None,\n",
       "            min_impurity_decrease=0.0, min_impurity_split=None,\n",
       "            min_samples_leaf=1, min_samples_split=2,\n",
       "            min_weight_fraction_leaf=0.0, n_estimators=10, n_jobs=1,\n",
       "            oob_score=False, random_state=14, verbose=0, warm_start=False),\n",
       "       fit_params=None, iid=True, n_jobs=-1,\n",
       "       param_grid={'n_estimators': [10, 100, 200], 'max_depth': [2, 3, 5], 'min_samples_leaf': [2, 5, 10]},\n",
       "       pre_dispatch='2*n_jobs', refit='f1_score', return_train_score=True,\n",
       "       scoring={'f1_score': make_scorer(f1_score)}, verbose=2)"
      ]
     },
     "execution_count": 264,
     "metadata": {},
     "output_type": "execute_result"
    }
   ],
   "source": [
    "grd_search.fit(tr_X, tr_y)"
   ]
  },
  {
   "cell_type": "code",
   "execution_count": 265,
   "metadata": {},
   "outputs": [
    {
     "data": {
      "text/plain": [
       "0.5738945649022463"
      ]
     },
     "execution_count": 265,
     "metadata": {},
     "output_type": "execute_result"
    }
   ],
   "source": [
    "grd_search.best_score_"
   ]
  },
  {
   "cell_type": "code",
   "execution_count": 268,
   "metadata": {},
   "outputs": [
    {
     "data": {
      "text/plain": [
       "0.5858153694257034"
      ]
     },
     "execution_count": 268,
     "metadata": {},
     "output_type": "execute_result"
    }
   ],
   "source": [
    "grd_search.score(te_X, te_y)"
   ]
  }
 ],
 "metadata": {
  "kernelspec": {
   "display_name": "Python 3",
   "language": "python",
   "name": "python3"
  },
  "language_info": {
   "codemirror_mode": {
    "name": "ipython",
    "version": 3
   },
   "file_extension": ".py",
   "mimetype": "text/x-python",
   "name": "python",
   "nbconvert_exporter": "python",
   "pygments_lexer": "ipython3",
   "version": "3.6.3"
  }
 },
 "nbformat": 4,
 "nbformat_minor": 2
}
